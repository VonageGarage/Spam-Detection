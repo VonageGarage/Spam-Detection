{
  "nbformat": 4,
  "nbformat_minor": 0,
  "metadata": {
    "accelerator": "GPU",
    "colab": {
      "name": "Spam Detection Model Selections.ipynb",
      "provenance": [],
      "collapsed_sections": [
        "ckIGUiS0gTGc"
      ],
      "toc_visible": true,
      "machine_shape": "hm"
    },
    "kernelspec": {
      "display_name": "conda_python3",
      "language": "python",
      "name": "conda_python3"
    },
    "language_info": {
      "codemirror_mode": {
        "name": "ipython",
        "version": 3
      },
      "file_extension": ".py",
      "mimetype": "text/x-python",
      "name": "python",
      "nbconvert_exporter": "python",
      "pygments_lexer": "ipython3",
      "version": "3.6.5"
    }
  },
  "cells": [
    {
      "cell_type": "code",
      "metadata": {
        "scrolled": true,
        "id": "7OEeBZeAhRTw",
        "colab_type": "code",
        "colab": {},
        "outputId": "a6a2c0d8-a024-4b63-80a9-b251356198e1"
      },
      "source": [
        "from IPython.core.display import display, HTML\n",
        "display(HTML(\"<style>.container { width:100% !important; }</style>\"))"
      ],
      "execution_count": 0,
      "outputs": [
        {
          "output_type": "display_data",
          "data": {
            "text/html": [
              "<style>.container { width:100% !important; }</style>"
            ],
            "text/plain": [
              "<IPython.core.display.HTML object>"
            ]
          },
          "metadata": {
            "tags": []
          }
        }
      ]
    },
    {
      "cell_type": "code",
      "metadata": {
        "id": "nViHMXErhRT2",
        "colab_type": "code",
        "colab": {}
      },
      "source": [
        "import pandas as pd"
      ],
      "execution_count": 0,
      "outputs": []
    },
    {
      "cell_type": "code",
      "metadata": {
        "scrolled": true,
        "id": "7Irb36o0hRT5",
        "colab_type": "code",
        "colab": {},
        "outputId": "dc4c7d7f-16e3-456e-875f-23fc27ae58e7"
      },
      "source": [
        "!pip install jupyter_contrib_nbextensions\n",
        "!jupyter contrib nbextension install --user\n",
        "!jupyter nbextension enable codefolding/main"
      ],
      "execution_count": 0,
      "outputs": [
        {
          "output_type": "stream",
          "text": [
            "Collecting jupyter_contrib_nbextensions\n",
            "\u001b[?25l  Downloading https://files.pythonhosted.org/packages/33/f0/6e2c00afda860f655fbf0f795f7310bdbf12122846344dfdc803fc7455d5/jupyter_contrib_nbextensions-0.5.1-py2.py3-none-any.whl (20.9MB)\n",
            "\u001b[K    100% |████████████████████████████████| 20.9MB 2.4MB/s eta 0:00:01\n",
            "\u001b[?25hRequirement already satisfied: notebook>=4.0 in /home/ec2-user/anaconda3/envs/python3/lib/python3.6/site-packages (from jupyter_contrib_nbextensions) (5.5.0)\n",
            "Requirement already satisfied: ipython-genutils in /home/ec2-user/anaconda3/envs/python3/lib/python3.6/site-packages (from jupyter_contrib_nbextensions) (0.2.0)\n",
            "Requirement already satisfied: traitlets>=4.1 in /home/ec2-user/anaconda3/envs/python3/lib/python3.6/site-packages (from jupyter_contrib_nbextensions) (4.3.2)\n",
            "Collecting jupyter-nbextensions-configurator>=0.4.0 (from jupyter_contrib_nbextensions)\n",
            "\u001b[?25l  Downloading https://files.pythonhosted.org/packages/51/a3/d72d5f2dc10c5ccf5a6f4c79f636bf071a5ce462dedd07af2f70384db6cb/jupyter_nbextensions_configurator-0.4.1.tar.gz (479kB)\n",
            "\u001b[K    100% |████████████████████████████████| 481kB 36.0MB/s ta 0:00:01\n",
            "\u001b[?25hRequirement already satisfied: pyyaml in /home/ec2-user/anaconda3/envs/python3/lib/python3.6/site-packages (from jupyter_contrib_nbextensions) (3.12)\n",
            "Collecting jupyter-latex-envs>=1.3.8 (from jupyter_contrib_nbextensions)\n",
            "\u001b[?25l  Downloading https://files.pythonhosted.org/packages/0e/15/55805de080d5542f76920364635e96e64d3b37f678befdfe3b16aa154205/jupyter_latex_envs-1.4.6.tar.gz (861kB)\n",
            "\u001b[K    100% |████████████████████████████████| 870kB 30.0MB/s ta 0:00:01\n",
            "\u001b[?25hCollecting jupyter-highlight-selected-word>=0.1.1 (from jupyter_contrib_nbextensions)\n",
            "  Downloading https://files.pythonhosted.org/packages/50/d7/19ab7cfd60bf268d2abbacc52d4295a40f52d74dfc0d938e4761ee5e598b/jupyter_highlight_selected_word-0.2.0-py2.py3-none-any.whl\n",
            "Collecting jupyter-contrib-core>=0.3.3 (from jupyter_contrib_nbextensions)\n",
            "  Downloading https://files.pythonhosted.org/packages/e6/8f/04a752a8b66a66e7092c035e5d87d2502ac7ec07f9fb6059059b6c0dc272/jupyter_contrib_core-0.3.3-py2.py3-none-any.whl\n",
            "Requirement already satisfied: tornado in /home/ec2-user/anaconda3/envs/python3/lib/python3.6/site-packages (from jupyter_contrib_nbextensions) (5.0.2)\n",
            "Requirement already satisfied: lxml in /home/ec2-user/anaconda3/envs/python3/lib/python3.6/site-packages (from jupyter_contrib_nbextensions) (4.2.1)\n",
            "Requirement already satisfied: jupyter-core in /home/ec2-user/anaconda3/envs/python3/lib/python3.6/site-packages (from jupyter_contrib_nbextensions) (4.4.0)\n",
            "Requirement already satisfied: nbconvert>=4.2 in /home/ec2-user/anaconda3/envs/python3/lib/python3.6/site-packages (from jupyter_contrib_nbextensions) (5.4.1)\n",
            "Requirement already satisfied: nbformat in /home/ec2-user/anaconda3/envs/python3/lib/python3.6/site-packages (from notebook>=4.0->jupyter_contrib_nbextensions) (4.4.0)\n",
            "Requirement already satisfied: Send2Trash in /home/ec2-user/anaconda3/envs/python3/lib/python3.6/site-packages (from notebook>=4.0->jupyter_contrib_nbextensions) (1.5.0)\n",
            "Requirement already satisfied: pyzmq>=17 in /home/ec2-user/anaconda3/envs/python3/lib/python3.6/site-packages (from notebook>=4.0->jupyter_contrib_nbextensions) (17.0.0)\n",
            "Requirement already satisfied: jinja2 in /home/ec2-user/anaconda3/envs/python3/lib/python3.6/site-packages (from notebook>=4.0->jupyter_contrib_nbextensions) (2.10)\n",
            "Requirement already satisfied: jupyter-client>=5.2.0 in /home/ec2-user/anaconda3/envs/python3/lib/python3.6/site-packages (from notebook>=4.0->jupyter_contrib_nbextensions) (5.2.3)\n",
            "Requirement already satisfied: terminado>=0.8.1 in /home/ec2-user/anaconda3/envs/python3/lib/python3.6/site-packages (from notebook>=4.0->jupyter_contrib_nbextensions) (0.8.1)\n",
            "Requirement already satisfied: ipykernel in /home/ec2-user/anaconda3/envs/python3/lib/python3.6/site-packages (from notebook>=4.0->jupyter_contrib_nbextensions) (4.8.2)\n",
            "Requirement already satisfied: six in /home/ec2-user/anaconda3/envs/python3/lib/python3.6/site-packages (from traitlets>=4.1->jupyter_contrib_nbextensions) (1.11.0)\n",
            "Requirement already satisfied: decorator in /home/ec2-user/anaconda3/envs/python3/lib/python3.6/site-packages (from traitlets>=4.1->jupyter_contrib_nbextensions) (4.3.0)\n",
            "Requirement already satisfied: ipython in /home/ec2-user/anaconda3/envs/python3/lib/python3.6/site-packages (from jupyter-latex-envs>=1.3.8->jupyter_contrib_nbextensions) (6.4.0)\n",
            "Requirement already satisfied: setuptools in /home/ec2-user/anaconda3/envs/python3/lib/python3.6/site-packages (from jupyter-contrib-core>=0.3.3->jupyter_contrib_nbextensions) (39.1.0)\n",
            "Requirement already satisfied: mistune>=0.8.1 in /home/ec2-user/anaconda3/envs/python3/lib/python3.6/site-packages (from nbconvert>=4.2->jupyter_contrib_nbextensions) (0.8.3)\n",
            "Requirement already satisfied: pygments in /home/ec2-user/anaconda3/envs/python3/lib/python3.6/site-packages (from nbconvert>=4.2->jupyter_contrib_nbextensions) (2.2.0)\n",
            "Requirement already satisfied: entrypoints>=0.2.2 in /home/ec2-user/anaconda3/envs/python3/lib/python3.6/site-packages (from nbconvert>=4.2->jupyter_contrib_nbextensions) (0.2.3)\n",
            "Requirement already satisfied: bleach in /home/ec2-user/anaconda3/envs/python3/lib/python3.6/site-packages (from nbconvert>=4.2->jupyter_contrib_nbextensions) (2.1.3)\n",
            "Requirement already satisfied: pandocfilters>=1.4.1 in /home/ec2-user/anaconda3/envs/python3/lib/python3.6/site-packages (from nbconvert>=4.2->jupyter_contrib_nbextensions) (1.4.2)\n",
            "Requirement already satisfied: testpath in /home/ec2-user/anaconda3/envs/python3/lib/python3.6/site-packages (from nbconvert>=4.2->jupyter_contrib_nbextensions) (0.3.1)\n",
            "Requirement already satisfied: defusedxml in /home/ec2-user/anaconda3/envs/python3/lib/python3.6/site-packages (from nbconvert>=4.2->jupyter_contrib_nbextensions) (0.6.0)\n",
            "Requirement already satisfied: jsonschema!=2.5.0,>=2.4 in /home/ec2-user/anaconda3/envs/python3/lib/python3.6/site-packages (from nbformat->notebook>=4.0->jupyter_contrib_nbextensions) (2.6.0)\n",
            "Requirement already satisfied: MarkupSafe>=0.23 in /home/ec2-user/anaconda3/envs/python3/lib/python3.6/site-packages (from jinja2->notebook>=4.0->jupyter_contrib_nbextensions) (1.0)\n",
            "Requirement already satisfied: python-dateutil>=2.1 in /home/ec2-user/anaconda3/envs/python3/lib/python3.6/site-packages (from jupyter-client>=5.2.0->notebook>=4.0->jupyter_contrib_nbextensions) (2.7.3)\n",
            "Requirement already satisfied: prompt-toolkit<2.0.0,>=1.0.15 in /home/ec2-user/anaconda3/envs/python3/lib/python3.6/site-packages (from ipython->jupyter-latex-envs>=1.3.8->jupyter_contrib_nbextensions) (1.0.15)\n",
            "Requirement already satisfied: backcall in /home/ec2-user/anaconda3/envs/python3/lib/python3.6/site-packages (from ipython->jupyter-latex-envs>=1.3.8->jupyter_contrib_nbextensions) (0.1.0)\n",
            "Requirement already satisfied: jedi>=0.10 in /home/ec2-user/anaconda3/envs/python3/lib/python3.6/site-packages (from ipython->jupyter-latex-envs>=1.3.8->jupyter_contrib_nbextensions) (0.12.0)\n",
            "Requirement already satisfied: simplegeneric>0.8 in /home/ec2-user/anaconda3/envs/python3/lib/python3.6/site-packages (from ipython->jupyter-latex-envs>=1.3.8->jupyter_contrib_nbextensions) (0.8.1)\n",
            "Requirement already satisfied: pickleshare in /home/ec2-user/anaconda3/envs/python3/lib/python3.6/site-packages (from ipython->jupyter-latex-envs>=1.3.8->jupyter_contrib_nbextensions) (0.7.4)\n",
            "Requirement already satisfied: pexpect; sys_platform != \"win32\" in /home/ec2-user/anaconda3/envs/python3/lib/python3.6/site-packages (from ipython->jupyter-latex-envs>=1.3.8->jupyter_contrib_nbextensions) (4.5.0)\n",
            "Requirement already satisfied: html5lib!=1.0b1,!=1.0b2,!=1.0b3,!=1.0b4,!=1.0b5,!=1.0b6,!=1.0b7,!=1.0b8,>=0.99999999pre in /home/ec2-user/anaconda3/envs/python3/lib/python3.6/site-packages (from bleach->nbconvert>=4.2->jupyter_contrib_nbextensions) (1.0.1)\n",
            "Requirement already satisfied: wcwidth in /home/ec2-user/anaconda3/envs/python3/lib/python3.6/site-packages (from prompt-toolkit<2.0.0,>=1.0.15->ipython->jupyter-latex-envs>=1.3.8->jupyter_contrib_nbextensions) (0.1.7)\n",
            "Requirement already satisfied: parso>=0.2.0 in /home/ec2-user/anaconda3/envs/python3/lib/python3.6/site-packages (from jedi>=0.10->ipython->jupyter-latex-envs>=1.3.8->jupyter_contrib_nbextensions) (0.2.0)\n",
            "Requirement already satisfied: ptyprocess>=0.5 in /home/ec2-user/anaconda3/envs/python3/lib/python3.6/site-packages (from pexpect; sys_platform != \"win32\"->ipython->jupyter-latex-envs>=1.3.8->jupyter_contrib_nbextensions) (0.5.2)\n",
            "Requirement already satisfied: webencodings in /home/ec2-user/anaconda3/envs/python3/lib/python3.6/site-packages (from html5lib!=1.0b1,!=1.0b2,!=1.0b3,!=1.0b4,!=1.0b5,!=1.0b6,!=1.0b7,!=1.0b8,>=0.99999999pre->bleach->nbconvert>=4.2->jupyter_contrib_nbextensions) (0.5.1)\n",
            "Building wheels for collected packages: jupyter-nbextensions-configurator, jupyter-latex-envs\n"
          ],
          "name": "stdout"
        },
        {
          "output_type": "stream",
          "text": [
            "  Running setup.py bdist_wheel for jupyter-nbextensions-configurator ... \u001b[?25ldone\n",
            "\u001b[?25h  Stored in directory: /home/ec2-user/.cache/pip/wheels/15/df/fe/2a74fe34709e7fdc5ae153a768675d9fda93cc7d5133ed1fb0\n",
            "  Running setup.py bdist_wheel for jupyter-latex-envs ... \u001b[?25ldone\n",
            "\u001b[?25h  Stored in directory: /home/ec2-user/.cache/pip/wheels/0d/71/2a/164491997299b9f2479a251e254323fe35d946779e18f27956\n",
            "Successfully built jupyter-nbextensions-configurator jupyter-latex-envs\n",
            "Installing collected packages: jupyter-contrib-core, jupyter-nbextensions-configurator, jupyter-latex-envs, jupyter-highlight-selected-word, jupyter-contrib-nbextensions\n",
            "Successfully installed jupyter-contrib-core-0.3.3 jupyter-contrib-nbextensions-0.5.1 jupyter-highlight-selected-word-0.2.0 jupyter-latex-envs-1.4.6 jupyter-nbextensions-configurator-0.4.1\n",
            "\u001b[33mYou are using pip version 10.0.1, however version 20.0.1 is available.\n",
            "You should consider upgrading via the 'pip install --upgrade pip' command.\u001b[0m\n",
            "\u001b[32m[I 12:56:37 InstallContribNbextensionsApp]\u001b[m jupyter contrib nbextension install --user\n",
            "\u001b[32m[I 12:56:37 InstallContribNbextensionsApp]\u001b[m Installing jupyter_contrib_nbextensions nbextension files to jupyter data directory\n",
            "\u001b[32m[I 12:56:37 InstallContribNbextensionsApp]\u001b[m Installing /home/ec2-user/anaconda3/envs/python3/lib/python3.6/site-packages/jupyter_contrib_nbextensions/nbextensions/codefolding -> codefolding\n",
            "\u001b[32m[I 12:56:37 InstallContribNbextensionsApp]\u001b[m Making directory: /home/ec2-user/.local/share/jupyter/nbextensions/codefolding/\n",
            "\u001b[32m[I 12:56:37 InstallContribNbextensionsApp]\u001b[m Copying: /home/ec2-user/anaconda3/envs/python3/lib/python3.6/site-packages/jupyter_contrib_nbextensions/nbextensions/codefolding/firstline-fold.js -> /home/ec2-user/.local/share/jupyter/nbextensions/codefolding/firstline-fold.js\n",
            "\u001b[32m[I 12:56:37 InstallContribNbextensionsApp]\u001b[m Copying: /home/ec2-user/anaconda3/envs/python3/lib/python3.6/site-packages/jupyter_contrib_nbextensions/nbextensions/codefolding/magic-folded.png -> /home/ec2-user/.local/share/jupyter/nbextensions/codefolding/magic-folded.png\n",
            "\u001b[32m[I 12:56:37 InstallContribNbextensionsApp]\u001b[m Copying: /home/ec2-user/anaconda3/envs/python3/lib/python3.6/site-packages/jupyter_contrib_nbextensions/nbextensions/codefolding/codefolding_indent_folded_1.png -> /home/ec2-user/.local/share/jupyter/nbextensions/codefolding/codefolding_indent_folded_1.png\n",
            "\u001b[32m[I 12:56:37 InstallContribNbextensionsApp]\u001b[m Copying: /home/ec2-user/anaconda3/envs/python3/lib/python3.6/site-packages/jupyter_contrib_nbextensions/nbextensions/codefolding/codefolding_editor.yaml -> /home/ec2-user/.local/share/jupyter/nbextensions/codefolding/codefolding_editor.yaml\n",
            "\u001b[32m[I 12:56:37 InstallContribNbextensionsApp]\u001b[m Copying: /home/ec2-user/anaconda3/envs/python3/lib/python3.6/site-packages/jupyter_contrib_nbextensions/nbextensions/codefolding/codefolding_indent_unfolded.png -> /home/ec2-user/.local/share/jupyter/nbextensions/codefolding/codefolding_indent_unfolded.png\n",
            "\u001b[32m[I 12:56:37 InstallContribNbextensionsApp]\u001b[m Copying: /home/ec2-user/anaconda3/envs/python3/lib/python3.6/site-packages/jupyter_contrib_nbextensions/nbextensions/codefolding/foldgutter.css -> /home/ec2-user/.local/share/jupyter/nbextensions/codefolding/foldgutter.css\n",
            "\u001b[32m[I 12:56:37 InstallContribNbextensionsApp]\u001b[m Copying: /home/ec2-user/anaconda3/envs/python3/lib/python3.6/site-packages/jupyter_contrib_nbextensions/nbextensions/codefolding/codefolding_firstline_unfolded.png -> /home/ec2-user/.local/share/jupyter/nbextensions/codefolding/codefolding_firstline_unfolded.png\n",
            "\u001b[32m[I 12:56:37 InstallContribNbextensionsApp]\u001b[m Copying: /home/ec2-user/anaconda3/envs/python3/lib/python3.6/site-packages/jupyter_contrib_nbextensions/nbextensions/codefolding/codefolding_firstline_folded.png -> /home/ec2-user/.local/share/jupyter/nbextensions/codefolding/codefolding_firstline_folded.png\n",
            "\u001b[32m[I 12:56:37 InstallContribNbextensionsApp]\u001b[m Copying: /home/ec2-user/anaconda3/envs/python3/lib/python3.6/site-packages/jupyter_contrib_nbextensions/nbextensions/codefolding/codefolding.yaml -> /home/ec2-user/.local/share/jupyter/nbextensions/codefolding/codefolding.yaml\n",
            "\u001b[32m[I 12:56:37 InstallContribNbextensionsApp]\u001b[m Copying: /home/ec2-user/anaconda3/envs/python3/lib/python3.6/site-packages/jupyter_contrib_nbextensions/nbextensions/codefolding/magic-unfolded.png -> /home/ec2-user/.local/share/jupyter/nbextensions/codefolding/magic-unfolded.png\n",
            "\u001b[32m[I 12:56:37 InstallContribNbextensionsApp]\u001b[m Copying: /home/ec2-user/anaconda3/envs/python3/lib/python3.6/site-packages/jupyter_contrib_nbextensions/nbextensions/codefolding/readme.md -> /home/ec2-user/.local/share/jupyter/nbextensions/codefolding/readme.md\n",
            "\u001b[32m[I 12:56:37 InstallContribNbextensionsApp]\u001b[m Copying: /home/ec2-user/anaconda3/envs/python3/lib/python3.6/site-packages/jupyter_contrib_nbextensions/nbextensions/codefolding/codefolding_indent_folded_2.png -> /home/ec2-user/.local/share/jupyter/nbextensions/codefolding/codefolding_indent_folded_2.png\n",
            "\u001b[32m[I 12:56:37 InstallContribNbextensionsApp]\u001b[m Copying: /home/ec2-user/anaconda3/envs/python3/lib/python3.6/site-packages/jupyter_contrib_nbextensions/nbextensions/codefolding/main.js -> /home/ec2-user/.local/share/jupyter/nbextensions/codefolding/main.js\n",
            "\u001b[32m[I 12:56:37 InstallContribNbextensionsApp]\u001b[m Copying: /home/ec2-user/anaconda3/envs/python3/lib/python3.6/site-packages/jupyter_contrib_nbextensions/nbextensions/codefolding/edit.js -> /home/ec2-user/.local/share/jupyter/nbextensions/codefolding/edit.js\n",
            "\u001b[32m[I 12:56:37 InstallContribNbextensionsApp]\u001b[m Copying: /home/ec2-user/anaconda3/envs/python3/lib/python3.6/site-packages/jupyter_contrib_nbextensions/nbextensions/codefolding/codefolding_editor.png -> /home/ec2-user/.local/share/jupyter/nbextensions/codefolding/codefolding_editor.png\n",
            "\u001b[32m[I 12:56:37 InstallContribNbextensionsApp]\u001b[m Copying: /home/ec2-user/anaconda3/envs/python3/lib/python3.6/site-packages/jupyter_contrib_nbextensions/nbextensions/codefolding/magic-fold.js -> /home/ec2-user/.local/share/jupyter/nbextensions/codefolding/magic-fold.js\n",
            "\u001b[32m[I 12:56:37 InstallContribNbextensionsApp]\u001b[m Copying: /home/ec2-user/anaconda3/envs/python3/lib/python3.6/site-packages/jupyter_contrib_nbextensions/nbextensions/codefolding/icon.png -> /home/ec2-user/.local/share/jupyter/nbextensions/codefolding/icon.png\n",
            "\u001b[32m[I 12:56:37 InstallContribNbextensionsApp]\u001b[m - Validating: \u001b[32mOK\u001b[0m\n",
            "\u001b[32m[I 12:56:37 InstallContribNbextensionsApp]\u001b[m Installing /home/ec2-user/anaconda3/envs/python3/lib/python3.6/site-packages/jupyter_contrib_nbextensions/nbextensions/codefolding -> codefolding\n",
            "\u001b[32m[I 12:56:37 InstallContribNbextensionsApp]\u001b[m Up to date: /home/ec2-user/.local/share/jupyter/nbextensions/codefolding/firstline-fold.js\n",
            "\u001b[32m[I 12:56:37 InstallContribNbextensionsApp]\u001b[m Up to date: /home/ec2-user/.local/share/jupyter/nbextensions/codefolding/magic-folded.png\n",
            "\u001b[32m[I 12:56:37 InstallContribNbextensionsApp]\u001b[m Up to date: /home/ec2-user/.local/share/jupyter/nbextensions/codefolding/codefolding_indent_folded_1.png\n",
            "\u001b[32m[I 12:56:37 InstallContribNbextensionsApp]\u001b[m Up to date: /home/ec2-user/.local/share/jupyter/nbextensions/codefolding/codefolding_editor.yaml\n",
            "\u001b[32m[I 12:56:37 InstallContribNbextensionsApp]\u001b[m Up to date: /home/ec2-user/.local/share/jupyter/nbextensions/codefolding/codefolding_indent_unfolded.png\n",
            "\u001b[32m[I 12:56:37 InstallContribNbextensionsApp]\u001b[m Up to date: /home/ec2-user/.local/share/jupyter/nbextensions/codefolding/foldgutter.css\n",
            "\u001b[32m[I 12:56:37 InstallContribNbextensionsApp]\u001b[m Up to date: /home/ec2-user/.local/share/jupyter/nbextensions/codefolding/codefolding_firstline_unfolded.png\n",
            "\u001b[32m[I 12:56:37 InstallContribNbextensionsApp]\u001b[m Up to date: /home/ec2-user/.local/share/jupyter/nbextensions/codefolding/codefolding_firstline_folded.png\n",
            "\u001b[32m[I 12:56:37 InstallContribNbextensionsApp]\u001b[m Up to date: /home/ec2-user/.local/share/jupyter/nbextensions/codefolding/codefolding.yaml\n",
            "\u001b[32m[I 12:56:37 InstallContribNbextensionsApp]\u001b[m Up to date: /home/ec2-user/.local/share/jupyter/nbextensions/codefolding/magic-unfolded.png\n",
            "\u001b[32m[I 12:56:37 InstallContribNbextensionsApp]\u001b[m Up to date: /home/ec2-user/.local/share/jupyter/nbextensions/codefolding/readme.md\n",
            "\u001b[32m[I 12:56:37 InstallContribNbextensionsApp]\u001b[m Up to date: /home/ec2-user/.local/share/jupyter/nbextensions/codefolding/codefolding_indent_folded_2.png\n",
            "\u001b[32m[I 12:56:37 InstallContribNbextensionsApp]\u001b[m Up to date: /home/ec2-user/.local/share/jupyter/nbextensions/codefolding/main.js\n",
            "\u001b[32m[I 12:56:37 InstallContribNbextensionsApp]\u001b[m Up to date: /home/ec2-user/.local/share/jupyter/nbextensions/codefolding/edit.js\n",
            "\u001b[32m[I 12:56:37 InstallContribNbextensionsApp]\u001b[m Up to date: /home/ec2-user/.local/share/jupyter/nbextensions/codefolding/codefolding_editor.png\n",
            "\u001b[32m[I 12:56:37 InstallContribNbextensionsApp]\u001b[m Up to date: /home/ec2-user/.local/share/jupyter/nbextensions/codefolding/magic-fold.js\n",
            "\u001b[32m[I 12:56:37 InstallContribNbextensionsApp]\u001b[m Up to date: /home/ec2-user/.local/share/jupyter/nbextensions/codefolding/icon.png\n",
            "\u001b[32m[I 12:56:37 InstallContribNbextensionsApp]\u001b[m - Validating: \u001b[32mOK\u001b[0m\n",
            "\u001b[32m[I 12:56:37 InstallContribNbextensionsApp]\u001b[m Installing /home/ec2-user/anaconda3/envs/python3/lib/python3.6/site-packages/jupyter_contrib_nbextensions/nbextensions/toc2 -> toc2\n",
            "\u001b[32m[I 12:56:37 InstallContribNbextensionsApp]\u001b[m Making directory: /home/ec2-user/.local/share/jupyter/nbextensions/toc2/\n",
            "\u001b[32m[I 12:56:37 InstallContribNbextensionsApp]\u001b[m Copying: /home/ec2-user/anaconda3/envs/python3/lib/python3.6/site-packages/jupyter_contrib_nbextensions/nbextensions/toc2/main.css -> /home/ec2-user/.local/share/jupyter/nbextensions/toc2/main.css\n",
            "\u001b[32m[I 12:56:37 InstallContribNbextensionsApp]\u001b[m Copying: /home/ec2-user/anaconda3/envs/python3/lib/python3.6/site-packages/jupyter_contrib_nbextensions/nbextensions/toc2/demo_dark.png -> /home/ec2-user/.local/share/jupyter/nbextensions/toc2/demo_dark.png\n",
            "\u001b[32m[I 12:56:37 InstallContribNbextensionsApp]\u001b[m Copying: /home/ec2-user/anaconda3/envs/python3/lib/python3.6/site-packages/jupyter_contrib_nbextensions/nbextensions/toc2/README.md -> /home/ec2-user/.local/share/jupyter/nbextensions/toc2/README.md\n",
            "\u001b[32m[I 12:56:37 InstallContribNbextensionsApp]\u001b[m Copying: /home/ec2-user/anaconda3/envs/python3/lib/python3.6/site-packages/jupyter_contrib_nbextensions/nbextensions/toc2/demo.gif -> /home/ec2-user/.local/share/jupyter/nbextensions/toc2/demo.gif\n",
            "\u001b[32m[I 12:56:37 InstallContribNbextensionsApp]\u001b[m Copying: /home/ec2-user/anaconda3/envs/python3/lib/python3.6/site-packages/jupyter_contrib_nbextensions/nbextensions/toc2/image.png -> /home/ec2-user/.local/share/jupyter/nbextensions/toc2/image.png\n",
            "\u001b[32m[I 12:56:37 InstallContribNbextensionsApp]\u001b[m Copying: /home/ec2-user/anaconda3/envs/python3/lib/python3.6/site-packages/jupyter_contrib_nbextensions/nbextensions/toc2/demo3.gif -> /home/ec2-user/.local/share/jupyter/nbextensions/toc2/demo3.gif\n",
            "\u001b[32m[I 12:56:37 InstallContribNbextensionsApp]\u001b[m Copying: /home/ec2-user/anaconda3/envs/python3/lib/python3.6/site-packages/jupyter_contrib_nbextensions/nbextensions/toc2/main.js -> /home/ec2-user/.local/share/jupyter/nbextensions/toc2/main.js\n",
            "\u001b[32m[I 12:56:37 InstallContribNbextensionsApp]\u001b[m Copying: /home/ec2-user/anaconda3/envs/python3/lib/python3.6/site-packages/jupyter_contrib_nbextensions/nbextensions/toc2/demo2.gif -> /home/ec2-user/.local/share/jupyter/nbextensions/toc2/demo2.gif\n",
            "\u001b[32m[I 12:56:37 InstallContribNbextensionsApp]\u001b[m Copying: /home/ec2-user/anaconda3/envs/python3/lib/python3.6/site-packages/jupyter_contrib_nbextensions/nbextensions/toc2/toc2.yaml -> /home/ec2-user/.local/share/jupyter/nbextensions/toc2/toc2.yaml\n",
            "\u001b[32m[I 12:56:37 InstallContribNbextensionsApp]\u001b[m Copying: /home/ec2-user/anaconda3/envs/python3/lib/python3.6/site-packages/jupyter_contrib_nbextensions/nbextensions/toc2/toc2.js -> /home/ec2-user/.local/share/jupyter/nbextensions/toc2/toc2.js\n",
            "\u001b[32m[I 12:56:37 InstallContribNbextensionsApp]\u001b[m Copying: /home/ec2-user/anaconda3/envs/python3/lib/python3.6/site-packages/jupyter_contrib_nbextensions/nbextensions/toc2/icon.png -> /home/ec2-user/.local/share/jupyter/nbextensions/toc2/icon.png\n",
            "\u001b[32m[I 12:56:37 InstallContribNbextensionsApp]\u001b[m - Validating: \u001b[32mOK\u001b[0m\n",
            "\u001b[32m[I 12:56:37 InstallContribNbextensionsApp]\u001b[m Installing /home/ec2-user/anaconda3/envs/python3/lib/python3.6/site-packages/jupyter_contrib_nbextensions/nbextensions/keyboard_shortcut_editor -> keyboard_shortcut_editor\n",
            "\u001b[32m[I 12:56:37 InstallContribNbextensionsApp]\u001b[m Making directory: /home/ec2-user/.local/share/jupyter/nbextensions/keyboard_shortcut_editor/\n",
            "\u001b[32m[I 12:56:37 InstallContribNbextensionsApp]\u001b[m Copying: /home/ec2-user/anaconda3/envs/python3/lib/python3.6/site-packages/jupyter_contrib_nbextensions/nbextensions/keyboard_shortcut_editor/quickhelp_shim.js -> /home/ec2-user/.local/share/jupyter/nbextensions/keyboard_shortcut_editor/quickhelp_shim.js\n",
            "\u001b[32m[I 12:56:37 InstallContribNbextensionsApp]\u001b[m Copying: /home/ec2-user/anaconda3/envs/python3/lib/python3.6/site-packages/jupyter_contrib_nbextensions/nbextensions/keyboard_shortcut_editor/readme_undefined_key.png -> /home/ec2-user/.local/share/jupyter/nbextensions/keyboard_shortcut_editor/readme_undefined_key.png\n",
            "\u001b[32m[I 12:56:37 InstallContribNbextensionsApp]\u001b[m Copying: /home/ec2-user/anaconda3/envs/python3/lib/python3.6/site-packages/jupyter_contrib_nbextensions/nbextensions/keyboard_shortcut_editor/keyboard_shortcut_editor.yaml -> /home/ec2-user/.local/share/jupyter/nbextensions/keyboard_shortcut_editor/keyboard_shortcut_editor.yaml\n",
            "\u001b[32m[I 12:56:37 InstallContribNbextensionsApp]\u001b[m Copying: /home/ec2-user/anaconda3/envs/python3/lib/python3.6/site-packages/jupyter_contrib_nbextensions/nbextensions/keyboard_shortcut_editor/readme_shortcut_editor_success.png -> /home/ec2-user/.local/share/jupyter/nbextensions/keyboard_shortcut_editor/readme_shortcut_editor_success.png\n",
            "\u001b[32m[I 12:56:37 InstallContribNbextensionsApp]\u001b[m Copying: /home/ec2-user/anaconda3/envs/python3/lib/python3.6/site-packages/jupyter_contrib_nbextensions/nbextensions/keyboard_shortcut_editor/readme_shortcut_editor_blank.png -> /home/ec2-user/.local/share/jupyter/nbextensions/keyboard_shortcut_editor/readme_shortcut_editor_blank.png\n",
            "\u001b[32m[I 12:56:37 InstallContribNbextensionsApp]\u001b[m Copying: /home/ec2-user/anaconda3/envs/python3/lib/python3.6/site-packages/jupyter_contrib_nbextensions/nbextensions/keyboard_shortcut_editor/main.css -> /home/ec2-user/.local/share/jupyter/nbextensions/keyboard_shortcut_editor/main.css\n",
            "\u001b[32m[I 12:56:37 InstallContribNbextensionsApp]\u001b[m Copying: /home/ec2-user/anaconda3/envs/python3/lib/python3.6/site-packages/jupyter_contrib_nbextensions/nbextensions/keyboard_shortcut_editor/kse_components.js -> /home/ec2-user/.local/share/jupyter/nbextensions/keyboard_shortcut_editor/kse_components.js\n",
            "\u001b[32m[I 12:56:37 InstallContribNbextensionsApp]\u001b[m Copying: /home/ec2-user/anaconda3/envs/python3/lib/python3.6/site-packages/jupyter_contrib_nbextensions/nbextensions/keyboard_shortcut_editor/readme_menu_item.png -> /home/ec2-user/.local/share/jupyter/nbextensions/keyboard_shortcut_editor/readme_menu_item.png\n",
            "\u001b[32m[I 12:56:37 InstallContribNbextensionsApp]\u001b[m Copying: /home/ec2-user/anaconda3/envs/python3/lib/python3.6/site-packages/jupyter_contrib_nbextensions/nbextensions/keyboard_shortcut_editor/README.md -> /home/ec2-user/.local/share/jupyter/nbextensions/keyboard_shortcut_editor/README.md\n",
            "\u001b[32m[I 12:56:37 InstallContribNbextensionsApp]\u001b[m Copying: /home/ec2-user/anaconda3/envs/python3/lib/python3.6/site-packages/jupyter_contrib_nbextensions/nbextensions/keyboard_shortcut_editor/readme_add_new_select_action.png -> /home/ec2-user/.local/share/jupyter/nbextensions/keyboard_shortcut_editor/readme_add_new_select_action.png\n",
            "\u001b[32m[I 12:56:37 InstallContribNbextensionsApp]\u001b[m Copying: /home/ec2-user/anaconda3/envs/python3/lib/python3.6/site-packages/jupyter_contrib_nbextensions/nbextensions/keyboard_shortcut_editor/readme_reset_disabled.png -> /home/ec2-user/.local/share/jupyter/nbextensions/keyboard_shortcut_editor/readme_reset_disabled.png\n",
            "\u001b[32m[I 12:56:37 InstallContribNbextensionsApp]\u001b[m Copying: /home/ec2-user/anaconda3/envs/python3/lib/python3.6/site-packages/jupyter_contrib_nbextensions/nbextensions/keyboard_shortcut_editor/main.js -> /home/ec2-user/.local/share/jupyter/nbextensions/keyboard_shortcut_editor/main.js\n",
            "\u001b[32m[I 12:56:37 InstallContribNbextensionsApp]\u001b[m Copying: /home/ec2-user/anaconda3/envs/python3/lib/python3.6/site-packages/jupyter_contrib_nbextensions/nbextensions/keyboard_shortcut_editor/readme_comma.png -> /home/ec2-user/.local/share/jupyter/nbextensions/keyboard_shortcut_editor/readme_comma.png\n",
            "\u001b[32m[I 12:56:37 InstallContribNbextensionsApp]\u001b[m Copying: /home/ec2-user/anaconda3/envs/python3/lib/python3.6/site-packages/jupyter_contrib_nbextensions/nbextensions/keyboard_shortcut_editor/readme_dropdown.png -> /home/ec2-user/.local/share/jupyter/nbextensions/keyboard_shortcut_editor/readme_dropdown.png\n",
            "\u001b[32m[I 12:56:37 InstallContribNbextensionsApp]\u001b[m Copying: /home/ec2-user/anaconda3/envs/python3/lib/python3.6/site-packages/jupyter_contrib_nbextensions/nbextensions/keyboard_shortcut_editor/readme_conflict.png -> /home/ec2-user/.local/share/jupyter/nbextensions/keyboard_shortcut_editor/readme_conflict.png\n",
            "\u001b[32m[I 12:56:37 InstallContribNbextensionsApp]\u001b[m Copying: /home/ec2-user/anaconda3/envs/python3/lib/python3.6/site-packages/jupyter_contrib_nbextensions/nbextensions/keyboard_shortcut_editor/readme_add_new_link.png -> /home/ec2-user/.local/share/jupyter/nbextensions/keyboard_shortcut_editor/readme_add_new_link.png\n",
            "\u001b[32m[I 12:56:37 InstallContribNbextensionsApp]\u001b[m Copying: /home/ec2-user/anaconda3/envs/python3/lib/python3.6/site-packages/jupyter_contrib_nbextensions/nbextensions/keyboard_shortcut_editor/icon.png -> /home/ec2-user/.local/share/jupyter/nbextensions/keyboard_shortcut_editor/icon.png\n",
            "\u001b[32m[I 12:56:37 InstallContribNbextensionsApp]\u001b[m - Validating: \u001b[32mOK\u001b[0m\n",
            "\u001b[32m[I 12:56:37 InstallContribNbextensionsApp]\u001b[m Installing /home/ec2-user/anaconda3/envs/python3/lib/python3.6/site-packages/jupyter_contrib_nbextensions/nbextensions/rubberband -> rubberband\n",
            "\u001b[32m[I 12:56:37 InstallContribNbextensionsApp]\u001b[m Making directory: /home/ec2-user/.local/share/jupyter/nbextensions/rubberband/\n",
            "\u001b[32m[I 12:56:37 InstallContribNbextensionsApp]\u001b[m Copying: /home/ec2-user/anaconda3/envs/python3/lib/python3.6/site-packages/jupyter_contrib_nbextensions/nbextensions/rubberband/rubberband.yaml -> /home/ec2-user/.local/share/jupyter/nbextensions/rubberband/rubberband.yaml\n",
            "\u001b[32m[I 12:56:37 InstallContribNbextensionsApp]\u001b[m Copying: /home/ec2-user/anaconda3/envs/python3/lib/python3.6/site-packages/jupyter_contrib_nbextensions/nbextensions/rubberband/main.css -> /home/ec2-user/.local/share/jupyter/nbextensions/rubberband/main.css\n",
            "\u001b[32m[I 12:56:37 InstallContribNbextensionsApp]\u001b[m Copying: /home/ec2-user/anaconda3/envs/python3/lib/python3.6/site-packages/jupyter_contrib_nbextensions/nbextensions/rubberband/readme.md -> /home/ec2-user/.local/share/jupyter/nbextensions/rubberband/readme.md\n",
            "\u001b[32m[I 12:56:37 InstallContribNbextensionsApp]\u001b[m Copying: /home/ec2-user/anaconda3/envs/python3/lib/python3.6/site-packages/jupyter_contrib_nbextensions/nbextensions/rubberband/main.js -> /home/ec2-user/.local/share/jupyter/nbextensions/rubberband/main.js\n",
            "\u001b[32m[I 12:56:37 InstallContribNbextensionsApp]\u001b[m Copying: /home/ec2-user/anaconda3/envs/python3/lib/python3.6/site-packages/jupyter_contrib_nbextensions/nbextensions/rubberband/icon.png -> /home/ec2-user/.local/share/jupyter/nbextensions/rubberband/icon.png\n",
            "\u001b[32m[I 12:56:37 InstallContribNbextensionsApp]\u001b[m - Validating: \u001b[32mOK\u001b[0m\n",
            "\u001b[32m[I 12:56:37 InstallContribNbextensionsApp]\u001b[m Installing /home/ec2-user/anaconda3/envs/python3/lib/python3.6/site-packages/jupyter_contrib_nbextensions/nbextensions/move_selected_cells -> move_selected_cells\n",
            "\u001b[32m[I 12:56:37 InstallContribNbextensionsApp]\u001b[m Making directory: /home/ec2-user/.local/share/jupyter/nbextensions/move_selected_cells/\n",
            "\u001b[32m[I 12:56:37 InstallContribNbextensionsApp]\u001b[m Copying: /home/ec2-user/anaconda3/envs/python3/lib/python3.6/site-packages/jupyter_contrib_nbextensions/nbextensions/move_selected_cells/move_selected_cells.yaml -> /home/ec2-user/.local/share/jupyter/nbextensions/move_selected_cells/move_selected_cells.yaml\n",
            "\u001b[32m[I 12:56:37 InstallContribNbextensionsApp]\u001b[m Copying: /home/ec2-user/anaconda3/envs/python3/lib/python3.6/site-packages/jupyter_contrib_nbextensions/nbextensions/move_selected_cells/README.md -> /home/ec2-user/.local/share/jupyter/nbextensions/move_selected_cells/README.md\n",
            "\u001b[32m[I 12:56:37 InstallContribNbextensionsApp]\u001b[m Copying: /home/ec2-user/anaconda3/envs/python3/lib/python3.6/site-packages/jupyter_contrib_nbextensions/nbextensions/move_selected_cells/main.js -> /home/ec2-user/.local/share/jupyter/nbextensions/move_selected_cells/main.js\n",
            "\u001b[32m[I 12:56:37 InstallContribNbextensionsApp]\u001b[m - Validating: \u001b[32mOK\u001b[0m\n",
            "\u001b[32m[I 12:56:37 InstallContribNbextensionsApp]\u001b[m Installing /home/ec2-user/anaconda3/envs/python3/lib/python3.6/site-packages/jupyter_contrib_nbextensions/nbextensions/scratchpad -> scratchpad\n",
            "\u001b[32m[I 12:56:37 InstallContribNbextensionsApp]\u001b[m Making directory: /home/ec2-user/.local/share/jupyter/nbextensions/scratchpad/\n",
            "\u001b[32m[I 12:56:37 InstallContribNbextensionsApp]\u001b[m Copying: /home/ec2-user/anaconda3/envs/python3/lib/python3.6/site-packages/jupyter_contrib_nbextensions/nbextensions/scratchpad/README.md -> /home/ec2-user/.local/share/jupyter/nbextensions/scratchpad/README.md\n",
            "\u001b[32m[I 12:56:37 InstallContribNbextensionsApp]\u001b[m Copying: /home/ec2-user/anaconda3/envs/python3/lib/python3.6/site-packages/jupyter_contrib_nbextensions/nbextensions/scratchpad/LICENSE -> /home/ec2-user/.local/share/jupyter/nbextensions/scratchpad/LICENSE\n",
            "\u001b[32m[I 12:56:37 InstallContribNbextensionsApp]\u001b[m Copying: /home/ec2-user/anaconda3/envs/python3/lib/python3.6/site-packages/jupyter_contrib_nbextensions/nbextensions/scratchpad/demo.gif -> /home/ec2-user/.local/share/jupyter/nbextensions/scratchpad/demo.gif\n",
            "\u001b[32m[I 12:56:37 InstallContribNbextensionsApp]\u001b[m Copying: /home/ec2-user/anaconda3/envs/python3/lib/python3.6/site-packages/jupyter_contrib_nbextensions/nbextensions/scratchpad/scratchpad.css -> /home/ec2-user/.local/share/jupyter/nbextensions/scratchpad/scratchpad.css\n",
            "\u001b[32m[I 12:56:37 InstallContribNbextensionsApp]\u001b[m Copying: /home/ec2-user/anaconda3/envs/python3/lib/python3.6/site-packages/jupyter_contrib_nbextensions/nbextensions/scratchpad/main.js -> /home/ec2-user/.local/share/jupyter/nbextensions/scratchpad/main.js\n",
            "\u001b[32m[I 12:56:37 InstallContribNbextensionsApp]\u001b[m Copying: /home/ec2-user/anaconda3/envs/python3/lib/python3.6/site-packages/jupyter_contrib_nbextensions/nbextensions/scratchpad/scratchpad.yaml -> /home/ec2-user/.local/share/jupyter/nbextensions/scratchpad/scratchpad.yaml\n",
            "\u001b[32m[I 12:56:37 InstallContribNbextensionsApp]\u001b[m - Validating: \u001b[32mOK\u001b[0m\n",
            "\u001b[32m[I 12:56:37 InstallContribNbextensionsApp]\u001b[m Installing /home/ec2-user/anaconda3/envs/python3/lib/python3.6/site-packages/jupyter_contrib_nbextensions/nbextensions/code_font_size -> code_font_size\n",
            "\u001b[32m[I 12:56:37 InstallContribNbextensionsApp]\u001b[m Making directory: /home/ec2-user/.local/share/jupyter/nbextensions/code_font_size/\n",
            "\u001b[32m[I 12:56:37 InstallContribNbextensionsApp]\u001b[m Copying: /home/ec2-user/anaconda3/envs/python3/lib/python3.6/site-packages/jupyter_contrib_nbextensions/nbextensions/code_font_size/code_font_size.js -> /home/ec2-user/.local/share/jupyter/nbextensions/code_font_size/code_font_size.js\n",
            "\u001b[32m[I 12:56:37 InstallContribNbextensionsApp]\u001b[m Copying: /home/ec2-user/anaconda3/envs/python3/lib/python3.6/site-packages/jupyter_contrib_nbextensions/nbextensions/code_font_size/README.md -> /home/ec2-user/.local/share/jupyter/nbextensions/code_font_size/README.md\n",
            "\u001b[32m[I 12:56:37 InstallContribNbextensionsApp]\u001b[m Copying: /home/ec2-user/anaconda3/envs/python3/lib/python3.6/site-packages/jupyter_contrib_nbextensions/nbextensions/code_font_size/code_font_size.yaml -> /home/ec2-user/.local/share/jupyter/nbextensions/code_font_size/code_font_size.yaml\n",
            "\u001b[32m[I 12:56:37 InstallContribNbextensionsApp]\u001b[m - Validating: \u001b[32mOK\u001b[0m\n",
            "\u001b[32m[I 12:56:37 InstallContribNbextensionsApp]\u001b[m Installing /home/ec2-user/anaconda3/envs/python3/lib/python3.6/site-packages/jupyter_contrib_nbextensions/nbextensions/zenmode -> zenmode\n",
            "\u001b[32m[I 12:56:37 InstallContribNbextensionsApp]\u001b[m Making directory: /home/ec2-user/.local/share/jupyter/nbextensions/zenmode/\n",
            "\u001b[32m[I 12:56:37 InstallContribNbextensionsApp]\u001b[m Copying: /home/ec2-user/anaconda3/envs/python3/lib/python3.6/site-packages/jupyter_contrib_nbextensions/nbextensions/zenmode/main.css -> /home/ec2-user/.local/share/jupyter/nbextensions/zenmode/main.css\n",
            "\u001b[32m[I 12:56:37 InstallContribNbextensionsApp]\u001b[m Copying: /home/ec2-user/anaconda3/envs/python3/lib/python3.6/site-packages/jupyter_contrib_nbextensions/nbextensions/zenmode/zenmode.yaml -> /home/ec2-user/.local/share/jupyter/nbextensions/zenmode/zenmode.yaml\n",
            "\u001b[32m[I 12:56:37 InstallContribNbextensionsApp]\u001b[m Copying: /home/ec2-user/anaconda3/envs/python3/lib/python3.6/site-packages/jupyter_contrib_nbextensions/nbextensions/zenmode/README.md -> /home/ec2-user/.local/share/jupyter/nbextensions/zenmode/README.md\n",
            "\u001b[32m[I 12:56:37 InstallContribNbextensionsApp]\u001b[m Copying: /home/ec2-user/anaconda3/envs/python3/lib/python3.6/site-packages/jupyter_contrib_nbextensions/nbextensions/zenmode/main.js -> /home/ec2-user/.local/share/jupyter/nbextensions/zenmode/main.js\n",
            "\u001b[32m[I 12:56:37 InstallContribNbextensionsApp]\u001b[m Making directory: /home/ec2-user/.local/share/jupyter/nbextensions/zenmode/images\n",
            "\u001b[32m[I 12:56:37 InstallContribNbextensionsApp]\u001b[m Copying: /home/ec2-user/anaconda3/envs/python3/lib/python3.6/site-packages/jupyter_contrib_nbextensions/nbextensions/zenmode/images/back3.jpg -> /home/ec2-user/.local/share/jupyter/nbextensions/zenmode/images/back3.jpg\n",
            "\u001b[32m[I 12:56:37 InstallContribNbextensionsApp]\u001b[m Copying: /home/ec2-user/anaconda3/envs/python3/lib/python3.6/site-packages/jupyter_contrib_nbextensions/nbextensions/zenmode/images/back21.jpg -> /home/ec2-user/.local/share/jupyter/nbextensions/zenmode/images/back21.jpg\n",
            "\u001b[32m[I 12:56:37 InstallContribNbextensionsApp]\u001b[m Copying: /home/ec2-user/anaconda3/envs/python3/lib/python3.6/site-packages/jupyter_contrib_nbextensions/nbextensions/zenmode/images/back11.jpg -> /home/ec2-user/.local/share/jupyter/nbextensions/zenmode/images/back11.jpg\n",
            "\u001b[32m[I 12:56:37 InstallContribNbextensionsApp]\u001b[m Copying: /home/ec2-user/anaconda3/envs/python3/lib/python3.6/site-packages/jupyter_contrib_nbextensions/nbextensions/zenmode/images/back12.jpg -> /home/ec2-user/.local/share/jupyter/nbextensions/zenmode/images/back12.jpg\n",
            "\u001b[32m[I 12:56:37 InstallContribNbextensionsApp]\u001b[m Copying: /home/ec2-user/anaconda3/envs/python3/lib/python3.6/site-packages/jupyter_contrib_nbextensions/nbextensions/zenmode/images/ipynblogo1.png -> /home/ec2-user/.local/share/jupyter/nbextensions/zenmode/images/ipynblogo1.png\n",
            "\u001b[32m[I 12:56:37 InstallContribNbextensionsApp]\u001b[m Copying: /home/ec2-user/anaconda3/envs/python3/lib/python3.6/site-packages/jupyter_contrib_nbextensions/nbextensions/zenmode/images/back22.jpg -> /home/ec2-user/.local/share/jupyter/nbextensions/zenmode/images/back22.jpg\n",
            "\u001b[32m[I 12:56:37 InstallContribNbextensionsApp]\u001b[m Copying: /home/ec2-user/anaconda3/envs/python3/lib/python3.6/site-packages/jupyter_contrib_nbextensions/nbextensions/zenmode/images/back1.jpg -> /home/ec2-user/.local/share/jupyter/nbextensions/zenmode/images/back1.jpg\n",
            "\u001b[32m[I 12:56:37 InstallContribNbextensionsApp]\u001b[m Copying: /home/ec2-user/anaconda3/envs/python3/lib/python3.6/site-packages/jupyter_contrib_nbextensions/nbextensions/zenmode/images/back2.jpg -> /home/ec2-user/.local/share/jupyter/nbextensions/zenmode/images/back2.jpg\n",
            "\u001b[32m[I 12:56:37 InstallContribNbextensionsApp]\u001b[m Copying: /home/ec2-user/anaconda3/envs/python3/lib/python3.6/site-packages/jupyter_contrib_nbextensions/nbextensions/zenmode/images/ipynblogo0.png -> /home/ec2-user/.local/share/jupyter/nbextensions/zenmode/images/ipynblogo0.png\n",
            "\u001b[32m[I 12:56:37 InstallContribNbextensionsApp]\u001b[m - Validating: \u001b[32mOK\u001b[0m\n",
            "\u001b[32m[I 12:56:37 InstallContribNbextensionsApp]\u001b[m Installing /home/ec2-user/anaconda3/envs/python3/lib/python3.6/site-packages/jupyter_contrib_nbextensions/nbextensions/hide_header -> hide_header\n",
            "\u001b[32m[I 12:56:37 InstallContribNbextensionsApp]\u001b[m Making directory: /home/ec2-user/.local/share/jupyter/nbextensions/hide_header/\n",
            "\u001b[32m[I 12:56:37 InstallContribNbextensionsApp]\u001b[m Copying: /home/ec2-user/anaconda3/envs/python3/lib/python3.6/site-packages/jupyter_contrib_nbextensions/nbextensions/hide_header/README.md -> /home/ec2-user/.local/share/jupyter/nbextensions/hide_header/README.md\n",
            "\u001b[32m[I 12:56:37 InstallContribNbextensionsApp]\u001b[m Copying: /home/ec2-user/anaconda3/envs/python3/lib/python3.6/site-packages/jupyter_contrib_nbextensions/nbextensions/hide_header/main.js -> /home/ec2-user/.local/share/jupyter/nbextensions/hide_header/main.js\n",
            "\u001b[32m[I 12:56:37 InstallContribNbextensionsApp]\u001b[m Copying: /home/ec2-user/anaconda3/envs/python3/lib/python3.6/site-packages/jupyter_contrib_nbextensions/nbextensions/hide_header/hide_header.yaml -> /home/ec2-user/.local/share/jupyter/nbextensions/hide_header/hide_header.yaml\n",
            "\u001b[32m[I 12:56:37 InstallContribNbextensionsApp]\u001b[m - Validating: \u001b[32mOK\u001b[0m\n",
            "\u001b[32m[I 12:56:37 InstallContribNbextensionsApp]\u001b[m Installing /home/ec2-user/anaconda3/envs/python3/lib/python3.6/site-packages/jupyter_contrib_nbextensions/nbextensions/limit_output -> limit_output\n",
            "\u001b[32m[I 12:56:37 InstallContribNbextensionsApp]\u001b[m Making directory: /home/ec2-user/.local/share/jupyter/nbextensions/limit_output/\n",
            "\u001b[32m[I 12:56:37 InstallContribNbextensionsApp]\u001b[m Copying: /home/ec2-user/anaconda3/envs/python3/lib/python3.6/site-packages/jupyter_contrib_nbextensions/nbextensions/limit_output/limit-output.yaml -> /home/ec2-user/.local/share/jupyter/nbextensions/limit_output/limit-output.yaml\n",
            "\u001b[32m[I 12:56:37 InstallContribNbextensionsApp]\u001b[m Copying: /home/ec2-user/anaconda3/envs/python3/lib/python3.6/site-packages/jupyter_contrib_nbextensions/nbextensions/limit_output/readme.md -> /home/ec2-user/.local/share/jupyter/nbextensions/limit_output/readme.md\n",
            "\u001b[32m[I 12:56:37 InstallContribNbextensionsApp]\u001b[m Copying: /home/ec2-user/anaconda3/envs/python3/lib/python3.6/site-packages/jupyter_contrib_nbextensions/nbextensions/limit_output/main.js -> /home/ec2-user/.local/share/jupyter/nbextensions/limit_output/main.js\n",
            "\u001b[32m[I 12:56:37 InstallContribNbextensionsApp]\u001b[m Copying: /home/ec2-user/anaconda3/envs/python3/lib/python3.6/site-packages/jupyter_contrib_nbextensions/nbextensions/limit_output/icon.png -> /home/ec2-user/.local/share/jupyter/nbextensions/limit_output/icon.png\n",
            "\u001b[32m[I 12:56:37 InstallContribNbextensionsApp]\u001b[m - Validating: \u001b[32mOK\u001b[0m\n",
            "\u001b[32m[I 12:56:37 InstallContribNbextensionsApp]\u001b[m Installing /home/ec2-user/anaconda3/envs/python3/lib/python3.6/site-packages/jupyter_contrib_nbextensions/nbextensions/export_embedded -> export_embedded\n",
            "\u001b[32m[I 12:56:37 InstallContribNbextensionsApp]\u001b[m Making directory: /home/ec2-user/.local/share/jupyter/nbextensions/export_embedded/\n",
            "\u001b[32m[I 12:56:37 InstallContribNbextensionsApp]\u001b[m Copying: /home/ec2-user/anaconda3/envs/python3/lib/python3.6/site-packages/jupyter_contrib_nbextensions/nbextensions/export_embedded/readme.md -> /home/ec2-user/.local/share/jupyter/nbextensions/export_embedded/readme.md\n",
            "\u001b[32m[I 12:56:37 InstallContribNbextensionsApp]\u001b[m Copying: /home/ec2-user/anaconda3/envs/python3/lib/python3.6/site-packages/jupyter_contrib_nbextensions/nbextensions/export_embedded/main.js -> /home/ec2-user/.local/share/jupyter/nbextensions/export_embedded/main.js\n",
            "\u001b[32m[I 12:56:37 InstallContribNbextensionsApp]\u001b[m Copying: /home/ec2-user/anaconda3/envs/python3/lib/python3.6/site-packages/jupyter_contrib_nbextensions/nbextensions/export_embedded/export_embedded.yaml -> /home/ec2-user/.local/share/jupyter/nbextensions/export_embedded/export_embedded.yaml\n",
            "\u001b[32m[I 12:56:37 InstallContribNbextensionsApp]\u001b[m Copying: /home/ec2-user/anaconda3/envs/python3/lib/python3.6/site-packages/jupyter_contrib_nbextensions/nbextensions/export_embedded/icon.png -> /home/ec2-user/.local/share/jupyter/nbextensions/export_embedded/icon.png\n",
            "\u001b[32m[I 12:56:37 InstallContribNbextensionsApp]\u001b[m - Validating: \u001b[32mOK\u001b[0m\n",
            "\u001b[32m[I 12:56:37 InstallContribNbextensionsApp]\u001b[m Installing /home/ec2-user/anaconda3/envs/python3/lib/python3.6/site-packages/jupyter_contrib_nbextensions/nbextensions/init_cell -> init_cell\n",
            "\u001b[32m[I 12:56:37 InstallContribNbextensionsApp]\u001b[m Making directory: /home/ec2-user/.local/share/jupyter/nbextensions/init_cell/\n",
            "\u001b[32m[I 12:56:37 InstallContribNbextensionsApp]\u001b[m Copying: /home/ec2-user/anaconda3/envs/python3/lib/python3.6/site-packages/jupyter_contrib_nbextensions/nbextensions/init_cell/init_cell.yaml -> /home/ec2-user/.local/share/jupyter/nbextensions/init_cell/init_cell.yaml\n",
            "\u001b[32m[I 12:56:37 InstallContribNbextensionsApp]\u001b[m Copying: /home/ec2-user/anaconda3/envs/python3/lib/python3.6/site-packages/jupyter_contrib_nbextensions/nbextensions/init_cell/README.md -> /home/ec2-user/.local/share/jupyter/nbextensions/init_cell/README.md\n",
            "\u001b[32m[I 12:56:37 InstallContribNbextensionsApp]\u001b[m Copying: /home/ec2-user/anaconda3/envs/python3/lib/python3.6/site-packages/jupyter_contrib_nbextensions/nbextensions/init_cell/cell_toolbar_menu.png -> /home/ec2-user/.local/share/jupyter/nbextensions/init_cell/cell_toolbar_menu.png\n",
            "\u001b[32m[I 12:56:37 InstallContribNbextensionsApp]\u001b[m Copying: /home/ec2-user/anaconda3/envs/python3/lib/python3.6/site-packages/jupyter_contrib_nbextensions/nbextensions/init_cell/main.js -> /home/ec2-user/.local/share/jupyter/nbextensions/init_cell/main.js\n",
            "\u001b[32m[I 12:56:37 InstallContribNbextensionsApp]\u001b[m Copying: /home/ec2-user/anaconda3/envs/python3/lib/python3.6/site-packages/jupyter_contrib_nbextensions/nbextensions/init_cell/icon.png -> /home/ec2-user/.local/share/jupyter/nbextensions/init_cell/icon.png\n",
            "\u001b[32m[I 12:56:37 InstallContribNbextensionsApp]\u001b[m - Validating: \u001b[32mOK\u001b[0m\n",
            "\u001b[32m[I 12:56:37 InstallContribNbextensionsApp]\u001b[m Installing /home/ec2-user/anaconda3/envs/python3/lib/python3.6/site-packages/jupyter_contrib_nbextensions/nbextensions/navigation-hotkeys -> navigation-hotkeys\n",
            "\u001b[32m[I 12:56:37 InstallContribNbextensionsApp]\u001b[m Making directory: /home/ec2-user/.local/share/jupyter/nbextensions/navigation-hotkeys/\n",
            "\u001b[32m[I 12:56:37 InstallContribNbextensionsApp]\u001b[m Copying: /home/ec2-user/anaconda3/envs/python3/lib/python3.6/site-packages/jupyter_contrib_nbextensions/nbextensions/navigation-hotkeys/readme.md -> /home/ec2-user/.local/share/jupyter/nbextensions/navigation-hotkeys/readme.md\n",
            "\u001b[32m[I 12:56:37 InstallContribNbextensionsApp]\u001b[m Copying: /home/ec2-user/anaconda3/envs/python3/lib/python3.6/site-packages/jupyter_contrib_nbextensions/nbextensions/navigation-hotkeys/main.js -> /home/ec2-user/.local/share/jupyter/nbextensions/navigation-hotkeys/main.js\n",
            "\u001b[32m[I 12:56:37 InstallContribNbextensionsApp]\u001b[m Copying: /home/ec2-user/anaconda3/envs/python3/lib/python3.6/site-packages/jupyter_contrib_nbextensions/nbextensions/navigation-hotkeys/hotkeys.yaml -> /home/ec2-user/.local/share/jupyter/nbextensions/navigation-hotkeys/hotkeys.yaml\n",
            "\u001b[32m[I 12:56:37 InstallContribNbextensionsApp]\u001b[m Copying: /home/ec2-user/anaconda3/envs/python3/lib/python3.6/site-packages/jupyter_contrib_nbextensions/nbextensions/navigation-hotkeys/icon.png -> /home/ec2-user/.local/share/jupyter/nbextensions/navigation-hotkeys/icon.png\n",
            "\u001b[32m[I 12:56:37 InstallContribNbextensionsApp]\u001b[m - Validating: \u001b[32mOK\u001b[0m\n",
            "\u001b[32m[I 12:56:37 InstallContribNbextensionsApp]\u001b[m Installing /home/ec2-user/anaconda3/envs/python3/lib/python3.6/site-packages/jupyter_contrib_nbextensions/nbextensions/python-markdown -> python-markdown\n",
            "\u001b[32m[I 12:56:37 InstallContribNbextensionsApp]\u001b[m Making directory: /home/ec2-user/.local/share/jupyter/nbextensions/python-markdown/\n",
            "\u001b[32m[I 12:56:37 InstallContribNbextensionsApp]\u001b[m Copying: /home/ec2-user/anaconda3/envs/python3/lib/python3.6/site-packages/jupyter_contrib_nbextensions/nbextensions/python-markdown/untrusted.png -> /home/ec2-user/.local/share/jupyter/nbextensions/python-markdown/untrusted.png\n",
            "\u001b[32m[I 12:56:37 InstallContribNbextensionsApp]\u001b[m Copying: /home/ec2-user/anaconda3/envs/python3/lib/python3.6/site-packages/jupyter_contrib_nbextensions/nbextensions/python-markdown/python-markdown-pre.png -> /home/ec2-user/.local/share/jupyter/nbextensions/python-markdown/python-markdown-pre.png\n",
            "\u001b[32m[I 12:56:37 InstallContribNbextensionsApp]\u001b[m Copying: /home/ec2-user/anaconda3/envs/python3/lib/python3.6/site-packages/jupyter_contrib_nbextensions/nbextensions/python-markdown/main.css -> /home/ec2-user/.local/share/jupyter/nbextensions/python-markdown/main.css\n",
            "\u001b[32m[I 12:56:37 InstallContribNbextensionsApp]\u001b[m Copying: /home/ec2-user/anaconda3/envs/python3/lib/python3.6/site-packages/jupyter_contrib_nbextensions/nbextensions/python-markdown/python-markdown.png -> /home/ec2-user/.local/share/jupyter/nbextensions/python-markdown/python-markdown.png\n",
            "\u001b[32m[I 12:56:37 InstallContribNbextensionsApp]\u001b[m Copying: /home/ec2-user/anaconda3/envs/python3/lib/python3.6/site-packages/jupyter_contrib_nbextensions/nbextensions/python-markdown/readme.md -> /home/ec2-user/.local/share/jupyter/nbextensions/python-markdown/readme.md\n",
            "\u001b[32m[I 12:56:37 InstallContribNbextensionsApp]\u001b[m Copying: /home/ec2-user/anaconda3/envs/python3/lib/python3.6/site-packages/jupyter_contrib_nbextensions/nbextensions/python-markdown/main.js -> /home/ec2-user/.local/share/jupyter/nbextensions/python-markdown/main.js\n",
            "\u001b[32m[I 12:56:37 InstallContribNbextensionsApp]\u001b[m Copying: /home/ec2-user/anaconda3/envs/python3/lib/python3.6/site-packages/jupyter_contrib_nbextensions/nbextensions/python-markdown/python-markdown.yaml -> /home/ec2-user/.local/share/jupyter/nbextensions/python-markdown/python-markdown.yaml\n",
            "\u001b[32m[I 12:56:37 InstallContribNbextensionsApp]\u001b[m Copying: /home/ec2-user/anaconda3/envs/python3/lib/python3.6/site-packages/jupyter_contrib_nbextensions/nbextensions/python-markdown/trusted.png -> /home/ec2-user/.local/share/jupyter/nbextensions/python-markdown/trusted.png\n",
            "\u001b[32m[I 12:56:37 InstallContribNbextensionsApp]\u001b[m Copying: /home/ec2-user/anaconda3/envs/python3/lib/python3.6/site-packages/jupyter_contrib_nbextensions/nbextensions/python-markdown/python-markdown-post.png -> /home/ec2-user/.local/share/jupyter/nbextensions/python-markdown/python-markdown-post.png\n",
            "\u001b[32m[I 12:56:37 InstallContribNbextensionsApp]\u001b[m - Validating: \u001b[32mOK\u001b[0m\n",
            "\u001b[32m[I 12:56:37 InstallContribNbextensionsApp]\u001b[m Installing /home/ec2-user/anaconda3/envs/python3/lib/python3.6/site-packages/jupyter_contrib_nbextensions/nbextensions/execution_dependencies -> execution_dependencies\n",
            "\u001b[32m[I 12:56:37 InstallContribNbextensionsApp]\u001b[m Making directory: /home/ec2-user/.local/share/jupyter/nbextensions/execution_dependencies/\n",
            "\u001b[32m[I 12:56:37 InstallContribNbextensionsApp]\u001b[m Copying: /home/ec2-user/anaconda3/envs/python3/lib/python3.6/site-packages/jupyter_contrib_nbextensions/nbextensions/execution_dependencies/execution_dependencies.js -> /home/ec2-user/.local/share/jupyter/nbextensions/execution_dependencies/execution_dependencies.js\n",
            "\u001b[32m[I 12:56:37 InstallContribNbextensionsApp]\u001b[m Copying: /home/ec2-user/anaconda3/envs/python3/lib/python3.6/site-packages/jupyter_contrib_nbextensions/nbextensions/execution_dependencies/execution_dependencies.yml -> /home/ec2-user/.local/share/jupyter/nbextensions/execution_dependencies/execution_dependencies.yml\n",
            "\u001b[32m[I 12:56:37 InstallContribNbextensionsApp]\u001b[m Copying: /home/ec2-user/anaconda3/envs/python3/lib/python3.6/site-packages/jupyter_contrib_nbextensions/nbextensions/execution_dependencies/README.md -> /home/ec2-user/.local/share/jupyter/nbextensions/execution_dependencies/README.md\n",
            "\u001b[32m[I 12:56:37 InstallContribNbextensionsApp]\u001b[m - Validating: \u001b[32mOK\u001b[0m\n",
            "\u001b[32m[I 12:56:37 InstallContribNbextensionsApp]\u001b[m Installing /home/ec2-user/anaconda3/envs/python3/lib/python3.6/site-packages/jupyter_contrib_nbextensions/nbextensions/collapsible_headings -> collapsible_headings\n",
            "\u001b[32m[I 12:56:37 InstallContribNbextensionsApp]\u001b[m Making directory: /home/ec2-user/.local/share/jupyter/nbextensions/collapsible_headings/\n",
            "\u001b[32m[I 12:56:37 InstallContribNbextensionsApp]\u001b[m Copying: /home/ec2-user/anaconda3/envs/python3/lib/python3.6/site-packages/jupyter_contrib_nbextensions/nbextensions/collapsible_headings/main.css -> /home/ec2-user/.local/share/jupyter/nbextensions/collapsible_headings/main.css\n",
            "\u001b[32m[I 12:56:37 InstallContribNbextensionsApp]\u001b[m Copying: /home/ec2-user/anaconda3/envs/python3/lib/python3.6/site-packages/jupyter_contrib_nbextensions/nbextensions/collapsible_headings/collapsible_headings.yaml -> /home/ec2-user/.local/share/jupyter/nbextensions/collapsible_headings/collapsible_headings.yaml\n",
            "\u001b[32m[I 12:56:37 InstallContribNbextensionsApp]\u001b[m Copying: /home/ec2-user/anaconda3/envs/python3/lib/python3.6/site-packages/jupyter_contrib_nbextensions/nbextensions/collapsible_headings/readme.md -> /home/ec2-user/.local/share/jupyter/nbextensions/collapsible_headings/readme.md\n",
            "\u001b[32m[I 12:56:37 InstallContribNbextensionsApp]\u001b[m Copying: /home/ec2-user/anaconda3/envs/python3/lib/python3.6/site-packages/jupyter_contrib_nbextensions/nbextensions/collapsible_headings/main.js -> /home/ec2-user/.local/share/jupyter/nbextensions/collapsible_headings/main.js\n",
            "\u001b[32m[I 12:56:37 InstallContribNbextensionsApp]\u001b[m Copying: /home/ec2-user/anaconda3/envs/python3/lib/python3.6/site-packages/jupyter_contrib_nbextensions/nbextensions/collapsible_headings/screenshot.png -> /home/ec2-user/.local/share/jupyter/nbextensions/collapsible_headings/screenshot.png\n",
            "\u001b[32m[I 12:56:37 InstallContribNbextensionsApp]\u001b[m Copying: /home/ec2-user/anaconda3/envs/python3/lib/python3.6/site-packages/jupyter_contrib_nbextensions/nbextensions/collapsible_headings/icon.png -> /home/ec2-user/.local/share/jupyter/nbextensions/collapsible_headings/icon.png\n",
            "\u001b[32m[I 12:56:37 InstallContribNbextensionsApp]\u001b[m - Validating: \u001b[32mOK\u001b[0m\n",
            "\u001b[32m[I 12:56:37 InstallContribNbextensionsApp]\u001b[m Installing /home/ec2-user/anaconda3/envs/python3/lib/python3.6/site-packages/jupyter_contrib_nbextensions/nbextensions/code_prettify -> code_prettify\n",
            "\u001b[32m[I 12:56:37 InstallContribNbextensionsApp]\u001b[m Making directory: /home/ec2-user/.local/share/jupyter/nbextensions/code_prettify/\n",
            "\u001b[32m[I 12:56:37 InstallContribNbextensionsApp]\u001b[m Copying: /home/ec2-user/anaconda3/envs/python3/lib/python3.6/site-packages/jupyter_contrib_nbextensions/nbextensions/code_prettify/README_autopep8.md -> /home/ec2-user/.local/share/jupyter/nbextensions/code_prettify/README_autopep8.md\n",
            "\u001b[32m[I 12:56:37 InstallContribNbextensionsApp]\u001b[m Copying: /home/ec2-user/anaconda3/envs/python3/lib/python3.6/site-packages/jupyter_contrib_nbextensions/nbextensions/code_prettify/code_prettify.js -> /home/ec2-user/.local/share/jupyter/nbextensions/code_prettify/code_prettify.js\n",
            "\u001b[32m[I 12:56:37 InstallContribNbextensionsApp]\u001b[m Copying: /home/ec2-user/anaconda3/envs/python3/lib/python3.6/site-packages/jupyter_contrib_nbextensions/nbextensions/code_prettify/isort.js -> /home/ec2-user/.local/share/jupyter/nbextensions/code_prettify/isort.js\n",
            "\u001b[32m[I 12:56:37 InstallContribNbextensionsApp]\u001b[m Copying: /home/ec2-user/anaconda3/envs/python3/lib/python3.6/site-packages/jupyter_contrib_nbextensions/nbextensions/code_prettify/autopep8.yaml -> /home/ec2-user/.local/share/jupyter/nbextensions/code_prettify/autopep8.yaml\n",
            "\u001b[32m[I 12:56:37 InstallContribNbextensionsApp]\u001b[m Copying: /home/ec2-user/anaconda3/envs/python3/lib/python3.6/site-packages/jupyter_contrib_nbextensions/nbextensions/code_prettify/autopep8.js -> /home/ec2-user/.local/share/jupyter/nbextensions/code_prettify/autopep8.js\n",
            "\u001b[32m[I 12:56:37 InstallContribNbextensionsApp]\u001b[m Copying: /home/ec2-user/anaconda3/envs/python3/lib/python3.6/site-packages/jupyter_contrib_nbextensions/nbextensions/code_prettify/isort.yaml -> /home/ec2-user/.local/share/jupyter/nbextensions/code_prettify/isort.yaml\n",
            "\u001b[32m[I 12:56:37 InstallContribNbextensionsApp]\u001b[m Copying: /home/ec2-user/anaconda3/envs/python3/lib/python3.6/site-packages/jupyter_contrib_nbextensions/nbextensions/code_prettify/README_2to3.md -> /home/ec2-user/.local/share/jupyter/nbextensions/code_prettify/README_2to3.md\n",
            "\u001b[32m[I 12:56:37 InstallContribNbextensionsApp]\u001b[m Copying: /home/ec2-user/anaconda3/envs/python3/lib/python3.6/site-packages/jupyter_contrib_nbextensions/nbextensions/code_prettify/README_isort.md -> /home/ec2-user/.local/share/jupyter/nbextensions/code_prettify/README_isort.md\n",
            "\u001b[32m[I 12:56:37 InstallContribNbextensionsApp]\u001b[m Copying: /home/ec2-user/anaconda3/envs/python3/lib/python3.6/site-packages/jupyter_contrib_nbextensions/nbextensions/code_prettify/2to3.yaml -> /home/ec2-user/.local/share/jupyter/nbextensions/code_prettify/2to3.yaml\n",
            "\u001b[32m[I 12:56:37 InstallContribNbextensionsApp]\u001b[m Copying: /home/ec2-user/anaconda3/envs/python3/lib/python3.6/site-packages/jupyter_contrib_nbextensions/nbextensions/code_prettify/demo-jv.gif -> /home/ec2-user/.local/share/jupyter/nbextensions/code_prettify/demo-jv.gif\n",
            "\u001b[32m[I 12:56:37 InstallContribNbextensionsApp]\u001b[m Copying: /home/ec2-user/anaconda3/envs/python3/lib/python3.6/site-packages/jupyter_contrib_nbextensions/nbextensions/code_prettify/README.md -> /home/ec2-user/.local/share/jupyter/nbextensions/code_prettify/README.md\n",
            "\u001b[32m[I 12:56:37 InstallContribNbextensionsApp]\u001b[m Copying: /home/ec2-user/anaconda3/envs/python3/lib/python3.6/site-packages/jupyter_contrib_nbextensions/nbextensions/code_prettify/code_prettify.yaml -> /home/ec2-user/.local/share/jupyter/nbextensions/code_prettify/code_prettify.yaml\n",
            "\u001b[32m[I 12:56:37 InstallContribNbextensionsApp]\u001b[m Copying: /home/ec2-user/anaconda3/envs/python3/lib/python3.6/site-packages/jupyter_contrib_nbextensions/nbextensions/code_prettify/demo-py.gif -> /home/ec2-user/.local/share/jupyter/nbextensions/code_prettify/demo-py.gif\n",
            "\u001b[32m[I 12:56:37 InstallContribNbextensionsApp]\u001b[m Copying: /home/ec2-user/anaconda3/envs/python3/lib/python3.6/site-packages/jupyter_contrib_nbextensions/nbextensions/code_prettify/README_code_prettify.md -> /home/ec2-user/.local/share/jupyter/nbextensions/code_prettify/README_code_prettify.md\n",
            "\u001b[32m[I 12:56:37 InstallContribNbextensionsApp]\u001b[m Copying: /home/ec2-user/anaconda3/envs/python3/lib/python3.6/site-packages/jupyter_contrib_nbextensions/nbextensions/code_prettify/demo_2to3.gif -> /home/ec2-user/.local/share/jupyter/nbextensions/code_prettify/demo_2to3.gif\n",
            "\u001b[32m[I 12:56:37 InstallContribNbextensionsApp]\u001b[m Copying: /home/ec2-user/anaconda3/envs/python3/lib/python3.6/site-packages/jupyter_contrib_nbextensions/nbextensions/code_prettify/kernel_exec_on_cell.js -> /home/ec2-user/.local/share/jupyter/nbextensions/code_prettify/kernel_exec_on_cell.js\n",
            "\u001b[32m[I 12:56:37 InstallContribNbextensionsApp]\u001b[m Copying: /home/ec2-user/anaconda3/envs/python3/lib/python3.6/site-packages/jupyter_contrib_nbextensions/nbextensions/code_prettify/2to3.js -> /home/ec2-user/.local/share/jupyter/nbextensions/code_prettify/2to3.js\n",
            "\u001b[32m[I 12:56:37 InstallContribNbextensionsApp]\u001b[m Copying: /home/ec2-user/anaconda3/envs/python3/lib/python3.6/site-packages/jupyter_contrib_nbextensions/nbextensions/code_prettify/demo-R.gif -> /home/ec2-user/.local/share/jupyter/nbextensions/code_prettify/demo-R.gif\n",
            "\u001b[32m[I 12:56:37 InstallContribNbextensionsApp]\u001b[m - Validating: \u001b[32mOK\u001b[0m\n",
            "\u001b[32m[I 12:56:37 InstallContribNbextensionsApp]\u001b[m Installing /home/ec2-user/anaconda3/envs/python3/lib/python3.6/site-packages/jupyter_contrib_nbextensions/nbextensions/code_prettify -> code_prettify\n",
            "\u001b[32m[I 12:56:37 InstallContribNbextensionsApp]\u001b[m Up to date: /home/ec2-user/.local/share/jupyter/nbextensions/code_prettify/README_autopep8.md\n",
            "\u001b[32m[I 12:56:37 InstallContribNbextensionsApp]\u001b[m Up to date: /home/ec2-user/.local/share/jupyter/nbextensions/code_prettify/code_prettify.js\n",
            "\u001b[32m[I 12:56:37 InstallContribNbextensionsApp]\u001b[m Up to date: /home/ec2-user/.local/share/jupyter/nbextensions/code_prettify/isort.js\n",
            "\u001b[32m[I 12:56:37 InstallContribNbextensionsApp]\u001b[m Up to date: /home/ec2-user/.local/share/jupyter/nbextensions/code_prettify/autopep8.yaml\n",
            "\u001b[32m[I 12:56:37 InstallContribNbextensionsApp]\u001b[m Up to date: /home/ec2-user/.local/share/jupyter/nbextensions/code_prettify/autopep8.js\n",
            "\u001b[32m[I 12:56:37 InstallContribNbextensionsApp]\u001b[m Up to date: /home/ec2-user/.local/share/jupyter/nbextensions/code_prettify/isort.yaml\n",
            "\u001b[32m[I 12:56:37 InstallContribNbextensionsApp]\u001b[m Up to date: /home/ec2-user/.local/share/jupyter/nbextensions/code_prettify/README_2to3.md\n",
            "\u001b[32m[I 12:56:37 InstallContribNbextensionsApp]\u001b[m Up to date: /home/ec2-user/.local/share/jupyter/nbextensions/code_prettify/README_isort.md\n",
            "\u001b[32m[I 12:56:37 InstallContribNbextensionsApp]\u001b[m Up to date: /home/ec2-user/.local/share/jupyter/nbextensions/code_prettify/2to3.yaml\n",
            "\u001b[32m[I 12:56:37 InstallContribNbextensionsApp]\u001b[m Up to date: /home/ec2-user/.local/share/jupyter/nbextensions/code_prettify/demo-jv.gif\n",
            "\u001b[32m[I 12:56:37 InstallContribNbextensionsApp]\u001b[m Up to date: /home/ec2-user/.local/share/jupyter/nbextensions/code_prettify/README.md\n",
            "\u001b[32m[I 12:56:37 InstallContribNbextensionsApp]\u001b[m Up to date: /home/ec2-user/.local/share/jupyter/nbextensions/code_prettify/code_prettify.yaml\n",
            "\u001b[32m[I 12:56:37 InstallContribNbextensionsApp]\u001b[m Up to date: /home/ec2-user/.local/share/jupyter/nbextensions/code_prettify/demo-py.gif\n",
            "\u001b[32m[I 12:56:37 InstallContribNbextensionsApp]\u001b[m Up to date: /home/ec2-user/.local/share/jupyter/nbextensions/code_prettify/README_code_prettify.md\n",
            "\u001b[32m[I 12:56:37 InstallContribNbextensionsApp]\u001b[m Up to date: /home/ec2-user/.local/share/jupyter/nbextensions/code_prettify/demo_2to3.gif\n",
            "\u001b[32m[I 12:56:37 InstallContribNbextensionsApp]\u001b[m Up to date: /home/ec2-user/.local/share/jupyter/nbextensions/code_prettify/kernel_exec_on_cell.js\n",
            "\u001b[32m[I 12:56:37 InstallContribNbextensionsApp]\u001b[m Up to date: /home/ec2-user/.local/share/jupyter/nbextensions/code_prettify/2to3.js\n",
            "\u001b[32m[I 12:56:37 InstallContribNbextensionsApp]\u001b[m Up to date: /home/ec2-user/.local/share/jupyter/nbextensions/code_prettify/demo-R.gif\n",
            "\u001b[32m[I 12:56:37 InstallContribNbextensionsApp]\u001b[m - Validating: \u001b[32mOK\u001b[0m\n",
            "\u001b[32m[I 12:56:37 InstallContribNbextensionsApp]\u001b[m Installing /home/ec2-user/anaconda3/envs/python3/lib/python3.6/site-packages/jupyter_contrib_nbextensions/nbextensions/code_prettify -> code_prettify\n",
            "\u001b[32m[I 12:56:37 InstallContribNbextensionsApp]\u001b[m Up to date: /home/ec2-user/.local/share/jupyter/nbextensions/code_prettify/README_autopep8.md\n",
            "\u001b[32m[I 12:56:37 InstallContribNbextensionsApp]\u001b[m Up to date: /home/ec2-user/.local/share/jupyter/nbextensions/code_prettify/code_prettify.js\n",
            "\u001b[32m[I 12:56:37 InstallContribNbextensionsApp]\u001b[m Up to date: /home/ec2-user/.local/share/jupyter/nbextensions/code_prettify/isort.js\n",
            "\u001b[32m[I 12:56:37 InstallContribNbextensionsApp]\u001b[m Up to date: /home/ec2-user/.local/share/jupyter/nbextensions/code_prettify/autopep8.yaml\n",
            "\u001b[32m[I 12:56:37 InstallContribNbextensionsApp]\u001b[m Up to date: /home/ec2-user/.local/share/jupyter/nbextensions/code_prettify/autopep8.js\n",
            "\u001b[32m[I 12:56:37 InstallContribNbextensionsApp]\u001b[m Up to date: /home/ec2-user/.local/share/jupyter/nbextensions/code_prettify/isort.yaml\n",
            "\u001b[32m[I 12:56:37 InstallContribNbextensionsApp]\u001b[m Up to date: /home/ec2-user/.local/share/jupyter/nbextensions/code_prettify/README_2to3.md\n",
            "\u001b[32m[I 12:56:37 InstallContribNbextensionsApp]\u001b[m Up to date: /home/ec2-user/.local/share/jupyter/nbextensions/code_prettify/README_isort.md\n",
            "\u001b[32m[I 12:56:37 InstallContribNbextensionsApp]\u001b[m Up to date: /home/ec2-user/.local/share/jupyter/nbextensions/code_prettify/2to3.yaml\n",
            "\u001b[32m[I 12:56:37 InstallContribNbextensionsApp]\u001b[m Up to date: /home/ec2-user/.local/share/jupyter/nbextensions/code_prettify/demo-jv.gif\n",
            "\u001b[32m[I 12:56:37 InstallContribNbextensionsApp]\u001b[m Up to date: /home/ec2-user/.local/share/jupyter/nbextensions/code_prettify/README.md\n",
            "\u001b[32m[I 12:56:37 InstallContribNbextensionsApp]\u001b[m Up to date: /home/ec2-user/.local/share/jupyter/nbextensions/code_prettify/code_prettify.yaml\n",
            "\u001b[32m[I 12:56:37 InstallContribNbextensionsApp]\u001b[m Up to date: /home/ec2-user/.local/share/jupyter/nbextensions/code_prettify/demo-py.gif\n",
            "\u001b[32m[I 12:56:37 InstallContribNbextensionsApp]\u001b[m Up to date: /home/ec2-user/.local/share/jupyter/nbextensions/code_prettify/README_code_prettify.md\n",
            "\u001b[32m[I 12:56:37 InstallContribNbextensionsApp]\u001b[m Up to date: /home/ec2-user/.local/share/jupyter/nbextensions/code_prettify/demo_2to3.gif\n",
            "\u001b[32m[I 12:56:37 InstallContribNbextensionsApp]\u001b[m Up to date: /home/ec2-user/.local/share/jupyter/nbextensions/code_prettify/kernel_exec_on_cell.js\n",
            "\u001b[32m[I 12:56:37 InstallContribNbextensionsApp]\u001b[m Up to date: /home/ec2-user/.local/share/jupyter/nbextensions/code_prettify/2to3.js\n",
            "\u001b[32m[I 12:56:37 InstallContribNbextensionsApp]\u001b[m Up to date: /home/ec2-user/.local/share/jupyter/nbextensions/code_prettify/demo-R.gif\n",
            "\u001b[32m[I 12:56:37 InstallContribNbextensionsApp]\u001b[m - Validating: \u001b[32mOK\u001b[0m\n",
            "\u001b[32m[I 12:56:37 InstallContribNbextensionsApp]\u001b[m Installing /home/ec2-user/anaconda3/envs/python3/lib/python3.6/site-packages/jupyter_contrib_nbextensions/nbextensions/code_prettify -> code_prettify\n",
            "\u001b[32m[I 12:56:37 InstallContribNbextensionsApp]\u001b[m Up to date: /home/ec2-user/.local/share/jupyter/nbextensions/code_prettify/README_autopep8.md\n",
            "\u001b[32m[I 12:56:37 InstallContribNbextensionsApp]\u001b[m Up to date: /home/ec2-user/.local/share/jupyter/nbextensions/code_prettify/code_prettify.js\n",
            "\u001b[32m[I 12:56:37 InstallContribNbextensionsApp]\u001b[m Up to date: /home/ec2-user/.local/share/jupyter/nbextensions/code_prettify/isort.js\n",
            "\u001b[32m[I 12:56:37 InstallContribNbextensionsApp]\u001b[m Up to date: /home/ec2-user/.local/share/jupyter/nbextensions/code_prettify/autopep8.yaml\n",
            "\u001b[32m[I 12:56:37 InstallContribNbextensionsApp]\u001b[m Up to date: /home/ec2-user/.local/share/jupyter/nbextensions/code_prettify/autopep8.js\n",
            "\u001b[32m[I 12:56:37 InstallContribNbextensionsApp]\u001b[m Up to date: /home/ec2-user/.local/share/jupyter/nbextensions/code_prettify/isort.yaml\n",
            "\u001b[32m[I 12:56:37 InstallContribNbextensionsApp]\u001b[m Up to date: /home/ec2-user/.local/share/jupyter/nbextensions/code_prettify/README_2to3.md\n",
            "\u001b[32m[I 12:56:37 InstallContribNbextensionsApp]\u001b[m Up to date: /home/ec2-user/.local/share/jupyter/nbextensions/code_prettify/README_isort.md\n",
            "\u001b[32m[I 12:56:37 InstallContribNbextensionsApp]\u001b[m Up to date: /home/ec2-user/.local/share/jupyter/nbextensions/code_prettify/2to3.yaml\n",
            "\u001b[32m[I 12:56:37 InstallContribNbextensionsApp]\u001b[m Up to date: /home/ec2-user/.local/share/jupyter/nbextensions/code_prettify/demo-jv.gif\n",
            "\u001b[32m[I 12:56:37 InstallContribNbextensionsApp]\u001b[m Up to date: /home/ec2-user/.local/share/jupyter/nbextensions/code_prettify/README.md\n",
            "\u001b[32m[I 12:56:37 InstallContribNbextensionsApp]\u001b[m Up to date: /home/ec2-user/.local/share/jupyter/nbextensions/code_prettify/code_prettify.yaml\n",
            "\u001b[32m[I 12:56:37 InstallContribNbextensionsApp]\u001b[m Up to date: /home/ec2-user/.local/share/jupyter/nbextensions/code_prettify/demo-py.gif\n",
            "\u001b[32m[I 12:56:37 InstallContribNbextensionsApp]\u001b[m Up to date: /home/ec2-user/.local/share/jupyter/nbextensions/code_prettify/README_code_prettify.md\n",
            "\u001b[32m[I 12:56:37 InstallContribNbextensionsApp]\u001b[m Up to date: /home/ec2-user/.local/share/jupyter/nbextensions/code_prettify/demo_2to3.gif\n",
            "\u001b[32m[I 12:56:37 InstallContribNbextensionsApp]\u001b[m Up to date: /home/ec2-user/.local/share/jupyter/nbextensions/code_prettify/kernel_exec_on_cell.js\n",
            "\u001b[32m[I 12:56:37 InstallContribNbextensionsApp]\u001b[m Up to date: /home/ec2-user/.local/share/jupyter/nbextensions/code_prettify/2to3.js\n",
            "\u001b[32m[I 12:56:37 InstallContribNbextensionsApp]\u001b[m Up to date: /home/ec2-user/.local/share/jupyter/nbextensions/code_prettify/demo-R.gif\n",
            "\u001b[32m[I 12:56:37 InstallContribNbextensionsApp]\u001b[m - Validating: \u001b[32mOK\u001b[0m\n",
            "\u001b[32m[I 12:56:37 InstallContribNbextensionsApp]\u001b[m Installing /home/ec2-user/anaconda3/envs/python3/lib/python3.6/site-packages/jupyter_contrib_nbextensions/nbextensions/comment-uncomment -> comment-uncomment\n",
            "\u001b[32m[I 12:56:37 InstallContribNbextensionsApp]\u001b[m Making directory: /home/ec2-user/.local/share/jupyter/nbextensions/comment-uncomment/\n",
            "\u001b[32m[I 12:56:37 InstallContribNbextensionsApp]\u001b[m Copying: /home/ec2-user/anaconda3/envs/python3/lib/python3.6/site-packages/jupyter_contrib_nbextensions/nbextensions/comment-uncomment/comment-uncomment.yaml -> /home/ec2-user/.local/share/jupyter/nbextensions/comment-uncomment/comment-uncomment.yaml\n",
            "\u001b[32m[I 12:56:37 InstallContribNbextensionsApp]\u001b[m Copying: /home/ec2-user/anaconda3/envs/python3/lib/python3.6/site-packages/jupyter_contrib_nbextensions/nbextensions/comment-uncomment/readme.md -> /home/ec2-user/.local/share/jupyter/nbextensions/comment-uncomment/readme.md\n",
            "\u001b[32m[I 12:56:37 InstallContribNbextensionsApp]\u001b[m Copying: /home/ec2-user/anaconda3/envs/python3/lib/python3.6/site-packages/jupyter_contrib_nbextensions/nbextensions/comment-uncomment/main.js -> /home/ec2-user/.local/share/jupyter/nbextensions/comment-uncomment/main.js\n",
            "\u001b[32m[I 12:56:37 InstallContribNbextensionsApp]\u001b[m Copying: /home/ec2-user/anaconda3/envs/python3/lib/python3.6/site-packages/jupyter_contrib_nbextensions/nbextensions/comment-uncomment/icon.png -> /home/ec2-user/.local/share/jupyter/nbextensions/comment-uncomment/icon.png\n",
            "\u001b[32m[I 12:56:37 InstallContribNbextensionsApp]\u001b[m - Validating: \u001b[32mOK\u001b[0m\n",
            "\u001b[32m[I 12:56:37 InstallContribNbextensionsApp]\u001b[m Installing /home/ec2-user/anaconda3/envs/python3/lib/python3.6/site-packages/jupyter_contrib_nbextensions/nbextensions/autoscroll -> autoscroll\n",
            "\u001b[32m[I 12:56:37 InstallContribNbextensionsApp]\u001b[m Making directory: /home/ec2-user/.local/share/jupyter/nbextensions/autoscroll/\n",
            "\u001b[32m[I 12:56:37 InstallContribNbextensionsApp]\u001b[m Copying: /home/ec2-user/anaconda3/envs/python3/lib/python3.6/site-packages/jupyter_contrib_nbextensions/nbextensions/autoscroll/autoscroll.yaml -> /home/ec2-user/.local/share/jupyter/nbextensions/autoscroll/autoscroll.yaml\n",
            "\u001b[32m[I 12:56:37 InstallContribNbextensionsApp]\u001b[m Copying: /home/ec2-user/anaconda3/envs/python3/lib/python3.6/site-packages/jupyter_contrib_nbextensions/nbextensions/autoscroll/README.md -> /home/ec2-user/.local/share/jupyter/nbextensions/autoscroll/README.md\n",
            "\u001b[32m[I 12:56:37 InstallContribNbextensionsApp]\u001b[m Copying: /home/ec2-user/anaconda3/envs/python3/lib/python3.6/site-packages/jupyter_contrib_nbextensions/nbextensions/autoscroll/main.js -> /home/ec2-user/.local/share/jupyter/nbextensions/autoscroll/main.js\n"
          ],
          "name": "stdout"
        },
        {
          "output_type": "stream",
          "text": [
            "\u001b[32m[I 12:56:37 InstallContribNbextensionsApp]\u001b[m Copying: /home/ec2-user/anaconda3/envs/python3/lib/python3.6/site-packages/jupyter_contrib_nbextensions/nbextensions/autoscroll/icon.png -> /home/ec2-user/.local/share/jupyter/nbextensions/autoscroll/icon.png\r\n",
            "\u001b[32m[I 12:56:37 InstallContribNbextensionsApp]\u001b[m - Validating: \u001b[32mOK\u001b[0m\r\n",
            "\u001b[32m[I 12:56:37 InstallContribNbextensionsApp]\u001b[m Installing /home/ec2-user/anaconda3/envs/python3/lib/python3.6/site-packages/jupyter_contrib_nbextensions/nbextensions/execute_time -> execute_time\r\n",
            "\u001b[32m[I 12:56:37 InstallContribNbextensionsApp]\u001b[m Making directory: /home/ec2-user/.local/share/jupyter/nbextensions/execute_time/\r\n",
            "\u001b[32m[I 12:56:37 InstallContribNbextensionsApp]\u001b[m Copying: /home/ec2-user/anaconda3/envs/python3/lib/python3.6/site-packages/jupyter_contrib_nbextensions/nbextensions/execute_time/execution-timings-box.png -> /home/ec2-user/.local/share/jupyter/nbextensions/execute_time/execution-timings-box.png\r\n",
            "\u001b[32m[I 12:56:37 InstallContribNbextensionsApp]\u001b[m Copying: /home/ec2-user/anaconda3/envs/python3/lib/python3.6/site-packages/jupyter_contrib_nbextensions/nbextensions/execute_time/ExecuteTime.js -> /home/ec2-user/.local/share/jupyter/nbextensions/execute_time/ExecuteTime.js\r\n",
            "\u001b[32m[I 12:56:37 InstallContribNbextensionsApp]\u001b[m Copying: /home/ec2-user/anaconda3/envs/python3/lib/python3.6/site-packages/jupyter_contrib_nbextensions/nbextensions/execute_time/execution-timings-menu.png -> /home/ec2-user/.local/share/jupyter/nbextensions/execute_time/execution-timings-menu.png\r\n",
            "\u001b[32m[I 12:56:37 InstallContribNbextensionsApp]\u001b[m Copying: /home/ec2-user/anaconda3/envs/python3/lib/python3.6/site-packages/jupyter_contrib_nbextensions/nbextensions/execute_time/readme.md -> /home/ec2-user/.local/share/jupyter/nbextensions/execute_time/readme.md\r\n",
            "\u001b[32m[I 12:56:37 InstallContribNbextensionsApp]\u001b[m Copying: /home/ec2-user/anaconda3/envs/python3/lib/python3.6/site-packages/jupyter_contrib_nbextensions/nbextensions/execute_time/ExecuteTime.css -> /home/ec2-user/.local/share/jupyter/nbextensions/execute_time/ExecuteTime.css\r\n",
            "\u001b[32m[I 12:56:37 InstallContribNbextensionsApp]\u001b[m Copying: /home/ec2-user/anaconda3/envs/python3/lib/python3.6/site-packages/jupyter_contrib_nbextensions/nbextensions/execute_time/ExecuteTime.yaml -> /home/ec2-user/.local/share/jupyter/nbextensions/execute_time/ExecuteTime.yaml\r\n",
            "\u001b[32m[I 12:56:37 InstallContribNbextensionsApp]\u001b[m Copying: /home/ec2-user/anaconda3/envs/python3/lib/python3.6/site-packages/jupyter_contrib_nbextensions/nbextensions/execute_time/icon.png -> /home/ec2-user/.local/share/jupyter/nbextensions/execute_time/icon.png\r\n",
            "\u001b[32m[I 12:56:37 InstallContribNbextensionsApp]\u001b[m - Validating: \u001b[32mOK\u001b[0m\r\n",
            "\u001b[32m[I 12:56:37 InstallContribNbextensionsApp]\u001b[m Installing /home/ec2-user/anaconda3/envs/python3/lib/python3.6/site-packages/jupyter_contrib_nbextensions/nbextensions/nbTranslate -> nbTranslate\r\n",
            "\u001b[32m[I 12:56:37 InstallContribNbextensionsApp]\u001b[m Making directory: /home/ec2-user/.local/share/jupyter/nbextensions/nbTranslate/\r\n",
            "\u001b[32m[I 12:56:37 InstallContribNbextensionsApp]\u001b[m Copying: /home/ec2-user/anaconda3/envs/python3/lib/python3.6/site-packages/jupyter_contrib_nbextensions/nbextensions/nbTranslate/nbTranslate.yaml -> /home/ec2-user/.local/share/jupyter/nbextensions/nbTranslate/nbTranslate.yaml\r\n",
            "\u001b[32m[I 12:56:37 InstallContribNbextensionsApp]\u001b[m Copying: /home/ec2-user/anaconda3/envs/python3/lib/python3.6/site-packages/jupyter_contrib_nbextensions/nbextensions/nbTranslate/README.md -> /home/ec2-user/.local/share/jupyter/nbextensions/nbTranslate/README.md\r\n",
            "\u001b[32m[I 12:56:37 InstallContribNbextensionsApp]\u001b[m Copying: /home/ec2-user/anaconda3/envs/python3/lib/python3.6/site-packages/jupyter_contrib_nbextensions/nbextensions/nbTranslate/demo1.gif -> /home/ec2-user/.local/share/jupyter/nbextensions/nbTranslate/demo1.gif\r\n",
            "\u001b[32m[I 12:56:38 InstallContribNbextensionsApp]\u001b[m Copying: /home/ec2-user/anaconda3/envs/python3/lib/python3.6/site-packages/jupyter_contrib_nbextensions/nbextensions/nbTranslate/languages.js -> /home/ec2-user/.local/share/jupyter/nbextensions/nbTranslate/languages.js\r\n",
            "\u001b[32m[I 12:56:38 InstallContribNbextensionsApp]\u001b[m Copying: /home/ec2-user/anaconda3/envs/python3/lib/python3.6/site-packages/jupyter_contrib_nbextensions/nbextensions/nbTranslate/mutils.js -> /home/ec2-user/.local/share/jupyter/nbextensions/nbTranslate/mutils.js\r\n",
            "\u001b[32m[I 12:56:38 InstallContribNbextensionsApp]\u001b[m Copying: /home/ec2-user/anaconda3/envs/python3/lib/python3.6/site-packages/jupyter_contrib_nbextensions/nbextensions/nbTranslate/main.js -> /home/ec2-user/.local/share/jupyter/nbextensions/nbTranslate/main.js\r\n",
            "\u001b[32m[I 12:56:38 InstallContribNbextensionsApp]\u001b[m Copying: /home/ec2-user/anaconda3/envs/python3/lib/python3.6/site-packages/jupyter_contrib_nbextensions/nbextensions/nbTranslate/demo2.gif -> /home/ec2-user/.local/share/jupyter/nbextensions/nbTranslate/demo2.gif\r\n",
            "\u001b[32m[I 12:56:38 InstallContribNbextensionsApp]\u001b[m Copying: /home/ec2-user/anaconda3/envs/python3/lib/python3.6/site-packages/jupyter_contrib_nbextensions/nbextensions/nbTranslate/nbTranslate.js -> /home/ec2-user/.local/share/jupyter/nbextensions/nbTranslate/nbTranslate.js\r\n",
            "\u001b[32m[I 12:56:38 InstallContribNbextensionsApp]\u001b[m - Validating: \u001b[32mOK\u001b[0m\r\n",
            "\u001b[32m[I 12:56:38 InstallContribNbextensionsApp]\u001b[m Installing /home/ec2-user/anaconda3/envs/python3/lib/python3.6/site-packages/jupyter_contrib_nbextensions/nbextensions/toggle_all_line_numbers -> toggle_all_line_numbers\r\n",
            "\u001b[32m[I 12:56:38 InstallContribNbextensionsApp]\u001b[m Making directory: /home/ec2-user/.local/share/jupyter/nbextensions/toggle_all_line_numbers/\r\n",
            "\u001b[32m[I 12:56:38 InstallContribNbextensionsApp]\u001b[m Copying: /home/ec2-user/anaconda3/envs/python3/lib/python3.6/site-packages/jupyter_contrib_nbextensions/nbextensions/toggle_all_line_numbers/readme.md -> /home/ec2-user/.local/share/jupyter/nbextensions/toggle_all_line_numbers/readme.md\r\n",
            "\u001b[32m[I 12:56:38 InstallContribNbextensionsApp]\u001b[m Copying: /home/ec2-user/anaconda3/envs/python3/lib/python3.6/site-packages/jupyter_contrib_nbextensions/nbextensions/toggle_all_line_numbers/main.js -> /home/ec2-user/.local/share/jupyter/nbextensions/toggle_all_line_numbers/main.js\r\n",
            "\u001b[32m[I 12:56:38 InstallContribNbextensionsApp]\u001b[m Copying: /home/ec2-user/anaconda3/envs/python3/lib/python3.6/site-packages/jupyter_contrib_nbextensions/nbextensions/toggle_all_line_numbers/main.yaml -> /home/ec2-user/.local/share/jupyter/nbextensions/toggle_all_line_numbers/main.yaml\r\n",
            "\u001b[32m[I 12:56:38 InstallContribNbextensionsApp]\u001b[m Copying: /home/ec2-user/anaconda3/envs/python3/lib/python3.6/site-packages/jupyter_contrib_nbextensions/nbextensions/toggle_all_line_numbers/icon.png -> /home/ec2-user/.local/share/jupyter/nbextensions/toggle_all_line_numbers/icon.png\r\n",
            "\u001b[32m[I 12:56:38 InstallContribNbextensionsApp]\u001b[m - Validating: \u001b[32mOK\u001b[0m\r\n",
            "\u001b[32m[I 12:56:38 InstallContribNbextensionsApp]\u001b[m Installing /home/ec2-user/anaconda3/envs/python3/lib/python3.6/site-packages/jupyter_contrib_nbextensions/nbextensions/contrib_nbextensions_help_item -> contrib_nbextensions_help_item\r\n",
            "\u001b[32m[I 12:56:38 InstallContribNbextensionsApp]\u001b[m Making directory: /home/ec2-user/.local/share/jupyter/nbextensions/contrib_nbextensions_help_item/\r\n",
            "\u001b[32m[I 12:56:38 InstallContribNbextensionsApp]\u001b[m Copying: /home/ec2-user/anaconda3/envs/python3/lib/python3.6/site-packages/jupyter_contrib_nbextensions/nbextensions/contrib_nbextensions_help_item/contrib_nbextensions_help_item.yaml -> /home/ec2-user/.local/share/jupyter/nbextensions/contrib_nbextensions_help_item/contrib_nbextensions_help_item.yaml\r\n",
            "\u001b[32m[I 12:56:38 InstallContribNbextensionsApp]\u001b[m Copying: /home/ec2-user/anaconda3/envs/python3/lib/python3.6/site-packages/jupyter_contrib_nbextensions/nbextensions/contrib_nbextensions_help_item/README.md -> /home/ec2-user/.local/share/jupyter/nbextensions/contrib_nbextensions_help_item/README.md\r\n",
            "\u001b[32m[I 12:56:38 InstallContribNbextensionsApp]\u001b[m Copying: /home/ec2-user/anaconda3/envs/python3/lib/python3.6/site-packages/jupyter_contrib_nbextensions/nbextensions/contrib_nbextensions_help_item/main.js -> /home/ec2-user/.local/share/jupyter/nbextensions/contrib_nbextensions_help_item/main.js\r\n",
            "\u001b[32m[I 12:56:38 InstallContribNbextensionsApp]\u001b[m - Validating: \u001b[32mOK\u001b[0m\r\n",
            "\u001b[32m[I 12:56:38 InstallContribNbextensionsApp]\u001b[m Installing /home/ec2-user/anaconda3/envs/python3/lib/python3.6/site-packages/jupyter_contrib_nbextensions/nbextensions/scroll_down -> scroll_down\r\n",
            "\u001b[32m[I 12:56:38 InstallContribNbextensionsApp]\u001b[m Making directory: /home/ec2-user/.local/share/jupyter/nbextensions/scroll_down/\r\n",
            "\u001b[32m[I 12:56:38 InstallContribNbextensionsApp]\u001b[m Copying: /home/ec2-user/anaconda3/envs/python3/lib/python3.6/site-packages/jupyter_contrib_nbextensions/nbextensions/scroll_down/config.yaml -> /home/ec2-user/.local/share/jupyter/nbextensions/scroll_down/config.yaml\r\n",
            "\u001b[32m[I 12:56:38 InstallContribNbextensionsApp]\u001b[m Copying: /home/ec2-user/anaconda3/envs/python3/lib/python3.6/site-packages/jupyter_contrib_nbextensions/nbextensions/scroll_down/readme.md -> /home/ec2-user/.local/share/jupyter/nbextensions/scroll_down/readme.md\r\n",
            "\u001b[32m[I 12:56:38 InstallContribNbextensionsApp]\u001b[m Copying: /home/ec2-user/anaconda3/envs/python3/lib/python3.6/site-packages/jupyter_contrib_nbextensions/nbextensions/scroll_down/main.js -> /home/ec2-user/.local/share/jupyter/nbextensions/scroll_down/main.js\r\n",
            "\u001b[32m[I 12:56:38 InstallContribNbextensionsApp]\u001b[m Copying: /home/ec2-user/anaconda3/envs/python3/lib/python3.6/site-packages/jupyter_contrib_nbextensions/nbextensions/scroll_down/icon.png -> /home/ec2-user/.local/share/jupyter/nbextensions/scroll_down/icon.png\r\n",
            "\u001b[32m[I 12:56:38 InstallContribNbextensionsApp]\u001b[m - Validating: \u001b[32mOK\u001b[0m\r\n",
            "\u001b[32m[I 12:56:38 InstallContribNbextensionsApp]\u001b[m Installing /home/ec2-user/anaconda3/envs/python3/lib/python3.6/site-packages/jupyter_contrib_nbextensions/nbextensions/equation-numbering -> equation-numbering\r\n",
            "\u001b[32m[I 12:56:38 InstallContribNbextensionsApp]\u001b[m Making directory: /home/ec2-user/.local/share/jupyter/nbextensions/equation-numbering/\r\n",
            "\u001b[32m[I 12:56:38 InstallContribNbextensionsApp]\u001b[m Copying: /home/ec2-user/anaconda3/envs/python3/lib/python3.6/site-packages/jupyter_contrib_nbextensions/nbextensions/equation-numbering/button.png -> /home/ec2-user/.local/share/jupyter/nbextensions/equation-numbering/button.png\r\n",
            "\u001b[32m[I 12:56:38 InstallContribNbextensionsApp]\u001b[m Copying: /home/ec2-user/anaconda3/envs/python3/lib/python3.6/site-packages/jupyter_contrib_nbextensions/nbextensions/equation-numbering/readme.md -> /home/ec2-user/.local/share/jupyter/nbextensions/equation-numbering/readme.md\r\n",
            "\u001b[32m[I 12:56:38 InstallContribNbextensionsApp]\u001b[m Copying: /home/ec2-user/anaconda3/envs/python3/lib/python3.6/site-packages/jupyter_contrib_nbextensions/nbextensions/equation-numbering/main.js -> /home/ec2-user/.local/share/jupyter/nbextensions/equation-numbering/main.js\r\n",
            "\u001b[32m[I 12:56:38 InstallContribNbextensionsApp]\u001b[m Copying: /home/ec2-user/anaconda3/envs/python3/lib/python3.6/site-packages/jupyter_contrib_nbextensions/nbextensions/equation-numbering/info.yaml -> /home/ec2-user/.local/share/jupyter/nbextensions/equation-numbering/info.yaml\r\n",
            "\u001b[32m[I 12:56:38 InstallContribNbextensionsApp]\u001b[m Copying: /home/ec2-user/anaconda3/envs/python3/lib/python3.6/site-packages/jupyter_contrib_nbextensions/nbextensions/equation-numbering/icon.png -> /home/ec2-user/.local/share/jupyter/nbextensions/equation-numbering/icon.png\r\n",
            "\u001b[32m[I 12:56:38 InstallContribNbextensionsApp]\u001b[m - Validating: \u001b[32mOK\u001b[0m\r\n",
            "\u001b[32m[I 12:56:38 InstallContribNbextensionsApp]\u001b[m Installing /home/ec2-user/anaconda3/envs/python3/lib/python3.6/site-packages/jupyter_contrib_nbextensions/nbextensions/skip-traceback -> skip-traceback\r\n",
            "\u001b[32m[I 12:56:38 InstallContribNbextensionsApp]\u001b[m Making directory: /home/ec2-user/.local/share/jupyter/nbextensions/skip-traceback/\r\n",
            "\u001b[32m[I 12:56:38 InstallContribNbextensionsApp]\u001b[m Copying: /home/ec2-user/anaconda3/envs/python3/lib/python3.6/site-packages/jupyter_contrib_nbextensions/nbextensions/skip-traceback/traceback.png -> /home/ec2-user/.local/share/jupyter/nbextensions/skip-traceback/traceback.png\r\n",
            "\u001b[32m[I 12:56:38 InstallContribNbextensionsApp]\u001b[m Copying: /home/ec2-user/anaconda3/envs/python3/lib/python3.6/site-packages/jupyter_contrib_nbextensions/nbextensions/skip-traceback/skip-traceback.png -> /home/ec2-user/.local/share/jupyter/nbextensions/skip-traceback/skip-traceback.png\r\n",
            "\u001b[32m[I 12:56:38 InstallContribNbextensionsApp]\u001b[m Copying: /home/ec2-user/anaconda3/envs/python3/lib/python3.6/site-packages/jupyter_contrib_nbextensions/nbextensions/skip-traceback/readme.md -> /home/ec2-user/.local/share/jupyter/nbextensions/skip-traceback/readme.md\r\n",
            "\u001b[32m[I 12:56:38 InstallContribNbextensionsApp]\u001b[m Copying: /home/ec2-user/anaconda3/envs/python3/lib/python3.6/site-packages/jupyter_contrib_nbextensions/nbextensions/skip-traceback/main.js -> /home/ec2-user/.local/share/jupyter/nbextensions/skip-traceback/main.js\r\n",
            "\u001b[32m[I 12:56:38 InstallContribNbextensionsApp]\u001b[m Copying: /home/ec2-user/anaconda3/envs/python3/lib/python3.6/site-packages/jupyter_contrib_nbextensions/nbextensions/skip-traceback/skip-traceback.yaml -> /home/ec2-user/.local/share/jupyter/nbextensions/skip-traceback/skip-traceback.yaml\r\n",
            "\u001b[32m[I 12:56:38 InstallContribNbextensionsApp]\u001b[m Copying: /home/ec2-user/anaconda3/envs/python3/lib/python3.6/site-packages/jupyter_contrib_nbextensions/nbextensions/skip-traceback/icon.png -> /home/ec2-user/.local/share/jupyter/nbextensions/skip-traceback/icon.png\r\n",
            "\u001b[32m[I 12:56:38 InstallContribNbextensionsApp]\u001b[m - Validating: \u001b[32mOK\u001b[0m\r\n",
            "\u001b[32m[I 12:56:38 InstallContribNbextensionsApp]\u001b[m Installing /home/ec2-user/anaconda3/envs/python3/lib/python3.6/site-packages/jupyter_contrib_nbextensions/nbextensions/freeze -> freeze\r\n",
            "\u001b[32m[I 12:56:38 InstallContribNbextensionsApp]\u001b[m Making directory: /home/ec2-user/.local/share/jupyter/nbextensions/freeze/\r\n",
            "\u001b[32m[I 12:56:38 InstallContribNbextensionsApp]\u001b[m Copying: /home/ec2-user/anaconda3/envs/python3/lib/python3.6/site-packages/jupyter_contrib_nbextensions/nbextensions/freeze/config.yaml -> /home/ec2-user/.local/share/jupyter/nbextensions/freeze/config.yaml\r\n",
            "\u001b[32m[I 12:56:38 InstallContribNbextensionsApp]\u001b[m Copying: /home/ec2-user/anaconda3/envs/python3/lib/python3.6/site-packages/jupyter_contrib_nbextensions/nbextensions/freeze/readme.md -> /home/ec2-user/.local/share/jupyter/nbextensions/freeze/readme.md\r\n",
            "\u001b[32m[I 12:56:38 InstallContribNbextensionsApp]\u001b[m Copying: /home/ec2-user/anaconda3/envs/python3/lib/python3.6/site-packages/jupyter_contrib_nbextensions/nbextensions/freeze/main.js -> /home/ec2-user/.local/share/jupyter/nbextensions/freeze/main.js\r\n",
            "\u001b[32m[I 12:56:38 InstallContribNbextensionsApp]\u001b[m Copying: /home/ec2-user/anaconda3/envs/python3/lib/python3.6/site-packages/jupyter_contrib_nbextensions/nbextensions/freeze/icon.png -> /home/ec2-user/.local/share/jupyter/nbextensions/freeze/icon.png\r\n",
            "\u001b[32m[I 12:56:38 InstallContribNbextensionsApp]\u001b[m - Validating: \u001b[32mOK\u001b[0m\r\n",
            "\u001b[32m[I 12:56:38 InstallContribNbextensionsApp]\u001b[m Installing /home/ec2-user/anaconda3/envs/python3/lib/python3.6/site-packages/jupyter_contrib_nbextensions/nbextensions/ruler -> ruler\r\n",
            "\u001b[32m[I 12:56:38 InstallContribNbextensionsApp]\u001b[m Making directory: /home/ec2-user/.local/share/jupyter/nbextensions/ruler/\r\n",
            "\u001b[32m[I 12:56:38 InstallContribNbextensionsApp]\u001b[m Copying: /home/ec2-user/anaconda3/envs/python3/lib/python3.6/site-packages/jupyter_contrib_nbextensions/nbextensions/ruler/ruler.yaml -> /home/ec2-user/.local/share/jupyter/nbextensions/ruler/ruler.yaml\r\n",
            "\u001b[32m[I 12:56:38 InstallContribNbextensionsApp]\u001b[m Copying: /home/ec2-user/anaconda3/envs/python3/lib/python3.6/site-packages/jupyter_contrib_nbextensions/nbextensions/ruler/ruler_editor.yaml -> /home/ec2-user/.local/share/jupyter/nbextensions/ruler/ruler_editor.yaml\r\n",
            "\u001b[32m[I 12:56:38 InstallContribNbextensionsApp]\u001b[m Copying: /home/ec2-user/anaconda3/envs/python3/lib/python3.6/site-packages/jupyter_contrib_nbextensions/nbextensions/ruler/readme.md -> /home/ec2-user/.local/share/jupyter/nbextensions/ruler/readme.md\r\n",
            "\u001b[32m[I 12:56:38 InstallContribNbextensionsApp]\u001b[m Copying: /home/ec2-user/anaconda3/envs/python3/lib/python3.6/site-packages/jupyter_contrib_nbextensions/nbextensions/ruler/main.js -> /home/ec2-user/.local/share/jupyter/nbextensions/ruler/main.js\r\n",
            "\u001b[32m[I 12:56:38 InstallContribNbextensionsApp]\u001b[m Copying: /home/ec2-user/anaconda3/envs/python3/lib/python3.6/site-packages/jupyter_contrib_nbextensions/nbextensions/ruler/edit.js -> /home/ec2-user/.local/share/jupyter/nbextensions/ruler/edit.js\r\n",
            "\u001b[32m[I 12:56:38 InstallContribNbextensionsApp]\u001b[m Copying: /home/ec2-user/anaconda3/envs/python3/lib/python3.6/site-packages/jupyter_contrib_nbextensions/nbextensions/ruler/icon.png -> /home/ec2-user/.local/share/jupyter/nbextensions/ruler/icon.png\r\n",
            "\u001b[32m[I 12:56:38 InstallContribNbextensionsApp]\u001b[m - Validating: \u001b[32mOK\u001b[0m\r\n",
            "\u001b[32m[I 12:56:38 InstallContribNbextensionsApp]\u001b[m Installing /home/ec2-user/anaconda3/envs/python3/lib/python3.6/site-packages/jupyter_contrib_nbextensions/nbextensions/ruler -> ruler\r\n",
            "\u001b[32m[I 12:56:38 InstallContribNbextensionsApp]\u001b[m Up to date: /home/ec2-user/.local/share/jupyter/nbextensions/ruler/ruler.yaml\r\n",
            "\u001b[32m[I 12:56:38 InstallContribNbextensionsApp]\u001b[m Up to date: /home/ec2-user/.local/share/jupyter/nbextensions/ruler/ruler_editor.yaml\r\n",
            "\u001b[32m[I 12:56:38 InstallContribNbextensionsApp]\u001b[m Up to date: /home/ec2-user/.local/share/jupyter/nbextensions/ruler/readme.md\r\n",
            "\u001b[32m[I 12:56:38 InstallContribNbextensionsApp]\u001b[m Up to date: /home/ec2-user/.local/share/jupyter/nbextensions/ruler/main.js\r\n",
            "\u001b[32m[I 12:56:38 InstallContribNbextensionsApp]\u001b[m Up to date: /home/ec2-user/.local/share/jupyter/nbextensions/ruler/edit.js\r\n",
            "\u001b[32m[I 12:56:38 InstallContribNbextensionsApp]\u001b[m Up to date: /home/ec2-user/.local/share/jupyter/nbextensions/ruler/icon.png\r\n",
            "\u001b[32m[I 12:56:38 InstallContribNbextensionsApp]\u001b[m - Validating: \u001b[32mOK\u001b[0m\r\n",
            "\u001b[32m[I 12:56:38 InstallContribNbextensionsApp]\u001b[m Installing /home/ec2-user/anaconda3/envs/python3/lib/python3.6/site-packages/jupyter_contrib_nbextensions/nbextensions/hide_input -> hide_input\r\n",
            "\u001b[32m[I 12:56:38 InstallContribNbextensionsApp]\u001b[m Making directory: /home/ec2-user/.local/share/jupyter/nbextensions/hide_input/\r\n",
            "\u001b[32m[I 12:56:38 InstallContribNbextensionsApp]\u001b[m Copying: /home/ec2-user/anaconda3/envs/python3/lib/python3.6/site-packages/jupyter_contrib_nbextensions/nbextensions/hide_input/hide-input.yaml -> /home/ec2-user/.local/share/jupyter/nbextensions/hide_input/hide-input.yaml\r\n",
            "\u001b[32m[I 12:56:38 InstallContribNbextensionsApp]\u001b[m Copying: /home/ec2-user/anaconda3/envs/python3/lib/python3.6/site-packages/jupyter_contrib_nbextensions/nbextensions/hide_input/readme.md -> /home/ec2-user/.local/share/jupyter/nbextensions/hide_input/readme.md\r\n",
            "\u001b[32m[I 12:56:38 InstallContribNbextensionsApp]\u001b[m Copying: /home/ec2-user/anaconda3/envs/python3/lib/python3.6/site-packages/jupyter_contrib_nbextensions/nbextensions/hide_input/main.js -> /home/ec2-user/.local/share/jupyter/nbextensions/hide_input/main.js\r\n",
            "\u001b[32m[I 12:56:38 InstallContribNbextensionsApp]\u001b[m Copying: /home/ec2-user/anaconda3/envs/python3/lib/python3.6/site-packages/jupyter_contrib_nbextensions/nbextensions/hide_input/icon.png -> /home/ec2-user/.local/share/jupyter/nbextensions/hide_input/icon.png\r\n",
            "\u001b[32m[I 12:56:38 InstallContribNbextensionsApp]\u001b[m - Validating: \u001b[32mOK\u001b[0m\r\n",
            "\u001b[32m[I 12:56:38 InstallContribNbextensionsApp]\u001b[m Installing /home/ec2-user/anaconda3/envs/python3/lib/python3.6/site-packages/jupyter_contrib_nbextensions/nbextensions/autosavetime -> autosavetime\r\n",
            "\u001b[32m[I 12:56:38 InstallContribNbextensionsApp]\u001b[m Making directory: /home/ec2-user/.local/share/jupyter/nbextensions/autosavetime/\r\n",
            "\u001b[32m[I 12:56:38 InstallContribNbextensionsApp]\u001b[m Copying: /home/ec2-user/anaconda3/envs/python3/lib/python3.6/site-packages/jupyter_contrib_nbextensions/nbextensions/autosavetime/autosavetime.yaml -> /home/ec2-user/.local/share/jupyter/nbextensions/autosavetime/autosavetime.yaml\r\n",
            "\u001b[32m[I 12:56:38 InstallContribNbextensionsApp]\u001b[m Copying: /home/ec2-user/anaconda3/envs/python3/lib/python3.6/site-packages/jupyter_contrib_nbextensions/nbextensions/autosavetime/README.md -> /home/ec2-user/.local/share/jupyter/nbextensions/autosavetime/README.md\r\n",
            "\u001b[32m[I 12:56:38 InstallContribNbextensionsApp]\u001b[m Copying: /home/ec2-user/anaconda3/envs/python3/lib/python3.6/site-packages/jupyter_contrib_nbextensions/nbextensions/autosavetime/main.js -> /home/ec2-user/.local/share/jupyter/nbextensions/autosavetime/main.js\r\n",
            "\u001b[32m[I 12:56:38 InstallContribNbextensionsApp]\u001b[m Copying: /home/ec2-user/anaconda3/envs/python3/lib/python3.6/site-packages/jupyter_contrib_nbextensions/nbextensions/autosavetime/icon.png -> /home/ec2-user/.local/share/jupyter/nbextensions/autosavetime/icon.png\r\n",
            "\u001b[32m[I 12:56:38 InstallContribNbextensionsApp]\u001b[m - Validating: \u001b[32mOK\u001b[0m\r\n",
            "\u001b[32m[I 12:56:38 InstallContribNbextensionsApp]\u001b[m Installing /home/ec2-user/anaconda3/envs/python3/lib/python3.6/site-packages/jupyter_contrib_nbextensions/nbextensions/varInspector -> varInspector\r\n",
            "\u001b[32m[I 12:56:38 InstallContribNbextensionsApp]\u001b[m Making directory: /home/ec2-user/.local/share/jupyter/nbextensions/varInspector/\r\n",
            "\u001b[32m[I 12:56:38 InstallContribNbextensionsApp]\u001b[m Copying: /home/ec2-user/anaconda3/envs/python3/lib/python3.6/site-packages/jupyter_contrib_nbextensions/nbextensions/varInspector/var_list.py -> /home/ec2-user/.local/share/jupyter/nbextensions/varInspector/var_list.py\r\n",
            "\u001b[32m[I 12:56:38 InstallContribNbextensionsApp]\u001b[m Copying: /home/ec2-user/anaconda3/envs/python3/lib/python3.6/site-packages/jupyter_contrib_nbextensions/nbextensions/varInspector/main.css -> /home/ec2-user/.local/share/jupyter/nbextensions/varInspector/main.css\r\n",
            "\u001b[32m[I 12:56:38 InstallContribNbextensionsApp]\u001b[m Copying: /home/ec2-user/anaconda3/envs/python3/lib/python3.6/site-packages/jupyter_contrib_nbextensions/nbextensions/varInspector/tablesorter_LICENSE.txt -> /home/ec2-user/.local/share/jupyter/nbextensions/varInspector/tablesorter_LICENSE.txt\r\n",
            "\u001b[32m[I 12:56:38 InstallContribNbextensionsApp]\u001b[m Copying: /home/ec2-user/anaconda3/envs/python3/lib/python3.6/site-packages/jupyter_contrib_nbextensions/nbextensions/varInspector/var_list.r -> /home/ec2-user/.local/share/jupyter/nbextensions/varInspector/var_list.r\r\n",
            "\u001b[32m[I 12:56:38 InstallContribNbextensionsApp]\u001b[m Copying: /home/ec2-user/anaconda3/envs/python3/lib/python3.6/site-packages/jupyter_contrib_nbextensions/nbextensions/varInspector/README.md -> /home/ec2-user/.local/share/jupyter/nbextensions/varInspector/README.md\r\n",
            "\u001b[32m[I 12:56:38 InstallContribNbextensionsApp]\u001b[m Copying: /home/ec2-user/anaconda3/envs/python3/lib/python3.6/site-packages/jupyter_contrib_nbextensions/nbextensions/varInspector/demo.gif -> /home/ec2-user/.local/share/jupyter/nbextensions/varInspector/demo.gif\r\n",
            "\u001b[32m[I 12:56:38 InstallContribNbextensionsApp]\u001b[m Copying: /home/ec2-user/anaconda3/envs/python3/lib/python3.6/site-packages/jupyter_contrib_nbextensions/nbextensions/varInspector/main.js -> /home/ec2-user/.local/share/jupyter/nbextensions/varInspector/main.js\r\n",
            "\u001b[32m[I 12:56:38 InstallContribNbextensionsApp]\u001b[m Copying: /home/ec2-user/anaconda3/envs/python3/lib/python3.6/site-packages/jupyter_contrib_nbextensions/nbextensions/varInspector/jquery.tablesorter.min.js -> /home/ec2-user/.local/share/jupyter/nbextensions/varInspector/jquery.tablesorter.min.js\r\n",
            "\u001b[32m[I 12:56:38 InstallContribNbextensionsApp]\u001b[m Copying: /home/ec2-user/anaconda3/envs/python3/lib/python3.6/site-packages/jupyter_contrib_nbextensions/nbextensions/varInspector/varInspector.yaml -> /home/ec2-user/.local/share/jupyter/nbextensions/varInspector/varInspector.yaml\r\n",
            "\u001b[32m[I 12:56:38 InstallContribNbextensionsApp]\u001b[m Copying: /home/ec2-user/anaconda3/envs/python3/lib/python3.6/site-packages/jupyter_contrib_nbextensions/nbextensions/varInspector/icon.png -> /home/ec2-user/.local/share/jupyter/nbextensions/varInspector/icon.png\r\n",
            "\u001b[32m[I 12:56:38 InstallContribNbextensionsApp]\u001b[m Making directory: /home/ec2-user/.local/share/jupyter/nbextensions/varInspector/__pycache__\r\n",
            "\u001b[32m[I 12:56:38 InstallContribNbextensionsApp]\u001b[m Copying: /home/ec2-user/anaconda3/envs/python3/lib/python3.6/site-packages/jupyter_contrib_nbextensions/nbextensions/varInspector/__pycache__/var_list.cpython-36.pyc -> /home/ec2-user/.local/share/jupyter/nbextensions/varInspector/__pycache__/var_list.cpython-36.pyc\r\n",
            "\u001b[32m[I 12:56:38 InstallContribNbextensionsApp]\u001b[m - Validating: \u001b[32mOK\u001b[0m\r\n",
            "\u001b[32m[I 12:56:38 InstallContribNbextensionsApp]\u001b[m Installing /home/ec2-user/anaconda3/envs/python3/lib/python3.6/site-packages/jupyter_contrib_nbextensions/nbextensions/tree-filter -> tree-filter\r\n",
            "\u001b[32m[I 12:56:38 InstallContribNbextensionsApp]\u001b[m Making directory: /home/ec2-user/.local/share/jupyter/nbextensions/tree-filter/\r\n",
            "\u001b[32m[I 12:56:38 InstallContribNbextensionsApp]\u001b[m Copying: /home/ec2-user/anaconda3/envs/python3/lib/python3.6/site-packages/jupyter_contrib_nbextensions/nbextensions/tree-filter/readme.md -> /home/ec2-user/.local/share/jupyter/nbextensions/tree-filter/readme.md\r\n",
            "\u001b[32m[I 12:56:38 InstallContribNbextensionsApp]\u001b[m Copying: /home/ec2-user/anaconda3/envs/python3/lib/python3.6/site-packages/jupyter_contrib_nbextensions/nbextensions/tree-filter/index.js -> /home/ec2-user/.local/share/jupyter/nbextensions/tree-filter/index.js\r\n",
            "\u001b[32m[I 12:56:38 InstallContribNbextensionsApp]\u001b[m Copying: /home/ec2-user/anaconda3/envs/python3/lib/python3.6/site-packages/jupyter_contrib_nbextensions/nbextensions/tree-filter/demo.gif -> /home/ec2-user/.local/share/jupyter/nbextensions/tree-filter/demo.gif\r\n",
            "\u001b[32m[I 12:56:38 InstallContribNbextensionsApp]\u001b[m Copying: /home/ec2-user/anaconda3/envs/python3/lib/python3.6/site-packages/jupyter_contrib_nbextensions/nbextensions/tree-filter/tree-filter.yaml -> /home/ec2-user/.local/share/jupyter/nbextensions/tree-filter/tree-filter.yaml\r\n",
            "\u001b[32m[I 12:56:38 InstallContribNbextensionsApp]\u001b[m - Validating: \u001b[32mOK\u001b[0m\r\n",
            "\u001b[32m[I 12:56:38 InstallContribNbextensionsApp]\u001b[m Installing /home/ec2-user/anaconda3/envs/python3/lib/python3.6/site-packages/jupyter_contrib_nbextensions/nbextensions/help_panel -> help_panel\r\n",
            "\u001b[32m[I 12:56:38 InstallContribNbextensionsApp]\u001b[m Making directory: /home/ec2-user/.local/share/jupyter/nbextensions/help_panel/\r\n",
            "\u001b[32m[I 12:56:38 InstallContribNbextensionsApp]\u001b[m Copying: /home/ec2-user/anaconda3/envs/python3/lib/python3.6/site-packages/jupyter_contrib_nbextensions/nbextensions/help_panel/help_panel.yaml -> /home/ec2-user/.local/share/jupyter/nbextensions/help_panel/help_panel.yaml\r\n",
            "\u001b[32m[I 12:56:38 InstallContribNbextensionsApp]\u001b[m Copying: /home/ec2-user/anaconda3/envs/python3/lib/python3.6/site-packages/jupyter_contrib_nbextensions/nbextensions/help_panel/help_panel_ext_fullscreen.png -> /home/ec2-user/.local/share/jupyter/nbextensions/help_panel/help_panel_ext_fullscreen.png\r\n",
            "\u001b[32m[I 12:56:38 InstallContribNbextensionsApp]\u001b[m Copying: /home/ec2-user/anaconda3/envs/python3/lib/python3.6/site-packages/jupyter_contrib_nbextensions/nbextensions/help_panel/help_panel.js -> /home/ec2-user/.local/share/jupyter/nbextensions/help_panel/help_panel.js\r\n",
            "\u001b[32m[I 12:56:38 InstallContribNbextensionsApp]\u001b[m Copying: /home/ec2-user/anaconda3/envs/python3/lib/python3.6/site-packages/jupyter_contrib_nbextensions/nbextensions/help_panel/help_panel.css -> /home/ec2-user/.local/share/jupyter/nbextensions/help_panel/help_panel.css\r\n",
            "\u001b[32m[I 12:56:38 InstallContribNbextensionsApp]\u001b[m Copying: /home/ec2-user/anaconda3/envs/python3/lib/python3.6/site-packages/jupyter_contrib_nbextensions/nbextensions/help_panel/readme.md -> /home/ec2-user/.local/share/jupyter/nbextensions/help_panel/readme.md\r\n",
            "\u001b[32m[I 12:56:38 InstallContribNbextensionsApp]\u001b[m Copying: /home/ec2-user/anaconda3/envs/python3/lib/python3.6/site-packages/jupyter_contrib_nbextensions/nbextensions/help_panel/icon.png -> /home/ec2-user/.local/share/jupyter/nbextensions/help_panel/icon.png\r\n",
            "\u001b[32m[I 12:56:38 InstallContribNbextensionsApp]\u001b[m Copying: /home/ec2-user/anaconda3/envs/python3/lib/python3.6/site-packages/jupyter_contrib_nbextensions/nbextensions/help_panel/help_panel_ext.png -> /home/ec2-user/.local/share/jupyter/nbextensions/help_panel/help_panel_ext.png\r\n",
            "\u001b[32m[I 12:56:38 InstallContribNbextensionsApp]\u001b[m Making directory: /home/ec2-user/.local/share/jupyter/nbextensions/help_panel/img\r\n",
            "\u001b[32m[I 12:56:38 InstallContribNbextensionsApp]\u001b[m Copying: /home/ec2-user/anaconda3/envs/python3/lib/python3.6/site-packages/jupyter_contrib_nbextensions/nbextensions/help_panel/img/handle-v.png -> /home/ec2-user/.local/share/jupyter/nbextensions/help_panel/img/handle-v.png\r\n",
            "\u001b[32m[I 12:56:38 InstallContribNbextensionsApp]\u001b[m - Validating: \u001b[32mOK\u001b[0m\r\n",
            "\u001b[32m[I 12:56:38 InstallContribNbextensionsApp]\u001b[m Installing /home/ec2-user/anaconda3/envs/python3/lib/python3.6/site-packages/jupyter_contrib_nbextensions/nbextensions/spellchecker -> spellchecker\r\n",
            "\u001b[32m[I 12:56:38 InstallContribNbextensionsApp]\u001b[m Making directory: /home/ec2-user/.local/share/jupyter/nbextensions/spellchecker/\r\n",
            "\u001b[32m[I 12:56:38 InstallContribNbextensionsApp]\u001b[m Copying: /home/ec2-user/anaconda3/envs/python3/lib/python3.6/site-packages/jupyter_contrib_nbextensions/nbextensions/spellchecker/config.yaml -> /home/ec2-user/.local/share/jupyter/nbextensions/spellchecker/config.yaml\r\n",
            "\u001b[32m[I 12:56:38 InstallContribNbextensionsApp]\u001b[m Copying: /home/ec2-user/anaconda3/envs/python3/lib/python3.6/site-packages/jupyter_contrib_nbextensions/nbextensions/spellchecker/main.css -> /home/ec2-user/.local/share/jupyter/nbextensions/spellchecker/main.css\r\n",
            "\u001b[32m[I 12:56:38 InstallContribNbextensionsApp]\u001b[m Copying: /home/ec2-user/anaconda3/envs/python3/lib/python3.6/site-packages/jupyter_contrib_nbextensions/nbextensions/spellchecker/download_new_dict.py -> /home/ec2-user/.local/share/jupyter/nbextensions/spellchecker/download_new_dict.py\r\n",
            "\u001b[32m[I 12:56:38 InstallContribNbextensionsApp]\u001b[m Copying: /home/ec2-user/anaconda3/envs/python3/lib/python3.6/site-packages/jupyter_contrib_nbextensions/nbextensions/spellchecker/README.md -> /home/ec2-user/.local/share/jupyter/nbextensions/spellchecker/README.md\r\n",
            "\u001b[32m[I 12:56:38 InstallContribNbextensionsApp]\u001b[m Copying: /home/ec2-user/anaconda3/envs/python3/lib/python3.6/site-packages/jupyter_contrib_nbextensions/nbextensions/spellchecker/main.js -> /home/ec2-user/.local/share/jupyter/nbextensions/spellchecker/main.js\r\n",
            "\u001b[32m[I 12:56:38 InstallContribNbextensionsApp]\u001b[m Copying: /home/ec2-user/anaconda3/envs/python3/lib/python3.6/site-packages/jupyter_contrib_nbextensions/nbextensions/spellchecker/screenshot.png -> /home/ec2-user/.local/share/jupyter/nbextensions/spellchecker/screenshot.png\r\n",
            "\u001b[32m[I 12:56:38 InstallContribNbextensionsApp]\u001b[m Making directory: /home/ec2-user/.local/share/jupyter/nbextensions/spellchecker/typo\r\n",
            "\u001b[32m[I 12:56:38 InstallContribNbextensionsApp]\u001b[m Copying: /home/ec2-user/anaconda3/envs/python3/lib/python3.6/site-packages/jupyter_contrib_nbextensions/nbextensions/spellchecker/typo/LICENSE.txt -> /home/ec2-user/.local/share/jupyter/nbextensions/spellchecker/typo/LICENSE.txt\r\n",
            "\u001b[32m[I 12:56:38 InstallContribNbextensionsApp]\u001b[m Copying: /home/ec2-user/anaconda3/envs/python3/lib/python3.6/site-packages/jupyter_contrib_nbextensions/nbextensions/spellchecker/typo/typo.js -> /home/ec2-user/.local/share/jupyter/nbextensions/spellchecker/typo/typo.js\r\n",
            "\u001b[32m[I 12:56:38 InstallContribNbextensionsApp]\u001b[m Making directory: /home/ec2-user/.local/share/jupyter/nbextensions/spellchecker/__pycache__\r\n",
            "\u001b[32m[I 12:56:38 InstallContribNbextensionsApp]\u001b[m Copying: /home/ec2-user/anaconda3/envs/python3/lib/python3.6/site-packages/jupyter_contrib_nbextensions/nbextensions/spellchecker/__pycache__/download_new_dict.cpython-36.pyc -> /home/ec2-user/.local/share/jupyter/nbextensions/spellchecker/__pycache__/download_new_dict.cpython-36.pyc\r\n",
            "\u001b[32m[I 12:56:38 InstallContribNbextensionsApp]\u001b[m - Validating: \u001b[32mOK\u001b[0m\r\n",
            "\u001b[32m[I 12:56:38 InstallContribNbextensionsApp]\u001b[m Installing /home/ec2-user/anaconda3/envs/python3/lib/python3.6/site-packages/jupyter_contrib_nbextensions/nbextensions/datestamper -> datestamper\r\n",
            "\u001b[32m[I 12:56:38 InstallContribNbextensionsApp]\u001b[m Making directory: /home/ec2-user/.local/share/jupyter/nbextensions/datestamper/\r\n",
            "\u001b[32m[I 12:56:38 InstallContribNbextensionsApp]\u001b[m Copying: /home/ec2-user/anaconda3/envs/python3/lib/python3.6/site-packages/jupyter_contrib_nbextensions/nbextensions/datestamper/readme.md -> /home/ec2-user/.local/share/jupyter/nbextensions/datestamper/readme.md\r\n",
            "\u001b[32m[I 12:56:38 InstallContribNbextensionsApp]\u001b[m Copying: /home/ec2-user/anaconda3/envs/python3/lib/python3.6/site-packages/jupyter_contrib_nbextensions/nbextensions/datestamper/main.js -> /home/ec2-user/.local/share/jupyter/nbextensions/datestamper/main.js\r\n",
            "\u001b[32m[I 12:56:38 InstallContribNbextensionsApp]\u001b[m Copying: /home/ec2-user/anaconda3/envs/python3/lib/python3.6/site-packages/jupyter_contrib_nbextensions/nbextensions/datestamper/main.yaml -> /home/ec2-user/.local/share/jupyter/nbextensions/datestamper/main.yaml\r\n",
            "\u001b[32m[I 12:56:38 InstallContribNbextensionsApp]\u001b[m Copying: /home/ec2-user/anaconda3/envs/python3/lib/python3.6/site-packages/jupyter_contrib_nbextensions/nbextensions/datestamper/icon.png -> /home/ec2-user/.local/share/jupyter/nbextensions/datestamper/icon.png\r\n",
            "\u001b[32m[I 12:56:38 InstallContribNbextensionsApp]\u001b[m - Validating: \u001b[32mOK\u001b[0m\r\n",
            "\u001b[32m[I 12:56:38 InstallContribNbextensionsApp]\u001b[m Installing /home/ec2-user/anaconda3/envs/python3/lib/python3.6/site-packages/jupyter_contrib_nbextensions/nbextensions/printview -> printview\r\n",
            "\u001b[32m[I 12:56:38 InstallContribNbextensionsApp]\u001b[m Making directory: /home/ec2-user/.local/share/jupyter/nbextensions/printview/\r\n",
            "\u001b[32m[I 12:56:38 InstallContribNbextensionsApp]\u001b[m Copying: /home/ec2-user/anaconda3/envs/python3/lib/python3.6/site-packages/jupyter_contrib_nbextensions/nbextensions/printview/printview.yaml -> /home/ec2-user/.local/share/jupyter/nbextensions/printview/printview.yaml\r\n",
            "\u001b[32m[I 12:56:38 InstallContribNbextensionsApp]\u001b[m Copying: /home/ec2-user/anaconda3/envs/python3/lib/python3.6/site-packages/jupyter_contrib_nbextensions/nbextensions/printview/printview-button.png -> /home/ec2-user/.local/share/jupyter/nbextensions/printview/printview-button.png\r\n",
            "\u001b[32m[I 12:56:38 InstallContribNbextensionsApp]\u001b[m Copying: /home/ec2-user/anaconda3/envs/python3/lib/python3.6/site-packages/jupyter_contrib_nbextensions/nbextensions/printview/readme.md -> /home/ec2-user/.local/share/jupyter/nbextensions/printview/readme.md\r\n",
            "\u001b[32m[I 12:56:38 InstallContribNbextensionsApp]\u001b[m Copying: /home/ec2-user/anaconda3/envs/python3/lib/python3.6/site-packages/jupyter_contrib_nbextensions/nbextensions/printview/main.js -> /home/ec2-user/.local/share/jupyter/nbextensions/printview/main.js\r\n",
            "\u001b[32m[I 12:56:38 InstallContribNbextensionsApp]\u001b[m Copying: /home/ec2-user/anaconda3/envs/python3/lib/python3.6/site-packages/jupyter_contrib_nbextensions/nbextensions/printview/icon.png -> /home/ec2-user/.local/share/jupyter/nbextensions/printview/icon.png\r\n",
            "\u001b[32m[I 12:56:38 InstallContribNbextensionsApp]\u001b[m - Validating: \u001b[32mOK\u001b[0m\r\n",
            "\u001b[32m[I 12:56:38 InstallContribNbextensionsApp]\u001b[m Installing /home/ec2-user/anaconda3/envs/python3/lib/python3.6/site-packages/jupyter_contrib_nbextensions/nbextensions/livemdpreview -> livemdpreview\r\n",
            "\u001b[32m[I 12:56:38 InstallContribNbextensionsApp]\u001b[m Making directory: /home/ec2-user/.local/share/jupyter/nbextensions/livemdpreview/\r\n",
            "\u001b[32m[I 12:56:38 InstallContribNbextensionsApp]\u001b[m Copying: /home/ec2-user/anaconda3/envs/python3/lib/python3.6/site-packages/jupyter_contrib_nbextensions/nbextensions/livemdpreview/livemdpreview.yml -> /home/ec2-user/.local/share/jupyter/nbextensions/livemdpreview/livemdpreview.yml\r\n",
            "\u001b[32m[I 12:56:38 InstallContribNbextensionsApp]\u001b[m Copying: /home/ec2-user/anaconda3/envs/python3/lib/python3.6/site-packages/jupyter_contrib_nbextensions/nbextensions/livemdpreview/livemdpreview.js -> /home/ec2-user/.local/share/jupyter/nbextensions/livemdpreview/livemdpreview.js\r\n",
            "\u001b[32m[I 12:56:38 InstallContribNbextensionsApp]\u001b[m - Validating: \u001b[32mOK\u001b[0m\r\n",
            "\u001b[32m[I 12:56:38 InstallContribNbextensionsApp]\u001b[m Installing /home/ec2-user/anaconda3/envs/python3/lib/python3.6/site-packages/jupyter_contrib_nbextensions/nbextensions/notify -> notify\r\n",
            "\u001b[32m[I 12:56:38 InstallContribNbextensionsApp]\u001b[m Making directory: /home/ec2-user/.local/share/jupyter/nbextensions/notify/\r\n",
            "\u001b[32m[I 12:56:38 InstallContribNbextensionsApp]\u001b[m Copying: /home/ec2-user/anaconda3/envs/python3/lib/python3.6/site-packages/jupyter_contrib_nbextensions/nbextensions/notify/notification.png -> /home/ec2-user/.local/share/jupyter/nbextensions/notify/notification.png\r\n",
            "\u001b[32m[I 12:56:38 InstallContribNbextensionsApp]\u001b[m Copying: /home/ec2-user/anaconda3/envs/python3/lib/python3.6/site-packages/jupyter_contrib_nbextensions/nbextensions/notify/notify.js -> /home/ec2-user/.local/share/jupyter/nbextensions/notify/notify.js\r\n",
            "\u001b[32m[I 12:56:38 InstallContribNbextensionsApp]\u001b[m Copying: /home/ec2-user/anaconda3/envs/python3/lib/python3.6/site-packages/jupyter_contrib_nbextensions/nbextensions/notify/notify.yaml -> /home/ec2-user/.local/share/jupyter/nbextensions/notify/notify.yaml\r\n",
            "\u001b[32m[I 12:56:38 InstallContribNbextensionsApp]\u001b[m Copying: /home/ec2-user/anaconda3/envs/python3/lib/python3.6/site-packages/jupyter_contrib_nbextensions/nbextensions/notify/readme.md -> /home/ec2-user/.local/share/jupyter/nbextensions/notify/readme.md\r\n",
            "\u001b[32m[I 12:56:38 InstallContribNbextensionsApp]\u001b[m Copying: /home/ec2-user/anaconda3/envs/python3/lib/python3.6/site-packages/jupyter_contrib_nbextensions/nbextensions/notify/notify.mp3 -> /home/ec2-user/.local/share/jupyter/nbextensions/notify/notify.mp3\r\n",
            "\u001b[32m[I 12:56:38 InstallContribNbextensionsApp]\u001b[m - Validating: \u001b[32mOK\u001b[0m\r\n",
            "\u001b[32m[I 12:56:38 InstallContribNbextensionsApp]\u001b[m Installing /home/ec2-user/anaconda3/envs/python3/lib/python3.6/site-packages/jupyter_contrib_nbextensions/nbextensions/hinterland -> hinterland\r\n",
            "\u001b[32m[I 12:56:38 InstallContribNbextensionsApp]\u001b[m Making directory: /home/ec2-user/.local/share/jupyter/nbextensions/hinterland/\r\n",
            "\u001b[32m[I 12:56:38 InstallContribNbextensionsApp]\u001b[m Copying: /home/ec2-user/anaconda3/envs/python3/lib/python3.6/site-packages/jupyter_contrib_nbextensions/nbextensions/hinterland/README.md -> /home/ec2-user/.local/share/jupyter/nbextensions/hinterland/README.md\r\n",
            "\u001b[32m[I 12:56:38 InstallContribNbextensionsApp]\u001b[m Copying: /home/ec2-user/anaconda3/envs/python3/lib/python3.6/site-packages/jupyter_contrib_nbextensions/nbextensions/hinterland/hinterland.js -> /home/ec2-user/.local/share/jupyter/nbextensions/hinterland/hinterland.js\r\n",
            "\u001b[32m[I 12:56:38 InstallContribNbextensionsApp]\u001b[m Copying: /home/ec2-user/anaconda3/envs/python3/lib/python3.6/site-packages/jupyter_contrib_nbextensions/nbextensions/hinterland/hinterland.yaml -> /home/ec2-user/.local/share/jupyter/nbextensions/hinterland/hinterland.yaml\r\n",
            "\u001b[32m[I 12:56:38 InstallContribNbextensionsApp]\u001b[m - Validating: \u001b[32mOK\u001b[0m\r\n",
            "\u001b[32m[I 12:56:38 InstallContribNbextensionsApp]\u001b[m Installing /home/ec2-user/anaconda3/envs/python3/lib/python3.6/site-packages/jupyter_contrib_nbextensions/nbextensions/select_keymap -> select_keymap\r\n",
            "\u001b[32m[I 12:56:38 InstallContribNbextensionsApp]\u001b[m Making directory: /home/ec2-user/.local/share/jupyter/nbextensions/select_keymap/\r\n",
            "\u001b[32m[I 12:56:38 InstallContribNbextensionsApp]\u001b[m Copying: /home/ec2-user/anaconda3/envs/python3/lib/python3.6/site-packages/jupyter_contrib_nbextensions/nbextensions/select_keymap/README.md -> /home/ec2-user/.local/share/jupyter/nbextensions/select_keymap/README.md\r\n",
            "\u001b[32m[I 12:56:38 InstallContribNbextensionsApp]\u001b[m Copying: /home/ec2-user/anaconda3/envs/python3/lib/python3.6/site-packages/jupyter_contrib_nbextensions/nbextensions/select_keymap/select_keymap.png -> /home/ec2-user/.local/share/jupyter/nbextensions/select_keymap/select_keymap.png\r\n",
            "\u001b[32m[I 12:56:38 InstallContribNbextensionsApp]\u001b[m Copying: /home/ec2-user/anaconda3/envs/python3/lib/python3.6/site-packages/jupyter_contrib_nbextensions/nbextensions/select_keymap/main.js -> /home/ec2-user/.local/share/jupyter/nbextensions/select_keymap/main.js\r\n",
            "\u001b[32m[I 12:56:38 InstallContribNbextensionsApp]\u001b[m Copying: /home/ec2-user/anaconda3/envs/python3/lib/python3.6/site-packages/jupyter_contrib_nbextensions/nbextensions/select_keymap/select_keymap.yaml -> /home/ec2-user/.local/share/jupyter/nbextensions/select_keymap/select_keymap.yaml\r\n",
            "\u001b[32m[I 12:56:38 InstallContribNbextensionsApp]\u001b[m - Validating: \u001b[32mOK\u001b[0m\r\n",
            "\u001b[32m[I 12:56:38 InstallContribNbextensionsApp]\u001b[m Installing /home/ec2-user/anaconda3/envs/python3/lib/python3.6/site-packages/jupyter_contrib_nbextensions/nbextensions/codemirror_mode_extensions -> codemirror_mode_extensions\r\n",
            "\u001b[32m[I 12:56:38 InstallContribNbextensionsApp]\u001b[m Making directory: /home/ec2-user/.local/share/jupyter/nbextensions/codemirror_mode_extensions/\r\n",
            "\u001b[32m[I 12:56:38 InstallContribNbextensionsApp]\u001b[m Copying: /home/ec2-user/anaconda3/envs/python3/lib/python3.6/site-packages/jupyter_contrib_nbextensions/nbextensions/codemirror_mode_extensions/codemirror_mode_extensions.yaml -> /home/ec2-user/.local/share/jupyter/nbextensions/codemirror_mode_extensions/codemirror_mode_extensions.yaml\r\n",
            "\u001b[32m[I 12:56:38 InstallContribNbextensionsApp]\u001b[m Copying: /home/ec2-user/anaconda3/envs/python3/lib/python3.6/site-packages/jupyter_contrib_nbextensions/nbextensions/codemirror_mode_extensions/main.js -> /home/ec2-user/.local/share/jupyter/nbextensions/codemirror_mode_extensions/main.js\r\n",
            "\u001b[32m[I 12:56:38 InstallContribNbextensionsApp]\u001b[m - Validating: \u001b[32mOK\u001b[0m\r\n",
            "\u001b[32m[I 12:56:38 InstallContribNbextensionsApp]\u001b[m Installing /home/ec2-user/anaconda3/envs/python3/lib/python3.6/site-packages/jupyter_contrib_nbextensions/nbextensions/table_beautifier -> table_beautifier\r\n",
            "\u001b[32m[I 12:56:38 InstallContribNbextensionsApp]\u001b[m Making directory: /home/ec2-user/.local/share/jupyter/nbextensions/table_beautifier/\r\n",
            "\u001b[32m[I 12:56:38 InstallContribNbextensionsApp]\u001b[m Copying: /home/ec2-user/anaconda3/envs/python3/lib/python3.6/site-packages/jupyter_contrib_nbextensions/nbextensions/table_beautifier/table_beautifier.yaml -> /home/ec2-user/.local/share/jupyter/nbextensions/table_beautifier/table_beautifier.yaml\r\n",
            "\u001b[32m[I 12:56:38 InstallContribNbextensionsApp]\u001b[m Copying: /home/ec2-user/anaconda3/envs/python3/lib/python3.6/site-packages/jupyter_contrib_nbextensions/nbextensions/table_beautifier/main.css -> /home/ec2-user/.local/share/jupyter/nbextensions/table_beautifier/main.css\r\n",
            "\u001b[32m[I 12:56:38 InstallContribNbextensionsApp]\u001b[m Copying: /home/ec2-user/anaconda3/envs/python3/lib/python3.6/site-packages/jupyter_contrib_nbextensions/nbextensions/table_beautifier/README.md -> /home/ec2-user/.local/share/jupyter/nbextensions/table_beautifier/README.md\r\n",
            "\u001b[32m[I 12:56:38 InstallContribNbextensionsApp]\u001b[m Copying: /home/ec2-user/anaconda3/envs/python3/lib/python3.6/site-packages/jupyter_contrib_nbextensions/nbextensions/table_beautifier/main.js -> /home/ec2-user/.local/share/jupyter/nbextensions/table_beautifier/main.js\r\n",
            "\u001b[32m[I 12:56:38 InstallContribNbextensionsApp]\u001b[m - Validating: \u001b[32mOK\u001b[0m\r\n",
            "\u001b[32m[I 12:56:38 InstallContribNbextensionsApp]\u001b[m Installing /home/ec2-user/anaconda3/envs/python3/lib/python3.6/site-packages/jupyter_contrib_nbextensions/nbextensions/load_tex_macros -> load_tex_macros\r\n",
            "\u001b[32m[I 12:56:38 InstallContribNbextensionsApp]\u001b[m Making directory: /home/ec2-user/.local/share/jupyter/nbextensions/load_tex_macros/\r\n",
            "\u001b[32m[I 12:56:38 InstallContribNbextensionsApp]\u001b[m Copying: /home/ec2-user/anaconda3/envs/python3/lib/python3.6/site-packages/jupyter_contrib_nbextensions/nbextensions/load_tex_macros/readme.md -> /home/ec2-user/.local/share/jupyter/nbextensions/load_tex_macros/readme.md\r\n",
            "\u001b[32m[I 12:56:38 InstallContribNbextensionsApp]\u001b[m Copying: /home/ec2-user/anaconda3/envs/python3/lib/python3.6/site-packages/jupyter_contrib_nbextensions/nbextensions/load_tex_macros/main.js -> /home/ec2-user/.local/share/jupyter/nbextensions/load_tex_macros/main.js\r\n",
            "\u001b[32m[I 12:56:38 InstallContribNbextensionsApp]\u001b[m Copying: /home/ec2-user/anaconda3/envs/python3/lib/python3.6/site-packages/jupyter_contrib_nbextensions/nbextensions/load_tex_macros/load_tex_macros.yaml -> /home/ec2-user/.local/share/jupyter/nbextensions/load_tex_macros/load_tex_macros.yaml\r\n",
            "\u001b[32m[I 12:56:38 InstallContribNbextensionsApp]\u001b[m Copying: /home/ec2-user/anaconda3/envs/python3/lib/python3.6/site-packages/jupyter_contrib_nbextensions/nbextensions/load_tex_macros/icon.png -> /home/ec2-user/.local/share/jupyter/nbextensions/load_tex_macros/icon.png\r\n",
            "\u001b[32m[I 12:56:38 InstallContribNbextensionsApp]\u001b[m - Validating: \u001b[32mOK\u001b[0m\r\n",
            "\u001b[32m[I 12:56:38 InstallContribNbextensionsApp]\u001b[m Installing /home/ec2-user/anaconda3/envs/python3/lib/python3.6/site-packages/jupyter_contrib_nbextensions/nbextensions/highlighter -> highlighter\r\n",
            "\u001b[32m[I 12:56:38 InstallContribNbextensionsApp]\u001b[m Making directory: /home/ec2-user/.local/share/jupyter/nbextensions/highlighter/\r\n",
            "\u001b[32m[I 12:56:38 InstallContribNbextensionsApp]\u001b[m Copying: /home/ec2-user/anaconda3/envs/python3/lib/python3.6/site-packages/jupyter_contrib_nbextensions/nbextensions/highlighter/highlighter.js -> /home/ec2-user/.local/share/jupyter/nbextensions/highlighter/highlighter.js\r\n",
            "\u001b[32m[I 12:56:38 InstallContribNbextensionsApp]\u001b[m Copying: /home/ec2-user/anaconda3/envs/python3/lib/python3.6/site-packages/jupyter_contrib_nbextensions/nbextensions/highlighter/highlighter.css -> /home/ec2-user/.local/share/jupyter/nbextensions/highlighter/highlighter.css\r\n",
            "\u001b[32m[I 12:56:38 InstallContribNbextensionsApp]\u001b[m Copying: /home/ec2-user/anaconda3/envs/python3/lib/python3.6/site-packages/jupyter_contrib_nbextensions/nbextensions/highlighter/demo_highlighter.html -> /home/ec2-user/.local/share/jupyter/nbextensions/highlighter/demo_highlighter.html\r\n",
            "\u001b[32m[I 12:56:38 InstallContribNbextensionsApp]\u001b[m Copying: /home/ec2-user/anaconda3/envs/python3/lib/python3.6/site-packages/jupyter_contrib_nbextensions/nbextensions/highlighter/export_highlights.ipynb -> /home/ec2-user/.local/share/jupyter/nbextensions/highlighter/export_highlights.ipynb\r\n",
            "\u001b[32m[I 12:56:38 InstallContribNbextensionsApp]\u001b[m Copying: /home/ec2-user/anaconda3/envs/python3/lib/python3.6/site-packages/jupyter_contrib_nbextensions/nbextensions/highlighter/export_highlights.html -> /home/ec2-user/.local/share/jupyter/nbextensions/highlighter/export_highlights.html\r\n",
            "\u001b[32m[I 12:56:38 InstallContribNbextensionsApp]\u001b[m Copying: /home/ec2-user/anaconda3/envs/python3/lib/python3.6/site-packages/jupyter_contrib_nbextensions/nbextensions/highlighter/tst_highlights.ipynb -> /home/ec2-user/.local/share/jupyter/nbextensions/highlighter/tst_highlights.ipynb\r\n",
            "\u001b[32m[I 12:56:38 InstallContribNbextensionsApp]\u001b[m Copying: /home/ec2-user/anaconda3/envs/python3/lib/python3.6/site-packages/jupyter_contrib_nbextensions/nbextensions/highlighter/tst_highlights.tex -> /home/ec2-user/.local/share/jupyter/nbextensions/highlighter/tst_highlights.tex\r\n",
            "\u001b[32m[I 12:56:38 InstallContribNbextensionsApp]\u001b[m Copying: /home/ec2-user/anaconda3/envs/python3/lib/python3.6/site-packages/jupyter_contrib_nbextensions/nbextensions/highlighter/demo_highlighter.ipynb -> /home/ec2-user/.local/share/jupyter/nbextensions/highlighter/demo_highlighter.ipynb\r\n",
            "\u001b[32m[I 12:56:38 InstallContribNbextensionsApp]\u001b[m Copying: /home/ec2-user/anaconda3/envs/python3/lib/python3.6/site-packages/jupyter_contrib_nbextensions/nbextensions/highlighter/readme.md -> /home/ec2-user/.local/share/jupyter/nbextensions/highlighter/readme.md\r\n",
            "\u001b[32m[I 12:56:38 InstallContribNbextensionsApp]\u001b[m Copying: /home/ec2-user/anaconda3/envs/python3/lib/python3.6/site-packages/jupyter_contrib_nbextensions/nbextensions/highlighter/image.gif -> /home/ec2-user/.local/share/jupyter/nbextensions/highlighter/image.gif\r\n",
            "\u001b[32m[I 12:56:38 InstallContribNbextensionsApp]\u001b[m Copying: /home/ec2-user/anaconda3/envs/python3/lib/python3.6/site-packages/jupyter_contrib_nbextensions/nbextensions/highlighter/export_highlights.tex -> /home/ec2-user/.local/share/jupyter/nbextensions/highlighter/export_highlights.tex\r\n",
            "\u001b[32m[I 12:56:38 InstallContribNbextensionsApp]\u001b[m Copying: /home/ec2-user/anaconda3/envs/python3/lib/python3.6/site-packages/jupyter_contrib_nbextensions/nbextensions/highlighter/export_highlights.pdf -> /home/ec2-user/.local/share/jupyter/nbextensions/highlighter/export_highlights.pdf\r\n",
            "\u001b[32m[I 12:56:38 InstallContribNbextensionsApp]\u001b[m Copying: /home/ec2-user/anaconda3/envs/python3/lib/python3.6/site-packages/jupyter_contrib_nbextensions/nbextensions/highlighter/tst_highlights.pdf -> /home/ec2-user/.local/share/jupyter/nbextensions/highlighter/tst_highlights.pdf\r\n",
            "\u001b[32m[I 12:56:38 InstallContribNbextensionsApp]\u001b[m Copying: /home/ec2-user/anaconda3/envs/python3/lib/python3.6/site-packages/jupyter_contrib_nbextensions/nbextensions/highlighter/highlighter.yaml -> /home/ec2-user/.local/share/jupyter/nbextensions/highlighter/highlighter.yaml\r\n",
            "\u001b[32m[I 12:56:38 InstallContribNbextensionsApp]\u001b[m Copying: /home/ec2-user/anaconda3/envs/python3/lib/python3.6/site-packages/jupyter_contrib_nbextensions/nbextensions/highlighter/tst_highlights.html -> /home/ec2-user/.local/share/jupyter/nbextensions/highlighter/tst_highlights.html\r\n",
            "\u001b[32m[I 12:56:38 InstallContribNbextensionsApp]\u001b[m Copying: /home/ec2-user/anaconda3/envs/python3/lib/python3.6/site-packages/jupyter_contrib_nbextensions/nbextensions/highlighter/icon.png -> /home/ec2-user/.local/share/jupyter/nbextensions/highlighter/icon.png\r\n",
            "\u001b[32m[I 12:56:38 InstallContribNbextensionsApp]\u001b[m - Validating: \u001b[32mOK\u001b[0m\r\n",
            "\u001b[32m[I 12:56:38 InstallContribNbextensionsApp]\u001b[m Installing /home/ec2-user/anaconda3/envs/python3/lib/python3.6/site-packages/jupyter_contrib_nbextensions/nbextensions/splitcell -> splitcell\r\n",
            "\u001b[32m[I 12:56:38 InstallContribNbextensionsApp]\u001b[m Making directory: /home/ec2-user/.local/share/jupyter/nbextensions/splitcell/\r\n",
            "\u001b[32m[I 12:56:38 InstallContribNbextensionsApp]\u001b[m Copying: /home/ec2-user/anaconda3/envs/python3/lib/python3.6/site-packages/jupyter_contrib_nbextensions/nbextensions/splitcell/splitcell.js -> /home/ec2-user/.local/share/jupyter/nbextensions/splitcell/splitcell.js\r\n",
            "\u001b[32m[I 12:56:38 InstallContribNbextensionsApp]\u001b[m Copying: /home/ec2-user/anaconda3/envs/python3/lib/python3.6/site-packages/jupyter_contrib_nbextensions/nbextensions/splitcell/splitcell.yaml -> /home/ec2-user/.local/share/jupyter/nbextensions/splitcell/splitcell.yaml\r\n",
            "\u001b[32m[I 12:56:38 InstallContribNbextensionsApp]\u001b[m Copying: /home/ec2-user/anaconda3/envs/python3/lib/python3.6/site-packages/jupyter_contrib_nbextensions/nbextensions/splitcell/readme.md -> /home/ec2-user/.local/share/jupyter/nbextensions/splitcell/readme.md\r\n",
            "\u001b[32m[I 12:56:38 InstallContribNbextensionsApp]\u001b[m Copying: /home/ec2-user/anaconda3/envs/python3/lib/python3.6/site-packages/jupyter_contrib_nbextensions/nbextensions/splitcell/icon.png -> /home/ec2-user/.local/share/jupyter/nbextensions/splitcell/icon.png\r\n",
            "\u001b[32m[I 12:56:38 InstallContribNbextensionsApp]\u001b[m - Validating: \u001b[32mOK\u001b[0m\r\n",
            "\u001b[32m[I 12:56:38 InstallContribNbextensionsApp]\u001b[m Installing /home/ec2-user/anaconda3/envs/python3/lib/python3.6/site-packages/jupyter_contrib_nbextensions/nbextensions/runtools -> runtools\r\n",
            "\u001b[32m[I 12:56:38 InstallContribNbextensionsApp]\u001b[m Making directory: /home/ec2-user/.local/share/jupyter/nbextensions/runtools/\r\n",
            "\u001b[32m[I 12:56:38 InstallContribNbextensionsApp]\u001b[m Copying: /home/ec2-user/anaconda3/envs/python3/lib/python3.6/site-packages/jupyter_contrib_nbextensions/nbextensions/runtools/annotations.odg -> /home/ec2-user/.local/share/jupyter/nbextensions/runtools/annotations.odg\r\n",
            "\u001b[32m[I 12:56:38 InstallContribNbextensionsApp]\u001b[m Copying: /home/ec2-user/anaconda3/envs/python3/lib/python3.6/site-packages/jupyter_contrib_nbextensions/nbextensions/runtools/main.css -> /home/ec2-user/.local/share/jupyter/nbextensions/runtools/main.css\r\n",
            "\u001b[32m[I 12:56:38 InstallContribNbextensionsApp]\u001b[m Copying: /home/ec2-user/anaconda3/envs/python3/lib/python3.6/site-packages/jupyter_contrib_nbextensions/nbextensions/runtools/runtools_nb.png -> /home/ec2-user/.local/share/jupyter/nbextensions/runtools/runtools_nb.png\r\n",
            "\u001b[32m[I 12:56:38 InstallContribNbextensionsApp]\u001b[m Copying: /home/ec2-user/anaconda3/envs/python3/lib/python3.6/site-packages/jupyter_contrib_nbextensions/nbextensions/runtools/runtools_marker.png -> /home/ec2-user/.local/share/jupyter/nbextensions/runtools/runtools_marker.png\r\n",
            "\u001b[32m[I 12:56:38 InstallContribNbextensionsApp]\u001b[m Copying: /home/ec2-user/anaconda3/envs/python3/lib/python3.6/site-packages/jupyter_contrib_nbextensions/nbextensions/runtools/runtools_lock.png -> /home/ec2-user/.local/share/jupyter/nbextensions/runtools/runtools_lock.png\r\n",
            "\u001b[32m[I 12:56:38 InstallContribNbextensionsApp]\u001b[m Copying: /home/ec2-user/anaconda3/envs/python3/lib/python3.6/site-packages/jupyter_contrib_nbextensions/nbextensions/runtools/runtools_execute.png -> /home/ec2-user/.local/share/jupyter/nbextensions/runtools/runtools_execute.png\r\n",
            "\u001b[32m[I 12:56:38 InstallContribNbextensionsApp]\u001b[m Copying: /home/ec2-user/anaconda3/envs/python3/lib/python3.6/site-packages/jupyter_contrib_nbextensions/nbextensions/runtools/readme.md -> /home/ec2-user/.local/share/jupyter/nbextensions/runtools/readme.md\r\n",
            "\u001b[32m[I 12:56:38 InstallContribNbextensionsApp]\u001b[m Copying: /home/ec2-user/anaconda3/envs/python3/lib/python3.6/site-packages/jupyter_contrib_nbextensions/nbextensions/runtools/runtools.yaml -> /home/ec2-user/.local/share/jupyter/nbextensions/runtools/runtools.yaml\r\n",
            "\u001b[32m[I 12:56:38 InstallContribNbextensionsApp]\u001b[m Copying: /home/ec2-user/anaconda3/envs/python3/lib/python3.6/site-packages/jupyter_contrib_nbextensions/nbextensions/runtools/demo.gif -> /home/ec2-user/.local/share/jupyter/nbextensions/runtools/demo.gif\r\n",
            "\u001b[32m[I 12:56:38 InstallContribNbextensionsApp]\u001b[m Copying: /home/ec2-user/anaconda3/envs/python3/lib/python3.6/site-packages/jupyter_contrib_nbextensions/nbextensions/runtools/main.js -> /home/ec2-user/.local/share/jupyter/nbextensions/runtools/main.js\r\n",
            "\u001b[32m[I 12:56:38 InstallContribNbextensionsApp]\u001b[m Copying: /home/ec2-user/anaconda3/envs/python3/lib/python3.6/site-packages/jupyter_contrib_nbextensions/nbextensions/runtools/gutter.css -> /home/ec2-user/.local/share/jupyter/nbextensions/runtools/gutter.css\r\n",
            "\u001b[32m[I 12:56:38 InstallContribNbextensionsApp]\u001b[m Copying: /home/ec2-user/anaconda3/envs/python3/lib/python3.6/site-packages/jupyter_contrib_nbextensions/nbextensions/runtools/runtools_show_hide.png -> /home/ec2-user/.local/share/jupyter/nbextensions/runtools/runtools_show_hide.png\r\n",
            "\u001b[32m[I 12:56:38 InstallContribNbextensionsApp]\u001b[m Copying: /home/ec2-user/anaconda3/envs/python3/lib/python3.6/site-packages/jupyter_contrib_nbextensions/nbextensions/runtools/cellstate.js -> /home/ec2-user/.local/share/jupyter/nbextensions/runtools/cellstate.js\r\n",
            "\u001b[32m[I 12:56:38 InstallContribNbextensionsApp]\u001b[m Copying: /home/ec2-user/anaconda3/envs/python3/lib/python3.6/site-packages/jupyter_contrib_nbextensions/nbextensions/runtools/icon.png -> /home/ec2-user/.local/share/jupyter/nbextensions/runtools/icon.png\r\n",
            "\u001b[32m[I 12:56:38 InstallContribNbextensionsApp]\u001b[m - Validating: \u001b[32mOK\u001b[0m\r\n",
            "\u001b[32m[I 12:56:38 InstallContribNbextensionsApp]\u001b[m Installing /home/ec2-user/anaconda3/envs/python3/lib/python3.6/site-packages/jupyter_contrib_nbextensions/nbextensions/qtconsole -> qtconsole\r\n",
            "\u001b[32m[I 12:56:38 InstallContribNbextensionsApp]\u001b[m Making directory: /home/ec2-user/.local/share/jupyter/nbextensions/qtconsole/\r\n",
            "\u001b[32m[I 12:56:38 InstallContribNbextensionsApp]\u001b[m Copying: /home/ec2-user/anaconda3/envs/python3/lib/python3.6/site-packages/jupyter_contrib_nbextensions/nbextensions/qtconsole/README.md -> /home/ec2-user/.local/share/jupyter/nbextensions/qtconsole/README.md\r\n",
            "\u001b[32m[I 12:56:38 InstallContribNbextensionsApp]\u001b[m Copying: /home/ec2-user/anaconda3/envs/python3/lib/python3.6/site-packages/jupyter_contrib_nbextensions/nbextensions/qtconsole/qtconsole.yaml -> /home/ec2-user/.local/share/jupyter/nbextensions/qtconsole/qtconsole.yaml\r\n",
            "\u001b[32m[I 12:56:38 InstallContribNbextensionsApp]\u001b[m Copying: /home/ec2-user/anaconda3/envs/python3/lib/python3.6/site-packages/jupyter_contrib_nbextensions/nbextensions/qtconsole/qtconsole.js -> /home/ec2-user/.local/share/jupyter/nbextensions/qtconsole/qtconsole.js\r\n",
            "\u001b[32m[I 12:56:38 InstallContribNbextensionsApp]\u001b[m - Validating: \u001b[32mOK\u001b[0m\r\n",
            "\u001b[32m[I 12:56:38 InstallContribNbextensionsApp]\u001b[m Installing /home/ec2-user/anaconda3/envs/python3/lib/python3.6/site-packages/jupyter_contrib_nbextensions/nbextensions/cell_filter -> cell_filter\r\n",
            "\u001b[32m[I 12:56:38 InstallContribNbextensionsApp]\u001b[m Making directory: /home/ec2-user/.local/share/jupyter/nbextensions/cell_filter/\r\n",
            "\u001b[32m[I 12:56:38 InstallContribNbextensionsApp]\u001b[m Copying: /home/ec2-user/anaconda3/envs/python3/lib/python3.6/site-packages/jupyter_contrib_nbextensions/nbextensions/cell_filter/cell_filter.js -> /home/ec2-user/.local/share/jupyter/nbextensions/cell_filter/cell_filter.js\r\n",
            "\u001b[32m[I 12:56:38 InstallContribNbextensionsApp]\u001b[m Copying: /home/ec2-user/anaconda3/envs/python3/lib/python3.6/site-packages/jupyter_contrib_nbextensions/nbextensions/cell_filter/cell_filter.yml -> /home/ec2-user/.local/share/jupyter/nbextensions/cell_filter/cell_filter.yml\r\n",
            "\u001b[32m[I 12:56:38 InstallContribNbextensionsApp]\u001b[m Copying: /home/ec2-user/anaconda3/envs/python3/lib/python3.6/site-packages/jupyter_contrib_nbextensions/nbextensions/cell_filter/README.md -> /home/ec2-user/.local/share/jupyter/nbextensions/cell_filter/README.md\r\n",
            "\u001b[32m[I 12:56:38 InstallContribNbextensionsApp]\u001b[m - Validating: \u001b[32mOK\u001b[0m\r\n",
            "\u001b[32m[I 12:56:38 InstallContribNbextensionsApp]\u001b[m Installing /home/ec2-user/anaconda3/envs/python3/lib/python3.6/site-packages/jupyter_contrib_nbextensions/nbextensions/skill -> skill\r\n",
            "\u001b[32m[I 12:56:38 InstallContribNbextensionsApp]\u001b[m Making directory: /home/ec2-user/.local/share/jupyter/nbextensions/skill/\r\n",
            "\u001b[32m[I 12:56:38 InstallContribNbextensionsApp]\u001b[m Copying: /home/ec2-user/anaconda3/envs/python3/lib/python3.6/site-packages/jupyter_contrib_nbextensions/nbextensions/skill/skill.yaml -> /home/ec2-user/.local/share/jupyter/nbextensions/skill/skill.yaml\r\n",
            "\u001b[32m[I 12:56:38 InstallContribNbextensionsApp]\u001b[m Copying: /home/ec2-user/anaconda3/envs/python3/lib/python3.6/site-packages/jupyter_contrib_nbextensions/nbextensions/skill/skill.js -> /home/ec2-user/.local/share/jupyter/nbextensions/skill/skill.js\r\n",
            "\u001b[32m[I 12:56:38 InstallContribNbextensionsApp]\u001b[m Copying: /home/ec2-user/anaconda3/envs/python3/lib/python3.6/site-packages/jupyter_contrib_nbextensions/nbextensions/skill/README.md -> /home/ec2-user/.local/share/jupyter/nbextensions/skill/README.md\r\n",
            "\u001b[32m[I 12:56:38 InstallContribNbextensionsApp]\u001b[m Copying: /home/ec2-user/anaconda3/envs/python3/lib/python3.6/site-packages/jupyter_contrib_nbextensions/nbextensions/skill/main.js -> /home/ec2-user/.local/share/jupyter/nbextensions/skill/main.js\r\n",
            "\u001b[32m[I 12:56:38 InstallContribNbextensionsApp]\u001b[m - Validating: \u001b[32mOK\u001b[0m\r\n",
            "\u001b[32m[I 12:56:38 InstallContribNbextensionsApp]\u001b[m Installing /home/ec2-user/anaconda3/envs/python3/lib/python3.6/site-packages/jupyter_contrib_nbextensions/nbextensions/gist_it -> gist_it\r\n",
            "\u001b[32m[I 12:56:38 InstallContribNbextensionsApp]\u001b[m Making directory: /home/ec2-user/.local/share/jupyter/nbextensions/gist_it/\r\n",
            "\u001b[32m[I 12:56:38 InstallContribNbextensionsApp]\u001b[m Copying: /home/ec2-user/anaconda3/envs/python3/lib/python3.6/site-packages/jupyter_contrib_nbextensions/nbextensions/gist_it/readme.md -> /home/ec2-user/.local/share/jupyter/nbextensions/gist_it/readme.md\r\n"
          ],
          "name": "stdout"
        },
        {
          "output_type": "stream",
          "text": [
            "\u001b[32m[I 12:56:38 InstallContribNbextensionsApp]\u001b[m Copying: /home/ec2-user/anaconda3/envs/python3/lib/python3.6/site-packages/jupyter_contrib_nbextensions/nbextensions/gist_it/gist_it.yaml -> /home/ec2-user/.local/share/jupyter/nbextensions/gist_it/gist_it.yaml\r\n",
            "\u001b[32m[I 12:56:38 InstallContribNbextensionsApp]\u001b[m Copying: /home/ec2-user/anaconda3/envs/python3/lib/python3.6/site-packages/jupyter_contrib_nbextensions/nbextensions/gist_it/main.js -> /home/ec2-user/.local/share/jupyter/nbextensions/gist_it/main.js\r\n",
            "\u001b[32m[I 12:56:38 InstallContribNbextensionsApp]\u001b[m Copying: /home/ec2-user/anaconda3/envs/python3/lib/python3.6/site-packages/jupyter_contrib_nbextensions/nbextensions/gist_it/icon.png -> /home/ec2-user/.local/share/jupyter/nbextensions/gist_it/icon.png\r\n",
            "\u001b[32m[I 12:56:38 InstallContribNbextensionsApp]\u001b[m - Validating: \u001b[32mOK\u001b[0m\r\n",
            "\u001b[32m[I 12:56:38 InstallContribNbextensionsApp]\u001b[m Installing /home/ec2-user/anaconda3/envs/python3/lib/python3.6/site-packages/jupyter_contrib_nbextensions/nbextensions/exercise2 -> exercise2\r\n",
            "\u001b[32m[I 12:56:38 InstallContribNbextensionsApp]\u001b[m Making directory: /home/ec2-user/.local/share/jupyter/nbextensions/exercise2/\r\n",
            "\u001b[32m[I 12:56:38 InstallContribNbextensionsApp]\u001b[m Copying: /home/ec2-user/anaconda3/envs/python3/lib/python3.6/site-packages/jupyter_contrib_nbextensions/nbextensions/exercise2/main.css -> /home/ec2-user/.local/share/jupyter/nbextensions/exercise2/main.css\r\n",
            "\u001b[32m[I 12:56:38 InstallContribNbextensionsApp]\u001b[m Copying: /home/ec2-user/anaconda3/envs/python3/lib/python3.6/site-packages/jupyter_contrib_nbextensions/nbextensions/exercise2/readme.md -> /home/ec2-user/.local/share/jupyter/nbextensions/exercise2/readme.md\r\n",
            "\u001b[32m[I 12:56:38 InstallContribNbextensionsApp]\u001b[m Copying: /home/ec2-user/anaconda3/envs/python3/lib/python3.6/site-packages/jupyter_contrib_nbextensions/nbextensions/exercise2/image.gif -> /home/ec2-user/.local/share/jupyter/nbextensions/exercise2/image.gif\r\n",
            "\u001b[32m[I 12:56:38 InstallContribNbextensionsApp]\u001b[m Copying: /home/ec2-user/anaconda3/envs/python3/lib/python3.6/site-packages/jupyter_contrib_nbextensions/nbextensions/exercise2/main.js -> /home/ec2-user/.local/share/jupyter/nbextensions/exercise2/main.js\r\n",
            "\u001b[32m[I 12:56:38 InstallContribNbextensionsApp]\u001b[m Copying: /home/ec2-user/anaconda3/envs/python3/lib/python3.6/site-packages/jupyter_contrib_nbextensions/nbextensions/exercise2/exercise2.yaml -> /home/ec2-user/.local/share/jupyter/nbextensions/exercise2/exercise2.yaml\r\n",
            "\u001b[32m[I 12:56:38 InstallContribNbextensionsApp]\u001b[m Copying: /home/ec2-user/anaconda3/envs/python3/lib/python3.6/site-packages/jupyter_contrib_nbextensions/nbextensions/exercise2/icon.png -> /home/ec2-user/.local/share/jupyter/nbextensions/exercise2/icon.png\r\n",
            "\u001b[32m[I 12:56:38 InstallContribNbextensionsApp]\u001b[m - Validating: \u001b[32mOK\u001b[0m\r\n",
            "\u001b[32m[I 12:56:38 InstallContribNbextensionsApp]\u001b[m Installing /home/ec2-user/anaconda3/envs/python3/lib/python3.6/site-packages/jupyter_contrib_nbextensions/nbextensions/snippets_menu -> snippets_menu\r\n",
            "\u001b[32m[I 12:56:38 InstallContribNbextensionsApp]\u001b[m Making directory: /home/ec2-user/.local/share/jupyter/nbextensions/snippets_menu/\r\n",
            "\u001b[32m[I 12:56:38 InstallContribNbextensionsApp]\u001b[m Copying: /home/ec2-user/anaconda3/envs/python3/lib/python3.6/site-packages/jupyter_contrib_nbextensions/nbextensions/snippets_menu/screenshot1.png -> /home/ec2-user/.local/share/jupyter/nbextensions/snippets_menu/screenshot1.png\r\n",
            "\u001b[32m[I 12:56:38 InstallContribNbextensionsApp]\u001b[m Copying: /home/ec2-user/anaconda3/envs/python3/lib/python3.6/site-packages/jupyter_contrib_nbextensions/nbextensions/snippets_menu/snippets_submenu_python.js -> /home/ec2-user/.local/share/jupyter/nbextensions/snippets_menu/snippets_submenu_python.js\r\n",
            "\u001b[32m[I 12:56:38 InstallContribNbextensionsApp]\u001b[m Copying: /home/ec2-user/anaconda3/envs/python3/lib/python3.6/site-packages/jupyter_contrib_nbextensions/nbextensions/snippets_menu/config.yaml -> /home/ec2-user/.local/share/jupyter/nbextensions/snippets_menu/config.yaml\r\n",
            "\u001b[32m[I 12:56:38 InstallContribNbextensionsApp]\u001b[m Copying: /home/ec2-user/anaconda3/envs/python3/lib/python3.6/site-packages/jupyter_contrib_nbextensions/nbextensions/snippets_menu/screenshot2.png -> /home/ec2-user/.local/share/jupyter/nbextensions/snippets_menu/screenshot2.png\r\n",
            "\u001b[32m[I 12:56:38 InstallContribNbextensionsApp]\u001b[m Copying: /home/ec2-user/anaconda3/envs/python3/lib/python3.6/site-packages/jupyter_contrib_nbextensions/nbextensions/snippets_menu/readme.md -> /home/ec2-user/.local/share/jupyter/nbextensions/snippets_menu/readme.md\r\n",
            "\u001b[32m[I 12:56:38 InstallContribNbextensionsApp]\u001b[m Copying: /home/ec2-user/anaconda3/envs/python3/lib/python3.6/site-packages/jupyter_contrib_nbextensions/nbextensions/snippets_menu/main.js -> /home/ec2-user/.local/share/jupyter/nbextensions/snippets_menu/main.js\r\n",
            "\u001b[32m[I 12:56:38 InstallContribNbextensionsApp]\u001b[m Copying: /home/ec2-user/anaconda3/envs/python3/lib/python3.6/site-packages/jupyter_contrib_nbextensions/nbextensions/snippets_menu/screenshot3.png -> /home/ec2-user/.local/share/jupyter/nbextensions/snippets_menu/screenshot3.png\r\n",
            "\u001b[32m[I 12:56:38 InstallContribNbextensionsApp]\u001b[m Copying: /home/ec2-user/anaconda3/envs/python3/lib/python3.6/site-packages/jupyter_contrib_nbextensions/nbextensions/snippets_menu/snippets_submenu_markdown.js -> /home/ec2-user/.local/share/jupyter/nbextensions/snippets_menu/snippets_submenu_markdown.js\r\n",
            "\u001b[32m[I 12:56:38 InstallContribNbextensionsApp]\u001b[m Copying: /home/ec2-user/anaconda3/envs/python3/lib/python3.6/site-packages/jupyter_contrib_nbextensions/nbextensions/snippets_menu/thumbnail.png -> /home/ec2-user/.local/share/jupyter/nbextensions/snippets_menu/thumbnail.png\r\n",
            "\u001b[32m[I 12:56:38 InstallContribNbextensionsApp]\u001b[m Copying: /home/ec2-user/anaconda3/envs/python3/lib/python3.6/site-packages/jupyter_contrib_nbextensions/nbextensions/snippets_menu/snippets_menu.css -> /home/ec2-user/.local/share/jupyter/nbextensions/snippets_menu/snippets_menu.css\r\n",
            "\u001b[32m[I 12:56:38 InstallContribNbextensionsApp]\u001b[m Copying: /home/ec2-user/anaconda3/envs/python3/lib/python3.6/site-packages/jupyter_contrib_nbextensions/nbextensions/snippets_menu/examples_for_custom.js -> /home/ec2-user/.local/share/jupyter/nbextensions/snippets_menu/examples_for_custom.js\r\n",
            "\u001b[32m[I 12:56:38 InstallContribNbextensionsApp]\u001b[m Making directory: /home/ec2-user/.local/share/jupyter/nbextensions/snippets_menu/snippets_submenus_python\r\n",
            "\u001b[32m[I 12:56:38 InstallContribNbextensionsApp]\u001b[m Copying: /home/ec2-user/anaconda3/envs/python3/lib/python3.6/site-packages/jupyter_contrib_nbextensions/nbextensions/snippets_menu/snippets_submenus_python/pandas.js -> /home/ec2-user/.local/share/jupyter/nbextensions/snippets_menu/snippets_submenus_python/pandas.js\r\n",
            "\u001b[32m[I 12:56:38 InstallContribNbextensionsApp]\u001b[m Copying: /home/ec2-user/anaconda3/envs/python3/lib/python3.6/site-packages/jupyter_contrib_nbextensions/nbextensions/snippets_menu/snippets_submenus_python/scipy_constants.js -> /home/ec2-user/.local/share/jupyter/nbextensions/snippets_menu/snippets_submenus_python/scipy_constants.js\r\n",
            "\u001b[32m[I 12:56:38 InstallContribNbextensionsApp]\u001b[m Copying: /home/ec2-user/anaconda3/envs/python3/lib/python3.6/site-packages/jupyter_contrib_nbextensions/nbextensions/snippets_menu/snippets_submenus_python/numba.js -> /home/ec2-user/.local/share/jupyter/nbextensions/snippets_menu/snippets_submenus_python/numba.js\r\n",
            "\u001b[32m[I 12:56:38 InstallContribNbextensionsApp]\u001b[m Copying: /home/ec2-user/anaconda3/envs/python3/lib/python3.6/site-packages/jupyter_contrib_nbextensions/nbextensions/snippets_menu/snippets_submenus_python/astropy.js -> /home/ec2-user/.local/share/jupyter/nbextensions/snippets_menu/snippets_submenus_python/astropy.js\r\n",
            "\u001b[32m[I 12:56:38 InstallContribNbextensionsApp]\u001b[m Copying: /home/ec2-user/anaconda3/envs/python3/lib/python3.6/site-packages/jupyter_contrib_nbextensions/nbextensions/snippets_menu/snippets_submenus_python/python_regex.js -> /home/ec2-user/.local/share/jupyter/nbextensions/snippets_menu/snippets_submenus_python/python_regex.js\r\n",
            "\u001b[32m[I 12:56:38 InstallContribNbextensionsApp]\u001b[m Copying: /home/ec2-user/anaconda3/envs/python3/lib/python3.6/site-packages/jupyter_contrib_nbextensions/nbextensions/snippets_menu/snippets_submenus_python/matplotlib.js -> /home/ec2-user/.local/share/jupyter/nbextensions/snippets_menu/snippets_submenus_python/matplotlib.js\r\n",
            "\u001b[32m[I 12:56:38 InstallContribNbextensionsApp]\u001b[m Copying: /home/ec2-user/anaconda3/envs/python3/lib/python3.6/site-packages/jupyter_contrib_nbextensions/nbextensions/snippets_menu/snippets_submenus_python/sympy.js -> /home/ec2-user/.local/share/jupyter/nbextensions/snippets_menu/snippets_submenus_python/sympy.js\r\n",
            "\u001b[32m[I 12:56:38 InstallContribNbextensionsApp]\u001b[m Copying: /home/ec2-user/anaconda3/envs/python3/lib/python3.6/site-packages/jupyter_contrib_nbextensions/nbextensions/snippets_menu/snippets_submenus_python/numpy.js -> /home/ec2-user/.local/share/jupyter/nbextensions/snippets_menu/snippets_submenus_python/numpy.js\r\n",
            "\u001b[32m[I 12:56:38 InstallContribNbextensionsApp]\u001b[m Copying: /home/ec2-user/anaconda3/envs/python3/lib/python3.6/site-packages/jupyter_contrib_nbextensions/nbextensions/snippets_menu/snippets_submenus_python/scipy_special.js -> /home/ec2-user/.local/share/jupyter/nbextensions/snippets_menu/snippets_submenus_python/scipy_special.js\r\n",
            "\u001b[32m[I 12:56:38 InstallContribNbextensionsApp]\u001b[m Copying: /home/ec2-user/anaconda3/envs/python3/lib/python3.6/site-packages/jupyter_contrib_nbextensions/nbextensions/snippets_menu/snippets_submenus_python/sympy_functions.js -> /home/ec2-user/.local/share/jupyter/nbextensions/snippets_menu/snippets_submenus_python/sympy_functions.js\r\n",
            "\u001b[32m[I 12:56:38 InstallContribNbextensionsApp]\u001b[m Copying: /home/ec2-user/anaconda3/envs/python3/lib/python3.6/site-packages/jupyter_contrib_nbextensions/nbextensions/snippets_menu/snippets_submenus_python/python.js -> /home/ec2-user/.local/share/jupyter/nbextensions/snippets_menu/snippets_submenus_python/python.js\r\n",
            "\u001b[32m[I 12:56:38 InstallContribNbextensionsApp]\u001b[m Copying: /home/ec2-user/anaconda3/envs/python3/lib/python3.6/site-packages/jupyter_contrib_nbextensions/nbextensions/snippets_menu/snippets_submenus_python/numpy_ufuncs.js -> /home/ec2-user/.local/share/jupyter/nbextensions/snippets_menu/snippets_submenus_python/numpy_ufuncs.js\r\n",
            "\u001b[32m[I 12:56:38 InstallContribNbextensionsApp]\u001b[m Copying: /home/ec2-user/anaconda3/envs/python3/lib/python3.6/site-packages/jupyter_contrib_nbextensions/nbextensions/snippets_menu/snippets_submenus_python/sympy_assumptions.js -> /home/ec2-user/.local/share/jupyter/nbextensions/snippets_menu/snippets_submenus_python/sympy_assumptions.js\r\n",
            "\u001b[32m[I 12:56:38 InstallContribNbextensionsApp]\u001b[m Copying: /home/ec2-user/anaconda3/envs/python3/lib/python3.6/site-packages/jupyter_contrib_nbextensions/nbextensions/snippets_menu/snippets_submenus_python/scipy.js -> /home/ec2-user/.local/share/jupyter/nbextensions/snippets_menu/snippets_submenus_python/scipy.js\r\n",
            "\u001b[32m[I 12:56:38 InstallContribNbextensionsApp]\u001b[m Copying: /home/ec2-user/anaconda3/envs/python3/lib/python3.6/site-packages/jupyter_contrib_nbextensions/nbextensions/snippets_menu/snippets_submenus_python/numpy_polynomial.js -> /home/ec2-user/.local/share/jupyter/nbextensions/snippets_menu/snippets_submenus_python/numpy_polynomial.js\r\n",
            "\u001b[32m[I 12:56:38 InstallContribNbextensionsApp]\u001b[m Copying: /home/ec2-user/anaconda3/envs/python3/lib/python3.6/site-packages/jupyter_contrib_nbextensions/nbextensions/snippets_menu/snippets_submenus_python/h5py.js -> /home/ec2-user/.local/share/jupyter/nbextensions/snippets_menu/snippets_submenus_python/h5py.js\r\n",
            "\u001b[32m[I 12:56:38 InstallContribNbextensionsApp]\u001b[m - Validating: \u001b[32mOK\u001b[0m\r\n",
            "\u001b[32m[I 12:56:38 InstallContribNbextensionsApp]\u001b[m Installing /home/ec2-user/anaconda3/envs/python3/lib/python3.6/site-packages/jupyter_contrib_nbextensions/nbextensions/snippets -> snippets\r\n",
            "\u001b[32m[I 12:56:38 InstallContribNbextensionsApp]\u001b[m Making directory: /home/ec2-user/.local/share/jupyter/nbextensions/snippets/\r\n",
            "\u001b[32m[I 12:56:38 InstallContribNbextensionsApp]\u001b[m Copying: /home/ec2-user/anaconda3/envs/python3/lib/python3.6/site-packages/jupyter_contrib_nbextensions/nbextensions/snippets/README.md -> /home/ec2-user/.local/share/jupyter/nbextensions/snippets/README.md\r\n",
            "\u001b[32m[I 12:56:38 InstallContribNbextensionsApp]\u001b[m Copying: /home/ec2-user/anaconda3/envs/python3/lib/python3.6/site-packages/jupyter_contrib_nbextensions/nbextensions/snippets/main.js -> /home/ec2-user/.local/share/jupyter/nbextensions/snippets/main.js\r\n",
            "\u001b[32m[I 12:56:38 InstallContribNbextensionsApp]\u001b[m Copying: /home/ec2-user/anaconda3/envs/python3/lib/python3.6/site-packages/jupyter_contrib_nbextensions/nbextensions/snippets/snippets.json -> /home/ec2-user/.local/share/jupyter/nbextensions/snippets/snippets.json\r\n",
            "\u001b[32m[I 12:56:38 InstallContribNbextensionsApp]\u001b[m Copying: /home/ec2-user/anaconda3/envs/python3/lib/python3.6/site-packages/jupyter_contrib_nbextensions/nbextensions/snippets/snippets-demo.gif -> /home/ec2-user/.local/share/jupyter/nbextensions/snippets/snippets-demo.gif\r\n",
            "\u001b[32m[I 12:56:38 InstallContribNbextensionsApp]\u001b[m Copying: /home/ec2-user/anaconda3/envs/python3/lib/python3.6/site-packages/jupyter_contrib_nbextensions/nbextensions/snippets/snippets.yaml -> /home/ec2-user/.local/share/jupyter/nbextensions/snippets/snippets.yaml\r\n",
            "\u001b[32m[I 12:56:38 InstallContribNbextensionsApp]\u001b[m - Validating: \u001b[32mOK\u001b[0m\r\n",
            "\u001b[32m[I 12:56:38 InstallContribNbextensionsApp]\u001b[m Installing /home/ec2-user/anaconda3/envs/python3/lib/python3.6/site-packages/jupyter_contrib_nbextensions/nbextensions/exercise -> exercise\r\n",
            "\u001b[32m[I 12:56:38 InstallContribNbextensionsApp]\u001b[m Making directory: /home/ec2-user/.local/share/jupyter/nbextensions/exercise/\r\n",
            "\u001b[32m[I 12:56:38 InstallContribNbextensionsApp]\u001b[m Copying: /home/ec2-user/anaconda3/envs/python3/lib/python3.6/site-packages/jupyter_contrib_nbextensions/nbextensions/exercise/main.css -> /home/ec2-user/.local/share/jupyter/nbextensions/exercise/main.css\r\n",
            "\u001b[32m[I 12:56:38 InstallContribNbextensionsApp]\u001b[m Copying: /home/ec2-user/anaconda3/envs/python3/lib/python3.6/site-packages/jupyter_contrib_nbextensions/nbextensions/exercise/exercise.yaml -> /home/ec2-user/.local/share/jupyter/nbextensions/exercise/exercise.yaml\r\n",
            "\u001b[32m[I 12:56:38 InstallContribNbextensionsApp]\u001b[m Copying: /home/ec2-user/anaconda3/envs/python3/lib/python3.6/site-packages/jupyter_contrib_nbextensions/nbextensions/exercise/readme.md -> /home/ec2-user/.local/share/jupyter/nbextensions/exercise/readme.md\r\n",
            "\u001b[32m[I 12:56:38 InstallContribNbextensionsApp]\u001b[m Copying: /home/ec2-user/anaconda3/envs/python3/lib/python3.6/site-packages/jupyter_contrib_nbextensions/nbextensions/exercise/image.gif -> /home/ec2-user/.local/share/jupyter/nbextensions/exercise/image.gif\r\n",
            "\u001b[32m[I 12:56:38 InstallContribNbextensionsApp]\u001b[m Copying: /home/ec2-user/anaconda3/envs/python3/lib/python3.6/site-packages/jupyter_contrib_nbextensions/nbextensions/exercise/main.js -> /home/ec2-user/.local/share/jupyter/nbextensions/exercise/main.js\r\n",
            "\u001b[32m[I 12:56:38 InstallContribNbextensionsApp]\u001b[m Copying: /home/ec2-user/anaconda3/envs/python3/lib/python3.6/site-packages/jupyter_contrib_nbextensions/nbextensions/exercise/history.md -> /home/ec2-user/.local/share/jupyter/nbextensions/exercise/history.md\r\n",
            "\u001b[32m[I 12:56:38 InstallContribNbextensionsApp]\u001b[m Copying: /home/ec2-user/anaconda3/envs/python3/lib/python3.6/site-packages/jupyter_contrib_nbextensions/nbextensions/exercise/icon.png -> /home/ec2-user/.local/share/jupyter/nbextensions/exercise/icon.png\r\n",
            "\u001b[32m[I 12:56:38 InstallContribNbextensionsApp]\u001b[m - Validating: \u001b[32mOK\u001b[0m\r\n",
            "\u001b[32m[I 12:56:38 InstallContribNbextensionsApp]\u001b[m Installing /home/ec2-user/anaconda3/envs/python3/lib/python3.6/site-packages/jupyter_contrib_nbextensions/nbextensions/addbefore -> addbefore\r\n",
            "\u001b[32m[I 12:56:38 InstallContribNbextensionsApp]\u001b[m Making directory: /home/ec2-user/.local/share/jupyter/nbextensions/addbefore/\r\n",
            "\u001b[32m[I 12:56:38 InstallContribNbextensionsApp]\u001b[m Copying: /home/ec2-user/anaconda3/envs/python3/lib/python3.6/site-packages/jupyter_contrib_nbextensions/nbextensions/addbefore/addbefore.yaml -> /home/ec2-user/.local/share/jupyter/nbextensions/addbefore/addbefore.yaml\r\n",
            "\u001b[32m[I 12:56:38 InstallContribNbextensionsApp]\u001b[m Copying: /home/ec2-user/anaconda3/envs/python3/lib/python3.6/site-packages/jupyter_contrib_nbextensions/nbextensions/addbefore/readme.md -> /home/ec2-user/.local/share/jupyter/nbextensions/addbefore/readme.md\r\n",
            "\u001b[32m[I 12:56:38 InstallContribNbextensionsApp]\u001b[m Copying: /home/ec2-user/anaconda3/envs/python3/lib/python3.6/site-packages/jupyter_contrib_nbextensions/nbextensions/addbefore/main.js -> /home/ec2-user/.local/share/jupyter/nbextensions/addbefore/main.js\r\n",
            "\u001b[32m[I 12:56:38 InstallContribNbextensionsApp]\u001b[m Copying: /home/ec2-user/anaconda3/envs/python3/lib/python3.6/site-packages/jupyter_contrib_nbextensions/nbextensions/addbefore/icon.png -> /home/ec2-user/.local/share/jupyter/nbextensions/addbefore/icon.png\r\n",
            "\u001b[32m[I 12:56:38 InstallContribNbextensionsApp]\u001b[m - Validating: \u001b[32mOK\u001b[0m\r\n",
            "\u001b[32m[I 12:56:38 InstallContribNbextensionsApp]\u001b[m Installing /home/ec2-user/anaconda3/envs/python3/lib/python3.6/site-packages/jupyter_contrib_nbextensions/nbextensions/hide_input_all -> hide_input_all\r\n",
            "\u001b[32m[I 12:56:38 InstallContribNbextensionsApp]\u001b[m Making directory: /home/ec2-user/.local/share/jupyter/nbextensions/hide_input_all/\r\n",
            "\u001b[32m[I 12:56:38 InstallContribNbextensionsApp]\u001b[m Copying: /home/ec2-user/anaconda3/envs/python3/lib/python3.6/site-packages/jupyter_contrib_nbextensions/nbextensions/hide_input_all/hide_input_all_show.png -> /home/ec2-user/.local/share/jupyter/nbextensions/hide_input_all/hide_input_all_show.png\r\n",
            "\u001b[32m[I 12:56:38 InstallContribNbextensionsApp]\u001b[m Copying: /home/ec2-user/anaconda3/envs/python3/lib/python3.6/site-packages/jupyter_contrib_nbextensions/nbextensions/hide_input_all/readme.md -> /home/ec2-user/.local/share/jupyter/nbextensions/hide_input_all/readme.md\r\n",
            "\u001b[32m[I 12:56:38 InstallContribNbextensionsApp]\u001b[m Copying: /home/ec2-user/anaconda3/envs/python3/lib/python3.6/site-packages/jupyter_contrib_nbextensions/nbextensions/hide_input_all/hide_input_all_hide.png -> /home/ec2-user/.local/share/jupyter/nbextensions/hide_input_all/hide_input_all_hide.png\r\n",
            "\u001b[32m[I 12:56:38 InstallContribNbextensionsApp]\u001b[m Copying: /home/ec2-user/anaconda3/envs/python3/lib/python3.6/site-packages/jupyter_contrib_nbextensions/nbextensions/hide_input_all/main.js -> /home/ec2-user/.local/share/jupyter/nbextensions/hide_input_all/main.js\r\n",
            "\u001b[32m[I 12:56:38 InstallContribNbextensionsApp]\u001b[m Copying: /home/ec2-user/anaconda3/envs/python3/lib/python3.6/site-packages/jupyter_contrib_nbextensions/nbextensions/hide_input_all/hide_input_all.yaml -> /home/ec2-user/.local/share/jupyter/nbextensions/hide_input_all/hide_input_all.yaml\r\n",
            "\u001b[32m[I 12:56:38 InstallContribNbextensionsApp]\u001b[m Copying: /home/ec2-user/anaconda3/envs/python3/lib/python3.6/site-packages/jupyter_contrib_nbextensions/nbextensions/hide_input_all/icon.png -> /home/ec2-user/.local/share/jupyter/nbextensions/hide_input_all/icon.png\r\n",
            "\u001b[32m[I 12:56:38 InstallContribNbextensionsApp]\u001b[m - Validating: \u001b[32mOK\u001b[0m\r\n",
            "\u001b[32m[I 12:56:38 InstallContribNbextensionsApp]\u001b[m Installing /home/ec2-user/anaconda3/envs/python3/lib/python3.6/site-packages/jupyter_highlight_selected_word/static/highlight_selected_word -> highlight_selected_word\r\n",
            "\u001b[32m[I 12:56:38 InstallContribNbextensionsApp]\u001b[m Making directory: /home/ec2-user/.local/share/jupyter/nbextensions/highlight_selected_word/\r\n",
            "\u001b[32m[I 12:56:38 InstallContribNbextensionsApp]\u001b[m Copying: /home/ec2-user/anaconda3/envs/python3/lib/python3.6/site-packages/jupyter_highlight_selected_word/static/highlight_selected_word/README.md -> /home/ec2-user/.local/share/jupyter/nbextensions/highlight_selected_word/README.md\r\n",
            "\u001b[32m[I 12:56:38 InstallContribNbextensionsApp]\u001b[m Copying: /home/ec2-user/anaconda3/envs/python3/lib/python3.6/site-packages/jupyter_highlight_selected_word/static/highlight_selected_word/configurator.yaml -> /home/ec2-user/.local/share/jupyter/nbextensions/highlight_selected_word/configurator.yaml\r\n",
            "\u001b[32m[I 12:56:38 InstallContribNbextensionsApp]\u001b[m Copying: /home/ec2-user/anaconda3/envs/python3/lib/python3.6/site-packages/jupyter_highlight_selected_word/static/highlight_selected_word/main.js -> /home/ec2-user/.local/share/jupyter/nbextensions/highlight_selected_word/main.js\r\n",
            "\u001b[32m[I 12:56:38 InstallContribNbextensionsApp]\u001b[m - Validating: \u001b[32mOK\u001b[0m\r\n",
            "\u001b[32m[I 12:56:38 InstallContribNbextensionsApp]\u001b[m Installing /home/ec2-user/anaconda3/envs/python3/lib/python3.6/site-packages/latex_envs/static -> latex_envs\r\n",
            "\u001b[32m[I 12:56:38 InstallContribNbextensionsApp]\u001b[m Making directory: /home/ec2-user/.local/share/jupyter/nbextensions/latex_envs/\r\n",
            "\u001b[32m[I 12:56:38 InstallContribNbextensionsApp]\u001b[m Copying: /home/ec2-user/anaconda3/envs/python3/lib/python3.6/site-packages/latex_envs/static/latex_envs.css -> /home/ec2-user/.local/share/jupyter/nbextensions/latex_envs/latex_envs.css\r\n",
            "\u001b[32m[I 12:56:38 InstallContribNbextensionsApp]\u001b[m Copying: /home/ec2-user/anaconda3/envs/python3/lib/python3.6/site-packages/latex_envs/static/example.png -> /home/ec2-user/.local/share/jupyter/nbextensions/latex_envs/example.png\r\n",
            "\u001b[32m[I 12:56:38 InstallContribNbextensionsApp]\u001b[m Copying: /home/ec2-user/anaconda3/envs/python3/lib/python3.6/site-packages/latex_envs/static/initNb.js -> /home/ec2-user/.local/share/jupyter/nbextensions/latex_envs/initNb.js\r\n",
            "\u001b[32m[I 12:56:38 InstallContribNbextensionsApp]\u001b[m Copying: /home/ec2-user/anaconda3/envs/python3/lib/python3.6/site-packages/latex_envs/static/bibtex2.js -> /home/ec2-user/.local/share/jupyter/nbextensions/latex_envs/bibtex2.js\r\n",
            "\u001b[32m[I 12:56:38 InstallContribNbextensionsApp]\u001b[m Copying: /home/ec2-user/anaconda3/envs/python3/lib/python3.6/site-packages/latex_envs/static/README.md -> /home/ec2-user/.local/share/jupyter/nbextensions/latex_envs/README.md\r\n",
            "\u001b[32m[I 12:56:38 InstallContribNbextensionsApp]\u001b[m Copying: /home/ec2-user/anaconda3/envs/python3/lib/python3.6/site-packages/latex_envs/static/envsLatex.js -> /home/ec2-user/.local/share/jupyter/nbextensions/latex_envs/envsLatex.js\r\n",
            "\u001b[32m[I 12:56:38 InstallContribNbextensionsApp]\u001b[m Copying: /home/ec2-user/anaconda3/envs/python3/lib/python3.6/site-packages/latex_envs/static/example_user_envs.json -> /home/ec2-user/.local/share/jupyter/nbextensions/latex_envs/example_user_envs.json\r\n",
            "\u001b[32m[I 12:56:38 InstallContribNbextensionsApp]\u001b[m Copying: /home/ec2-user/anaconda3/envs/python3/lib/python3.6/site-packages/latex_envs/static/latex_envs.js -> /home/ec2-user/.local/share/jupyter/nbextensions/latex_envs/latex_envs.js\r\n",
            "\u001b[32m[I 12:56:38 InstallContribNbextensionsApp]\u001b[m Copying: /home/ec2-user/anaconda3/envs/python3/lib/python3.6/site-packages/latex_envs/static/envsLatex.json -> /home/ec2-user/.local/share/jupyter/nbextensions/latex_envs/envsLatex.json\r\n",
            "\u001b[32m[I 12:56:38 InstallContribNbextensionsApp]\u001b[m Copying: /home/ec2-user/anaconda3/envs/python3/lib/python3.6/site-packages/latex_envs/static/thmsInNb4.js -> /home/ec2-user/.local/share/jupyter/nbextensions/latex_envs/thmsInNb4.js\r\n",
            "\u001b[32m[I 12:56:38 InstallContribNbextensionsApp]\u001b[m Copying: /home/ec2-user/anaconda3/envs/python3/lib/python3.6/site-packages/latex_envs/static/configuration_toolbar.png -> /home/ec2-user/.local/share/jupyter/nbextensions/latex_envs/configuration_toolbar.png\r\n",
            "\u001b[32m[I 12:56:38 InstallContribNbextensionsApp]\u001b[m Copying: /home/ec2-user/anaconda3/envs/python3/lib/python3.6/site-packages/latex_envs/static/bibInNb4.js -> /home/ec2-user/.local/share/jupyter/nbextensions/latex_envs/bibInNb4.js\r\n",
            "\u001b[32m[I 12:56:38 InstallContribNbextensionsApp]\u001b[m Copying: /home/ec2-user/anaconda3/envs/python3/lib/python3.6/site-packages/latex_envs/static/latex_envs.yaml -> /home/ec2-user/.local/share/jupyter/nbextensions/latex_envs/latex_envs.yaml\r\n",
            "\u001b[32m[I 12:56:38 InstallContribNbextensionsApp]\u001b[m Copying: /home/ec2-user/anaconda3/envs/python3/lib/python3.6/site-packages/latex_envs/static/main_toolbar.png -> /home/ec2-user/.local/share/jupyter/nbextensions/latex_envs/main_toolbar.png\r\n",
            "\u001b[32m[I 12:56:38 InstallContribNbextensionsApp]\u001b[m Copying: /home/ec2-user/anaconda3/envs/python3/lib/python3.6/site-packages/latex_envs/static/icon.png -> /home/ec2-user/.local/share/jupyter/nbextensions/latex_envs/icon.png\r\n",
            "\u001b[32m[I 12:56:38 InstallContribNbextensionsApp]\u001b[m Making directory: /home/ec2-user/.local/share/jupyter/nbextensions/latex_envs/doc\r\n",
            "\u001b[32m[I 12:56:38 InstallContribNbextensionsApp]\u001b[m Copying: /home/ec2-user/anaconda3/envs/python3/lib/python3.6/site-packages/latex_envs/static/doc/config_toolbar.png -> /home/ec2-user/.local/share/jupyter/nbextensions/latex_envs/doc/config_toolbar.png\r\n",
            "\u001b[32m[I 12:56:38 InstallContribNbextensionsApp]\u001b[m Copying: /home/ec2-user/anaconda3/envs/python3/lib/python3.6/site-packages/latex_envs/static/doc/IEEEtran.bst -> /home/ec2-user/.local/share/jupyter/nbextensions/latex_envs/doc/IEEEtran.bst\r\n",
            "\u001b[32m[I 12:56:38 InstallContribNbextensionsApp]\u001b[m Copying: /home/ec2-user/anaconda3/envs/python3/lib/python3.6/site-packages/latex_envs/static/doc/latex_env_doc.ipynb -> /home/ec2-user/.local/share/jupyter/nbextensions/latex_envs/doc/latex_env_doc.ipynb\r\n",
            "\u001b[32m[I 12:56:38 InstallContribNbextensionsApp]\u001b[m Copying: /home/ec2-user/anaconda3/envs/python3/lib/python3.6/site-packages/latex_envs/static/doc/latex_env_doc.tex -> /home/ec2-user/.local/share/jupyter/nbextensions/latex_envs/doc/latex_env_doc.tex\r\n",
            "\u001b[32m[I 12:56:38 InstallContribNbextensionsApp]\u001b[m Copying: /home/ec2-user/anaconda3/envs/python3/lib/python3.6/site-packages/latex_envs/static/doc/example.png -> /home/ec2-user/.local/share/jupyter/nbextensions/latex_envs/doc/example.png\r\n",
            "\u001b[32m[I 12:56:38 InstallContribNbextensionsApp]\u001b[m Copying: /home/ec2-user/anaconda3/envs/python3/lib/python3.6/site-packages/latex_envs/static/doc/header.tex -> /home/ec2-user/.local/share/jupyter/nbextensions/latex_envs/doc/header.tex\r\n",
            "\u001b[32m[I 12:56:38 InstallContribNbextensionsApp]\u001b[m Copying: /home/ec2-user/anaconda3/envs/python3/lib/python3.6/site-packages/latex_envs/static/doc/biblio_ipython.bib -> /home/ec2-user/.local/share/jupyter/nbextensions/latex_envs/doc/biblio_ipython.bib\r\n",
            "\u001b[32m[I 12:56:38 InstallContribNbextensionsApp]\u001b[m Copying: /home/ec2-user/anaconda3/envs/python3/lib/python3.6/site-packages/latex_envs/static/doc/README.md -> /home/ec2-user/.local/share/jupyter/nbextensions/latex_envs/doc/README.md\r\n",
            "\u001b[32m[I 12:56:38 InstallContribNbextensionsApp]\u001b[m Copying: /home/ec2-user/anaconda3/envs/python3/lib/python3.6/site-packages/latex_envs/static/doc/Toggles.png -> /home/ec2-user/.local/share/jupyter/nbextensions/latex_envs/doc/Toggles.png\r\n",
            "\u001b[32m[I 12:56:38 InstallContribNbextensionsApp]\u001b[m Copying: /home/ec2-user/anaconda3/envs/python3/lib/python3.6/site-packages/latex_envs/static/doc/LaTeX_envs_menu.png -> /home/ec2-user/.local/share/jupyter/nbextensions/latex_envs/doc/LaTeX_envs_menu.png\r\n",
            "\u001b[32m[I 12:56:38 InstallContribNbextensionsApp]\u001b[m Copying: /home/ec2-user/anaconda3/envs/python3/lib/python3.6/site-packages/latex_envs/static/doc/latex_env_doc.html -> /home/ec2-user/.local/share/jupyter/nbextensions/latex_envs/doc/latex_env_doc.html\r\n",
            "\u001b[32m[I 12:56:38 InstallContribNbextensionsApp]\u001b[m Copying: /home/ec2-user/anaconda3/envs/python3/lib/python3.6/site-packages/latex_envs/static/doc/configuration_toolbar.png -> /home/ec2-user/.local/share/jupyter/nbextensions/latex_envs/doc/configuration_toolbar.png\r\n",
            "\u001b[32m[I 12:56:38 InstallContribNbextensionsApp]\u001b[m Copying: /home/ec2-user/anaconda3/envs/python3/lib/python3.6/site-packages/latex_envs/static/doc/documentation.tex -> /home/ec2-user/.local/share/jupyter/nbextensions/latex_envs/doc/documentation.tex\r\n",
            "\u001b[32m[I 12:56:38 InstallContribNbextensionsApp]\u001b[m Copying: /home/ec2-user/anaconda3/envs/python3/lib/python3.6/site-packages/latex_envs/static/doc/documentation.pdf -> /home/ec2-user/.local/share/jupyter/nbextensions/latex_envs/doc/documentation.pdf\r\n",
            "\u001b[32m[I 12:56:38 InstallContribNbextensionsApp]\u001b[m Copying: /home/ec2-user/anaconda3/envs/python3/lib/python3.6/site-packages/latex_envs/static/doc/main_toolbar.png -> /home/ec2-user/.local/share/jupyter/nbextensions/latex_envs/doc/main_toolbar.png\r\n",
            "\u001b[32m[I 12:56:38 InstallContribNbextensionsApp]\u001b[m Making directory: /home/ec2-user/.local/share/jupyter/nbextensions/latex_envs/doc/latex_env_doc_files\r\n",
            "\u001b[32m[I 12:56:38 InstallContribNbextensionsApp]\u001b[m Copying: /home/ec2-user/anaconda3/envs/python3/lib/python3.6/site-packages/latex_envs/static/doc/latex_env_doc_files/latex_env_doc_48_0.png -> /home/ec2-user/.local/share/jupyter/nbextensions/latex_envs/doc/latex_env_doc_files/latex_env_doc_48_0.png\r\n",
            "\u001b[32m[I 12:56:38 InstallContribNbextensionsApp]\u001b[m Copying: /home/ec2-user/anaconda3/envs/python3/lib/python3.6/site-packages/latex_envs/static/doc/latex_env_doc_files/latex_env_doc_50_0.png -> /home/ec2-user/.local/share/jupyter/nbextensions/latex_envs/doc/latex_env_doc_files/latex_env_doc_50_0.png\r\n",
            "\u001b[32m[I 12:56:38 InstallContribNbextensionsApp]\u001b[m Copying: /home/ec2-user/anaconda3/envs/python3/lib/python3.6/site-packages/latex_envs/static/doc/latex_env_doc_files/latex_env_doc_46_0.png -> /home/ec2-user/.local/share/jupyter/nbextensions/latex_envs/doc/latex_env_doc_files/latex_env_doc_46_0.png\r\n",
            "\u001b[32m[I 12:56:38 InstallContribNbextensionsApp]\u001b[m Copying: /home/ec2-user/anaconda3/envs/python3/lib/python3.6/site-packages/latex_envs/static/doc/latex_env_doc_files/latex_env_doc_45_0.png -> /home/ec2-user/.local/share/jupyter/nbextensions/latex_envs/doc/latex_env_doc_files/latex_env_doc_45_0.png\r\n",
            "\u001b[32m[I 12:56:38 InstallContribNbextensionsApp]\u001b[m Copying: /home/ec2-user/anaconda3/envs/python3/lib/python3.6/site-packages/latex_envs/static/doc/latex_env_doc_files/latex_env_doc_42_0.png -> /home/ec2-user/.local/share/jupyter/nbextensions/latex_envs/doc/latex_env_doc_files/latex_env_doc_42_0.png\r\n",
            "\u001b[32m[I 12:56:38 InstallContribNbextensionsApp]\u001b[m Copying: /home/ec2-user/anaconda3/envs/python3/lib/python3.6/site-packages/latex_envs/static/doc/latex_env_doc_files/latex_env_doc_43_0.png -> /home/ec2-user/.local/share/jupyter/nbextensions/latex_envs/doc/latex_env_doc_files/latex_env_doc_43_0.png\r\n",
            "\u001b[32m[I 12:56:38 InstallContribNbextensionsApp]\u001b[m Copying: /home/ec2-user/anaconda3/envs/python3/lib/python3.6/site-packages/latex_envs/static/doc/latex_env_doc_files/latex_env_doc_52_0.png -> /home/ec2-user/.local/share/jupyter/nbextensions/latex_envs/doc/latex_env_doc_files/latex_env_doc_52_0.png\r\n",
            "\u001b[32m[I 12:56:38 InstallContribNbextensionsApp]\u001b[m Copying: /home/ec2-user/anaconda3/envs/python3/lib/python3.6/site-packages/latex_envs/static/doc/latex_env_doc_files/latex_env_doc_27_2.png -> /home/ec2-user/.local/share/jupyter/nbextensions/latex_envs/doc/latex_env_doc_files/latex_env_doc_27_2.png\r\n",
            "\u001b[32m[I 12:56:38 InstallContribNbextensionsApp]\u001b[m Copying: /home/ec2-user/anaconda3/envs/python3/lib/python3.6/site-packages/latex_envs/static/doc/latex_env_doc_files/latex_env_doc_51_0.png -> /home/ec2-user/.local/share/jupyter/nbextensions/latex_envs/doc/latex_env_doc_files/latex_env_doc_51_0.png\r\n",
            "\u001b[32m[I 12:56:38 InstallContribNbextensionsApp]\u001b[m Copying: /home/ec2-user/anaconda3/envs/python3/lib/python3.6/site-packages/latex_envs/static/doc/latex_env_doc_files/latex_env_doc_47_0.png -> /home/ec2-user/.local/share/jupyter/nbextensions/latex_envs/doc/latex_env_doc_files/latex_env_doc_47_0.png\r\n",
            "\u001b[32m[I 12:56:38 InstallContribNbextensionsApp]\u001b[m Copying: /home/ec2-user/anaconda3/envs/python3/lib/python3.6/site-packages/latex_envs/static/doc/latex_env_doc_files/latex_env_doc_49_0.png -> /home/ec2-user/.local/share/jupyter/nbextensions/latex_envs/doc/latex_env_doc_files/latex_env_doc_49_0.png\r\n",
            "\u001b[32m[I 12:56:38 InstallContribNbextensionsApp]\u001b[m Copying: /home/ec2-user/anaconda3/envs/python3/lib/python3.6/site-packages/latex_envs/static/doc/latex_env_doc_files/latex_env_doc_26_2.png -> /home/ec2-user/.local/share/jupyter/nbextensions/latex_envs/doc/latex_env_doc_files/latex_env_doc_26_2.png\r\n",
            "\u001b[32m[I 12:56:38 InstallContribNbextensionsApp]\u001b[m Copying: /home/ec2-user/anaconda3/envs/python3/lib/python3.6/site-packages/latex_envs/static/doc/latex_env_doc_files/latex_env_doc_44_0.png -> /home/ec2-user/.local/share/jupyter/nbextensions/latex_envs/doc/latex_env_doc_files/latex_env_doc_44_0.png\r\n",
            "\u001b[32m[I 12:56:38 InstallContribNbextensionsApp]\u001b[m Copying: /home/ec2-user/anaconda3/envs/python3/lib/python3.6/site-packages/latex_envs/static/doc/latex_env_doc_files/latex_env_doc_41_0.png -> /home/ec2-user/.local/share/jupyter/nbextensions/latex_envs/doc/latex_env_doc_files/latex_env_doc_41_0.png\r\n",
            "\u001b[32m[I 12:56:38 InstallContribNbextensionsApp]\u001b[m Copying: /home/ec2-user/anaconda3/envs/python3/lib/python3.6/site-packages/latex_envs/static/doc/latex_env_doc_files/latex_env_doc_24_2.png -> /home/ec2-user/.local/share/jupyter/nbextensions/latex_envs/doc/latex_env_doc_files/latex_env_doc_24_2.png\r\n",
            "\u001b[32m[I 12:56:38 InstallContribNbextensionsApp]\u001b[m Copying: /home/ec2-user/anaconda3/envs/python3/lib/python3.6/site-packages/latex_envs/static/doc/latex_env_doc_files/latex_env_doc_23_2.png -> /home/ec2-user/.local/share/jupyter/nbextensions/latex_envs/doc/latex_env_doc_files/latex_env_doc_23_2.png\r\n",
            "\u001b[32m[I 12:56:38 InstallContribNbextensionsApp]\u001b[m Making directory: /home/ec2-user/.local/share/jupyter/nbextensions/latex_envs/doc/.ipynb_checkpoints\r\n",
            "\u001b[32m[I 12:56:38 InstallContribNbextensionsApp]\u001b[m Copying: /home/ec2-user/anaconda3/envs/python3/lib/python3.6/site-packages/latex_envs/static/doc/.ipynb_checkpoints/latex_env_doc-checkpoint.ipynb -> /home/ec2-user/.local/share/jupyter/nbextensions/latex_envs/doc/.ipynb_checkpoints/latex_env_doc-checkpoint.ipynb\r\n",
            "\u001b[32m[I 12:56:38 InstallContribNbextensionsApp]\u001b[m - Validating: \u001b[32mOK\u001b[0m\r\n",
            "\u001b[32m[I 12:56:38 InstallContribNbextensionsApp]\u001b[m Installing jupyter_contrib_nbextensions items to config in /home/ec2-user/.jupyter\r\n",
            "Enabling: jupyter_nbextensions_configurator\r\n",
            "- Writing config: /home/ec2-user/.jupyter\r\n",
            "    - Validating...\r\n",
            "      jupyter_nbextensions_configurator 0.4.1 \u001b[32mOK\u001b[0m\r\n",
            "Enabling notebook nbextension nbextensions_configurator/config_menu/main...\r\n"
          ],
          "name": "stdout"
        },
        {
          "output_type": "stream",
          "text": [
            "Enabling tree nbextension nbextensions_configurator/tree_tab/main...\n",
            "\u001b[32m[I 12:56:38 InstallContribNbextensionsApp]\u001b[m Enabling notebook extension contrib_nbextensions_help_item/main...\n",
            "\u001b[32m[I 12:56:38 InstallContribNbextensionsApp]\u001b[m       - Validating: \u001b[32mOK\u001b[0m\n",
            "\u001b[32m[I 12:56:38 InstallContribNbextensionsApp]\u001b[m - Editing config: /home/ec2-user/.jupyter/jupyter_nbconvert_config.json\n",
            "\u001b[32m[I 12:56:38 InstallContribNbextensionsApp]\u001b[m --  Configuring nbconvert template path\n",
            "\u001b[32m[I 12:56:38 InstallContribNbextensionsApp]\u001b[m --  Configuring nbconvert preprocessors\n",
            "\u001b[32m[I 12:56:38 InstallContribNbextensionsApp]\u001b[m - Writing config: /home/ec2-user/.jupyter/jupyter_nbconvert_config.json\n",
            "\u001b[32m[I 12:56:38 InstallContribNbextensionsApp]\u001b[m --  Writing updated config file /home/ec2-user/.jupyter/jupyter_nbconvert_config.json\n",
            "Enabling notebook extension codefolding/main...\n",
            "      - Validating: \u001b[32mOK\u001b[0m\n"
          ],
          "name": "stdout"
        }
      ]
    },
    {
      "cell_type": "code",
      "metadata": {
        "id": "2L8fgPf0hRT9",
        "colab_type": "code",
        "colab": {},
        "outputId": "1b975aa5-b303-492a-fb1a-927db386bfda"
      },
      "source": [
        "!pip install nltk"
      ],
      "execution_count": 0,
      "outputs": [
        {
          "output_type": "stream",
          "text": [
            "Requirement already satisfied: nltk in /home/ec2-user/anaconda3/envs/python3/lib/python3.6/site-packages (3.3)\n",
            "Requirement already satisfied: six in /home/ec2-user/anaconda3/envs/python3/lib/python3.6/site-packages (from nltk) (1.11.0)\n",
            "\u001b[33mYou are using pip version 10.0.1, however version 19.3.1 is available.\n",
            "You should consider upgrading via the 'pip install --upgrade pip' command.\u001b[0m\n"
          ],
          "name": "stdout"
        }
      ]
    },
    {
      "cell_type": "markdown",
      "metadata": {
        "colab_type": "text",
        "id": "QSgVuHqyQkBe"
      },
      "source": [
        "# Loading packages"
      ]
    },
    {
      "cell_type": "code",
      "metadata": {
        "colab_type": "code",
        "id": "NU548UgyYRL-",
        "colab": {}
      },
      "source": [
        "from sklearn.svm import SVC\n",
        "from sklearn.naive_bayes import MultinomialNB\n",
        "from sklearn.tree import DecisionTreeClassifier\n",
        "from sklearn.neighbors import KNeighborsClassifier\n",
        "from sklearn.ensemble import RandomForestClassifier\n",
        "from sklearn.ensemble import AdaBoostClassifier\n",
        "from sklearn.ensemble import BaggingClassifier\n",
        "from sklearn.ensemble import ExtraTreesClassifier\n",
        "from sklearn.metrics import accuracy_score\n",
        "from sklearn.externals import joblib\n",
        "from datetime import datetime\n",
        "\n",
        "from sklearn.model_selection import GridSearchCV\n",
        "from sklearn.metrics import classification_report\n",
        "from sklearn.metrics import confusion_matrix\n",
        "from sklearn.svm import SVC\n",
        "\n",
        "from sklearn.model_selection import train_test_split\n",
        "from sklearn.feature_extraction.text import TfidfVectorizer\n",
        "\n",
        "from nltk.tokenize import word_tokenize\n",
        "from sklearn.feature_extraction.stop_words import ENGLISH_STOP_WORDS\n",
        "from nltk.stem import PorterStemmer\n",
        "from nltk.stem import WordNetLemmatizer\n",
        "\n",
        "stemmer = PorterStemmer()\n",
        "lemmatizer = WordNetLemmatizer()"
      ],
      "execution_count": 0,
      "outputs": []
    },
    {
      "cell_type": "code",
      "metadata": {
        "colab_type": "code",
        "id": "gltcZaHED6m-",
        "scrolled": false,
        "colab": {}
      },
      "source": [
        "import pandas as pd\n",
        "import nltk\n",
        "\n",
        "# from nltbk.tokenize import word_tokenize\n",
        "# from nltk.corpus import stopwords\n",
        "# from nltk.stem import PorterStemmer\n",
        "# nltk.download('punkt')\n",
        "# nltk.download('wordnet')\n",
        "# nltk.download('stopwords')"
      ],
      "execution_count": 0,
      "outputs": []
    },
    {
      "cell_type": "code",
      "metadata": {
        "colab_type": "code",
        "id": "SNFsk0SYsPzM",
        "colab": {}
      },
      "source": [
        "truth_labels = ['spam',\n",
        "                'spam',\n",
        "                'spam',\n",
        "                'spam',\n",
        "                'ham'\n",
        "                ]\n",
        "\n",
        "test_messages = [\"IMPORTANT - You could be entitled up to £3,160 in compensation from mis-sold PPI on a credit card or loan. Please reply PPI for info or STOP to opt out.\",\n",
        "                \"Due to a new legislation, those struggling with debt can now apply to have it written off. For more information text the word INFO or to opt out text STOP\",\n",
        "                \"Overpaying for Netflix? We have the solution. Low-cost subscriptions, at https://stick-it-to-the-man.net\",\n",
        "                \"TONY, are you ready to share your experiences? http://aelich.com/n8ZzBxw Reply STOP to opt-out\",\n",
        "                \"Put her in a Sgt Peppers costume and we would win hands down :)\"\n",
        "                ]"
      ],
      "execution_count": 0,
      "outputs": []
    },
    {
      "cell_type": "markdown",
      "metadata": {
        "colab_type": "text",
        "id": "nnCuNKwxQu4-"
      },
      "source": [
        "## General Functions"
      ]
    },
    {
      "cell_type": "markdown",
      "metadata": {
        "colab_type": "text",
        "heading_collapsed": true,
        "id": "sOIHRkNhnWI2"
      },
      "source": [
        "#### Text Processing"
      ]
    },
    {
      "cell_type": "code",
      "metadata": {
        "colab_type": "code",
        "hidden": true,
        "id": "qM-bHtyWFmb7",
        "colab": {}
      },
      "source": [
        "import re\n",
        "import string\n",
        "from nltk.tokenize import word_tokenize\n",
        "\n",
        "def remove_hyperlinks(word):\n",
        "    return  re.sub(r\"http\\S+\", \"\", word)  \n",
        "\n",
        "def to_lower(word):\n",
        "    result = word.lower()\n",
        "    return result\n",
        "\n",
        "def remove_number(word):\n",
        "    result = re.sub(r'\\d+', '', word)\n",
        "    return result\n",
        "\n",
        "def remove_punctuation(word):\n",
        "    result = word.translate(str.maketrans(dict.fromkeys(string.punctuation)))\n",
        "    return result\n",
        "\n",
        "def remove_whitespace(word):\n",
        "    result = word.strip()\n",
        "    return result\n",
        "\n",
        "def replace_newline(word):\n",
        "    return word.replace('\\n',' ')\n",
        "\n",
        "def to_limit(word, character_limit=160):\n",
        "  return word[:character_limit]\n",
        "\n",
        "def clean_up_pipeline(sentence):\n",
        "    cleaning_utils = [remove_hyperlinks,\n",
        "                      replace_newline,\n",
        "                      to_lower,\n",
        "                      remove_number,\n",
        "                      remove_punctuation,\n",
        "                      remove_whitespace,\n",
        "                      to_limit]\n",
        "    for o in cleaning_utils:\n",
        "        sentence = o(sentence)\n",
        "    return sentence"
      ],
      "execution_count": 0,
      "outputs": []
    },
    {
      "cell_type": "code",
      "metadata": {
        "colab_type": "code",
        "hidden": true,
        "id": "a7VNO_wQPuX9",
        "colab": {}
      },
      "source": [
        "from bs4 import BeautifulSoup\n",
        "\n",
        "def remove_stop_words(words):\n",
        "    result = [i for i in words if i not in ENGLISH_STOP_WORDS]\n",
        "    return result\n",
        "\n",
        "def word_stemmer(words):\n",
        "    return [stemmer.stem(o) for o in words]\n",
        "\n",
        "def word_lemmatizer(words):\n",
        "    return [lemmatizer.lemmatize(o) for o in words]\n",
        "\n",
        "def remove_html(words):\n",
        "    try:\n",
        "      soup = BeautifulSoup(words, \"lxml\")\n",
        "      return soup.get_text()\n",
        "    except:\n",
        "      print(\"could not remove html from {}\".words)\n",
        "      return words\n",
        "    \n",
        "def remove_characters(words):\n",
        "    return [word for word in words if len(word)> 1]\n",
        "\n",
        "def clean_token_pipeline(words):\n",
        "    cleaning_utils = [remove_stop_words, word_lemmatizer]\n",
        "    for o in cleaning_utils:\n",
        "        words = o(words)\n",
        "    return words"
      ],
      "execution_count": 0,
      "outputs": []
    },
    {
      "cell_type": "code",
      "metadata": {
        "hidden": true,
        "id": "li0oRTPthRUK",
        "colab_type": "code",
        "colab": {},
        "outputId": "b66e477f-7682-4482-caf9-c0bedae2f2d4"
      },
      "source": [
        "clean_token_pipeline(['Adfsfs a ', 'WEEEddd'])"
      ],
      "execution_count": 0,
      "outputs": [
        {
          "output_type": "execute_result",
          "data": {
            "text/plain": [
              "['Adfsfs a ', 'WEEEddd']"
            ]
          },
          "metadata": {
            "tags": []
          },
          "execution_count": 24
        }
      ]
    },
    {
      "cell_type": "markdown",
      "metadata": {
        "colab_type": "text",
        "id": "oCIQQmCqP2NX"
      },
      "source": [
        "#### Other Functions"
      ]
    },
    {
      "cell_type": "code",
      "metadata": {
        "colab_type": "code",
        "id": "DfDKeOdCP6i0",
        "colab": {}
      },
      "source": [
        "def convert_to_feature(raw_tokenize_data):\n",
        "    raw_sentences = [' '.join(o) for o in raw_tokenize_data]\n",
        "    return vectorizer.transform(raw_sentences)"
      ],
      "execution_count": 0,
      "outputs": []
    },
    {
      "cell_type": "code",
      "metadata": {
        "colab_type": "code",
        "id": "nfiu63zuCA5q",
        "colab": {}
      },
      "source": [
        "def process_csv():\n",
        "  sms_spam_ds = pd.read_csv('data/sms_spam.csv', encoding='latin1')\n",
        "  sms_spam_ds = sms_spam_ds[[\"v1\", \"v2\"]]\n",
        "  sms_spam_ds.rename(columns={\"v1\":\"label\", \"v2\":\"message\"}, inplace=True)\n",
        "  sms_spam_ds[\"message\"] =  sms_spam_ds[\"message\"].apply(to_lower)\n",
        "  return sms_spam_ds"
      ],
      "execution_count": 0,
      "outputs": []
    },
    {
      "cell_type": "code",
      "metadata": {
        "colab_type": "code",
        "id": "cgd8jjzrrRmZ",
        "colab": {}
      },
      "source": [
        "def calc_best_params(model, scores, tuned_parameters):\n",
        "  best_params = []\n",
        "  models = []\n",
        "  for score in scores:\n",
        "      print(\"# Tuning hyper-parameters for %s\" % score)\n",
        "      print()\n",
        "\n",
        "      clf = GridSearchCV(\n",
        "          model, tuned_parameters, scoring=score\n",
        "      )\n",
        "      clf.fit(X_train, y_train)\n",
        "      models.append(clf)\n",
        "\n",
        "      print(\"Best parameters set found on development set:\")\n",
        "      print()\n",
        "      print(clf.best_params_)\n",
        "      best_params.append(clf.best_params_)\n",
        "      print()\n",
        "      print(\"Grid scores on development set:\")\n",
        "      print()\n",
        "      means = clf.cv_results_['mean_test_score']\n",
        "      stds = clf.cv_results_['std_test_score']\n",
        "      for mean, std, params in zip(means, stds, clf.cv_results_['params']):\n",
        "          print(\"%0.3f (+/-%0.03f) for %r\"\n",
        "                % (mean, std * 2, params))\n",
        "      print()\n",
        "\n",
        "      print(\"Detailed classification report:\")\n",
        "      print()\n",
        "      print(\"The model is trained on the full development set.\")\n",
        "      print(\"The scores are computed on the full evaluation set.\")\n",
        "      print()\n",
        "      y_true, y_pred = y_test, clf.predict(X_test)\n",
        "      print(classification_report(y_true, y_pred))\n",
        "      print()\n",
        "  return {\"models\":models, \"best_params\":best_params}\n",
        "\n",
        "def train(clf, **params):\n",
        "  model = clf(**params)\n",
        "  model.fit(X_train, y_train)\n",
        "  return model\n",
        "\n",
        "def show_predictions(model, msg, pre_process_func, to_array):\n",
        "  msg = pre_process_func(msg)\n",
        "  org_msg = msg\n",
        "  msg = vectorizer.transform([msg])\n",
        "  if to_array:\n",
        "    msg = msg.toarray()\n",
        "  prediction = model.predict(msg)\n",
        "  print(\"prediction: '{}' {}\".format(prediction[0], org_msg))\n",
        "\n",
        "def predict(model, pre_process_func=to_lower, to_array=False, verbose=True):\n",
        "  for msg in test_messages:\n",
        "    show_predictions(model, msg, pre_process_func,to_array)\n",
        "\n",
        "def predict_using_tuned_params(best_params):\n",
        "  for params in best_params:\n",
        "    svc = SVC(**params)\n",
        "    svc.fit(X_train, y_train)\n",
        "    predict(svc)\n",
        "    print()"
      ],
      "execution_count": 0,
      "outputs": []
    },
    {
      "cell_type": "code",
      "metadata": {
        "id": "XrMyty79hRUQ",
        "colab_type": "code",
        "colab": {}
      },
      "source": [
        "def save_model(model, model_path=\"models\"):\n",
        "    timestampStr = datetime.now().strftime(\"%m-%d-%y:%H:%M:%S\")\n",
        "    filename = '{}/{}{}.pkl'.format(model_path, type(model).__name__, timestampStr)\n",
        "    joblib.dump(clf, filename)\n",
        "    print(\"saved {} to {}\".format(filename, model_path))"
      ],
      "execution_count": 0,
      "outputs": []
    },
    {
      "cell_type": "code",
      "metadata": {
        "id": "EE0rdoAUhRUR",
        "colab_type": "code",
        "colab": {},
        "outputId": "0ff54ca6-c99f-436a-a90b-cc38270d240c"
      },
      "source": [
        "# clf.__name\n",
        "\n"
      ],
      "execution_count": 0,
      "outputs": [
        {
          "output_type": "execute_result",
          "data": {
            "text/plain": [
              "'GaussianNB'"
            ]
          },
          "metadata": {
            "tags": []
          },
          "execution_count": 71
        }
      ]
    },
    {
      "cell_type": "markdown",
      "metadata": {
        "colab_type": "text",
        "heading_collapsed": true,
        "id": "sbqLVI3ZO-33"
      },
      "source": [
        "# Spam Detection Dataset"
      ]
    },
    {
      "cell_type": "code",
      "metadata": {
        "colab_type": "code",
        "hidden": true,
        "id": "VTe5P5mOGsjw",
        "outputId": "328a65f3-667e-4986-f867-4d8bfe9a7e40",
        "colab": {
          "base_uri": "https://localhost:8080/",
          "height": 204
        }
      },
      "source": [
        "sms_spam_ds = process_csv()\n",
        "sms_spam_ds.head()"
      ],
      "execution_count": 0,
      "outputs": [
        {
          "output_type": "execute_result",
          "data": {
            "text/html": [
              "<div>\n",
              "<style scoped>\n",
              "    .dataframe tbody tr th:only-of-type {\n",
              "        vertical-align: middle;\n",
              "    }\n",
              "\n",
              "    .dataframe tbody tr th {\n",
              "        vertical-align: top;\n",
              "    }\n",
              "\n",
              "    .dataframe thead th {\n",
              "        text-align: right;\n",
              "    }\n",
              "</style>\n",
              "<table border=\"1\" class=\"dataframe\">\n",
              "  <thead>\n",
              "    <tr style=\"text-align: right;\">\n",
              "      <th></th>\n",
              "      <th>label</th>\n",
              "      <th>message</th>\n",
              "    </tr>\n",
              "  </thead>\n",
              "  <tbody>\n",
              "    <tr>\n",
              "      <th>0</th>\n",
              "      <td>ham</td>\n",
              "      <td>go until jurong point, crazy.. available only ...</td>\n",
              "    </tr>\n",
              "    <tr>\n",
              "      <th>1</th>\n",
              "      <td>ham</td>\n",
              "      <td>ok lar... joking wif u oni...</td>\n",
              "    </tr>\n",
              "    <tr>\n",
              "      <th>2</th>\n",
              "      <td>spam</td>\n",
              "      <td>free entry in 2 a wkly comp to win fa cup fina...</td>\n",
              "    </tr>\n",
              "    <tr>\n",
              "      <th>3</th>\n",
              "      <td>ham</td>\n",
              "      <td>u dun say so early hor... u c already then say...</td>\n",
              "    </tr>\n",
              "    <tr>\n",
              "      <th>4</th>\n",
              "      <td>ham</td>\n",
              "      <td>nah i don't think he goes to usf, he lives aro...</td>\n",
              "    </tr>\n",
              "  </tbody>\n",
              "</table>\n",
              "</div>"
            ],
            "text/plain": [
              "  label                                            message\n",
              "0   ham  go until jurong point, crazy.. available only ...\n",
              "1   ham                      ok lar... joking wif u oni...\n",
              "2  spam  free entry in 2 a wkly comp to win fa cup fina...\n",
              "3   ham  u dun say so early hor... u c already then say...\n",
              "4   ham  nah i don't think he goes to usf, he lives aro..."
            ]
          },
          "metadata": {
            "tags": []
          },
          "execution_count": 9
        }
      ]
    },
    {
      "cell_type": "code",
      "metadata": {
        "colab_type": "code",
        "hidden": true,
        "id": "RPQpR_viE3wu",
        "outputId": "97418854-ff89-4ddb-c591-2d44feb9687f",
        "colab": {
          "base_uri": "https://localhost:8080/",
          "height": 85
        }
      },
      "source": [
        "print(\"number of spam vs ham\")\n",
        "sms_spam_ds.label.value_counts()"
      ],
      "execution_count": 0,
      "outputs": [
        {
          "output_type": "stream",
          "text": [
            "number of spam vs ham\n"
          ],
          "name": "stdout"
        },
        {
          "output_type": "execute_result",
          "data": {
            "text/plain": [
              "ham     4825\n",
              "spam     747\n",
              "Name: label, dtype: int64"
            ]
          },
          "metadata": {
            "tags": []
          },
          "execution_count": 10
        }
      ]
    },
    {
      "cell_type": "code",
      "metadata": {
        "colab_type": "code",
        "hidden": true,
        "id": "KDagmkaDOLcU",
        "outputId": "41d20fb1-6a5c-451d-c328-6de6d09a7e6a",
        "colab": {
          "base_uri": "https://localhost:8080/",
          "height": 34
        }
      },
      "source": [
        "vectorizer = TfidfVectorizer()\n",
        "def split(df, test_size=0.2):\n",
        "  X_train, X_test, y_train, y_test = train_test_split(df['message'], df['label'], test_size = test_size, random_state = 1)\n",
        "  # training the vectorizer \n",
        "  X_train = vectorizer.fit_transform(X_train)\n",
        "  X_test = vectorizer.transform(X_test)\n",
        "  return X_train, X_test, y_train, y_test\n",
        "\n",
        "X_train, X_test, y_train, y_test = split(sms_spam_ds)\n",
        "X_train.shape, X_test.shape"
      ],
      "execution_count": 0,
      "outputs": [
        {
          "output_type": "execute_result",
          "data": {
            "text/plain": [
              "((4457, 7774), (1115, 7774))"
            ]
          },
          "metadata": {
            "tags": []
          },
          "execution_count": 11
        }
      ]
    },
    {
      "cell_type": "markdown",
      "metadata": {
        "colab_type": "text",
        "hidden": true,
        "id": "0Rr0bi80hK9W"
      },
      "source": [
        "## SVC"
      ]
    },
    {
      "cell_type": "code",
      "metadata": {
        "colab_type": "code",
        "hidden": true,
        "id": "AWZodVXsTexL",
        "outputId": "05e679de-0bbb-43db-8d15-38daa293aa4e",
        "colab": {
          "base_uri": "https://localhost:8080/",
          "height": 1000
        }
      },
      "source": [
        "clf = SVC()\n",
        "scores = ['accuracy', 'precision_macro', 'recall_macro']\n",
        "tuned_parameters = [{'kernel': ['rbf'], 'gamma': [1e-3, 1e-4],\n",
        "                     'C': [1, 10, 100, 1000]},\n",
        "                    {'kernel': ['linear'], 'C': [1, 10, 100, 1000]}]\n",
        "results = calc_best_params(clf, scores, tuned_parameters)\n",
        "\n",
        "results[\"best_params\"]"
      ],
      "execution_count": 0,
      "outputs": [
        {
          "output_type": "stream",
          "text": [
            "# Tuning hyper-parameters for accuracy\n",
            "\n"
          ],
          "name": "stdout"
        },
        {
          "output_type": "stream",
          "text": [
            "/home/ec2-user/anaconda3/envs/python3/lib/python3.6/site-packages/sklearn/model_selection/_split.py:2053: FutureWarning: You should specify a value for 'cv' instead of relying on the default value. The default value will change from 3 to 5 in version 0.22.\n",
            "  warnings.warn(CV_WARNING, FutureWarning)\n"
          ],
          "name": "stderr"
        },
        {
          "output_type": "stream",
          "text": [
            "Best parameters set found on development set:\n",
            "\n",
            "{'C': 1, 'kernel': 'linear'}\n",
            "\n",
            "Grid scores on development set:\n",
            "\n",
            "0.864 (+/-0.001) for {'C': 1, 'gamma': 0.001, 'kernel': 'rbf'}\n",
            "0.864 (+/-0.001) for {'C': 1, 'gamma': 0.0001, 'kernel': 'rbf'}\n",
            "0.864 (+/-0.001) for {'C': 10, 'gamma': 0.001, 'kernel': 'rbf'}\n",
            "0.864 (+/-0.001) for {'C': 10, 'gamma': 0.0001, 'kernel': 'rbf'}\n",
            "0.956 (+/-0.009) for {'C': 100, 'gamma': 0.001, 'kernel': 'rbf'}\n",
            "0.864 (+/-0.001) for {'C': 100, 'gamma': 0.0001, 'kernel': 'rbf'}\n",
            "0.979 (+/-0.010) for {'C': 1000, 'gamma': 0.001, 'kernel': 'rbf'}\n",
            "0.956 (+/-0.009) for {'C': 1000, 'gamma': 0.0001, 'kernel': 'rbf'}\n",
            "0.980 (+/-0.012) for {'C': 1, 'kernel': 'linear'}\n",
            "0.978 (+/-0.010) for {'C': 10, 'kernel': 'linear'}\n",
            "0.978 (+/-0.010) for {'C': 100, 'kernel': 'linear'}\n",
            "0.978 (+/-0.010) for {'C': 1000, 'kernel': 'linear'}\n",
            "\n",
            "Detailed classification report:\n",
            "\n",
            "The model is trained on the full development set.\n",
            "The scores are computed on the full evaluation set.\n",
            "\n",
            "              precision    recall  f1-score   support\n",
            "\n",
            "         ham       0.99      1.00      0.99       976\n",
            "        spam       0.98      0.94      0.96       139\n",
            "\n",
            "   micro avg       0.99      0.99      0.99      1115\n",
            "   macro avg       0.99      0.97      0.98      1115\n",
            "weighted avg       0.99      0.99      0.99      1115\n",
            "\n",
            "\n",
            "# Tuning hyper-parameters for precision_macro\n",
            "\n"
          ],
          "name": "stdout"
        },
        {
          "output_type": "stream",
          "text": [
            "/home/ec2-user/anaconda3/envs/python3/lib/python3.6/site-packages/sklearn/model_selection/_split.py:2053: FutureWarning: You should specify a value for 'cv' instead of relying on the default value. The default value will change from 3 to 5 in version 0.22.\n",
            "  warnings.warn(CV_WARNING, FutureWarning)\n",
            "/home/ec2-user/anaconda3/envs/python3/lib/python3.6/site-packages/sklearn/metrics/classification.py:1143: UndefinedMetricWarning: Precision is ill-defined and being set to 0.0 in labels with no predicted samples.\n",
            "  'precision', 'predicted', average, warn_for)\n"
          ],
          "name": "stderr"
        },
        {
          "output_type": "stream",
          "text": [
            "Best parameters set found on development set:\n",
            "\n",
            "{'C': 1, 'kernel': 'linear'}\n",
            "\n",
            "Grid scores on development set:\n",
            "\n",
            "0.432 (+/-0.000) for {'C': 1, 'gamma': 0.001, 'kernel': 'rbf'}\n",
            "0.432 (+/-0.000) for {'C': 1, 'gamma': 0.0001, 'kernel': 'rbf'}\n",
            "0.432 (+/-0.000) for {'C': 10, 'gamma': 0.001, 'kernel': 'rbf'}\n",
            "0.432 (+/-0.000) for {'C': 10, 'gamma': 0.0001, 'kernel': 'rbf'}\n",
            "0.976 (+/-0.005) for {'C': 100, 'gamma': 0.001, 'kernel': 'rbf'}\n",
            "0.432 (+/-0.000) for {'C': 100, 'gamma': 0.0001, 'kernel': 'rbf'}\n",
            "0.980 (+/-0.011) for {'C': 1000, 'gamma': 0.001, 'kernel': 'rbf'}\n",
            "0.976 (+/-0.005) for {'C': 1000, 'gamma': 0.0001, 'kernel': 'rbf'}\n",
            "0.985 (+/-0.008) for {'C': 1, 'kernel': 'linear'}\n",
            "0.978 (+/-0.010) for {'C': 10, 'kernel': 'linear'}\n",
            "0.978 (+/-0.010) for {'C': 100, 'kernel': 'linear'}\n",
            "0.978 (+/-0.010) for {'C': 1000, 'kernel': 'linear'}\n",
            "\n",
            "Detailed classification report:\n",
            "\n",
            "The model is trained on the full development set.\n",
            "The scores are computed on the full evaluation set.\n",
            "\n",
            "              precision    recall  f1-score   support\n",
            "\n",
            "         ham       0.99      1.00      0.99       976\n",
            "        spam       0.98      0.94      0.96       139\n",
            "\n",
            "   micro avg       0.99      0.99      0.99      1115\n",
            "   macro avg       0.99      0.97      0.98      1115\n",
            "weighted avg       0.99      0.99      0.99      1115\n",
            "\n",
            "\n",
            "# Tuning hyper-parameters for recall_macro\n",
            "\n"
          ],
          "name": "stdout"
        },
        {
          "output_type": "stream",
          "text": [
            "/home/ec2-user/anaconda3/envs/python3/lib/python3.6/site-packages/sklearn/model_selection/_split.py:2053: FutureWarning: You should specify a value for 'cv' instead of relying on the default value. The default value will change from 3 to 5 in version 0.22.\n",
            "  warnings.warn(CV_WARNING, FutureWarning)\n"
          ],
          "name": "stderr"
        },
        {
          "output_type": "stream",
          "text": [
            "Best parameters set found on development set:\n",
            "\n",
            "{'C': 1000, 'gamma': 0.001, 'kernel': 'rbf'}\n",
            "\n",
            "Grid scores on development set:\n",
            "\n",
            "0.500 (+/-0.000) for {'C': 1, 'gamma': 0.001, 'kernel': 'rbf'}\n",
            "0.500 (+/-0.000) for {'C': 1, 'gamma': 0.0001, 'kernel': 'rbf'}\n",
            "0.500 (+/-0.000) for {'C': 10, 'gamma': 0.001, 'kernel': 'rbf'}\n",
            "0.500 (+/-0.000) for {'C': 10, 'gamma': 0.0001, 'kernel': 'rbf'}\n",
            "0.837 (+/-0.032) for {'C': 100, 'gamma': 0.001, 'kernel': 'rbf'}\n",
            "0.500 (+/-0.000) for {'C': 100, 'gamma': 0.0001, 'kernel': 'rbf'}\n",
            "0.930 (+/-0.040) for {'C': 1000, 'gamma': 0.001, 'kernel': 'rbf'}\n",
            "0.837 (+/-0.032) for {'C': 1000, 'gamma': 0.0001, 'kernel': 'rbf'}\n",
            "0.928 (+/-0.045) for {'C': 1, 'kernel': 'linear'}\n",
            "0.929 (+/-0.040) for {'C': 10, 'kernel': 'linear'}\n",
            "0.929 (+/-0.040) for {'C': 100, 'kernel': 'linear'}\n",
            "0.929 (+/-0.040) for {'C': 1000, 'kernel': 'linear'}\n",
            "\n",
            "Detailed classification report:\n",
            "\n",
            "The model is trained on the full development set.\n",
            "The scores are computed on the full evaluation set.\n",
            "\n",
            "              precision    recall  f1-score   support\n",
            "\n",
            "         ham       0.99      1.00      1.00       976\n",
            "        spam       0.98      0.96      0.97       139\n",
            "\n",
            "   micro avg       0.99      0.99      0.99      1115\n",
            "   macro avg       0.99      0.98      0.98      1115\n",
            "weighted avg       0.99      0.99      0.99      1115\n",
            "\n",
            "\n"
          ],
          "name": "stdout"
        },
        {
          "output_type": "execute_result",
          "data": {
            "text/plain": [
              "[{'C': 1, 'kernel': 'linear'},\n",
              " {'C': 1, 'kernel': 'linear'},\n",
              " {'C': 1000, 'gamma': 0.001, 'kernel': 'rbf'}]"
            ]
          },
          "metadata": {
            "tags": []
          },
          "execution_count": 12
        }
      ]
    },
    {
      "cell_type": "code",
      "metadata": {
        "colab_type": "code",
        "hidden": true,
        "id": "Fl6eBxlTuGc_",
        "outputId": "da1b02c4-2210-45b4-a41d-1557b19d5331",
        "colab": {
          "base_uri": "https://localhost:8080/",
          "height": 394
        }
      },
      "source": [
        "for params in results[\"best_params\"]:\n",
        "  print(\"using params {}\".format(params))\n",
        "  svc = SVC(**params)\n",
        "  svc.fit(X_train, y_train)\n",
        "  predict(svc)\n",
        "  print()"
      ],
      "execution_count": 0,
      "outputs": [
        {
          "output_type": "stream",
          "text": [
            "using params {'C': 1, 'kernel': 'linear'}\n",
            "prediction: 'spam' important - you could be entitled up to £3,160 in compensation from mis-sold ppi on a credit card or loan. please reply ppi for info or stop to opt out.\n",
            "prediction: 'spam' due to a new legislation, those struggling with debt can now apply to have it written off. for more information text the word info or to opt out text stop\n",
            "prediction: 'ham' overpaying for netflix? we have the solution. low-cost subscriptions, at https://stick-it-to-the-man.net\n",
            "prediction: 'spam' tony, are you ready to share your experiences? http://aelich.com/n8zzbxw reply stop to opt-out\n",
            "prediction: 'ham' put her in a sgt peppers costume and we would win hands down :)\n",
            "\n",
            "using params {'C': 1, 'kernel': 'linear'}\n",
            "prediction: 'spam' important - you could be entitled up to £3,160 in compensation from mis-sold ppi on a credit card or loan. please reply ppi for info or stop to opt out.\n",
            "prediction: 'spam' due to a new legislation, those struggling with debt can now apply to have it written off. for more information text the word info or to opt out text stop\n",
            "prediction: 'ham' overpaying for netflix? we have the solution. low-cost subscriptions, at https://stick-it-to-the-man.net\n",
            "prediction: 'spam' tony, are you ready to share your experiences? http://aelich.com/n8zzbxw reply stop to opt-out\n",
            "prediction: 'ham' put her in a sgt peppers costume and we would win hands down :)\n",
            "\n",
            "using params {'C': 1000, 'gamma': 0.001, 'kernel': 'rbf'}\n",
            "prediction: 'spam' important - you could be entitled up to £3,160 in compensation from mis-sold ppi on a credit card or loan. please reply ppi for info or stop to opt out.\n",
            "prediction: 'spam' due to a new legislation, those struggling with debt can now apply to have it written off. for more information text the word info or to opt out text stop\n",
            "prediction: 'ham' overpaying for netflix? we have the solution. low-cost subscriptions, at https://stick-it-to-the-man.net\n",
            "prediction: 'spam' tony, are you ready to share your experiences? http://aelich.com/n8zzbxw reply stop to opt-out\n",
            "prediction: 'ham' put her in a sgt peppers costume and we would win hands down :)\n",
            "\n"
          ],
          "name": "stdout"
        }
      ]
    },
    {
      "cell_type": "code",
      "metadata": {
        "colab_type": "code",
        "hidden": true,
        "id": "ScB4h7AsSlqd",
        "outputId": "8bbcc6fe-7244-4864-d166-068ca0e1d15a",
        "colab": {
          "base_uri": "https://localhost:8080/",
          "height": 139
        }
      },
      "source": [
        "svc = SVC(**{'C': 1000, 'gamma': 0.001, 'kernel': 'rbf'})\n",
        "svc.fit(X_train, y_train)\n",
        "predict(svc)\n",
        "print()"
      ],
      "execution_count": 0,
      "outputs": [
        {
          "output_type": "stream",
          "text": [
            "prediction: 'spam' IMPORTANT - You could be entitled up to £3,160 in compensation from mis-sold PPI on a credit card or loan. Please reply PPI for info or STOP to opt out.\n",
            "prediction: 'spam' Due to a new legislation, those struggling with debt can now apply to have it written off. For more information text the word INFO or to opt out text STOP\n",
            "prediction: 'spam' Overpaying for netflix We have the solution. Low-cost subscriptions\n",
            "prediction: 'ham' Overpaying for Netflix? We have the solution. Low-cost subscriptions, at https://stick-it-to-the-man.net\n",
            "prediction: 'spam' TONY, are you ready to share your experiences? http://aelich.com/n8ZzBxw Reply STOP to opt-out\n",
            "\n"
          ],
          "name": "stdout"
        }
      ]
    },
    {
      "cell_type": "markdown",
      "metadata": {
        "colab_type": "text",
        "hidden": true,
        "id": "5041SOk_jfmL"
      },
      "source": [
        "## naive_bayes"
      ]
    },
    {
      "cell_type": "code",
      "metadata": {
        "colab_type": "code",
        "hidden": true,
        "id": "ddvWJl9PbmOe",
        "colab": {}
      },
      "source": [
        "process_func = to_lower"
      ],
      "execution_count": 0,
      "outputs": []
    },
    {
      "cell_type": "code",
      "metadata": {
        "colab_type": "code",
        "hidden": true,
        "id": "b_fzQJupbuOh",
        "outputId": "ee6edd66-faf4-45d1-82e0-7a67a227acb6",
        "colab": {
          "base_uri": "https://localhost:8080/",
          "height": 34
        }
      },
      "source": [
        "sms_spam_ds = process_csv()\n",
        "sms_spam_ds['message'] = sms_spam_ds['message'].apply(process_func)\n",
        "X_train, X_test, y_train, y_test = split(sms_spam_ds)\n",
        "\n",
        "X_train = X_train.toarray()\n",
        "X_test = X_test.toarray()\n",
        "\n",
        "X_train.shape, X_test.shape"
      ],
      "execution_count": 0,
      "outputs": [
        {
          "output_type": "execute_result",
          "data": {
            "text/plain": [
              "((4457, 7774), (1115, 7774))"
            ]
          },
          "metadata": {
            "tags": []
          },
          "execution_count": 99
        }
      ]
    },
    {
      "cell_type": "code",
      "metadata": {
        "colab_type": "code",
        "hidden": true,
        "id": "ndkp96pllXJt",
        "outputId": "1b8f82b1-e02a-4252-9f33-dfa27b7b8a48",
        "colab": {
          "base_uri": "https://localhost:8080/",
          "height": 54
        }
      },
      "source": [
        "sms_spam_ds['message'][0]"
      ],
      "execution_count": 0,
      "outputs": [
        {
          "output_type": "execute_result",
          "data": {
            "text/plain": [
              "'go until jurong point, crazy.. available only in bugis n great world la e buffet... cine there got amore wat...'"
            ]
          },
          "metadata": {
            "tags": []
          },
          "execution_count": 100
        }
      ]
    },
    {
      "cell_type": "markdown",
      "metadata": {
        "colab_type": "text",
        "hidden": true,
        "id": "wLWD_ZnNhcvo"
      },
      "source": [
        "### GaussianNB"
      ]
    },
    {
      "cell_type": "code",
      "metadata": {
        "colab_type": "code",
        "hidden": true,
        "id": "CBK4DrIFEEt4",
        "outputId": "57d0ca23-c9f5-41ae-b681-11708daef723",
        "colab": {
          "base_uri": "https://localhost:8080/",
          "height": 139
        }
      },
      "source": [
        "from sklearn.naive_bayes import *\n",
        "print(\"GaussianNB\")\n",
        "params = {}\n",
        "clf = train(GaussianNB)\n",
        "predict(clf, pre_process_func=process_func, to_array=True)"
      ],
      "execution_count": 0,
      "outputs": [
        {
          "output_type": "stream",
          "text": [
            "GaussianNB\n",
            "prediction: 'ham' important - you could be entitled up to £3,160 in compensation from mis-sold ppi on a credit card or loan. please reply ppi for info or stop to opt out.\n",
            "prediction: 'ham' due to a new legislation, those struggling with debt can now apply to have it written off. for more information text the word info or to opt out text stop\n",
            "prediction: 'ham' overpaying for netflix we have the solution. low-cost subscriptions\n",
            "prediction: 'ham' overpaying for netflix? we have the solution. low-cost subscriptions, at https://stick-it-to-the-man.net\n",
            "prediction: 'spam' tony, are you ready to share your experiences? http://aelich.com/n8zzbxw reply stop to opt-out\n"
          ],
          "name": "stdout"
        }
      ]
    },
    {
      "cell_type": "markdown",
      "metadata": {
        "colab_type": "text",
        "hidden": true,
        "id": "J9KwIqiXhir0"
      },
      "source": [
        "### MultinomialNB"
      ]
    },
    {
      "cell_type": "code",
      "metadata": {
        "colab_type": "code",
        "hidden": true,
        "id": "vb05e3FSdr9X",
        "outputId": "b6c5a339-3826-4a2c-cff3-6c28c42a9236",
        "colab": {
          "base_uri": "https://localhost:8080/",
          "height": 1000
        }
      },
      "source": [
        "clf = MultinomialNB()\n",
        "scores = ['accuracy', 'precision_macro', 'recall_macro']\n",
        "tuned_parameters = [{'alpha': [0.1, 0.2, 0.5, 0.8, 1]}]\n",
        "results = calc_best_params(clf, scores, tuned_parameters)\n",
        "results[\"best_params\"]"
      ],
      "execution_count": 0,
      "outputs": [
        {
          "output_type": "stream",
          "text": [
            "# Tuning hyper-parameters for accuracy\n",
            "\n",
            "Best parameters set found on development set:\n",
            "\n",
            "{'alpha': 0.2}\n",
            "\n",
            "Grid scores on development set:\n",
            "\n",
            "0.976 (+/-0.015) for {'alpha': 0.1}\n",
            "0.978 (+/-0.015) for {'alpha': 0.2}\n",
            "0.969 (+/-0.015) for {'alpha': 0.5}\n",
            "0.953 (+/-0.013) for {'alpha': 0.8}\n",
            "0.945 (+/-0.010) for {'alpha': 1}\n",
            "\n",
            "Detailed classification report:\n",
            "\n",
            "The model is trained on the full development set.\n",
            "The scores are computed on the full evaluation set.\n",
            "\n",
            "              precision    recall  f1-score   support\n",
            "\n",
            "         ham       0.98      1.00      0.99       976\n",
            "        spam       0.99      0.85      0.91       139\n",
            "\n",
            "    accuracy                           0.98      1115\n",
            "   macro avg       0.99      0.92      0.95      1115\n",
            "weighted avg       0.98      0.98      0.98      1115\n",
            "\n",
            "\n",
            "# Tuning hyper-parameters for precision_macro\n",
            "\n",
            "Best parameters set found on development set:\n",
            "\n",
            "{'alpha': 0.5}\n",
            "\n",
            "Grid scores on development set:\n",
            "\n",
            "0.949 (+/-0.023) for {'alpha': 0.1}\n",
            "0.962 (+/-0.022) for {'alpha': 0.2}\n",
            "0.974 (+/-0.012) for {'alpha': 0.5}\n",
            "0.972 (+/-0.011) for {'alpha': 0.8}\n",
            "0.970 (+/-0.005) for {'alpha': 1}\n",
            "\n",
            "Detailed classification report:\n",
            "\n",
            "The model is trained on the full development set.\n",
            "The scores are computed on the full evaluation set.\n",
            "\n",
            "              precision    recall  f1-score   support\n",
            "\n",
            "         ham       0.97      1.00      0.99       976\n",
            "        spam       1.00      0.81      0.90       139\n",
            "\n",
            "    accuracy                           0.98      1115\n",
            "   macro avg       0.99      0.91      0.94      1115\n",
            "weighted avg       0.98      0.98      0.98      1115\n",
            "\n",
            "\n",
            "# Tuning hyper-parameters for recall_macro\n",
            "\n",
            "Best parameters set found on development set:\n",
            "\n",
            "{'alpha': 0.1}\n",
            "\n",
            "Grid scores on development set:\n",
            "\n",
            "0.947 (+/-0.050) for {'alpha': 0.1}\n",
            "0.941 (+/-0.047) for {'alpha': 0.2}\n",
            "0.891 (+/-0.056) for {'alpha': 0.5}\n",
            "0.830 (+/-0.045) for {'alpha': 0.8}\n",
            "0.799 (+/-0.035) for {'alpha': 1}\n",
            "\n",
            "Detailed classification report:\n",
            "\n",
            "The model is trained on the full development set.\n",
            "The scores are computed on the full evaluation set.\n",
            "\n",
            "              precision    recall  f1-score   support\n",
            "\n",
            "         ham       0.98      1.00      0.99       976\n",
            "        spam       0.98      0.89      0.94       139\n",
            "\n",
            "    accuracy                           0.98      1115\n",
            "   macro avg       0.98      0.95      0.96      1115\n",
            "weighted avg       0.98      0.98      0.98      1115\n",
            "\n",
            "\n"
          ],
          "name": "stdout"
        },
        {
          "output_type": "execute_result",
          "data": {
            "text/plain": [
              "[{'alpha': 0.2}, {'alpha': 0.5}, {'alpha': 0.1}]"
            ]
          },
          "metadata": {
            "tags": []
          },
          "execution_count": 96
        }
      ]
    },
    {
      "cell_type": "code",
      "metadata": {
        "colab_type": "code",
        "hidden": true,
        "id": "l-va5CNQf8Wm",
        "outputId": "018375b5-0c9e-4858-a2b9-f32a5c18df30",
        "colab": {
          "base_uri": "https://localhost:8080/",
          "height": 394
        }
      },
      "source": [
        "for params in results[\"best_params\"]:\n",
        "  print(\"using params {}\".format(params))\n",
        "  model = MultinomialNB(**params)\n",
        "  model.fit(X_train, y_train)\n",
        "  predict(model, pre_process_func=process_func)\n",
        "  print()"
      ],
      "execution_count": 0,
      "outputs": [
        {
          "output_type": "stream",
          "text": [
            "using params {'alpha': 0.2}\n",
            "prediction: 'spam' important - you could be entitled up to £3,160 in compensation from mis-sold ppi on a credit card or loan. please reply ppi for info or stop to opt out.\n",
            "prediction: 'spam' due to a new legislation, those struggling with debt can now apply to have it written off. for more information text the word info or to opt out text stop\n",
            "prediction: 'ham' overpaying for netflix we have the solution. low-cost subscriptions\n",
            "prediction: 'ham' overpaying for netflix? we have the solution. low-cost subscriptions, at https://stick-it-to-the-man.net\n",
            "prediction: 'spam' tony, are you ready to share your experiences? http://aelich.com/n8zzbxw reply stop to opt-out\n",
            "\n",
            "using params {'alpha': 0.5}\n",
            "prediction: 'spam' important - you could be entitled up to £3,160 in compensation from mis-sold ppi on a credit card or loan. please reply ppi for info or stop to opt out.\n",
            "prediction: 'ham' due to a new legislation, those struggling with debt can now apply to have it written off. for more information text the word info or to opt out text stop\n",
            "prediction: 'ham' overpaying for netflix we have the solution. low-cost subscriptions\n",
            "prediction: 'ham' overpaying for netflix? we have the solution. low-cost subscriptions, at https://stick-it-to-the-man.net\n",
            "prediction: 'spam' tony, are you ready to share your experiences? http://aelich.com/n8zzbxw reply stop to opt-out\n",
            "\n",
            "using params {'alpha': 0.1}\n",
            "prediction: 'spam' important - you could be entitled up to £3,160 in compensation from mis-sold ppi on a credit card or loan. please reply ppi for info or stop to opt out.\n",
            "prediction: 'spam' due to a new legislation, those struggling with debt can now apply to have it written off. for more information text the word info or to opt out text stop\n",
            "prediction: 'ham' overpaying for netflix we have the solution. low-cost subscriptions\n",
            "prediction: 'ham' overpaying for netflix? we have the solution. low-cost subscriptions, at https://stick-it-to-the-man.net\n",
            "prediction: 'spam' tony, are you ready to share your experiences? http://aelich.com/n8zzbxw reply stop to opt-out\n",
            "\n"
          ],
          "name": "stdout"
        }
      ]
    },
    {
      "cell_type": "markdown",
      "metadata": {
        "colab_type": "text",
        "hidden": true,
        "id": "4L3Z4quUhoo1"
      },
      "source": [
        "### ComplementNB"
      ]
    },
    {
      "cell_type": "code",
      "metadata": {
        "colab_type": "code",
        "hidden": true,
        "id": "k-CZyk7khrG6",
        "outputId": "18d3ce1e-e1d9-4d9d-8978-5c68eb0fbee9",
        "colab": {
          "base_uri": "https://localhost:8080/",
          "height": 1000
        }
      },
      "source": [
        "from sklearn.naive_bayes import *\n",
        "clf = ComplementNB()\n",
        "scores = ['accuracy', 'precision_macro', 'recall_macro']\n",
        "tuned_parameters = [{'alpha': [0.1, 0.2, 0.5, 0.8, 1], 'norm': [True, False]}]\n",
        "results = calc_best_params(clf, scores, tuned_parameters)\n",
        "results[\"best_params\"]"
      ],
      "execution_count": 0,
      "outputs": [
        {
          "output_type": "stream",
          "text": [
            "# Tuning hyper-parameters for accuracy\n",
            "\n",
            "Best parameters set found on development set:\n",
            "\n",
            "{'alpha': 0.2, 'norm': True}\n",
            "\n",
            "Grid scores on development set:\n",
            "\n",
            "0.974 (+/-0.010) for {'alpha': 0.1, 'norm': True}\n",
            "0.948 (+/-0.008) for {'alpha': 0.1, 'norm': False}\n",
            "0.977 (+/-0.014) for {'alpha': 0.2, 'norm': True}\n",
            "0.952 (+/-0.007) for {'alpha': 0.2, 'norm': False}\n",
            "0.975 (+/-0.012) for {'alpha': 0.5, 'norm': True}\n",
            "0.963 (+/-0.011) for {'alpha': 0.5, 'norm': False}\n",
            "0.969 (+/-0.010) for {'alpha': 0.8, 'norm': True}\n",
            "0.967 (+/-0.013) for {'alpha': 0.8, 'norm': False}\n",
            "0.965 (+/-0.011) for {'alpha': 1, 'norm': True}\n",
            "0.968 (+/-0.013) for {'alpha': 1, 'norm': False}\n",
            "\n",
            "Detailed classification report:\n",
            "\n",
            "The model is trained on the full development set.\n",
            "The scores are computed on the full evaluation set.\n",
            "\n",
            "              precision    recall  f1-score   support\n",
            "\n",
            "         ham       0.99      0.99      0.99       976\n",
            "        spam       0.93      0.93      0.93       139\n",
            "\n",
            "    accuracy                           0.98      1115\n",
            "   macro avg       0.96      0.96      0.96      1115\n",
            "weighted avg       0.98      0.98      0.98      1115\n",
            "\n",
            "\n",
            "# Tuning hyper-parameters for precision_macro\n",
            "\n",
            "Best parameters set found on development set:\n",
            "\n",
            "{'alpha': 0.5, 'norm': True}\n",
            "\n",
            "Grid scores on development set:\n",
            "\n",
            "0.932 (+/-0.018) for {'alpha': 0.1, 'norm': True}\n",
            "0.864 (+/-0.015) for {'alpha': 0.1, 'norm': False}\n",
            "0.945 (+/-0.021) for {'alpha': 0.2, 'norm': True}\n",
            "0.874 (+/-0.011) for {'alpha': 0.2, 'norm': False}\n",
            "0.955 (+/-0.016) for {'alpha': 0.5, 'norm': True}\n",
            "0.900 (+/-0.018) for {'alpha': 0.5, 'norm': False}\n",
            "0.953 (+/-0.010) for {'alpha': 0.8, 'norm': True}\n",
            "0.917 (+/-0.026) for {'alpha': 0.8, 'norm': False}\n",
            "0.951 (+/-0.013) for {'alpha': 1, 'norm': True}\n",
            "0.922 (+/-0.022) for {'alpha': 1, 'norm': False}\n",
            "\n",
            "Detailed classification report:\n",
            "\n",
            "The model is trained on the full development set.\n",
            "The scores are computed on the full evaluation set.\n",
            "\n",
            "              precision    recall  f1-score   support\n",
            "\n",
            "         ham       0.98      1.00      0.99       976\n",
            "        spam       0.97      0.88      0.92       139\n",
            "\n",
            "    accuracy                           0.98      1115\n",
            "   macro avg       0.98      0.94      0.96      1115\n",
            "weighted avg       0.98      0.98      0.98      1115\n",
            "\n",
            "\n",
            "# Tuning hyper-parameters for recall_macro\n",
            "\n",
            "Best parameters set found on development set:\n",
            "\n",
            "{'alpha': 0.1, 'norm': True}\n",
            "\n",
            "Grid scores on development set:\n",
            "\n",
            "0.964 (+/-0.027) for {'alpha': 0.1, 'norm': True}\n",
            "0.959 (+/-0.017) for {'alpha': 0.1, 'norm': False}\n",
            "0.959 (+/-0.040) for {'alpha': 0.2, 'norm': True}\n",
            "0.961 (+/-0.018) for {'alpha': 0.2, 'norm': False}\n",
            "0.936 (+/-0.040) for {'alpha': 0.5, 'norm': True}\n",
            "0.958 (+/-0.029) for {'alpha': 0.5, 'norm': False}\n",
            "0.911 (+/-0.035) for {'alpha': 0.8, 'norm': True}\n",
            "0.953 (+/-0.030) for {'alpha': 0.8, 'norm': False}\n",
            "0.897 (+/-0.035) for {'alpha': 1, 'norm': True}\n",
            "0.948 (+/-0.032) for {'alpha': 1, 'norm': False}\n",
            "\n",
            "Detailed classification report:\n",
            "\n",
            "The model is trained on the full development set.\n",
            "The scores are computed on the full evaluation set.\n",
            "\n",
            "              precision    recall  f1-score   support\n",
            "\n",
            "         ham       0.99      0.99      0.99       976\n",
            "        spam       0.92      0.96      0.94       139\n",
            "\n",
            "    accuracy                           0.98      1115\n",
            "   macro avg       0.96      0.97      0.96      1115\n",
            "weighted avg       0.98      0.98      0.98      1115\n",
            "\n",
            "\n"
          ],
          "name": "stdout"
        },
        {
          "output_type": "execute_result",
          "data": {
            "text/plain": [
              "[{'alpha': 0.2, 'norm': True},\n",
              " {'alpha': 0.5, 'norm': True},\n",
              " {'alpha': 0.1, 'norm': True}]"
            ]
          },
          "metadata": {
            "tags": []
          },
          "execution_count": 89
        }
      ]
    },
    {
      "cell_type": "code",
      "metadata": {
        "colab_type": "code",
        "hidden": true,
        "id": "vR5sTzuaiTUI",
        "outputId": "00cb68bb-6d4b-4fdd-86a8-fb2a5b0a9393",
        "colab": {
          "base_uri": "https://localhost:8080/",
          "height": 394
        }
      },
      "source": [
        "for params in results[\"best_params\"]:\n",
        "  print(\"using params {}\".format(params))\n",
        "  model = ComplementNB(**params)\n",
        "  model.fit(X_train, y_train)\n",
        "  predict(model, pre_process_func=process_func)\n",
        "  print()"
      ],
      "execution_count": 0,
      "outputs": [
        {
          "output_type": "stream",
          "text": [
            "using params {'alpha': 0.2}\n",
            "prediction: 'spam' important - you could be entitled up to £3,160 in compensation from mis-sold ppi on a credit card or loan. please reply ppi for info or stop to opt out.\n",
            "prediction: 'spam' due to a new legislation, those struggling with debt can now apply to have it written off. for more information text the word info or to opt out text stop\n",
            "prediction: 'spam' overpaying for netflix we have the solution. low-cost subscriptions\n",
            "prediction: 'ham' overpaying for netflix? we have the solution. low-cost subscriptions, at https://stick-it-to-the-man.net\n",
            "prediction: 'spam' tony, are you ready to share your experiences? http://aelich.com/n8zzbxw reply stop to opt-out\n",
            "\n",
            "using params {'alpha': 0.5}\n",
            "prediction: 'spam' important - you could be entitled up to £3,160 in compensation from mis-sold ppi on a credit card or loan. please reply ppi for info or stop to opt out.\n",
            "prediction: 'spam' due to a new legislation, those struggling with debt can now apply to have it written off. for more information text the word info or to opt out text stop\n",
            "prediction: 'spam' overpaying for netflix we have the solution. low-cost subscriptions\n",
            "prediction: 'ham' overpaying for netflix? we have the solution. low-cost subscriptions, at https://stick-it-to-the-man.net\n",
            "prediction: 'spam' tony, are you ready to share your experiences? http://aelich.com/n8zzbxw reply stop to opt-out\n",
            "\n",
            "using params {'alpha': 0.1}\n",
            "prediction: 'spam' important - you could be entitled up to £3,160 in compensation from mis-sold ppi on a credit card or loan. please reply ppi for info or stop to opt out.\n",
            "prediction: 'spam' due to a new legislation, those struggling with debt can now apply to have it written off. for more information text the word info or to opt out text stop\n",
            "prediction: 'spam' overpaying for netflix we have the solution. low-cost subscriptions\n",
            "prediction: 'ham' overpaying for netflix? we have the solution. low-cost subscriptions, at https://stick-it-to-the-man.net\n",
            "prediction: 'spam' tony, are you ready to share your experiences? http://aelich.com/n8zzbxw reply stop to opt-out\n",
            "\n"
          ],
          "name": "stdout"
        }
      ]
    },
    {
      "cell_type": "markdown",
      "metadata": {
        "colab_type": "text",
        "hidden": true,
        "id": "4s-MXosLihpo"
      },
      "source": [
        "### BernoulliNB"
      ]
    },
    {
      "cell_type": "code",
      "metadata": {
        "colab_type": "code",
        "hidden": true,
        "id": "XAYlILjXijBK",
        "outputId": "994e376a-fd7d-4429-d708-8f23e06976b1",
        "colab": {
          "base_uri": "https://localhost:8080/",
          "height": 1000
        }
      },
      "source": [
        "from sklearn.naive_bayes import *\n",
        "clf = BernoulliNB()\n",
        "scores = ['accuracy', 'precision_macro', 'recall_macro']\n",
        "tuned_parameters = [{'alpha': [0.1, 0.2, 0.5, 0.8, 1]}]\n",
        "results = calc_best_params(clf, scores, tuned_parameters)\n",
        "results[\"best_params\"]"
      ],
      "execution_count": 0,
      "outputs": [
        {
          "output_type": "stream",
          "text": [
            "# Tuning hyper-parameters for accuracy\n",
            "\n",
            "Best parameters set found on development set:\n",
            "\n",
            "{'alpha': 0.1}\n",
            "\n",
            "Grid scores on development set:\n",
            "\n",
            "0.988 (+/-0.008) for {'alpha': 0.1}\n",
            "0.987 (+/-0.008) for {'alpha': 0.2}\n",
            "0.983 (+/-0.010) for {'alpha': 0.5}\n",
            "0.981 (+/-0.014) for {'alpha': 0.8}\n",
            "0.978 (+/-0.019) for {'alpha': 1}\n",
            "\n",
            "Detailed classification report:\n",
            "\n",
            "The model is trained on the full development set.\n",
            "The scores are computed on the full evaluation set.\n",
            "\n",
            "              precision    recall  f1-score   support\n",
            "\n",
            "         ham       0.99      1.00      1.00       976\n",
            "        spam       0.99      0.96      0.98       139\n",
            "\n",
            "    accuracy                           0.99      1115\n",
            "   macro avg       0.99      0.98      0.99      1115\n",
            "weighted avg       0.99      0.99      0.99      1115\n",
            "\n",
            "\n",
            "# Tuning hyper-parameters for precision_macro\n",
            "\n",
            "Best parameters set found on development set:\n",
            "\n",
            "{'alpha': 0.1}\n",
            "\n",
            "Grid scores on development set:\n",
            "\n",
            "0.981 (+/-0.005) for {'alpha': 0.1}\n",
            "0.979 (+/-0.008) for {'alpha': 0.2}\n",
            "0.978 (+/-0.012) for {'alpha': 0.5}\n",
            "0.978 (+/-0.009) for {'alpha': 0.8}\n",
            "0.978 (+/-0.017) for {'alpha': 1}\n",
            "\n",
            "Detailed classification report:\n",
            "\n",
            "The model is trained on the full development set.\n",
            "The scores are computed on the full evaluation set.\n",
            "\n",
            "              precision    recall  f1-score   support\n",
            "\n",
            "         ham       0.99      1.00      1.00       976\n",
            "        spam       0.99      0.96      0.98       139\n",
            "\n",
            "    accuracy                           0.99      1115\n",
            "   macro avg       0.99      0.98      0.99      1115\n",
            "weighted avg       0.99      0.99      0.99      1115\n",
            "\n",
            "\n",
            "# Tuning hyper-parameters for recall_macro\n",
            "\n",
            "Best parameters set found on development set:\n",
            "\n",
            "{'alpha': 0.2}\n",
            "\n",
            "Grid scores on development set:\n",
            "\n",
            "0.967 (+/-0.032) for {'alpha': 0.1}\n",
            "0.968 (+/-0.031) for {'alpha': 0.2}\n",
            "0.951 (+/-0.035) for {'alpha': 0.5}\n",
            "0.940 (+/-0.050) for {'alpha': 0.8}\n",
            "0.927 (+/-0.066) for {'alpha': 1}\n",
            "\n",
            "Detailed classification report:\n",
            "\n",
            "The model is trained on the full development set.\n",
            "The scores are computed on the full evaluation set.\n",
            "\n",
            "              precision    recall  f1-score   support\n",
            "\n",
            "         ham       0.99      1.00      1.00       976\n",
            "        spam       0.99      0.95      0.97       139\n",
            "\n",
            "    accuracy                           0.99      1115\n",
            "   macro avg       0.99      0.97      0.98      1115\n",
            "weighted avg       0.99      0.99      0.99      1115\n",
            "\n",
            "\n"
          ],
          "name": "stdout"
        },
        {
          "output_type": "execute_result",
          "data": {
            "text/plain": [
              "[{'alpha': 0.1}, {'alpha': 0.1}, {'alpha': 0.2}]"
            ]
          },
          "metadata": {
            "tags": []
          },
          "execution_count": 91
        }
      ]
    },
    {
      "cell_type": "code",
      "metadata": {
        "colab_type": "code",
        "hidden": true,
        "id": "eYyI-LTQi3gW",
        "outputId": "ee75f655-fed8-4eb9-be75-b4d897f49514",
        "colab": {
          "base_uri": "https://localhost:8080/",
          "height": 394
        }
      },
      "source": [
        "for params in results[\"best_params\"]:\n",
        "  print(\"using params {}\".format(params))\n",
        "  model = ComplementNB(**params)\n",
        "  model.fit(X_train, y_train)\n",
        "  predict(model)\n",
        "  print()"
      ],
      "execution_count": 0,
      "outputs": [
        {
          "output_type": "stream",
          "text": [
            "using params {'alpha': 0.1}\n",
            "prediction: 'spam' IMPORTANT - You could be entitled up to £3,160 in compensation from mis-sold PPI on a credit card or loan. Please reply PPI for info or STOP to opt out.\n",
            "prediction: 'spam' Due to a new legislation, those struggling with debt can now apply to have it written off. For more information text the word INFO or to opt out text STOP\n",
            "prediction: 'spam' Overpaying for netflix We have the solution. Low-cost subscriptions\n",
            "prediction: 'ham' Overpaying for Netflix? We have the solution. Low-cost subscriptions, at https://stick-it-to-the-man.net\n",
            "prediction: 'spam' TONY, are you ready to share your experiences? http://aelich.com/n8ZzBxw Reply STOP to opt-out\n",
            "\n",
            "using params {'alpha': 0.1}\n",
            "prediction: 'spam' IMPORTANT - You could be entitled up to £3,160 in compensation from mis-sold PPI on a credit card or loan. Please reply PPI for info or STOP to opt out.\n",
            "prediction: 'spam' Due to a new legislation, those struggling with debt can now apply to have it written off. For more information text the word INFO or to opt out text STOP\n",
            "prediction: 'spam' Overpaying for netflix We have the solution. Low-cost subscriptions\n",
            "prediction: 'ham' Overpaying for Netflix? We have the solution. Low-cost subscriptions, at https://stick-it-to-the-man.net\n",
            "prediction: 'spam' TONY, are you ready to share your experiences? http://aelich.com/n8ZzBxw Reply STOP to opt-out\n",
            "\n",
            "using params {'alpha': 0.2}\n",
            "prediction: 'spam' IMPORTANT - You could be entitled up to £3,160 in compensation from mis-sold PPI on a credit card or loan. Please reply PPI for info or STOP to opt out.\n",
            "prediction: 'spam' Due to a new legislation, those struggling with debt can now apply to have it written off. For more information text the word INFO or to opt out text STOP\n",
            "prediction: 'spam' Overpaying for netflix We have the solution. Low-cost subscriptions\n",
            "prediction: 'ham' Overpaying for Netflix? We have the solution. Low-cost subscriptions, at https://stick-it-to-the-man.net\n",
            "prediction: 'spam' TONY, are you ready to share your experiences? http://aelich.com/n8ZzBxw Reply STOP to opt-out\n",
            "\n"
          ],
          "name": "stdout"
        }
      ]
    },
    {
      "cell_type": "markdown",
      "metadata": {
        "colab_type": "text",
        "heading_collapsed": true,
        "id": "0YJKqpMBNmsz"
      },
      "source": [
        "# Tests with different text processing"
      ]
    },
    {
      "cell_type": "code",
      "metadata": {
        "colab_type": "code",
        "hidden": true,
        "id": "YdEgJdo1Nu2Y",
        "outputId": "344c4bd9-bd11-420b-e6c1-c1f731a96e47",
        "colab": {
          "base_uri": "https://localhost:8080/",
          "height": 34
        }
      },
      "source": [
        "sms_spam_ds = process_csv()\n",
        "sms_spam_ds['message'] = sms_spam_ds['message'].apply(clean_up_pipeline)\n",
        "X_train, X_test, y_train, y_test = split(sms_spam_ds)\n",
        "\n",
        "# X_train = X_train.toarray()\n",
        "# X_test = X_test.toarray()\n",
        "\n",
        "X_train.shape, X_test.shape"
      ],
      "execution_count": 0,
      "outputs": [
        {
          "output_type": "execute_result",
          "data": {
            "text/plain": [
              "((4457, 7427), (1115, 7427))"
            ]
          },
          "metadata": {
            "tags": []
          },
          "execution_count": 84
        }
      ]
    },
    {
      "cell_type": "code",
      "metadata": {
        "colab_type": "code",
        "hidden": true,
        "id": "UOy1KvCjQsP3",
        "outputId": "c27d2a46-958c-45ea-c091-cfd39154ad5b",
        "colab": {
          "base_uri": "https://localhost:8080/",
          "height": 1000
        }
      },
      "source": [
        "clf = SVC()\n",
        "scores = ['accuracy', 'precision_macro', 'recall_macro']\n",
        "tuned_parameters = [{'kernel': ['rbf'], 'gamma': [1e-3, 1e-4],\n",
        "                     'C': [1, 10, 100, 1000]},\n",
        "                    {'kernel': ['linear'], 'C': [1, 10, 100, 1000]}]\n",
        "results = calc_best_params(clf, scores, tuned_parameters)\n",
        "\n",
        "results[\"best_params\"]"
      ],
      "execution_count": 0,
      "outputs": [
        {
          "output_type": "stream",
          "text": [
            "# Tuning hyper-parameters for accuracy\n",
            "\n",
            "Best parameters set found on development set:\n",
            "\n",
            "{'C': 1000, 'gamma': 0.001, 'kernel': 'rbf'}\n",
            "\n",
            "Grid scores on development set:\n",
            "\n",
            "0.864 (+/-0.001) for {'C': 1, 'gamma': 0.001, 'kernel': 'rbf'}\n",
            "0.864 (+/-0.001) for {'C': 1, 'gamma': 0.0001, 'kernel': 'rbf'}\n",
            "0.864 (+/-0.001) for {'C': 10, 'gamma': 0.001, 'kernel': 'rbf'}\n",
            "0.864 (+/-0.001) for {'C': 10, 'gamma': 0.0001, 'kernel': 'rbf'}\n",
            "0.958 (+/-0.014) for {'C': 100, 'gamma': 0.001, 'kernel': 'rbf'}\n",
            "0.864 (+/-0.001) for {'C': 100, 'gamma': 0.0001, 'kernel': 'rbf'}\n",
            "0.979 (+/-0.014) for {'C': 1000, 'gamma': 0.001, 'kernel': 'rbf'}\n",
            "0.958 (+/-0.014) for {'C': 1000, 'gamma': 0.0001, 'kernel': 'rbf'}\n",
            "0.978 (+/-0.015) for {'C': 1, 'kernel': 'linear'}\n",
            "0.977 (+/-0.013) for {'C': 10, 'kernel': 'linear'}\n",
            "0.976 (+/-0.013) for {'C': 100, 'kernel': 'linear'}\n",
            "0.976 (+/-0.013) for {'C': 1000, 'kernel': 'linear'}\n",
            "\n",
            "Detailed classification report:\n",
            "\n",
            "The model is trained on the full development set.\n",
            "The scores are computed on the full evaluation set.\n",
            "\n",
            "              precision    recall  f1-score   support\n",
            "\n",
            "         ham       0.99      1.00      0.99       976\n",
            "        spam       0.97      0.94      0.96       139\n",
            "\n",
            "    accuracy                           0.99      1115\n",
            "   macro avg       0.98      0.97      0.98      1115\n",
            "weighted avg       0.99      0.99      0.99      1115\n",
            "\n",
            "\n",
            "# Tuning hyper-parameters for precision_macro\n",
            "\n"
          ],
          "name": "stdout"
        },
        {
          "output_type": "stream",
          "text": [
            "/usr/local/lib/python3.6/dist-packages/sklearn/metrics/_classification.py:1272: UndefinedMetricWarning: Precision is ill-defined and being set to 0.0 in labels with no predicted samples. Use `zero_division` parameter to control this behavior.\n",
            "  _warn_prf(average, modifier, msg_start, len(result))\n"
          ],
          "name": "stderr"
        },
        {
          "output_type": "stream",
          "text": [
            "Best parameters set found on development set:\n",
            "\n",
            "{'C': 1, 'kernel': 'linear'}\n",
            "\n",
            "Grid scores on development set:\n",
            "\n",
            "0.432 (+/-0.001) for {'C': 1, 'gamma': 0.001, 'kernel': 'rbf'}\n",
            "0.432 (+/-0.001) for {'C': 1, 'gamma': 0.0001, 'kernel': 'rbf'}\n",
            "0.432 (+/-0.001) for {'C': 10, 'gamma': 0.001, 'kernel': 'rbf'}\n",
            "0.432 (+/-0.001) for {'C': 10, 'gamma': 0.0001, 'kernel': 'rbf'}\n",
            "0.976 (+/-0.007) for {'C': 100, 'gamma': 0.001, 'kernel': 'rbf'}\n",
            "0.432 (+/-0.001) for {'C': 100, 'gamma': 0.0001, 'kernel': 'rbf'}\n",
            "0.980 (+/-0.013) for {'C': 1000, 'gamma': 0.001, 'kernel': 'rbf'}\n",
            "0.976 (+/-0.007) for {'C': 1000, 'gamma': 0.0001, 'kernel': 'rbf'}\n",
            "0.982 (+/-0.011) for {'C': 1, 'kernel': 'linear'}\n",
            "0.975 (+/-0.007) for {'C': 10, 'kernel': 'linear'}\n",
            "0.974 (+/-0.007) for {'C': 100, 'kernel': 'linear'}\n",
            "0.974 (+/-0.007) for {'C': 1000, 'kernel': 'linear'}\n",
            "\n",
            "Detailed classification report:\n",
            "\n",
            "The model is trained on the full development set.\n",
            "The scores are computed on the full evaluation set.\n",
            "\n",
            "              precision    recall  f1-score   support\n",
            "\n",
            "         ham       0.99      1.00      0.99       976\n",
            "        spam       0.98      0.91      0.94       139\n",
            "\n",
            "    accuracy                           0.99      1115\n",
            "   macro avg       0.98      0.96      0.97      1115\n",
            "weighted avg       0.99      0.99      0.99      1115\n",
            "\n",
            "\n",
            "# Tuning hyper-parameters for recall_macro\n",
            "\n",
            "Best parameters set found on development set:\n",
            "\n",
            "{'C': 1000, 'gamma': 0.001, 'kernel': 'rbf'}\n",
            "\n",
            "Grid scores on development set:\n",
            "\n",
            "0.500 (+/-0.000) for {'C': 1, 'gamma': 0.001, 'kernel': 'rbf'}\n",
            "0.500 (+/-0.000) for {'C': 1, 'gamma': 0.0001, 'kernel': 'rbf'}\n",
            "0.500 (+/-0.000) for {'C': 10, 'gamma': 0.001, 'kernel': 'rbf'}\n",
            "0.500 (+/-0.000) for {'C': 10, 'gamma': 0.0001, 'kernel': 'rbf'}\n",
            "0.847 (+/-0.051) for {'C': 100, 'gamma': 0.001, 'kernel': 'rbf'}\n",
            "0.500 (+/-0.000) for {'C': 100, 'gamma': 0.0001, 'kernel': 'rbf'}\n",
            "0.929 (+/-0.051) for {'C': 1000, 'gamma': 0.001, 'kernel': 'rbf'}\n",
            "0.847 (+/-0.051) for {'C': 1000, 'gamma': 0.0001, 'kernel': 'rbf'}\n",
            "0.925 (+/-0.055) for {'C': 1, 'kernel': 'linear'}\n",
            "0.925 (+/-0.050) for {'C': 10, 'kernel': 'linear'}\n",
            "0.925 (+/-0.050) for {'C': 100, 'kernel': 'linear'}\n",
            "0.925 (+/-0.050) for {'C': 1000, 'kernel': 'linear'}\n",
            "\n",
            "Detailed classification report:\n",
            "\n",
            "The model is trained on the full development set.\n",
            "The scores are computed on the full evaluation set.\n",
            "\n",
            "              precision    recall  f1-score   support\n",
            "\n",
            "         ham       0.99      1.00      0.99       976\n",
            "        spam       0.97      0.94      0.96       139\n",
            "\n",
            "    accuracy                           0.99      1115\n",
            "   macro avg       0.98      0.97      0.98      1115\n",
            "weighted avg       0.99      0.99      0.99      1115\n",
            "\n",
            "\n"
          ],
          "name": "stdout"
        },
        {
          "output_type": "execute_result",
          "data": {
            "text/plain": [
              "[{'C': 1000, 'gamma': 0.001, 'kernel': 'rbf'},\n",
              " {'C': 1, 'kernel': 'linear'},\n",
              " {'C': 1000, 'gamma': 0.001, 'kernel': 'rbf'}]"
            ]
          },
          "metadata": {
            "tags": []
          },
          "execution_count": 85
        }
      ]
    },
    {
      "cell_type": "code",
      "metadata": {
        "colab_type": "code",
        "hidden": true,
        "id": "chCYK5oZa4UO",
        "outputId": "aee72838-3e5d-4450-ab32-2466635c5205",
        "colab": {
          "base_uri": "https://localhost:8080/",
          "height": 394
        }
      },
      "source": [
        "for params in results[\"best_params\"]:\n",
        "  print(\"using params {}\".format(params))\n",
        "  svc = SVC(**params)\n",
        "  svc.fit(X_train, y_train)\n",
        "  predict(svc, pre_process_func=clean_up_pipeline)\n",
        "  print()"
      ],
      "execution_count": 0,
      "outputs": [
        {
          "output_type": "stream",
          "text": [
            "using params {'C': 1000, 'gamma': 0.001, 'kernel': 'rbf'}\n",
            "prediction: 'spam' important  you could be entitled up to £ in compensation from missold ppi on a credit card or loan please reply ppi for info or stop to opt out\n",
            "prediction: 'spam' due to a new legislation those struggling with debt can now apply to have it written off for more information text the word info or to opt out text stop\n",
            "prediction: 'ham' overpaying for netflix we have the solution lowcost subscriptions\n",
            "prediction: 'ham' overpaying for netflix we have the solution lowcost subscriptions at\n",
            "prediction: 'spam' tony are you ready to share your experiences  reply stop to optout\n",
            "\n",
            "using params {'C': 1, 'kernel': 'linear'}\n",
            "prediction: 'spam' important  you could be entitled up to £ in compensation from missold ppi on a credit card or loan please reply ppi for info or stop to opt out\n",
            "prediction: 'spam' due to a new legislation those struggling with debt can now apply to have it written off for more information text the word info or to opt out text stop\n",
            "prediction: 'ham' overpaying for netflix we have the solution lowcost subscriptions\n",
            "prediction: 'ham' overpaying for netflix we have the solution lowcost subscriptions at\n",
            "prediction: 'spam' tony are you ready to share your experiences  reply stop to optout\n",
            "\n",
            "using params {'C': 1000, 'gamma': 0.001, 'kernel': 'rbf'}\n",
            "prediction: 'spam' important  you could be entitled up to £ in compensation from missold ppi on a credit card or loan please reply ppi for info or stop to opt out\n",
            "prediction: 'spam' due to a new legislation those struggling with debt can now apply to have it written off for more information text the word info or to opt out text stop\n",
            "prediction: 'ham' overpaying for netflix we have the solution lowcost subscriptions\n",
            "prediction: 'ham' overpaying for netflix we have the solution lowcost subscriptions at\n",
            "prediction: 'spam' tony are you ready to share your experiences  reply stop to optout\n",
            "\n"
          ],
          "name": "stdout"
        }
      ]
    },
    {
      "cell_type": "code",
      "metadata": {
        "colab_type": "code",
        "hidden": true,
        "id": "NRkL0mAkV028",
        "outputId": "23176ba1-c081-415c-d158-b33df24efad3",
        "colab": {
          "base_uri": "https://localhost:8080/",
          "height": 122
        }
      },
      "source": [
        "predict(svc, pre_process_func=clean_up_pipeline)\n"
      ],
      "execution_count": 0,
      "outputs": [
        {
          "output_type": "stream",
          "text": [
            "prediction: 'spam' important  you could be entitled up to £ in compensation from missold ppi on a credit card or loan please reply ppi for info or stop to opt out\n",
            "prediction: 'spam' due to a new legislation those struggling with debt can now apply to have it written off for more information text the word info or to opt out text stop\n",
            "prediction: 'ham' overpaying for netflix we have the solution lowcost subscriptions\n",
            "prediction: 'ham' overpaying for netflix we have the solution lowcost subscriptions at\n",
            "prediction: 'spam' tony are you ready to share your experiences  reply stop to optout\n"
          ],
          "name": "stdout"
        }
      ]
    },
    {
      "cell_type": "markdown",
      "metadata": {
        "colab_type": "text",
        "heading_collapsed": true,
        "id": "yM3pEL9vqDSp"
      },
      "source": [
        "# Steming and Lemmation with spam SMS dataset"
      ]
    },
    {
      "cell_type": "code",
      "metadata": {
        "colab_type": "code",
        "hidden": true,
        "id": "itE-xUEwqZAk",
        "colab": {}
      },
      "source": [
        "stemmer = PorterStemmer()\n",
        "lemmatizer = WordNetLemmatizer()"
      ],
      "execution_count": 0,
      "outputs": []
    },
    {
      "cell_type": "code",
      "metadata": {
        "colab_type": "code",
        "hidden": true,
        "id": "_AucZcE7qhqB",
        "outputId": "f2f7e688-6880-4783-9e7b-b3213025e936",
        "colab": {
          "base_uri": "https://localhost:8080/",
          "height": 164
        }
      },
      "source": [
        "sms_spam_ds = process_csv()"
      ],
      "execution_count": 0,
      "outputs": [
        {
          "output_type": "error",
          "ename": "NameError",
          "evalue": "ignored",
          "traceback": [
            "\u001b[0;31m---------------------------------------------------------------------------\u001b[0m",
            "\u001b[0;31mNameError\u001b[0m                                 Traceback (most recent call last)",
            "\u001b[0;32m<ipython-input-7-03b0ee8db032>\u001b[0m in \u001b[0;36m<module>\u001b[0;34m()\u001b[0m\n\u001b[0;32m----> 1\u001b[0;31m \u001b[0msms_spam_ds\u001b[0m \u001b[0;34m=\u001b[0m \u001b[0mprocess_csv\u001b[0m\u001b[0;34m(\u001b[0m\u001b[0;34m)\u001b[0m\u001b[0;34m\u001b[0m\u001b[0;34m\u001b[0m\u001b[0m\n\u001b[0m",
            "\u001b[0;31mNameError\u001b[0m: name 'process_csv' is not defined"
          ]
        }
      ]
    },
    {
      "cell_type": "code",
      "metadata": {
        "colab_type": "code",
        "hidden": true,
        "id": "IcKUWcgjrXTE",
        "outputId": "a25f812c-b6ba-4c93-f664-6b76d8129c76",
        "colab": {
          "base_uri": "https://localhost:8080/",
          "height": 54
        }
      },
      "source": [
        "sms_spam_ds['message'][0]"
      ],
      "execution_count": 0,
      "outputs": [
        {
          "output_type": "execute_result",
          "data": {
            "text/plain": [
              "'go until jurong point, crazy.. available only in bugis n great world la e buffet... cine there got amore wat...'"
            ]
          },
          "metadata": {
            "tags": []
          },
          "execution_count": 155
        }
      ]
    },
    {
      "cell_type": "code",
      "metadata": {
        "colab_type": "code",
        "hidden": true,
        "id": "W8ZkQn_8sIEi",
        "colab": {}
      },
      "source": [
        "x_train, x_test, y_train, y_test = train_test_split(sms_spam_ds['message'], sms_spam_ds['label'], test_size = 0.1, random_state = 1)"
      ],
      "execution_count": 0,
      "outputs": []
    },
    {
      "cell_type": "code",
      "metadata": {
        "colab_type": "code",
        "hidden": true,
        "id": "NU3LJy991o5p",
        "colab": {}
      },
      "source": [
        "x_train = [clean_token_pipeline(o) for o in x_train]\n",
        "x_test = [clean_token_pipeline(o) for o in x_test]"
      ],
      "execution_count": 0,
      "outputs": []
    },
    {
      "cell_type": "code",
      "metadata": {
        "colab_type": "code",
        "hidden": true,
        "id": "zmkqfP8J1ujz",
        "colab": {}
      },
      "source": [
        "x_train = [\"\".join(o) for o in x_train]\n",
        "x_test = [\"\".join(o) for o in x_test]"
      ],
      "execution_count": 0,
      "outputs": []
    },
    {
      "cell_type": "code",
      "metadata": {
        "colab_type": "code",
        "hidden": true,
        "id": "LFb-H4PV1x7y",
        "outputId": "83f57ff3-1a77-48d8-fac0-f6299ce12b9a",
        "colab": {
          "base_uri": "https://localhost:8080/",
          "height": 34
        }
      },
      "source": [
        "x_train[0]"
      ],
      "execution_count": 0,
      "outputs": [
        {
          "output_type": "execute_result",
          "data": {
            "text/plain": [
              "'gud gud..k, chkku tke cre.. sleep well gud nyt'"
            ]
          },
          "metadata": {
            "tags": []
          },
          "execution_count": 37
        }
      ]
    },
    {
      "cell_type": "code",
      "metadata": {
        "colab_type": "code",
        "hidden": true,
        "id": "OLYiPaPP2iDM",
        "colab": {}
      },
      "source": [
        "x_train = [o.split(\" \") for o in x_train]\n",
        "x_test = [o.split(\" \") for o in x_test]"
      ],
      "execution_count": 0,
      "outputs": []
    },
    {
      "cell_type": "code",
      "metadata": {
        "colab_type": "code",
        "hidden": true,
        "id": "JyVzau4L2ux8",
        "outputId": "bc8adf0e-455f-410f-b054-89e35443dc42",
        "colab": {
          "base_uri": "https://localhost:8080/",
          "height": 34
        }
      },
      "source": [
        "x_train[0]"
      ],
      "execution_count": 0,
      "outputs": [
        {
          "output_type": "execute_result",
          "data": {
            "text/plain": [
              "['gud', 'gud..k,', 'chkku', 'tke', 'cre..', 'sleep', 'well', 'gud', 'nyt']"
            ]
          },
          "metadata": {
            "tags": []
          },
          "execution_count": 39
        }
      ]
    },
    {
      "cell_type": "code",
      "metadata": {
        "colab_type": "code",
        "hidden": true,
        "id": "ui761rWD2mrr",
        "outputId": "1f01eb29-b925-47a0-8da7-1bbb9989f004",
        "colab": {
          "base_uri": "https://localhost:8080/",
          "height": 136
        }
      },
      "source": [
        "from sklearn.feature_extraction.text import TfidfVectorizer\n",
        "vectorizer = TfidfVectorizer()\n",
        "raw_sentences = [' '.join(o) for o in x_train]\n",
        "vectorizer.fit(raw_sentences)"
      ],
      "execution_count": 0,
      "outputs": [
        {
          "output_type": "execute_result",
          "data": {
            "text/plain": [
              "TfidfVectorizer(analyzer='word', binary=False, decode_error='strict',\n",
              "                dtype=<class 'numpy.float64'>, encoding='utf-8',\n",
              "                input='content', lowercase=True, max_df=1.0, max_features=None,\n",
              "                min_df=1, ngram_range=(1, 1), norm='l2', preprocessor=None,\n",
              "                smooth_idf=True, stop_words=None, strip_accents=None,\n",
              "                sublinear_tf=False, token_pattern='(?u)\\\\b\\\\w\\\\w+\\\\b',\n",
              "                tokenizer=None, use_idf=True, vocabulary=None)"
            ]
          },
          "metadata": {
            "tags": []
          },
          "execution_count": 40
        }
      ]
    },
    {
      "cell_type": "code",
      "metadata": {
        "colab_type": "code",
        "hidden": true,
        "id": "dXCKhguM226o",
        "colab": {}
      },
      "source": [
        "x_train_features = convert_to_feature(x_train)\n",
        "x_test_features = convert_to_feature(x_test)"
      ],
      "execution_count": 0,
      "outputs": []
    },
    {
      "cell_type": "code",
      "metadata": {
        "colab_type": "code",
        "hidden": true,
        "id": "XYarFC6Y3AZ_",
        "outputId": "ec2bbdc6-c1da-4376-92be-537530e8b48d",
        "colab": {
          "base_uri": "https://localhost:8080/",
          "height": 34
        }
      },
      "source": [
        "x_train_features.toarray()[0]"
      ],
      "execution_count": 0,
      "outputs": [
        {
          "output_type": "execute_result",
          "data": {
            "text/plain": [
              "array([0., 0., 0., ..., 0., 0., 0.])"
            ]
          },
          "metadata": {
            "tags": []
          },
          "execution_count": 43
        }
      ]
    },
    {
      "cell_type": "code",
      "metadata": {
        "colab_type": "code",
        "hidden": true,
        "id": "seVXcmriszvg",
        "outputId": "4c8771e2-dbea-4b8c-b71a-ad17298a8f42",
        "colab": {
          "base_uri": "https://localhost:8080/",
          "height": 34
        }
      },
      "source": [
        "from sklearn.naive_bayes import GaussianNB\n",
        "from sklearn.linear_model import LogisticRegression\n",
        "\n",
        "clf = GaussianNB()\n",
        "clf.fit(x_train_features.toarray(),y_train)"
      ],
      "execution_count": 0,
      "outputs": [
        {
          "output_type": "execute_result",
          "data": {
            "text/plain": [
              "GaussianNB(priors=None, var_smoothing=1e-09)"
            ]
          },
          "metadata": {
            "tags": []
          },
          "execution_count": 44
        }
      ]
    },
    {
      "cell_type": "code",
      "metadata": {
        "colab_type": "code",
        "hidden": true,
        "id": "kpZ7So73tIAs",
        "outputId": "9a722315-c8ee-42f3-9e14-0ff864a4d9ff",
        "colab": {
          "base_uri": "https://localhost:8080/",
          "height": 232
        }
      },
      "source": [
        "\n",
        "for msg in test_messages:\n",
        "  msg = \"\".join(clean_token_pipeline(msg))\n",
        "  # print(msg)\n",
        "  org_msg = msg\n",
        "  msg = vectorizer.transform([msg])\n",
        "  msg = msg.toarray()\n",
        "  prediction = clf.predict(msg)\n",
        "  print(\"prediction: '{}' {}\".format(prediction[0], org_msg))"
      ],
      "execution_count": 0,
      "outputs": [
        {
          "output_type": "error",
          "ename": "NameError",
          "evalue": "ignored",
          "traceback": [
            "\u001b[0;31m---------------------------------------------------------------------------\u001b[0m",
            "\u001b[0;31mNameError\u001b[0m                                 Traceback (most recent call last)",
            "\u001b[0;32m<ipython-input-45-9340a7b5b061>\u001b[0m in \u001b[0;36m<module>\u001b[0;34m()\u001b[0m\n\u001b[1;32m      1\u001b[0m \u001b[0;34m\u001b[0m\u001b[0m\n\u001b[0;32m----> 2\u001b[0;31m \u001b[0;32mfor\u001b[0m \u001b[0mmsg\u001b[0m \u001b[0;32min\u001b[0m \u001b[0mtest_messages\u001b[0m\u001b[0;34m:\u001b[0m\u001b[0;34m\u001b[0m\u001b[0;34m\u001b[0m\u001b[0m\n\u001b[0m\u001b[1;32m      3\u001b[0m   \u001b[0mmsg\u001b[0m \u001b[0;34m=\u001b[0m \u001b[0;34m\"\"\u001b[0m\u001b[0;34m.\u001b[0m\u001b[0mjoin\u001b[0m\u001b[0;34m(\u001b[0m\u001b[0mclean_token_pipeline\u001b[0m\u001b[0;34m(\u001b[0m\u001b[0mmsg\u001b[0m\u001b[0;34m)\u001b[0m\u001b[0;34m)\u001b[0m\u001b[0;34m\u001b[0m\u001b[0;34m\u001b[0m\u001b[0m\n\u001b[1;32m      4\u001b[0m   \u001b[0;31m# print(msg)\u001b[0m\u001b[0;34m\u001b[0m\u001b[0;34m\u001b[0m\u001b[0;34m\u001b[0m\u001b[0m\n\u001b[1;32m      5\u001b[0m   \u001b[0morg_msg\u001b[0m \u001b[0;34m=\u001b[0m \u001b[0mmsg\u001b[0m\u001b[0;34m\u001b[0m\u001b[0;34m\u001b[0m\u001b[0m\n",
            "\u001b[0;31mNameError\u001b[0m: name 'test_messages' is not defined"
          ]
        }
      ]
    },
    {
      "cell_type": "code",
      "metadata": {
        "colab_type": "code",
        "hidden": true,
        "id": "qzBzW6r134R5",
        "outputId": "1d6983d6-b09e-4b31-f7d8-afe8ca90d826",
        "colab": {
          "base_uri": "https://localhost:8080/",
          "height": 122
        }
      },
      "source": [
        "svc = SVC(**{'C': 1000, 'gamma': 0.001, 'kernel': 'rbf'})\n",
        "svc.fit(x_train_features.toarray(),y_train)\n",
        "\n",
        "for msg in test_messages:\n",
        "  msg = \"\".join(clean_token_pipeline(msg))\n",
        "  # print(msg)\n",
        "  org_msg = msg\n",
        "  msg = vectorizer.transform([msg])\n",
        "  msg = msg.toarray()\n",
        "  prediction = svc.predict(msg)\n",
        "  print(\"prediction: '{}' {}\".format(prediction[0], org_msg))"
      ],
      "execution_count": 0,
      "outputs": [
        {
          "output_type": "stream",
          "text": [
            "prediction: 'spam' IMPORTANT - You could be enttled up to £3,160 n compenston from ms-sold PPI on  credt crd or lon. Plese reply PPI for nfo or STOP to opt out.\n",
            "prediction: 'spam' Due to  new legslton, those strugglng wth debt cn now pply to hve t wrtten off. For more nformton text the word INFO or to opt out text STOP\n",
            "prediction: 'ham' Overpyng for netflx We hve the soluton. Low-cost subscrptons\n",
            "prediction: 'ham' Overpyng for Netflx? We hve the soluton. Low-cost subscrptons, t https://stck-t-to-the-mn.net\n",
            "prediction: 'spam' TONY, re you redy to shre your experences? http://elch.com/n8ZzBxw Reply STOP to opt-out\n"
          ],
          "name": "stdout"
        }
      ]
    },
    {
      "cell_type": "code",
      "metadata": {
        "colab_type": "code",
        "hidden": true,
        "id": "RqGzGtHAwBR8",
        "outputId": "f07a256c-258f-4d69-c4c4-35203bdba0a5",
        "colab": {
          "base_uri": "https://localhost:8080/",
          "height": 429
        }
      },
      "source": [
        "X_train = x_train_features.toarray()\n",
        "clf = SVC()\n",
        "scores = ['accuracy', 'precision_macro', 'recall_macro']\n",
        "tuned_parameters = [{'kernel': ['rbf'], 'gamma': [1e-3, 1e-4],\n",
        "                     'C': [1, 10, 100, 1000]},\n",
        "                    {'kernel': ['linear'], 'C': [1, 10, 100, 1000]}]\n",
        "results = calc_best_params(clf, scores, tuned_parameters)\n",
        "\n",
        "results[\"best_params\"]"
      ],
      "execution_count": 0,
      "outputs": [
        {
          "output_type": "stream",
          "text": [
            "# Tuning hyper-parameters for accuracy\n",
            "\n"
          ],
          "name": "stdout"
        },
        {
          "output_type": "error",
          "ename": "KeyboardInterrupt",
          "evalue": "ignored",
          "traceback": [
            "\u001b[0;31m---------------------------------------------------------------------------\u001b[0m",
            "\u001b[0;31mKeyboardInterrupt\u001b[0m                         Traceback (most recent call last)",
            "\u001b[0;32m<ipython-input-200-f2c09db6c980>\u001b[0m in \u001b[0;36m<module>\u001b[0;34m()\u001b[0m\n\u001b[1;32m      5\u001b[0m                      'C': [1, 10, 100, 1000]},\n\u001b[1;32m      6\u001b[0m                     {'kernel': ['linear'], 'C': [1, 10, 100, 1000]}]\n\u001b[0;32m----> 7\u001b[0;31m \u001b[0mresults\u001b[0m \u001b[0;34m=\u001b[0m \u001b[0mcalc_best_params\u001b[0m\u001b[0;34m(\u001b[0m\u001b[0mclf\u001b[0m\u001b[0;34m,\u001b[0m \u001b[0mscores\u001b[0m\u001b[0;34m,\u001b[0m \u001b[0mtuned_parameters\u001b[0m\u001b[0;34m)\u001b[0m\u001b[0;34m\u001b[0m\u001b[0;34m\u001b[0m\u001b[0m\n\u001b[0m\u001b[1;32m      8\u001b[0m \u001b[0;34m\u001b[0m\u001b[0m\n\u001b[1;32m      9\u001b[0m \u001b[0mresults\u001b[0m\u001b[0;34m[\u001b[0m\u001b[0;34m\"best_params\"\u001b[0m\u001b[0;34m]\u001b[0m\u001b[0;34m\u001b[0m\u001b[0;34m\u001b[0m\u001b[0m\n",
            "\u001b[0;32m<ipython-input-80-1cd8993d17c9>\u001b[0m in \u001b[0;36mcalc_best_params\u001b[0;34m(model, scores, tuned_parameters)\u001b[0m\n\u001b[1;32m     13\u001b[0m           \u001b[0mmodel\u001b[0m\u001b[0;34m,\u001b[0m \u001b[0mtuned_parameters\u001b[0m\u001b[0;34m,\u001b[0m \u001b[0mscoring\u001b[0m\u001b[0;34m=\u001b[0m\u001b[0mscore\u001b[0m\u001b[0;34m\u001b[0m\u001b[0;34m\u001b[0m\u001b[0m\n\u001b[1;32m     14\u001b[0m       )\n\u001b[0;32m---> 15\u001b[0;31m       \u001b[0mclf\u001b[0m\u001b[0;34m.\u001b[0m\u001b[0mfit\u001b[0m\u001b[0;34m(\u001b[0m\u001b[0mX_train\u001b[0m\u001b[0;34m,\u001b[0m \u001b[0my_train\u001b[0m\u001b[0;34m)\u001b[0m\u001b[0;34m\u001b[0m\u001b[0;34m\u001b[0m\u001b[0m\n\u001b[0m\u001b[1;32m     16\u001b[0m       \u001b[0mmodels\u001b[0m\u001b[0;34m.\u001b[0m\u001b[0mappend\u001b[0m\u001b[0;34m(\u001b[0m\u001b[0mclf\u001b[0m\u001b[0;34m)\u001b[0m\u001b[0;34m\u001b[0m\u001b[0;34m\u001b[0m\u001b[0m\n\u001b[1;32m     17\u001b[0m \u001b[0;34m\u001b[0m\u001b[0m\n",
            "\u001b[0;32m/usr/local/lib/python3.6/dist-packages/sklearn/model_selection/_search.py\u001b[0m in \u001b[0;36mfit\u001b[0;34m(self, X, y, groups, **fit_params)\u001b[0m\n\u001b[1;32m    708\u001b[0m                 \u001b[0;32mreturn\u001b[0m \u001b[0mresults\u001b[0m\u001b[0;34m\u001b[0m\u001b[0;34m\u001b[0m\u001b[0m\n\u001b[1;32m    709\u001b[0m \u001b[0;34m\u001b[0m\u001b[0m\n\u001b[0;32m--> 710\u001b[0;31m             \u001b[0mself\u001b[0m\u001b[0;34m.\u001b[0m\u001b[0m_run_search\u001b[0m\u001b[0;34m(\u001b[0m\u001b[0mevaluate_candidates\u001b[0m\u001b[0;34m)\u001b[0m\u001b[0;34m\u001b[0m\u001b[0;34m\u001b[0m\u001b[0m\n\u001b[0m\u001b[1;32m    711\u001b[0m \u001b[0;34m\u001b[0m\u001b[0m\n\u001b[1;32m    712\u001b[0m         \u001b[0;31m# For multi-metric evaluation, store the best_index_, best_params_ and\u001b[0m\u001b[0;34m\u001b[0m\u001b[0;34m\u001b[0m\u001b[0;34m\u001b[0m\u001b[0m\n",
            "\u001b[0;32m/usr/local/lib/python3.6/dist-packages/sklearn/model_selection/_search.py\u001b[0m in \u001b[0;36m_run_search\u001b[0;34m(self, evaluate_candidates)\u001b[0m\n\u001b[1;32m   1149\u001b[0m     \u001b[0;32mdef\u001b[0m \u001b[0m_run_search\u001b[0m\u001b[0;34m(\u001b[0m\u001b[0mself\u001b[0m\u001b[0;34m,\u001b[0m \u001b[0mevaluate_candidates\u001b[0m\u001b[0;34m)\u001b[0m\u001b[0;34m:\u001b[0m\u001b[0;34m\u001b[0m\u001b[0;34m\u001b[0m\u001b[0m\n\u001b[1;32m   1150\u001b[0m         \u001b[0;34m\"\"\"Search all candidates in param_grid\"\"\"\u001b[0m\u001b[0;34m\u001b[0m\u001b[0;34m\u001b[0m\u001b[0m\n\u001b[0;32m-> 1151\u001b[0;31m         \u001b[0mevaluate_candidates\u001b[0m\u001b[0;34m(\u001b[0m\u001b[0mParameterGrid\u001b[0m\u001b[0;34m(\u001b[0m\u001b[0mself\u001b[0m\u001b[0;34m.\u001b[0m\u001b[0mparam_grid\u001b[0m\u001b[0;34m)\u001b[0m\u001b[0;34m)\u001b[0m\u001b[0;34m\u001b[0m\u001b[0;34m\u001b[0m\u001b[0m\n\u001b[0m\u001b[1;32m   1152\u001b[0m \u001b[0;34m\u001b[0m\u001b[0m\n\u001b[1;32m   1153\u001b[0m \u001b[0;34m\u001b[0m\u001b[0m\n",
            "\u001b[0;32m/usr/local/lib/python3.6/dist-packages/sklearn/model_selection/_search.py\u001b[0m in \u001b[0;36mevaluate_candidates\u001b[0;34m(candidate_params)\u001b[0m\n\u001b[1;32m    687\u001b[0m                                \u001b[0;32mfor\u001b[0m \u001b[0mparameters\u001b[0m\u001b[0;34m,\u001b[0m \u001b[0;34m(\u001b[0m\u001b[0mtrain\u001b[0m\u001b[0;34m,\u001b[0m \u001b[0mtest\u001b[0m\u001b[0;34m)\u001b[0m\u001b[0;34m\u001b[0m\u001b[0;34m\u001b[0m\u001b[0m\n\u001b[1;32m    688\u001b[0m                                in product(candidate_params,\n\u001b[0;32m--> 689\u001b[0;31m                                           cv.split(X, y, groups)))\n\u001b[0m\u001b[1;32m    690\u001b[0m \u001b[0;34m\u001b[0m\u001b[0m\n\u001b[1;32m    691\u001b[0m                 \u001b[0;32mif\u001b[0m \u001b[0mlen\u001b[0m\u001b[0;34m(\u001b[0m\u001b[0mout\u001b[0m\u001b[0;34m)\u001b[0m \u001b[0;34m<\u001b[0m \u001b[0;36m1\u001b[0m\u001b[0;34m:\u001b[0m\u001b[0;34m\u001b[0m\u001b[0;34m\u001b[0m\u001b[0m\n",
            "\u001b[0;32m/usr/local/lib/python3.6/dist-packages/joblib/parallel.py\u001b[0m in \u001b[0;36m__call__\u001b[0;34m(self, iterable)\u001b[0m\n\u001b[1;32m   1005\u001b[0m                 \u001b[0mself\u001b[0m\u001b[0;34m.\u001b[0m\u001b[0m_iterating\u001b[0m \u001b[0;34m=\u001b[0m \u001b[0mself\u001b[0m\u001b[0;34m.\u001b[0m\u001b[0m_original_iterator\u001b[0m \u001b[0;32mis\u001b[0m \u001b[0;32mnot\u001b[0m \u001b[0;32mNone\u001b[0m\u001b[0;34m\u001b[0m\u001b[0;34m\u001b[0m\u001b[0m\n\u001b[1;32m   1006\u001b[0m \u001b[0;34m\u001b[0m\u001b[0m\n\u001b[0;32m-> 1007\u001b[0;31m             \u001b[0;32mwhile\u001b[0m \u001b[0mself\u001b[0m\u001b[0;34m.\u001b[0m\u001b[0mdispatch_one_batch\u001b[0m\u001b[0;34m(\u001b[0m\u001b[0miterator\u001b[0m\u001b[0;34m)\u001b[0m\u001b[0;34m:\u001b[0m\u001b[0;34m\u001b[0m\u001b[0;34m\u001b[0m\u001b[0m\n\u001b[0m\u001b[1;32m   1008\u001b[0m                 \u001b[0;32mpass\u001b[0m\u001b[0;34m\u001b[0m\u001b[0;34m\u001b[0m\u001b[0m\n\u001b[1;32m   1009\u001b[0m \u001b[0;34m\u001b[0m\u001b[0m\n",
            "\u001b[0;32m/usr/local/lib/python3.6/dist-packages/joblib/parallel.py\u001b[0m in \u001b[0;36mdispatch_one_batch\u001b[0;34m(self, iterator)\u001b[0m\n\u001b[1;32m    833\u001b[0m                 \u001b[0;32mreturn\u001b[0m \u001b[0;32mFalse\u001b[0m\u001b[0;34m\u001b[0m\u001b[0;34m\u001b[0m\u001b[0m\n\u001b[1;32m    834\u001b[0m             \u001b[0;32melse\u001b[0m\u001b[0;34m:\u001b[0m\u001b[0;34m\u001b[0m\u001b[0;34m\u001b[0m\u001b[0m\n\u001b[0;32m--> 835\u001b[0;31m                 \u001b[0mself\u001b[0m\u001b[0;34m.\u001b[0m\u001b[0m_dispatch\u001b[0m\u001b[0;34m(\u001b[0m\u001b[0mtasks\u001b[0m\u001b[0;34m)\u001b[0m\u001b[0;34m\u001b[0m\u001b[0;34m\u001b[0m\u001b[0m\n\u001b[0m\u001b[1;32m    836\u001b[0m                 \u001b[0;32mreturn\u001b[0m \u001b[0;32mTrue\u001b[0m\u001b[0;34m\u001b[0m\u001b[0;34m\u001b[0m\u001b[0m\n\u001b[1;32m    837\u001b[0m \u001b[0;34m\u001b[0m\u001b[0m\n",
            "\u001b[0;32m/usr/local/lib/python3.6/dist-packages/joblib/parallel.py\u001b[0m in \u001b[0;36m_dispatch\u001b[0;34m(self, batch)\u001b[0m\n\u001b[1;32m    752\u001b[0m         \u001b[0;32mwith\u001b[0m \u001b[0mself\u001b[0m\u001b[0;34m.\u001b[0m\u001b[0m_lock\u001b[0m\u001b[0;34m:\u001b[0m\u001b[0;34m\u001b[0m\u001b[0;34m\u001b[0m\u001b[0m\n\u001b[1;32m    753\u001b[0m             \u001b[0mjob_idx\u001b[0m \u001b[0;34m=\u001b[0m \u001b[0mlen\u001b[0m\u001b[0;34m(\u001b[0m\u001b[0mself\u001b[0m\u001b[0;34m.\u001b[0m\u001b[0m_jobs\u001b[0m\u001b[0;34m)\u001b[0m\u001b[0;34m\u001b[0m\u001b[0;34m\u001b[0m\u001b[0m\n\u001b[0;32m--> 754\u001b[0;31m             \u001b[0mjob\u001b[0m \u001b[0;34m=\u001b[0m \u001b[0mself\u001b[0m\u001b[0;34m.\u001b[0m\u001b[0m_backend\u001b[0m\u001b[0;34m.\u001b[0m\u001b[0mapply_async\u001b[0m\u001b[0;34m(\u001b[0m\u001b[0mbatch\u001b[0m\u001b[0;34m,\u001b[0m \u001b[0mcallback\u001b[0m\u001b[0;34m=\u001b[0m\u001b[0mcb\u001b[0m\u001b[0;34m)\u001b[0m\u001b[0;34m\u001b[0m\u001b[0;34m\u001b[0m\u001b[0m\n\u001b[0m\u001b[1;32m    755\u001b[0m             \u001b[0;31m# A job can complete so quickly than its callback is\u001b[0m\u001b[0;34m\u001b[0m\u001b[0;34m\u001b[0m\u001b[0;34m\u001b[0m\u001b[0m\n\u001b[1;32m    756\u001b[0m             \u001b[0;31m# called before we get here, causing self._jobs to\u001b[0m\u001b[0;34m\u001b[0m\u001b[0;34m\u001b[0m\u001b[0;34m\u001b[0m\u001b[0m\n",
            "\u001b[0;32m/usr/local/lib/python3.6/dist-packages/joblib/_parallel_backends.py\u001b[0m in \u001b[0;36mapply_async\u001b[0;34m(self, func, callback)\u001b[0m\n\u001b[1;32m    207\u001b[0m     \u001b[0;32mdef\u001b[0m \u001b[0mapply_async\u001b[0m\u001b[0;34m(\u001b[0m\u001b[0mself\u001b[0m\u001b[0;34m,\u001b[0m \u001b[0mfunc\u001b[0m\u001b[0;34m,\u001b[0m \u001b[0mcallback\u001b[0m\u001b[0;34m=\u001b[0m\u001b[0;32mNone\u001b[0m\u001b[0;34m)\u001b[0m\u001b[0;34m:\u001b[0m\u001b[0;34m\u001b[0m\u001b[0;34m\u001b[0m\u001b[0m\n\u001b[1;32m    208\u001b[0m         \u001b[0;34m\"\"\"Schedule a func to be run\"\"\"\u001b[0m\u001b[0;34m\u001b[0m\u001b[0;34m\u001b[0m\u001b[0m\n\u001b[0;32m--> 209\u001b[0;31m         \u001b[0mresult\u001b[0m \u001b[0;34m=\u001b[0m \u001b[0mImmediateResult\u001b[0m\u001b[0;34m(\u001b[0m\u001b[0mfunc\u001b[0m\u001b[0;34m)\u001b[0m\u001b[0;34m\u001b[0m\u001b[0;34m\u001b[0m\u001b[0m\n\u001b[0m\u001b[1;32m    210\u001b[0m         \u001b[0;32mif\u001b[0m \u001b[0mcallback\u001b[0m\u001b[0;34m:\u001b[0m\u001b[0;34m\u001b[0m\u001b[0;34m\u001b[0m\u001b[0m\n\u001b[1;32m    211\u001b[0m             \u001b[0mcallback\u001b[0m\u001b[0;34m(\u001b[0m\u001b[0mresult\u001b[0m\u001b[0;34m)\u001b[0m\u001b[0;34m\u001b[0m\u001b[0;34m\u001b[0m\u001b[0m\n",
            "\u001b[0;32m/usr/local/lib/python3.6/dist-packages/joblib/_parallel_backends.py\u001b[0m in \u001b[0;36m__init__\u001b[0;34m(self, batch)\u001b[0m\n\u001b[1;32m    588\u001b[0m         \u001b[0;31m# Don't delay the application, to avoid keeping the input\u001b[0m\u001b[0;34m\u001b[0m\u001b[0;34m\u001b[0m\u001b[0;34m\u001b[0m\u001b[0m\n\u001b[1;32m    589\u001b[0m         \u001b[0;31m# arguments in memory\u001b[0m\u001b[0;34m\u001b[0m\u001b[0;34m\u001b[0m\u001b[0;34m\u001b[0m\u001b[0m\n\u001b[0;32m--> 590\u001b[0;31m         \u001b[0mself\u001b[0m\u001b[0;34m.\u001b[0m\u001b[0mresults\u001b[0m \u001b[0;34m=\u001b[0m \u001b[0mbatch\u001b[0m\u001b[0;34m(\u001b[0m\u001b[0;34m)\u001b[0m\u001b[0;34m\u001b[0m\u001b[0;34m\u001b[0m\u001b[0m\n\u001b[0m\u001b[1;32m    591\u001b[0m \u001b[0;34m\u001b[0m\u001b[0m\n\u001b[1;32m    592\u001b[0m     \u001b[0;32mdef\u001b[0m \u001b[0mget\u001b[0m\u001b[0;34m(\u001b[0m\u001b[0mself\u001b[0m\u001b[0;34m)\u001b[0m\u001b[0;34m:\u001b[0m\u001b[0;34m\u001b[0m\u001b[0;34m\u001b[0m\u001b[0m\n",
            "\u001b[0;32m/usr/local/lib/python3.6/dist-packages/joblib/parallel.py\u001b[0m in \u001b[0;36m__call__\u001b[0;34m(self)\u001b[0m\n\u001b[1;32m    254\u001b[0m         \u001b[0;32mwith\u001b[0m \u001b[0mparallel_backend\u001b[0m\u001b[0;34m(\u001b[0m\u001b[0mself\u001b[0m\u001b[0;34m.\u001b[0m\u001b[0m_backend\u001b[0m\u001b[0;34m,\u001b[0m \u001b[0mn_jobs\u001b[0m\u001b[0;34m=\u001b[0m\u001b[0mself\u001b[0m\u001b[0;34m.\u001b[0m\u001b[0m_n_jobs\u001b[0m\u001b[0;34m)\u001b[0m\u001b[0;34m:\u001b[0m\u001b[0;34m\u001b[0m\u001b[0;34m\u001b[0m\u001b[0m\n\u001b[1;32m    255\u001b[0m             return [func(*args, **kwargs)\n\u001b[0;32m--> 256\u001b[0;31m                     for func, args, kwargs in self.items]\n\u001b[0m\u001b[1;32m    257\u001b[0m \u001b[0;34m\u001b[0m\u001b[0m\n\u001b[1;32m    258\u001b[0m     \u001b[0;32mdef\u001b[0m \u001b[0m__len__\u001b[0m\u001b[0;34m(\u001b[0m\u001b[0mself\u001b[0m\u001b[0;34m)\u001b[0m\u001b[0;34m:\u001b[0m\u001b[0;34m\u001b[0m\u001b[0;34m\u001b[0m\u001b[0m\n",
            "\u001b[0;32m/usr/local/lib/python3.6/dist-packages/joblib/parallel.py\u001b[0m in \u001b[0;36m<listcomp>\u001b[0;34m(.0)\u001b[0m\n\u001b[1;32m    254\u001b[0m         \u001b[0;32mwith\u001b[0m \u001b[0mparallel_backend\u001b[0m\u001b[0;34m(\u001b[0m\u001b[0mself\u001b[0m\u001b[0;34m.\u001b[0m\u001b[0m_backend\u001b[0m\u001b[0;34m,\u001b[0m \u001b[0mn_jobs\u001b[0m\u001b[0;34m=\u001b[0m\u001b[0mself\u001b[0m\u001b[0;34m.\u001b[0m\u001b[0m_n_jobs\u001b[0m\u001b[0;34m)\u001b[0m\u001b[0;34m:\u001b[0m\u001b[0;34m\u001b[0m\u001b[0;34m\u001b[0m\u001b[0m\n\u001b[1;32m    255\u001b[0m             return [func(*args, **kwargs)\n\u001b[0;32m--> 256\u001b[0;31m                     for func, args, kwargs in self.items]\n\u001b[0m\u001b[1;32m    257\u001b[0m \u001b[0;34m\u001b[0m\u001b[0m\n\u001b[1;32m    258\u001b[0m     \u001b[0;32mdef\u001b[0m \u001b[0m__len__\u001b[0m\u001b[0;34m(\u001b[0m\u001b[0mself\u001b[0m\u001b[0;34m)\u001b[0m\u001b[0;34m:\u001b[0m\u001b[0;34m\u001b[0m\u001b[0;34m\u001b[0m\u001b[0m\n",
            "\u001b[0;32m/usr/local/lib/python3.6/dist-packages/sklearn/model_selection/_validation.py\u001b[0m in \u001b[0;36m_fit_and_score\u001b[0;34m(estimator, X, y, scorer, train, test, verbose, parameters, fit_params, return_train_score, return_parameters, return_n_test_samples, return_times, return_estimator, error_score)\u001b[0m\n\u001b[1;32m    513\u001b[0m             \u001b[0mestimator\u001b[0m\u001b[0;34m.\u001b[0m\u001b[0mfit\u001b[0m\u001b[0;34m(\u001b[0m\u001b[0mX_train\u001b[0m\u001b[0;34m,\u001b[0m \u001b[0;34m**\u001b[0m\u001b[0mfit_params\u001b[0m\u001b[0;34m)\u001b[0m\u001b[0;34m\u001b[0m\u001b[0;34m\u001b[0m\u001b[0m\n\u001b[1;32m    514\u001b[0m         \u001b[0;32melse\u001b[0m\u001b[0;34m:\u001b[0m\u001b[0;34m\u001b[0m\u001b[0;34m\u001b[0m\u001b[0m\n\u001b[0;32m--> 515\u001b[0;31m             \u001b[0mestimator\u001b[0m\u001b[0;34m.\u001b[0m\u001b[0mfit\u001b[0m\u001b[0;34m(\u001b[0m\u001b[0mX_train\u001b[0m\u001b[0;34m,\u001b[0m \u001b[0my_train\u001b[0m\u001b[0;34m,\u001b[0m \u001b[0;34m**\u001b[0m\u001b[0mfit_params\u001b[0m\u001b[0;34m)\u001b[0m\u001b[0;34m\u001b[0m\u001b[0;34m\u001b[0m\u001b[0m\n\u001b[0m\u001b[1;32m    516\u001b[0m \u001b[0;34m\u001b[0m\u001b[0m\n\u001b[1;32m    517\u001b[0m     \u001b[0;32mexcept\u001b[0m \u001b[0mException\u001b[0m \u001b[0;32mas\u001b[0m \u001b[0me\u001b[0m\u001b[0;34m:\u001b[0m\u001b[0;34m\u001b[0m\u001b[0;34m\u001b[0m\u001b[0m\n",
            "\u001b[0;32m/usr/local/lib/python3.6/dist-packages/sklearn/svm/_base.py\u001b[0m in \u001b[0;36mfit\u001b[0;34m(self, X, y, sample_weight)\u001b[0m\n\u001b[1;32m    197\u001b[0m \u001b[0;34m\u001b[0m\u001b[0m\n\u001b[1;32m    198\u001b[0m         \u001b[0mseed\u001b[0m \u001b[0;34m=\u001b[0m \u001b[0mrnd\u001b[0m\u001b[0;34m.\u001b[0m\u001b[0mrandint\u001b[0m\u001b[0;34m(\u001b[0m\u001b[0mnp\u001b[0m\u001b[0;34m.\u001b[0m\u001b[0miinfo\u001b[0m\u001b[0;34m(\u001b[0m\u001b[0;34m'i'\u001b[0m\u001b[0;34m)\u001b[0m\u001b[0;34m.\u001b[0m\u001b[0mmax\u001b[0m\u001b[0;34m)\u001b[0m\u001b[0;34m\u001b[0m\u001b[0;34m\u001b[0m\u001b[0m\n\u001b[0;32m--> 199\u001b[0;31m         \u001b[0mfit\u001b[0m\u001b[0;34m(\u001b[0m\u001b[0mX\u001b[0m\u001b[0;34m,\u001b[0m \u001b[0my\u001b[0m\u001b[0;34m,\u001b[0m \u001b[0msample_weight\u001b[0m\u001b[0;34m,\u001b[0m \u001b[0msolver_type\u001b[0m\u001b[0;34m,\u001b[0m \u001b[0mkernel\u001b[0m\u001b[0;34m,\u001b[0m \u001b[0mrandom_seed\u001b[0m\u001b[0;34m=\u001b[0m\u001b[0mseed\u001b[0m\u001b[0;34m)\u001b[0m\u001b[0;34m\u001b[0m\u001b[0;34m\u001b[0m\u001b[0m\n\u001b[0m\u001b[1;32m    200\u001b[0m         \u001b[0;31m# see comment on the other call to np.iinfo in this file\u001b[0m\u001b[0;34m\u001b[0m\u001b[0;34m\u001b[0m\u001b[0;34m\u001b[0m\u001b[0m\n\u001b[1;32m    201\u001b[0m \u001b[0;34m\u001b[0m\u001b[0m\n",
            "\u001b[0;32m/usr/local/lib/python3.6/dist-packages/sklearn/svm/_base.py\u001b[0m in \u001b[0;36m_dense_fit\u001b[0;34m(self, X, y, sample_weight, solver_type, kernel, random_seed)\u001b[0m\n\u001b[1;32m    256\u001b[0m                 \u001b[0mcache_size\u001b[0m\u001b[0;34m=\u001b[0m\u001b[0mself\u001b[0m\u001b[0;34m.\u001b[0m\u001b[0mcache_size\u001b[0m\u001b[0;34m,\u001b[0m \u001b[0mcoef0\u001b[0m\u001b[0;34m=\u001b[0m\u001b[0mself\u001b[0m\u001b[0;34m.\u001b[0m\u001b[0mcoef0\u001b[0m\u001b[0;34m,\u001b[0m\u001b[0;34m\u001b[0m\u001b[0;34m\u001b[0m\u001b[0m\n\u001b[1;32m    257\u001b[0m                 \u001b[0mgamma\u001b[0m\u001b[0;34m=\u001b[0m\u001b[0mself\u001b[0m\u001b[0;34m.\u001b[0m\u001b[0m_gamma\u001b[0m\u001b[0;34m,\u001b[0m \u001b[0mepsilon\u001b[0m\u001b[0;34m=\u001b[0m\u001b[0mself\u001b[0m\u001b[0;34m.\u001b[0m\u001b[0mepsilon\u001b[0m\u001b[0;34m,\u001b[0m\u001b[0;34m\u001b[0m\u001b[0;34m\u001b[0m\u001b[0m\n\u001b[0;32m--> 258\u001b[0;31m                 max_iter=self.max_iter, random_seed=random_seed)\n\u001b[0m\u001b[1;32m    259\u001b[0m \u001b[0;34m\u001b[0m\u001b[0m\n\u001b[1;32m    260\u001b[0m         \u001b[0mself\u001b[0m\u001b[0;34m.\u001b[0m\u001b[0m_warn_from_fit_status\u001b[0m\u001b[0;34m(\u001b[0m\u001b[0;34m)\u001b[0m\u001b[0;34m\u001b[0m\u001b[0;34m\u001b[0m\u001b[0m\n",
            "\u001b[0;31mKeyboardInterrupt\u001b[0m: "
          ]
        }
      ]
    },
    {
      "cell_type": "markdown",
      "metadata": {
        "colab_type": "text",
        "id": "cuFUnxQZltnW"
      },
      "source": [
        "# Tests with Spamassassin Email dataset \n",
        "Best results\n",
        "\n",
        "http://spamassassin.apache.org/old/publiccorpus/"
      ]
    },
    {
      "cell_type": "markdown",
      "metadata": {
        "colab_type": "text",
        "heading_collapsed": true,
        "id": "ckIGUiS0gTGc"
      },
      "source": [
        "### Dowload Data"
      ]
    },
    {
      "cell_type": "code",
      "metadata": {
        "colab_type": "code",
        "collapsed": true,
        "hidden": true,
        "id": "ZEzKjJdGoOTS",
        "outputId": "c13c7578-0db6-4a7c-ffa1-154a64d004a4",
        "colab": {
          "base_uri": "https://localhost:8080/",
          "height": 972
        }
      },
      "source": [
        "!wget https://spamassassin.apache.org/old/publiccorpus/20030228_easy_ham.tar.bz2\n",
        "!wget https://spamassassin.apache.org/old/publiccorpus/20030228_easy_ham_2.tar.bz2\n",
        "!wget https://spamassassin.apache.org/old/publiccorpus/20030228_spam.tar.bz2\n",
        "!wget https://spamassassin.apache.org/old/publiccorpus/20050311_spam_2.tar.bz2\n",
        "!wget https://spamassassin.apache.org/old/publiccorpus/20030228_hard_ham.tar.bz2"
      ],
      "execution_count": 0,
      "outputs": [
        {
          "output_type": "stream",
          "text": [
            "--2020-01-17 13:00:44--  https://spamassassin.apache.org/old/publiccorpus/20030228_easy_ham.tar.bz2\n",
            "Resolving spamassassin.apache.org (spamassassin.apache.org)... 95.216.24.32, 40.79.78.1, 2a01:4f9:2a:185f::2\n",
            "Connecting to spamassassin.apache.org (spamassassin.apache.org)|95.216.24.32|:443... connected.\n",
            "HTTP request sent, awaiting response... 200 OK\n",
            "Length: 1612216 (1.5M) [application/x-bzip2]\n",
            "Saving to: ‘20030228_easy_ham.tar.bz2’\n",
            "\n",
            "20030228_easy_ham.t 100%[===================>]   1.54M   798KB/s    in 2.0s    \n",
            "\n",
            "2020-01-17 13:00:47 (798 KB/s) - ‘20030228_easy_ham.tar.bz2’ saved [1612216/1612216]\n",
            "\n",
            "--2020-01-17 13:00:50--  https://spamassassin.apache.org/old/publiccorpus/20030228_easy_ham_2.tar.bz2\n",
            "Resolving spamassassin.apache.org (spamassassin.apache.org)... 95.216.24.32, 40.79.78.1, 2a01:4f9:2a:185f::2\n",
            "Connecting to spamassassin.apache.org (spamassassin.apache.org)|95.216.24.32|:443... connected.\n",
            "HTTP request sent, awaiting response... 200 OK\n",
            "Length: 1077892 (1.0M) [application/x-bzip2]\n",
            "Saving to: ‘20030228_easy_ham_2.tar.bz2’\n",
            "\n",
            "20030228_easy_ham_2 100%[===================>]   1.03M   542KB/s    in 1.9s    \n",
            "\n",
            "2020-01-17 13:00:53 (542 KB/s) - ‘20030228_easy_ham_2.tar.bz2’ saved [1077892/1077892]\n",
            "\n",
            "--2020-01-17 13:00:54--  https://spamassassin.apache.org/old/publiccorpus/20030228_spam.tar.bz2\n",
            "Resolving spamassassin.apache.org (spamassassin.apache.org)... 95.216.24.32, 40.79.78.1, 2a01:4f9:2a:185f::2\n",
            "Connecting to spamassassin.apache.org (spamassassin.apache.org)|95.216.24.32|:443... connected.\n",
            "HTTP request sent, awaiting response... 200 OK\n",
            "Length: 1183768 (1.1M) [application/x-bzip2]\n",
            "Saving to: ‘20030228_spam.tar.bz2’\n",
            "\n",
            "20030228_spam.tar.b 100%[===================>]   1.13M   599KB/s    in 1.9s    \n",
            "\n",
            "2020-01-17 13:00:58 (599 KB/s) - ‘20030228_spam.tar.bz2’ saved [1183768/1183768]\n",
            "\n",
            "--2020-01-17 13:01:00--  https://spamassassin.apache.org/old/publiccorpus/20050311_spam_2.tar.bz2\n",
            "Resolving spamassassin.apache.org (spamassassin.apache.org)... 95.216.24.32, 40.79.78.1, 2a01:4f9:2a:185f::2\n",
            "Connecting to spamassassin.apache.org (spamassassin.apache.org)|95.216.24.32|:443... connected.\n",
            "HTTP request sent, awaiting response... 200 OK\n",
            "Length: 2059029 (2.0M) [application/x-bzip2]\n",
            "Saving to: ‘20050311_spam_2.tar.bz2’\n",
            "\n",
            "20050311_spam_2.tar 100%[===================>]   1.96M   920KB/s    in 2.2s    \n",
            "\n",
            "2020-01-17 13:01:04 (920 KB/s) - ‘20050311_spam_2.tar.bz2’ saved [2059029/2059029]\n",
            "\n",
            "--2020-01-17 13:01:05--  https://spamassassin.apache.org/old/publiccorpus/20030228_hard_ham.tar.bz2\n",
            "Resolving spamassassin.apache.org (spamassassin.apache.org)... 95.216.24.32, 40.79.78.1, 2a01:4f9:2a:185f::2\n",
            "Connecting to spamassassin.apache.org (spamassassin.apache.org)|95.216.24.32|:443... connected.\n",
            "HTTP request sent, awaiting response... 200 OK\n",
            "Length: 1029898 (1006K) [application/x-bzip2]\n",
            "Saving to: ‘20030228_hard_ham.tar.bz2’\n",
            "\n",
            "20030228_hard_ham.t 100%[===================>]   1006K   531KB/s    in 1.9s    \n",
            "\n",
            "2020-01-17 13:01:09 (531 KB/s) - ‘20030228_hard_ham.tar.bz2’ saved [1029898/1029898]\n",
            "\n"
          ],
          "name": "stdout"
        }
      ]
    },
    {
      "cell_type": "code",
      "metadata": {
        "colab_type": "code",
        "hidden": true,
        "id": "cBhiv4xE6eyo",
        "colab": {}
      },
      "source": [
        "!tar xvjf 20030228_easy_ham_2.tar.bz2\n",
        "!tar xvjf 20030228_easy_ham.tar.bz2\n",
        "!tar xvjf 20030228_hard_ham.tar.bz2    \n",
        "!tar xvjf 20030228_spam.tar.bz2\n",
        "!tar xvjf 20050311_spam_2.tar.bz2"
      ],
      "execution_count": 0,
      "outputs": []
    },
    {
      "cell_type": "code",
      "metadata": {
        "colab_type": "code",
        "hidden": true,
        "id": "MdNZHhn464nk",
        "colab": {}
      },
      "source": [
        "import glob\n",
        "import email\n",
        "path = \"/content/\"\n",
        "easy_ham_paths = glob.glob(path+'easy_ham/*')\n",
        "easy_ham_2_paths = glob.glob(path+'easy_ham_2/*')\n",
        "hard_ham_paths = glob.glob(path+'hard_ham/*')\n",
        "spam_paths = glob.glob(path+'spam/*')\n",
        "spam_2_paths = glob.glob(path+'spam_2/*')"
      ],
      "execution_count": 0,
      "outputs": []
    },
    {
      "cell_type": "code",
      "metadata": {
        "colab_type": "code",
        "hidden": true,
        "id": "_ZF8fM6e6uyY",
        "colab": {}
      },
      "source": [
        "ham_path = [\n",
        "    easy_ham_paths,\n",
        "    easy_ham_2_paths,\n",
        "    hard_ham_paths\n",
        "]\n",
        "\n",
        "spam_path = [\n",
        "    spam_paths,\n",
        "    spam_2_paths\n",
        "]"
      ],
      "execution_count": 0,
      "outputs": []
    },
    {
      "cell_type": "code",
      "metadata": {
        "colab_type": "code",
        "hidden": true,
        "id": "s9dxwAbp7DEz",
        "colab": {}
      },
      "source": [
        "def get_email_content(email_path):\n",
        "    file = open(email_path,encoding='latin1')\n",
        "    try:\n",
        "        msg = email.message_from_file(file)\n",
        "        for part in msg.walk():\n",
        "            if part.get_content_type() == 'text/plain':\n",
        "                return part.get_payload() # prints the raw text\n",
        "    except Exception as e:\n",
        "        print(e)\n",
        "        \n",
        "        \n",
        "def get_email_content_bulk(email_paths):\n",
        "    email_contents = [get_email_content(o) for o in email_paths]\n",
        "    return email_contents"
      ],
      "execution_count": 0,
      "outputs": []
    },
    {
      "cell_type": "code",
      "metadata": {
        "code_folding": [],
        "colab_type": "code",
        "hidden": true,
        "id": "QbvUryqr7Ocj",
        "colab": {}
      },
      "source": [
        "def insert(df, row):\n",
        "    insert_loc = df.index.max()\n",
        "\n",
        "    if pd.isna(insert_loc):\n",
        "        df.loc[0] = row\n",
        "    else:\n",
        "        df.loc[insert_loc + 1] = row\n",
        "\n",
        "spam_ass = pd.DataFrame(columns=[\"message\",\"label\"])\n",
        "\n",
        "for files in ham_path:\n",
        "  for file in files:\n",
        "    email_ = get_email_content(file)\n",
        "    if email_ is not None:\n",
        "      insert(spam_ass, [email_, \"ham\"])\n",
        "\n",
        "for files in spam_path:\n",
        "  for file in files:\n",
        "    email_ = get_email_content(file)\n",
        "    if email_ is not None:\n",
        "      insert(spam_ass, [email_, \"spam\"])"
      ],
      "execution_count": 0,
      "outputs": []
    },
    {
      "cell_type": "code",
      "metadata": {
        "colab_type": "code",
        "hidden": true,
        "id": "hq9bWN5Afbs7",
        "colab": {}
      },
      "source": [
        "spam_ass.to_csv(\"/content/drive/My Drive/spam_detection/spamassassin.csv\")"
      ],
      "execution_count": 0,
      "outputs": []
    },
    {
      "cell_type": "markdown",
      "metadata": {
        "colab_type": "text",
        "id": "k7Bb1lIEgcD5"
      },
      "source": [
        "## Usage"
      ]
    },
    {
      "cell_type": "code",
      "metadata": {
        "colab_type": "code",
        "id": "wzwEwALFghKs",
        "colab": {}
      },
      "source": [
        "spam_ass = pd.read_csv(\"data/spamassassin.csv\", index_col=0)"
      ],
      "execution_count": 0,
      "outputs": []
    },
    {
      "cell_type": "code",
      "metadata": {
        "colab_type": "code",
        "id": "OiWSB72xQn10",
        "outputId": "8df2275f-a3ec-45e9-892d-27c7e9b7bb7c",
        "colab": {
          "base_uri": "https://localhost:8080/",
          "height": 68
        }
      },
      "source": [
        "spam_ass.label.value_counts()"
      ],
      "execution_count": 0,
      "outputs": [
        {
          "output_type": "execute_result",
          "data": {
            "text/plain": [
              "ham     4031\n",
              "spam    1045\n",
              "Name: label, dtype: int64"
            ]
          },
          "metadata": {
            "tags": []
          },
          "execution_count": 29
        }
      ]
    },
    {
      "cell_type": "code",
      "metadata": {
        "colab_type": "code",
        "id": "Jlo51x0CQmpz",
        "outputId": "c326d25f-632a-480d-e877-4079c8ab6ec7",
        "colab": {
          "base_uri": "https://localhost:8080/",
          "height": 190
        }
      },
      "source": [
        "import re\n",
        "def junk_to_alpha(s):\n",
        "  s = re.sub(r\"\\s*[^A-Za-z]+\\s*\", \" \", s)\n",
        "  return s\n",
        "\n",
        "def pre_process(sentence):\n",
        "  sentence = remove_html(sentence)\n",
        "  sentence = remove_whitespace(sentence)\n",
        "  sentence = replace_newline(sentence)\n",
        "  sentence = junk_to_alpha(sentence)\n",
        "  return sentence\n",
        "\n",
        "spam_ass[\"message\"] = spam_ass[\"message\"].apply(pre_process)"
      ],
      "execution_count": 0,
      "outputs": [
        {
          "output_type": "stream",
          "text": [
            "/home/ec2-user/anaconda3/envs/python3/lib/python3.6/site-packages/bs4/__init__.py:282: UserWarning: \"http://www.post-gazette.com/columnists/20020905brian5.asp\n",
            "\n",
            "\n",
            "\n",
            "\" looks like a URL. Beautiful Soup is not an HTTP client. You should probably use an HTTP client like requests to get the document behind the URL, and feed that document to Beautiful Soup.\n",
            "  ' that document to Beautiful Soup.' % decoded_markup\n",
            "/home/ec2-user/anaconda3/envs/python3/lib/python3.6/site-packages/bs4/__init__.py:282: UserWarning: \"http://www.rebackee.com/cursos2/contraloria.htm\n",
            "\" looks like a URL. Beautiful Soup is not an HTTP client. You should probably use an HTTP client like requests to get the document behind the URL, and feed that document to Beautiful Soup.\n",
            "  ' that document to Beautiful Soup.' % decoded_markup\n"
          ],
          "name": "stderr"
        }
      ]
    },
    {
      "cell_type": "code",
      "metadata": {
        "colab_type": "code",
        "id": "MgX7Gz5ETCJz",
        "outputId": "494b48d7-1fce-48a4-f8ac-8cdc62263811",
        "colab": {
          "base_uri": "https://localhost:8080/",
          "height": 204
        }
      },
      "source": [
        "spam_ass.head()"
      ],
      "execution_count": 0,
      "outputs": [
        {
          "output_type": "execute_result",
          "data": {
            "text/html": [
              "<div>\n",
              "<style scoped>\n",
              "    .dataframe tbody tr th:only-of-type {\n",
              "        vertical-align: middle;\n",
              "    }\n",
              "\n",
              "    .dataframe tbody tr th {\n",
              "        vertical-align: top;\n",
              "    }\n",
              "\n",
              "    .dataframe thead th {\n",
              "        text-align: right;\n",
              "    }\n",
              "</style>\n",
              "<table border=\"1\" class=\"dataframe\">\n",
              "  <thead>\n",
              "    <tr style=\"text-align: right;\">\n",
              "      <th></th>\n",
              "      <th>message</th>\n",
              "      <th>label</th>\n",
              "    </tr>\n",
              "  </thead>\n",
              "  <tbody>\n",
              "    <tr>\n",
              "      <th>0</th>\n",
              "      <td>On Wed Sep PDT Brent Welch said Hacksaw said W...</td>\n",
              "      <td>ham</td>\n",
              "    </tr>\n",
              "    <tr>\n",
              "      <th>1</th>\n",
              "      <td>hi i was just wondering if anyone experiening...</td>\n",
              "      <td>ham</td>\n",
              "    </tr>\n",
              "    <tr>\n",
              "      <th>2</th>\n",
              "      <td>URL http www newsisfree com click Date Not sup...</td>\n",
              "      <td>ham</td>\n",
              "    </tr>\n",
              "    <tr>\n",
              "      <th>3</th>\n",
              "      <td>and say hello to the cool Oooo this is going ...</td>\n",
              "      <td>ham</td>\n",
              "    </tr>\n",
              "    <tr>\n",
              "      <th>4</th>\n",
              "      <td>On Wed Feb at PM Peter Peltonen wrote Two issu...</td>\n",
              "      <td>ham</td>\n",
              "    </tr>\n",
              "  </tbody>\n",
              "</table>\n",
              "</div>"
            ],
            "text/plain": [
              "                                             message label\n",
              "0  On Wed Sep PDT Brent Welch said Hacksaw said W...   ham\n",
              "1   hi i was just wondering if anyone experiening...   ham\n",
              "2  URL http www newsisfree com click Date Not sup...   ham\n",
              "3   and say hello to the cool Oooo this is going ...   ham\n",
              "4  On Wed Feb at PM Peter Peltonen wrote Two issu...   ham"
            ]
          },
          "metadata": {
            "tags": []
          },
          "execution_count": 31
        }
      ]
    },
    {
      "cell_type": "code",
      "metadata": {
        "colab_type": "code",
        "id": "IELinmN2_2ep",
        "colab": {}
      },
      "source": [
        "stemmer = PorterStemmer()\n",
        "lemmatizer = WordNetLemmatizer()"
      ],
      "execution_count": 0,
      "outputs": []
    },
    {
      "cell_type": "code",
      "metadata": {
        "colab_type": "code",
        "id": "6w0eX_yyrHez",
        "colab": {}
      },
      "source": [
        "def process_text(X_train, X_test, y_train, y_test):\n",
        "\n",
        "  X_train = [word_tokenize(o) for o in X_train]\n",
        "  X_test = [word_tokenize(o) for o in X_test]\n",
        "\n",
        "  X_train = [clean_token_pipeline(o) for o in X_train]\n",
        "  X_test = [clean_token_pipeline(o) for o in X_test]\n",
        "\n",
        "  X_train = [\" \".join(o) for o in X_train]\n",
        "  X_test = [\" \".join(o) for o in X_test]"
      ],
      "execution_count": 0,
      "outputs": []
    },
    {
      "cell_type": "code",
      "metadata": {
        "colab_type": "code",
        "id": "b18mfDijAU-c",
        "colab": {}
      },
      "source": [
        "X_train, X_test, y_train, y_test = train_test_split(spam_ass['message'], spam_ass['label'], test_size = 0.2, random_state = 1)\n",
        "process_text(X_train, X_test, y_train, y_test)"
      ],
      "execution_count": 0,
      "outputs": []
    },
    {
      "cell_type": "code",
      "metadata": {
        "id": "lF9MoMBlhRU8",
        "colab_type": "code",
        "colab": {},
        "outputId": "bd3dbaeb-fe19-41cb-ba0f-d1282cfd76f6"
      },
      "source": [
        "X_train[0]"
      ],
      "execution_count": 0,
      "outputs": [
        {
          "output_type": "execute_result",
          "data": {
            "text/plain": [
              "'On Wed Sep PDT Brent Welch said Hacksaw said When I receive a gpg encrypted message and it asks me for a passphrase it first tries to ask me via the tty under which exmh is running It tells Hmm I ve seen the opposite issue if I go to SEND a signed message sometimes Exmh will put up the dialog box but fail to set keyboard focus there so no passphrase can be entered Of course hitting return doesnt work so you need to click the OK box at which point it finds that the passphrase that wasn t entered doesn t work and asks again this time with proper focus set I suspect some variable codepath is getting hosed for the focus or possibly some borkedness with no tty and or status fd flags to gnupg Valdis'"
            ]
          },
          "metadata": {
            "tags": []
          },
          "execution_count": 35
        }
      ]
    },
    {
      "cell_type": "markdown",
      "metadata": {
        "colab_type": "text",
        "id": "-uVtwdwRBiwd"
      },
      "source": [
        "## TfidVectorizer\n"
      ]
    },
    {
      "cell_type": "code",
      "metadata": {
        "colab_type": "code",
        "id": "71Vpw7iiBkJu",
        "colab": {}
      },
      "source": [
        "X_train = [o.split(\" \") for o in X_train]\n",
        "X_test = [o.split(\" \") for o in X_test]"
      ],
      "execution_count": 0,
      "outputs": []
    },
    {
      "cell_type": "code",
      "metadata": {
        "colab_type": "code",
        "id": "x6GHeKorBs0B",
        "outputId": "3899f331-aa63-4b7b-a5ac-b2f05b598501",
        "colab": {
          "base_uri": "https://localhost:8080/",
          "height": 136
        }
      },
      "source": [
        "vectorizer = TfidfVectorizer()\n",
        "raw_sentences = [' '.join(o) for o in X_train]\n",
        "vectorizer.fit(raw_sentences)"
      ],
      "execution_count": 0,
      "outputs": [
        {
          "output_type": "execute_result",
          "data": {
            "text/plain": [
              "TfidfVectorizer(analyzer='word', binary=False, decode_error='strict',\n",
              "        dtype=<class 'numpy.float64'>, encoding='utf-8', input='content',\n",
              "        lowercase=True, max_df=1.0, max_features=None, min_df=1,\n",
              "        ngram_range=(1, 1), norm='l2', preprocessor=None, smooth_idf=True,\n",
              "        stop_words=None, strip_accents=None, sublinear_tf=False,\n",
              "        token_pattern='(?u)\\\\b\\\\w\\\\w+\\\\b', tokenizer=None, use_idf=True,\n",
              "        vocabulary=None)"
            ]
          },
          "metadata": {
            "tags": []
          },
          "execution_count": 37
        }
      ]
    },
    {
      "cell_type": "code",
      "metadata": {
        "colab_type": "code",
        "id": "kd884V63Bwkp",
        "outputId": "df891934-c633-4a38-c0f8-75f199c67b28",
        "colab": {
          "base_uri": "https://localhost:8080/",
          "height": 54
        }
      },
      "source": [
        "raw_sentences[0]"
      ],
      "execution_count": 0,
      "outputs": [
        {
          "output_type": "execute_result",
          "data": {
            "text/plain": [
              "'So you still don Crystal Cle ar Connection With Unlimited Long Distance Usage For One Low Flat Rate Now try it for FREE See for yourself We l l activate your Flat Rate Unlimited Long Distance Service for week FREE to p rove that the quality of service is what you expect Call now Operator s standing by to activate your service Toll Free Monday through Friday am to pm EDT For More Information Your Name City TD State Daytime Phone Nighttime Phone Email nbs p One week free offer is valid to those who have a valid checking account Service i s never billed until after the week free trial period If you have received this by error or wis h to be removed from our mailing list please click here'"
            ]
          },
          "metadata": {
            "tags": []
          },
          "execution_count": 38
        }
      ]
    },
    {
      "cell_type": "code",
      "metadata": {
        "colab_type": "code",
        "id": "sd6AvrbjIoO_",
        "colab": {}
      },
      "source": [
        "def convert_to_feature(raw_tokenize_data):\n",
        "    raw_sentences = [' '.join(o) for o in raw_tokenize_data]\n",
        "    return vectorizer.transform(raw_sentences)"
      ],
      "execution_count": 0,
      "outputs": []
    },
    {
      "cell_type": "code",
      "metadata": {
        "colab_type": "code",
        "id": "5r2m_pbCBykh",
        "colab": {}
      },
      "source": [
        "x_train_features = convert_to_feature(X_train)\n",
        "x_test_features = convert_to_feature(X_test)"
      ],
      "execution_count": 0,
      "outputs": []
    },
    {
      "cell_type": "code",
      "metadata": {
        "colab_type": "code",
        "id": "u1QNSKtGB3qJ",
        "outputId": "3e92552d-ff5d-425f-e7a0-577629f3d8e7",
        "colab": {
          "base_uri": "https://localhost:8080/",
          "height": 34
        }
      },
      "source": [
        "x_train_features.toarray()[0]"
      ],
      "execution_count": 0,
      "outputs": [
        {
          "output_type": "execute_result",
          "data": {
            "text/plain": [
              "array([0., 0., 0., ..., 0., 0., 0.])"
            ]
          },
          "metadata": {
            "tags": []
          },
          "execution_count": 41
        }
      ]
    },
    {
      "cell_type": "code",
      "metadata": {
        "id": "kUNr69rBhRVE",
        "colab_type": "code",
        "colab": {},
        "outputId": "6e3d5a49-a95e-4dae-e542-7255ae8a5fe4"
      },
      "source": [
        "x_train_features.toarray()[0].shape"
      ],
      "execution_count": 0,
      "outputs": [
        {
          "output_type": "execute_result",
          "data": {
            "text/plain": [
              "(57335,)"
            ]
          },
          "metadata": {
            "tags": []
          },
          "execution_count": 83
        }
      ]
    },
    {
      "cell_type": "markdown",
      "metadata": {
        "colab_type": "text",
        "id": "XUVYIcZcHSv9"
      },
      "source": [
        "## GaussianNB"
      ]
    },
    {
      "cell_type": "code",
      "metadata": {
        "colab_type": "code",
        "id": "RUiMou1GB8wg",
        "outputId": "91d7fb34-d1d5-4916-c9e8-ac954030222b",
        "colab": {
          "base_uri": "https://localhost:8080/",
          "height": 34
        }
      },
      "source": [
        "from sklearn.naive_bayes import GaussianNB\n",
        "from sklearn.linear_model import LogisticRegression\n",
        "\n",
        "clf = GaussianNB()\n",
        "clf.fit(x_train_features.toarray(),y_train)"
      ],
      "execution_count": 0,
      "outputs": [
        {
          "output_type": "execute_result",
          "data": {
            "text/plain": [
              "GaussianNB(priors=None, var_smoothing=1e-09)"
            ]
          },
          "metadata": {
            "tags": []
          },
          "execution_count": 42
        }
      ]
    },
    {
      "cell_type": "code",
      "metadata": {
        "id": "opZPUFDJhRVZ",
        "colab_type": "code",
        "colab": {},
        "outputId": "40bd6de5-3a39-476d-b69c-786d04724725"
      },
      "source": [
        "y_true, y_pred = y_test, clf.predict(x_test_features.toarray())\n",
        "print(classification_report(y_true, y_pred))"
      ],
      "execution_count": 0,
      "outputs": [
        {
          "output_type": "stream",
          "text": [
            "              precision    recall  f1-score   support\n",
            "\n",
            "         ham       0.96      0.99      0.98       823\n",
            "        spam       0.94      0.84      0.89       193\n",
            "\n",
            "   micro avg       0.96      0.96      0.96      1016\n",
            "   macro avg       0.95      0.91      0.93      1016\n",
            "weighted avg       0.96      0.96      0.96      1016\n",
            "\n"
          ],
          "name": "stdout"
        }
      ]
    },
    {
      "cell_type": "code",
      "metadata": {
        "id": "azGZ6nW3hRVZ",
        "colab_type": "code",
        "colab": {},
        "outputId": "c51c5b4c-4a40-466e-e89b-b18c92a05c9f"
      },
      "source": [
        "confusion_matrix(y_true, y_pred)"
      ],
      "execution_count": 0,
      "outputs": [
        {
          "output_type": "execute_result",
          "data": {
            "text/plain": [
              "array([[813,  10],\n",
              "       [ 31, 162]])"
            ]
          },
          "metadata": {
            "tags": []
          },
          "execution_count": 44
        }
      ]
    },
    {
      "cell_type": "markdown",
      "metadata": {
        "id": "z_0H_FhHhRVa",
        "colab_type": "text"
      },
      "source": [
        "## Best Results"
      ]
    },
    {
      "cell_type": "code",
      "metadata": {
        "colab_type": "code",
        "id": "m3TeCBfEDWKN",
        "outputId": "ef8e1ea7-1bd9-4838-d712-3c3b1b60f9ff",
        "scrolled": true,
        "colab": {
          "base_uri": "https://localhost:8080/",
          "height": 122
        }
      },
      "source": [
        "def show_results(clf):\n",
        "  for label, msg in zip(truth_labels, test_messages):\n",
        "    org_msg = msg\n",
        "    msg = \"\".join(clean_token_pipeline(msg))\n",
        "    # print(msg)\n",
        "    msg = vectorizer.transform([msg])\n",
        "    msg = msg.toarray()\n",
        "    prediction = clf.predict(msg)\n",
        "    correct = (prediction[0] == label)\n",
        "    print(\"predicted:{} actual:{}\\nmessage:{}\\n\".format(prediction[0], label, org_msg))\n",
        "\n",
        "show_results(clf)"
      ],
      "execution_count": 0,
      "outputs": [
        {
          "output_type": "stream",
          "text": [
            "predicted:ham actual:spam\n",
            "message:IMPORTANT - You could be entitled up to £3,160 in compensation from mis-sold PPI on a credit card or loan. Please reply PPI for info or STOP to opt out.\n",
            "\n",
            "predicted:spam actual:spam\n",
            "message:Due to a new legislation, those struggling with debt can now apply to have it written off. For more information text the word INFO or to opt out text STOP\n",
            "\n",
            "predicted:spam actual:spam\n",
            "message:Overpaying for Netflix? We have the solution. Low-cost subscriptions, at https://stick-it-to-the-man.net\n",
            "\n",
            "predicted:spam actual:spam\n",
            "message:TONY, are you ready to share your experiences? http://aelich.com/n8ZzBxw Reply STOP to opt-out\n",
            "\n",
            "predicted:ham actual:ham\n",
            "message:Put her in a Sgt Peppers costume and we would win hands down :)\n",
            "\n"
          ],
          "name": "stdout"
        }
      ]
    },
    {
      "cell_type": "code",
      "metadata": {
        "id": "x6uuaeZShRVb",
        "colab_type": "code",
        "colab": {},
        "outputId": "0cd55bab-7e6f-4ba5-e049-bc27f7d27188"
      },
      "source": [
        "# save_model(clf)"
      ],
      "execution_count": 0,
      "outputs": [
        {
          "output_type": "stream",
          "text": [
            "models/GaussianNB01-17-20:19:31:02.pkl\n"
          ],
          "name": "stdout"
        }
      ]
    },
    {
      "cell_type": "code",
      "metadata": {
        "id": "6e8aDrMPhRVb",
        "colab_type": "code",
        "colab": {}
      },
      "source": [
        ""
      ],
      "execution_count": 0,
      "outputs": []
    },
    {
      "cell_type": "markdown",
      "metadata": {
        "colab_type": "text",
        "id": "QPmPdQbaHYzH"
      },
      "source": [
        "## SVC"
      ]
    },
    {
      "cell_type": "code",
      "metadata": {
        "colab_type": "code",
        "id": "mjJsNr4xHf9d",
        "colab": {},
        "outputId": "9cb7c8cb-954e-4f12-9969-3d8c0bbf7ffe"
      },
      "source": [
        "svc = SVC(**{'C': 1000, 'gamma': 0.001, 'kernel': 'rbf'})\n",
        "svc.fit(x_train_features.toarray(),y_train)"
      ],
      "execution_count": 0,
      "outputs": [
        {
          "output_type": "execute_result",
          "data": {
            "text/plain": [
              "SVC(C=1000, cache_size=200, class_weight=None, coef0=0.0,\n",
              "  decision_function_shape='ovr', degree=3, gamma=0.001, kernel='rbf',\n",
              "  max_iter=-1, probability=False, random_state=None, shrinking=True,\n",
              "  tol=0.001, verbose=False)"
            ]
          },
          "metadata": {
            "tags": []
          },
          "execution_count": 49
        }
      ]
    },
    {
      "cell_type": "code",
      "metadata": {
        "id": "3HEQoB97hRVd",
        "colab_type": "code",
        "colab": {},
        "outputId": "6d21bbfa-5e3b-4635-d447-381a6dca4e75"
      },
      "source": [
        "y_true, y_pred = y_test, svc.predict(x_test_features.toarray())\n",
        "print(classification_report(y_true, y_pred))"
      ],
      "execution_count": 0,
      "outputs": [
        {
          "output_type": "stream",
          "text": [
            "              precision    recall  f1-score   support\n",
            "\n",
            "         ham       0.99      1.00      1.00       823\n",
            "        spam       0.98      0.97      0.98       193\n",
            "\n",
            "   micro avg       0.99      0.99      0.99      1016\n",
            "   macro avg       0.99      0.99      0.99      1016\n",
            "weighted avg       0.99      0.99      0.99      1016\n",
            "\n"
          ],
          "name": "stdout"
        }
      ]
    },
    {
      "cell_type": "code",
      "metadata": {
        "id": "Zvs2RlHPhRVd",
        "colab_type": "code",
        "colab": {},
        "outputId": "cbf1150a-8ae9-4b11-c972-f124d28e7adc"
      },
      "source": [
        "confusion_matrix(y_true, y_pred)"
      ],
      "execution_count": 0,
      "outputs": [
        {
          "output_type": "execute_result",
          "data": {
            "text/plain": [
              "array([[820,   3],\n",
              "       [  5, 188]])"
            ]
          },
          "metadata": {
            "tags": []
          },
          "execution_count": 52
        }
      ]
    },
    {
      "cell_type": "code",
      "metadata": {
        "scrolled": true,
        "id": "cCclhkxBhRVe",
        "colab_type": "code",
        "colab": {},
        "outputId": "493b5848-f44b-4a7a-8511-ca1366d7ae3b"
      },
      "source": [
        "show_results(svc)"
      ],
      "execution_count": 0,
      "outputs": [
        {
          "output_type": "stream",
          "text": [
            "predicted:ham actual:spam\n",
            "message:IMPORTANT - You could be entitled up to £3,160 in compensation from mis-sold PPI on a credit card or loan. Please reply PPI for info or STOP to opt out.\n",
            "\n",
            "predicted:ham actual:spam\n",
            "message:Due to a new legislation, those struggling with debt can now apply to have it written off. For more information text the word INFO or to opt out text STOP\n",
            "\n",
            "predicted:ham actual:spam\n",
            "message:Overpaying for Netflix? We have the solution. Low-cost subscriptions, at https://stick-it-to-the-man.net\n",
            "\n",
            "predicted:spam actual:spam\n",
            "message:TONY, are you ready to share your experiences? http://aelich.com/n8ZzBxw Reply STOP to opt-out\n",
            "\n",
            "predicted:ham actual:ham\n",
            "message:Put her in a Sgt Peppers costume and we would win hands down :)\n",
            "\n"
          ],
          "name": "stdout"
        }
      ]
    },
    {
      "cell_type": "markdown",
      "metadata": {
        "colab_type": "text",
        "heading_collapsed": true,
        "id": "5C3yb0EkkaGS"
      },
      "source": [
        "# Combine Both Datasets"
      ]
    },
    {
      "cell_type": "code",
      "metadata": {
        "colab_type": "code",
        "hidden": true,
        "id": "zc-qPc1DkeUj",
        "colab": {}
      },
      "source": [
        "spam_ass = pd.read_csv(\"data/spamassassin.csv\", index_col=0)\n",
        "sms_spam_ds = process_csv()"
      ],
      "execution_count": 0,
      "outputs": []
    },
    {
      "cell_type": "code",
      "metadata": {
        "colab_type": "code",
        "hidden": true,
        "id": "KFtozbNIkq6q",
        "outputId": "a86918a5-d1d2-4c51-aa97-585de1ab35cb",
        "colab": {
          "base_uri": "https://localhost:8080/",
          "height": 204
        }
      },
      "source": [
        "spam_ass.head()"
      ],
      "execution_count": 0,
      "outputs": [
        {
          "output_type": "execute_result",
          "data": {
            "text/html": [
              "<div>\n",
              "<style scoped>\n",
              "    .dataframe tbody tr th:only-of-type {\n",
              "        vertical-align: middle;\n",
              "    }\n",
              "\n",
              "    .dataframe tbody tr th {\n",
              "        vertical-align: top;\n",
              "    }\n",
              "\n",
              "    .dataframe thead th {\n",
              "        text-align: right;\n",
              "    }\n",
              "</style>\n",
              "<table border=\"1\" class=\"dataframe\">\n",
              "  <thead>\n",
              "    <tr style=\"text-align: right;\">\n",
              "      <th></th>\n",
              "      <th>message</th>\n",
              "      <th>label</th>\n",
              "    </tr>\n",
              "  </thead>\n",
              "  <tbody>\n",
              "    <tr>\n",
              "      <th>0</th>\n",
              "      <td>On Wed, 11 Sep 2002 12:17:33 PDT, Brent Welch ...</td>\n",
              "      <td>ham</td>\n",
              "    </tr>\n",
              "    <tr>\n",
              "      <th>1</th>\n",
              "      <td>\\n&gt;\\n&gt;hi i was just wondering if anyone experi...</td>\n",
              "      <td>ham</td>\n",
              "    </tr>\n",
              "    <tr>\n",
              "      <th>2</th>\n",
              "      <td>URL: http://www.newsisfree.com/click/-2,865374...</td>\n",
              "      <td>ham</td>\n",
              "    </tr>\n",
              "    <tr>\n",
              "      <th>3</th>\n",
              "      <td>\\n... and say hello to the cool:  Oooo ... /th...</td>\n",
              "      <td>ham</td>\n",
              "    </tr>\n",
              "    <tr>\n",
              "      <th>4</th>\n",
              "      <td>On Wed, Feb 06, 2002 at 04:29:53PM +0200, Pete...</td>\n",
              "      <td>ham</td>\n",
              "    </tr>\n",
              "  </tbody>\n",
              "</table>\n",
              "</div>"
            ],
            "text/plain": [
              "                                             message label\n",
              "0  On Wed, 11 Sep 2002 12:17:33 PDT, Brent Welch ...   ham\n",
              "1  \\n>\\n>hi i was just wondering if anyone experi...   ham\n",
              "2  URL: http://www.newsisfree.com/click/-2,865374...   ham\n",
              "3  \\n... and say hello to the cool:  Oooo ... /th...   ham\n",
              "4  On Wed, Feb 06, 2002 at 04:29:53PM +0200, Pete...   ham"
            ]
          },
          "metadata": {
            "tags": []
          },
          "execution_count": 76
        }
      ]
    },
    {
      "cell_type": "code",
      "metadata": {
        "colab_type": "code",
        "hidden": true,
        "id": "DTfan8c7EZpd",
        "outputId": "364b902f-f622-4438-bda7-b3dbb83aaeff",
        "colab": {
          "base_uri": "https://localhost:8080/",
          "height": 190
        }
      },
      "source": [
        "spam_ass['message'] = spam_ass['message'].apply(remove_html)"
      ],
      "execution_count": 0,
      "outputs": [
        {
          "output_type": "stream",
          "text": [
            "/home/ec2-user/anaconda3/envs/python3/lib/python3.6/site-packages/bs4/__init__.py:282: UserWarning: \"http://www.post-gazette.com/columnists/20020905brian5.asp\n",
            "\n",
            "\n",
            "\n",
            "\" looks like a URL. Beautiful Soup is not an HTTP client. You should probably use an HTTP client like requests to get the document behind the URL, and feed that document to Beautiful Soup.\n",
            "  ' that document to Beautiful Soup.' % decoded_markup\n",
            "/home/ec2-user/anaconda3/envs/python3/lib/python3.6/site-packages/bs4/__init__.py:282: UserWarning: \"http://www.rebackee.com/cursos2/contraloria.htm\n",
            "\" looks like a URL. Beautiful Soup is not an HTTP client. You should probably use an HTTP client like requests to get the document behind the URL, and feed that document to Beautiful Soup.\n",
            "  ' that document to Beautiful Soup.' % decoded_markup\n"
          ],
          "name": "stderr"
        }
      ]
    },
    {
      "cell_type": "code",
      "metadata": {
        "colab_type": "code",
        "hidden": true,
        "id": "mM9mtV5Yk50J",
        "outputId": "0d50f337-c3cb-4e0b-a23a-9d4fe35193d5",
        "colab": {
          "base_uri": "https://localhost:8080/",
          "height": 204
        }
      },
      "source": [
        "spam_ass.head()"
      ],
      "execution_count": 0,
      "outputs": [
        {
          "output_type": "execute_result",
          "data": {
            "text/html": [
              "<div>\n",
              "<style scoped>\n",
              "    .dataframe tbody tr th:only-of-type {\n",
              "        vertical-align: middle;\n",
              "    }\n",
              "\n",
              "    .dataframe tbody tr th {\n",
              "        vertical-align: top;\n",
              "    }\n",
              "\n",
              "    .dataframe thead th {\n",
              "        text-align: right;\n",
              "    }\n",
              "</style>\n",
              "<table border=\"1\" class=\"dataframe\">\n",
              "  <thead>\n",
              "    <tr style=\"text-align: right;\">\n",
              "      <th></th>\n",
              "      <th>message</th>\n",
              "      <th>label</th>\n",
              "    </tr>\n",
              "  </thead>\n",
              "  <tbody>\n",
              "    <tr>\n",
              "      <th>0</th>\n",
              "      <td>On Wed, 11 Sep 2002 12:17:33 PDT, Brent Welch ...</td>\n",
              "      <td>ham</td>\n",
              "    </tr>\n",
              "    <tr>\n",
              "      <th>1</th>\n",
              "      <td>&gt;\\n&gt;hi i was just wondering if anyone experien...</td>\n",
              "      <td>ham</td>\n",
              "    </tr>\n",
              "    <tr>\n",
              "      <th>2</th>\n",
              "      <td>URL: http://www.newsisfree.com/click/-2,865374...</td>\n",
              "      <td>ham</td>\n",
              "    </tr>\n",
              "    <tr>\n",
              "      <th>3</th>\n",
              "      <td>... and say hello to the cool:  Oooo ... /this...</td>\n",
              "      <td>ham</td>\n",
              "    </tr>\n",
              "    <tr>\n",
              "      <th>4</th>\n",
              "      <td>On Wed, Feb 06, 2002 at 04:29:53PM +0200, Pete...</td>\n",
              "      <td>ham</td>\n",
              "    </tr>\n",
              "  </tbody>\n",
              "</table>\n",
              "</div>"
            ],
            "text/plain": [
              "                                             message label\n",
              "0  On Wed, 11 Sep 2002 12:17:33 PDT, Brent Welch ...   ham\n",
              "1  >\\n>hi i was just wondering if anyone experien...   ham\n",
              "2  URL: http://www.newsisfree.com/click/-2,865374...   ham\n",
              "3  ... and say hello to the cool:  Oooo ... /this...   ham\n",
              "4  On Wed, Feb 06, 2002 at 04:29:53PM +0200, Pete...   ham"
            ]
          },
          "metadata": {
            "tags": []
          },
          "execution_count": 78
        }
      ]
    },
    {
      "cell_type": "code",
      "metadata": {
        "colab_type": "code",
        "hidden": true,
        "id": "8sCMlCVUk7uw",
        "outputId": "b53cecca-6942-4441-8131-c5f42cdbf9c2",
        "colab": {
          "base_uri": "https://localhost:8080/",
          "height": 173
        }
      },
      "source": [
        "combined_df = pd.concat([spam_ass, sms_spam_ds])"
      ],
      "execution_count": 0,
      "outputs": [
        {
          "output_type": "stream",
          "text": [
            "/home/ec2-user/anaconda3/envs/python3/lib/python3.6/site-packages/ipykernel/__main__.py:1: FutureWarning: Sorting because non-concatenation axis is not aligned. A future version\n",
            "of pandas will change to not sort by default.\n",
            "\n",
            "To accept the future behavior, pass 'sort=False'.\n",
            "\n",
            "To retain the current behavior and silence the warning, pass 'sort=True'.\n",
            "\n",
            "  if __name__ == '__main__':\n"
          ],
          "name": "stderr"
        }
      ]
    },
    {
      "cell_type": "code",
      "metadata": {
        "colab_type": "code",
        "hidden": true,
        "id": "uKrbaU-nlIpQ",
        "outputId": "2f182fb5-de22-4f58-89a8-f7c47fe59fb2",
        "colab": {
          "base_uri": "https://localhost:8080/",
          "height": 68
        }
      },
      "source": [
        "combined_df.label.value_counts()"
      ],
      "execution_count": 0,
      "outputs": [
        {
          "output_type": "execute_result",
          "data": {
            "text/plain": [
              "ham     8856\n",
              "spam    1792\n",
              "Name: label, dtype: int64"
            ]
          },
          "metadata": {
            "tags": []
          },
          "execution_count": 80
        }
      ]
    },
    {
      "cell_type": "code",
      "metadata": {
        "colab_type": "code",
        "hidden": true,
        "id": "J38anE3ZE7iu",
        "colab": {}
      },
      "source": [
        "X_train, X_test, y_train, y_test = train_test_split(combined_df['message'], combined_df['label'], test_size = 0.2, random_state = 1)"
      ],
      "execution_count": 0,
      "outputs": []
    },
    {
      "cell_type": "code",
      "metadata": {
        "colab_type": "code",
        "hidden": true,
        "id": "juvf4w94FRu0",
        "colab": {}
      },
      "source": [
        "stemmer = PorterStemmer()\n",
        "lemmatizer = WordNetLemmatizer()\n",
        "process_text(X_train, X_test, y_train, y_test)"
      ],
      "execution_count": 0,
      "outputs": []
    },
    {
      "cell_type": "code",
      "metadata": {
        "colab_type": "code",
        "hidden": true,
        "id": "JVOo91I7F4eU",
        "colab": {}
      },
      "source": [
        "X_train = [o.split(\" \") for o in X_train]\n",
        "X_test = [o.split(\" \") for o in X_test]"
      ],
      "execution_count": 0,
      "outputs": []
    },
    {
      "cell_type": "code",
      "metadata": {
        "colab_type": "code",
        "hidden": true,
        "id": "HRpDmmykGAgt",
        "outputId": "ad462b48-6e8b-434e-b836-cd0c170d922e",
        "colab": {
          "base_uri": "https://localhost:8080/",
          "height": 136
        }
      },
      "source": [
        "vectorizer = TfidfVectorizer()\n",
        "raw_sentences = [' '.join(o) for o in X_train]\n",
        "vectorizer.fit(raw_sentences)"
      ],
      "execution_count": 0,
      "outputs": [
        {
          "output_type": "execute_result",
          "data": {
            "text/plain": [
              "TfidfVectorizer(analyzer='word', binary=False, decode_error='strict',\n",
              "        dtype=<class 'numpy.float64'>, encoding='utf-8', input='content',\n",
              "        lowercase=True, max_df=1.0, max_features=None, min_df=1,\n",
              "        ngram_range=(1, 1), norm='l2', preprocessor=None, smooth_idf=True,\n",
              "        stop_words=None, strip_accents=None, sublinear_tf=False,\n",
              "        token_pattern='(?u)\\\\b\\\\w\\\\w+\\\\b', tokenizer=None, use_idf=True,\n",
              "        vocabulary=None)"
            ]
          },
          "metadata": {
            "tags": []
          },
          "execution_count": 84
        }
      ]
    },
    {
      "cell_type": "code",
      "metadata": {
        "colab_type": "code",
        "hidden": true,
        "id": "qppOSbBNGOQ6",
        "colab": {}
      },
      "source": [
        "x_train_features = convert_to_feature(X_train)\n",
        "x_test_features = convert_to_feature(X_test)"
      ],
      "execution_count": 0,
      "outputs": []
    },
    {
      "cell_type": "code",
      "metadata": {
        "colab_type": "code",
        "hidden": true,
        "id": "c1ylD5JMGV8a",
        "outputId": "ba6700f7-5006-440e-a5e4-1dfce1dfaa9c",
        "colab": {
          "base_uri": "https://localhost:8080/",
          "height": 34
        }
      },
      "source": [
        "from sklearn.naive_bayes import GaussianNB\n",
        "from sklearn.linear_model import LogisticRegression\n",
        "\n",
        "clf = GaussianNB()\n",
        "clf.fit(x_train_features.toarray(),y_train)"
      ],
      "execution_count": 0,
      "outputs": [
        {
          "output_type": "execute_result",
          "data": {
            "text/plain": [
              "GaussianNB(priors=None, var_smoothing=1e-09)"
            ]
          },
          "metadata": {
            "tags": []
          },
          "execution_count": 86
        }
      ]
    },
    {
      "cell_type": "code",
      "metadata": {
        "hidden": true,
        "id": "a4cV0dMvhRVl",
        "colab_type": "code",
        "colab": {},
        "outputId": "20385ae7-b841-439a-c1f6-2d14395e97b9"
      },
      "source": [
        "y_true, y_pred = y_test, clf.predict(x_test_features.toarray())\n",
        "print(classification_report(y_true, y_pred))"
      ],
      "execution_count": 0,
      "outputs": [
        {
          "output_type": "stream",
          "text": [
            "              precision    recall  f1-score   support\n",
            "\n",
            "         ham       0.96      0.82      0.89      1781\n",
            "        spam       0.48      0.83      0.60       349\n",
            "\n",
            "   micro avg       0.82      0.82      0.82      2130\n",
            "   macro avg       0.72      0.82      0.75      2130\n",
            "weighted avg       0.88      0.82      0.84      2130\n",
            "\n"
          ],
          "name": "stdout"
        }
      ]
    },
    {
      "cell_type": "code",
      "metadata": {
        "colab_type": "code",
        "hidden": true,
        "id": "HNZGb1InGZyu",
        "outputId": "0ab1a0b6-309c-415f-8c7c-455b48d62472",
        "colab": {
          "base_uri": "https://localhost:8080/",
          "height": 122
        }
      },
      "source": [
        "def show_results(clf):\n",
        "  for label, msg in zip(truth_labels, test_messages):\n",
        "    org_msg = msg\n",
        "    msg = \"\".join(clean_token_pipeline(msg))\n",
        "    # print(msg)\n",
        "    msg = vectorizer.transform([msg])\n",
        "    msg = msg.toarray()\n",
        "    prediction = clf.predict(msg)\n",
        "    correct = (prediction[0] == label)\n",
        "    print(\"predicted:{} actual:{}  message:{}\".format(prediction[0], label, org_msg))\n",
        "\n",
        "show_results(clf)"
      ],
      "execution_count": 0,
      "outputs": [
        {
          "output_type": "stream",
          "text": [
            "predicted:ham actual:spam  message:IMPORTANT - You could be entitled up to £3,160 in compensation from mis-sold PPI on a credit card or loan. Please reply PPI for info or STOP to opt out.\n",
            "predicted:ham actual:spam  message:Due to a new legislation, those struggling with debt can now apply to have it written off. For more information text the word INFO or to opt out text STOP\n",
            "predicted:spam actual:spam  message:Overpaying for Netflix? We have the solution. Low-cost subscriptions, at https://stick-it-to-the-man.net\n",
            "predicted:spam actual:spam  message:TONY, are you ready to share your experiences? http://aelich.com/n8ZzBxw Reply STOP to opt-out\n",
            "predicted:ham actual:ham  message:Put her in a Sgt Peppers costume and we would win hands down :)\n"
          ],
          "name": "stdout"
        }
      ]
    },
    {
      "cell_type": "markdown",
      "metadata": {
        "colab_type": "text",
        "heading_collapsed": true,
        "id": "toRbF9UvNMjJ"
      },
      "source": [
        "# Orginal"
      ]
    },
    {
      "cell_type": "code",
      "metadata": {
        "colab_type": "code",
        "hidden": true,
        "id": "o20-NgbHNPtL",
        "colab": {}
      },
      "source": [
        "import pandas as pd\n",
        "from nltk.stem import WordNetLemmatizer\n",
        "from nltk.corpus import stopwords\n",
        "from nltk import pos_tag, word_tokenize\n",
        "from sklearn.model_selection import train_test_split\n",
        "from sklearn.feature_extraction.text import TfidfVectorizer\n",
        "from sklearn import svm\n",
        "from sklearn.metrics import confusion_matrix\n",
        "data = pd.read_csv(\"/content/drive/My Drive/spam_detection/sms_spam/spam.csv\", encoding = \"latin-1\")\n",
        "data = data[['v1', 'v2']]\n",
        "data = data.rename(columns = {'v1': 'label', 'v2': 'text'})\n",
        "lemmatizer = WordNetLemmatizer()\n",
        "stopwords = set(stopwords.words('english'))\n",
        "\n",
        "def review_messages(msg):\n",
        "  # converting messages to lowercase\n",
        "  # print(msg)\n",
        "  msg = msg.lower()\n",
        "\n",
        "  return msg\n",
        "\n",
        "     \n",
        "# Processing text messages\n",
        "data['text'] = data['text'].apply(review_messages)\n",
        "# train test split \n",
        "X_train, X_test, y_train, y_test = train_test_split(data['text'], data['label'], test_size = 0.2, random_state = 1)\n",
        "# training vectorizer\n",
        "vectorizer = TfidfVectorizer()\n",
        "X_train = vectorizer.fit_transform(X_train)\n",
        "X_test = vectorizer.transform(X_test)\n",
        "\n",
        "def pred(model,msg):\n",
        "  org_msg = msg\n",
        "  msg = vectorizer.transform([msg])\n",
        "  prediction = model.predict(msg)\n",
        "  print(\"prediction: '{}' {}\".format(prediction[0], org_msg))"
      ],
      "execution_count": 0,
      "outputs": []
    },
    {
      "cell_type": "code",
      "metadata": {
        "colab_type": "code",
        "hidden": true,
        "id": "EHUWvQVRNVkj",
        "outputId": "a724d2df-8ce4-4f6b-ae2d-3f9f42a28a5c",
        "colab": {
          "base_uri": "https://localhost:8080/",
          "height": 395
        }
      },
      "source": [
        "svc = SVC(C=2, kernel = 'linear')\n",
        "svc.fit(X_train, y_train)\n",
        "pred(svc, \"IMPORTANT - You could be entitled up to £3,160 in compensation from mis-sold PPI on a credit card or loan. Please reply PPI for info or STOP to opt out.\")\n",
        "pred(svc,\"Due to a new legislation, those struggling with debt can now apply to have it written off. For more information text the word INFO or to opt out text STOP\")\n",
        "pred(svc,\"Overpaying for netflix We have the solution. Low-cost subscriptions\")\n",
        "pred(svc,\"Hey whats up\")"
      ],
      "execution_count": 0,
      "outputs": [
        {
          "output_type": "error",
          "ename": "ValueError",
          "evalue": "ignored",
          "traceback": [
            "\u001b[0;31m---------------------------------------------------------------------------\u001b[0m",
            "\u001b[0;31mValueError\u001b[0m                                Traceback (most recent call last)",
            "\u001b[0;32m<ipython-input-661-e0ba2244b65b>\u001b[0m in \u001b[0;36m<module>\u001b[0;34m()\u001b[0m\n\u001b[1;32m      1\u001b[0m \u001b[0msvc\u001b[0m \u001b[0;34m=\u001b[0m \u001b[0mSVC\u001b[0m\u001b[0;34m(\u001b[0m\u001b[0mC\u001b[0m\u001b[0;34m=\u001b[0m\u001b[0;36m2\u001b[0m\u001b[0;34m,\u001b[0m \u001b[0mkernel\u001b[0m \u001b[0;34m=\u001b[0m \u001b[0;34m'linear'\u001b[0m\u001b[0;34m)\u001b[0m\u001b[0;34m\u001b[0m\u001b[0;34m\u001b[0m\u001b[0m\n\u001b[1;32m      2\u001b[0m \u001b[0msvc\u001b[0m\u001b[0;34m.\u001b[0m\u001b[0mfit\u001b[0m\u001b[0;34m(\u001b[0m\u001b[0mX_train\u001b[0m\u001b[0;34m,\u001b[0m \u001b[0my_train\u001b[0m\u001b[0;34m)\u001b[0m\u001b[0;34m\u001b[0m\u001b[0;34m\u001b[0m\u001b[0m\n\u001b[0;32m----> 3\u001b[0;31m \u001b[0mpred\u001b[0m\u001b[0;34m(\u001b[0m\u001b[0msvc\u001b[0m\u001b[0;34m,\u001b[0m \u001b[0;34m\"IMPORTANT - You could be entitled up to £3,160 in compensation from mis-sold PPI on a credit card or loan. Please reply PPI for info or STOP to opt out.\"\u001b[0m\u001b[0;34m)\u001b[0m\u001b[0;34m\u001b[0m\u001b[0;34m\u001b[0m\u001b[0m\n\u001b[0m\u001b[1;32m      4\u001b[0m \u001b[0mpred\u001b[0m\u001b[0;34m(\u001b[0m\u001b[0msvc\u001b[0m\u001b[0;34m,\u001b[0m\u001b[0;34m\"Due to a new legislation, those struggling with debt can now apply to have it written off. For more information text the word INFO or to opt out text STOP\"\u001b[0m\u001b[0;34m)\u001b[0m\u001b[0;34m\u001b[0m\u001b[0;34m\u001b[0m\u001b[0m\n\u001b[1;32m      5\u001b[0m \u001b[0mpred\u001b[0m\u001b[0;34m(\u001b[0m\u001b[0msvc\u001b[0m\u001b[0;34m,\u001b[0m\u001b[0;34m\"Overpaying for netflix We have the solution. Low-cost subscriptions\"\u001b[0m\u001b[0;34m)\u001b[0m\u001b[0;34m\u001b[0m\u001b[0;34m\u001b[0m\u001b[0m\n",
            "\u001b[0;32m<ipython-input-655-8fc8e232791d>\u001b[0m in \u001b[0;36mpred\u001b[0;34m(model, msg)\u001b[0m\n\u001b[1;32m      2\u001b[0m   \u001b[0morg_msg\u001b[0m \u001b[0;34m=\u001b[0m \u001b[0mmsg\u001b[0m\u001b[0;34m\u001b[0m\u001b[0;34m\u001b[0m\u001b[0m\n\u001b[1;32m      3\u001b[0m   \u001b[0mmsg\u001b[0m \u001b[0;34m=\u001b[0m \u001b[0mvectorizer\u001b[0m\u001b[0;34m.\u001b[0m\u001b[0mtransform\u001b[0m\u001b[0;34m(\u001b[0m\u001b[0;34m[\u001b[0m\u001b[0mmsg\u001b[0m\u001b[0;34m]\u001b[0m\u001b[0;34m)\u001b[0m\u001b[0;34m\u001b[0m\u001b[0;34m\u001b[0m\u001b[0m\n\u001b[0;32m----> 4\u001b[0;31m   \u001b[0mprediction\u001b[0m \u001b[0;34m=\u001b[0m \u001b[0mmodel\u001b[0m\u001b[0;34m.\u001b[0m\u001b[0mpredict\u001b[0m\u001b[0;34m(\u001b[0m\u001b[0mmsg\u001b[0m\u001b[0;34m)\u001b[0m\u001b[0;34m\u001b[0m\u001b[0;34m\u001b[0m\u001b[0m\n\u001b[0m\u001b[1;32m      5\u001b[0m   \u001b[0mprint\u001b[0m\u001b[0;34m(\u001b[0m\u001b[0;34m\"prediction: '{}' {}\"\u001b[0m\u001b[0;34m.\u001b[0m\u001b[0mformat\u001b[0m\u001b[0;34m(\u001b[0m\u001b[0mprediction\u001b[0m\u001b[0;34m[\u001b[0m\u001b[0;36m0\u001b[0m\u001b[0;34m]\u001b[0m\u001b[0;34m,\u001b[0m \u001b[0morg_msg\u001b[0m\u001b[0;34m)\u001b[0m\u001b[0;34m)\u001b[0m\u001b[0;34m\u001b[0m\u001b[0;34m\u001b[0m\u001b[0m\n",
            "\u001b[0;32m/usr/local/lib/python3.6/dist-packages/sklearn/svm/_base.py\u001b[0m in \u001b[0;36mpredict\u001b[0;34m(self, X)\u001b[0m\n\u001b[1;32m    592\u001b[0m             \u001b[0my\u001b[0m \u001b[0;34m=\u001b[0m \u001b[0mnp\u001b[0m\u001b[0;34m.\u001b[0m\u001b[0margmax\u001b[0m\u001b[0;34m(\u001b[0m\u001b[0mself\u001b[0m\u001b[0;34m.\u001b[0m\u001b[0mdecision_function\u001b[0m\u001b[0;34m(\u001b[0m\u001b[0mX\u001b[0m\u001b[0;34m)\u001b[0m\u001b[0;34m,\u001b[0m \u001b[0maxis\u001b[0m\u001b[0;34m=\u001b[0m\u001b[0;36m1\u001b[0m\u001b[0;34m)\u001b[0m\u001b[0;34m\u001b[0m\u001b[0;34m\u001b[0m\u001b[0m\n\u001b[1;32m    593\u001b[0m         \u001b[0;32melse\u001b[0m\u001b[0;34m:\u001b[0m\u001b[0;34m\u001b[0m\u001b[0;34m\u001b[0m\u001b[0m\n\u001b[0;32m--> 594\u001b[0;31m             \u001b[0my\u001b[0m \u001b[0;34m=\u001b[0m \u001b[0msuper\u001b[0m\u001b[0;34m(\u001b[0m\u001b[0;34m)\u001b[0m\u001b[0;34m.\u001b[0m\u001b[0mpredict\u001b[0m\u001b[0;34m(\u001b[0m\u001b[0mX\u001b[0m\u001b[0;34m)\u001b[0m\u001b[0;34m\u001b[0m\u001b[0;34m\u001b[0m\u001b[0m\n\u001b[0m\u001b[1;32m    595\u001b[0m         \u001b[0;32mreturn\u001b[0m \u001b[0mself\u001b[0m\u001b[0;34m.\u001b[0m\u001b[0mclasses_\u001b[0m\u001b[0;34m.\u001b[0m\u001b[0mtake\u001b[0m\u001b[0;34m(\u001b[0m\u001b[0mnp\u001b[0m\u001b[0;34m.\u001b[0m\u001b[0masarray\u001b[0m\u001b[0;34m(\u001b[0m\u001b[0my\u001b[0m\u001b[0;34m,\u001b[0m \u001b[0mdtype\u001b[0m\u001b[0;34m=\u001b[0m\u001b[0mnp\u001b[0m\u001b[0;34m.\u001b[0m\u001b[0mintp\u001b[0m\u001b[0;34m)\u001b[0m\u001b[0;34m)\u001b[0m\u001b[0;34m\u001b[0m\u001b[0;34m\u001b[0m\u001b[0m\n\u001b[1;32m    596\u001b[0m \u001b[0;34m\u001b[0m\u001b[0m\n",
            "\u001b[0;32m/usr/local/lib/python3.6/dist-packages/sklearn/svm/_base.py\u001b[0m in \u001b[0;36mpredict\u001b[0;34m(self, X)\u001b[0m\n\u001b[1;32m    313\u001b[0m         \u001b[0my_pred\u001b[0m \u001b[0;34m:\u001b[0m \u001b[0marray\u001b[0m\u001b[0;34m,\u001b[0m \u001b[0mshape\u001b[0m \u001b[0;34m(\u001b[0m\u001b[0mn_samples\u001b[0m\u001b[0;34m,\u001b[0m\u001b[0;34m)\u001b[0m\u001b[0;34m\u001b[0m\u001b[0;34m\u001b[0m\u001b[0m\n\u001b[1;32m    314\u001b[0m         \"\"\"\n\u001b[0;32m--> 315\u001b[0;31m         \u001b[0mX\u001b[0m \u001b[0;34m=\u001b[0m \u001b[0mself\u001b[0m\u001b[0;34m.\u001b[0m\u001b[0m_validate_for_predict\u001b[0m\u001b[0;34m(\u001b[0m\u001b[0mX\u001b[0m\u001b[0;34m)\u001b[0m\u001b[0;34m\u001b[0m\u001b[0;34m\u001b[0m\u001b[0m\n\u001b[0m\u001b[1;32m    316\u001b[0m         \u001b[0mpredict\u001b[0m \u001b[0;34m=\u001b[0m \u001b[0mself\u001b[0m\u001b[0;34m.\u001b[0m\u001b[0m_sparse_predict\u001b[0m \u001b[0;32mif\u001b[0m \u001b[0mself\u001b[0m\u001b[0;34m.\u001b[0m\u001b[0m_sparse\u001b[0m \u001b[0;32melse\u001b[0m \u001b[0mself\u001b[0m\u001b[0;34m.\u001b[0m\u001b[0m_dense_predict\u001b[0m\u001b[0;34m\u001b[0m\u001b[0;34m\u001b[0m\u001b[0m\n\u001b[1;32m    317\u001b[0m         \u001b[0;32mreturn\u001b[0m \u001b[0mpredict\u001b[0m\u001b[0;34m(\u001b[0m\u001b[0mX\u001b[0m\u001b[0;34m)\u001b[0m\u001b[0;34m\u001b[0m\u001b[0;34m\u001b[0m\u001b[0m\n",
            "\u001b[0;32m/usr/local/lib/python3.6/dist-packages/sklearn/svm/_base.py\u001b[0m in \u001b[0;36m_validate_for_predict\u001b[0;34m(self, X)\u001b[0m\n\u001b[1;32m    465\u001b[0m             raise ValueError(\"X.shape[1] = %d should be equal to %d, \"\n\u001b[1;32m    466\u001b[0m                              \u001b[0;34m\"the number of features at training time\"\u001b[0m \u001b[0;34m%\u001b[0m\u001b[0;34m\u001b[0m\u001b[0;34m\u001b[0m\u001b[0m\n\u001b[0;32m--> 467\u001b[0;31m                              (n_features, self.shape_fit_[1]))\n\u001b[0m\u001b[1;32m    468\u001b[0m         \u001b[0;32mreturn\u001b[0m \u001b[0mX\u001b[0m\u001b[0;34m\u001b[0m\u001b[0;34m\u001b[0m\u001b[0m\n\u001b[1;32m    469\u001b[0m \u001b[0;34m\u001b[0m\u001b[0m\n",
            "\u001b[0;31mValueError\u001b[0m: X.shape[1] = 7774 should be equal to 8272, the number of features at training time"
          ]
        }
      ]
    },
    {
      "cell_type": "code",
      "metadata": {
        "colab_type": "code",
        "hidden": true,
        "id": "HuLNQHIJNXqb",
        "colab": {}
      },
      "source": [
        ""
      ],
      "execution_count": 0,
      "outputs": []
    }
  ]
}